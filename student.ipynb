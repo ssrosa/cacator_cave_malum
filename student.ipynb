{
 "cells": [
  {
   "cell_type": "markdown",
   "metadata": {},
   "source": [
    "## Final Project Submission\n",
    "\n",
    "Please fill out:\n",
    "* Student name: Steven Rosa\n",
    "* Student pace: part time\n",
    "* Project review date/time: Monday 1 April 2019 11am ET\n",
    "* Instructor name: Jeff Herman\n",
    "* Blog post URL:\n"
   ]
  },
  {
   "cell_type": "markdown",
   "metadata": {},
   "source": [
    "\"Database for The Scratched Voices Begging to be Heard: The Graffiti of Pompeii and Today\"\n",
    "\n",
    "by Alexa Rose\n",
    "\n",
    "https://core.tdar.org/dataset/445837/database-for-the-scratched-voices-begging-to-be-heard-the-graffiti-of-pompeii-and-today"
   ]
  },
  {
   "cell_type": "markdown",
   "metadata": {},
   "source": [
    "<a id = 'top'></a>"
   ]
  },
  {
   "cell_type": "markdown",
   "metadata": {},
   "source": [
    "# Contents\n",
    "- Libraries and helper functions\n",
    "- [A first look at the data](#obtain)\n",
    "- [Cleaning the raw data](#scrub)\n",
    "- [Exploratory data analysis](#explore)\n",
    " - [Character count and imperatives](#character_imperative)\n",
    " - [How good are the categories?](#prelim_model)\n",
    " - [Detour: improving the categories](#detour_cat)\n",
    "- Modeling\n",
    " - [Model \\#1](#model1)\n",
    " - [Model \\#2: Decision tree](#model2)\n",
    "   - [Tuning Hyperparameters](#tree_tuning_hypers)\n",
    "   - [Tuning with Grid Search CV](#tree_grid_search)\n",
    " - [Model \\#3](#model3)\n",
    "- [Conclusions](#concl)"
   ]
  },
  {
   "cell_type": "markdown",
   "metadata": {},
   "source": [
    "# Libraries"
   ]
  },
  {
   "cell_type": "code",
   "execution_count": 73,
   "metadata": {},
   "outputs": [],
   "source": [
    "import graffiti_functions #Import my custom functions\n",
    "from graffiti_functions import plot_conf_matrix, keyword_matrix, write, hyper, compare_hypers, plot_hypers\n",
    "import pandas as pd #For working with DataFrames\n",
    "import matplotlib.pyplot as plt #For visualizing plots\n",
    "import numpy as np #For mathematical operations\n",
    "import random                   #for generating random numbers for train/test split\n",
    "import copy                     #for making deep copies of mutable objects\n",
    "import time                     #for timing expensive operations\n",
    "from pandasql import sqldf #for manipulating DataFrames with SQL style queries\n",
    "\n",
    "#############################\n",
    "#PREPARING DATA FOR MODELING:\n",
    "#To divide data when testing a trained model\n",
    "from sklearn.model_selection import train_test_split \n",
    "#For scaling/normalizing, and for LabelEncoder and OneHotEncoder\n",
    "from sklearn import preprocessing\n",
    "#To turn categorical columns into sets of numerical columns\n",
    "from sklearn.preprocessing import LabelEncoder\n",
    "from sklearn.preprocessing import OneHotEncoder\n",
    "\n",
    "#####################\n",
    "#LOGISTIC REGRESSION:\n",
    "#For building regular logistic regression models\n",
    "from sklearn.linear_model import LogisticRegression\n",
    "\n",
    "################\n",
    "#DECISION TREES:\n",
    "#For building decision trees\n",
    "from sklearn.tree import DecisionTreeClassifier \n",
    "from sklearn import tree \n",
    "#To find best combination of hyperparameters in decision trees\n",
    "from sklearn.model_selection import GridSearchCV\n",
    "#To evaluate accuracy of decision trees\n",
    "from sklearn.model_selection import cross_val_score\n",
    "#To visualize decision trees:\n",
    "from sklearn.externals.six import StringIO  \n",
    "from IPython.display import Image  \n",
    "from sklearn.tree import export_graphviz\n",
    "import pydotplus\n",
    "\n",
    "###################\n",
    "# ASSESSING MODELS:\n",
    "#To assess accuracy of logistic regression or decision trees\n",
    "from sklearn.metrics import confusion_matrix \n",
    "#To iteratively append labels to cells in a confusion matrix\n",
    "import itertools \n",
    "#To get accuracy, precision, recall, and F1 score (weighted accuracy) of a given confusion matrix\n",
    "from sklearn.metrics import accuracy_score, precision_score, recall_score, f1_score\n",
    "#To view the accuracy metrics for a given confusion matrix\n",
    "from sklearn.metrics import classification_report"
   ]
  },
  {
   "cell_type": "code",
   "execution_count": null,
   "metadata": {},
   "outputs": [],
   "source": [
    "#Thing for separating values by hyphen slash etc\n",
    "\n"
   ]
  },
  {
   "cell_type": "code",
   "execution_count": null,
   "metadata": {},
   "outputs": [],
   "source": [
    "#Thing for getting indexes and filling values maybe\n",
    "\n"
   ]
  },
  {
   "cell_type": "markdown",
   "metadata": {},
   "source": [
    "<a id = 'obtain'></a>"
   ]
  },
  {
   "cell_type": "markdown",
   "metadata": {},
   "source": [
    "[(Back to top)](#top)\n",
    "\n",
    "# A first look at the data"
   ]
  },
  {
   "cell_type": "code",
   "execution_count": 5,
   "metadata": {},
   "outputs": [],
   "source": [
    "#Obtain the raw data\n",
    "df_raw = pd.read_csv('graffiti.csv')"
   ]
  },
  {
   "cell_type": "code",
   "execution_count": null,
   "metadata": {},
   "outputs": [],
   "source": [
    "df_raw.head(20)"
   ]
  },
  {
   "cell_type": "code",
   "execution_count": null,
   "metadata": {},
   "outputs": [],
   "source": [
    "df_raw.info()"
   ]
  },
  {
   "cell_type": "markdown",
   "metadata": {},
   "source": [
    "Columns to drop:\n",
    "\n",
    "'found'\n",
    "'org'?\n",
    "'comments'?\n",
    "\n",
    "Change 'Literacy' to integer before categorizing. Rename column.\n",
    "\n",
    "Rename 'Image ' as 'Image'.\n",
    "\n",
    "Categorical variables to transform: Reggio, Insula, Literacy, Context type specific, Context type general, Famous House (?), Socio-economic status\n",
    "\n",
    "\n",
    "Null values to fill: Reggio, Insula, Entrance, Context type specific, Context type general, Famous House,\n",
    "\n",
    "Target: 'Category'"
   ]
  },
  {
   "cell_type": "markdown",
   "metadata": {},
   "source": [
    "<a id = 'scrub'></a>"
   ]
  },
  {
   "cell_type": "markdown",
   "metadata": {},
   "source": [
    "[(Back to top)](#top)\n",
    "\n",
    "# Cleaning the data"
   ]
  },
  {
   "cell_type": "markdown",
   "metadata": {},
   "source": [
    "## Column by column"
   ]
  },
  {
   "cell_type": "markdown",
   "metadata": {},
   "source": [
    "### 'CIL IV Pound sign'"
   ]
  },
  {
   "cell_type": "code",
   "execution_count": 6,
   "metadata": {},
   "outputs": [],
   "source": [
    "df_raw['CIL IV #'] = df_raw['CIL IV #'].fillna(0)"
   ]
  },
  {
   "cell_type": "markdown",
   "metadata": {},
   "source": [
    "### 'Reggio'"
   ]
  },
  {
   "cell_type": "code",
   "execution_count": null,
   "metadata": {},
   "outputs": [],
   "source": [
    "df_raw['Reggio'].value_counts()"
   ]
  },
  {
   "cell_type": "code",
   "execution_count": null,
   "metadata": {},
   "outputs": [],
   "source": [
    "print(df_raw['Reggio'].isna().sum())"
   ]
  },
  {
   "cell_type": "code",
   "execution_count": 7,
   "metadata": {},
   "outputs": [],
   "source": [
    "#Fill NaN values\n",
    "df_raw['Reggio'] = df_raw['Reggio'].fillna(0)\n",
    "#Change 6_7 to 6\n",
    "df_raw.at[994, 'Reggio'] = '6'\n",
    "#Change data type to integer\n",
    "df_raw['Reggio'] = df_raw['Reggio'].astype('float').astype('int')"
   ]
  },
  {
   "cell_type": "markdown",
   "metadata": {},
   "source": [
    "Zero values can be filled later once more is known about the reggios."
   ]
  },
  {
   "cell_type": "markdown",
   "metadata": {},
   "source": [
    "### 'Insula'"
   ]
  },
  {
   "cell_type": "code",
   "execution_count": null,
   "metadata": {},
   "outputs": [],
   "source": [
    "df_raw['Insula'].value_counts()"
   ]
  },
  {
   "cell_type": "code",
   "execution_count": null,
   "metadata": {},
   "outputs": [],
   "source": [
    "df_raw['Insula'].value_counts().sum()"
   ]
  },
  {
   "cell_type": "code",
   "execution_count": null,
   "metadata": {},
   "outputs": [],
   "source": [
    "df_raw['Insula'].isna().sum()"
   ]
  },
  {
   "cell_type": "code",
   "execution_count": 8,
   "metadata": {},
   "outputs": [],
   "source": [
    "#Fill null values\n",
    "df_raw['Insula'] = df_raw['Insula'].fillna(0)\n",
    "\n",
    "#Replace the values with underscores\n",
    "df_raw.at[985, 'Insula'] = '4'\n",
    "df_raw.at[986, 'Insula'] = '4'\n",
    "df_raw.at[983, 'Insula'] = '4'\n",
    "df_raw.at[984, 'Insula'] = '4'\n",
    "df_raw.at[988, 'Insula'] = '9'\n",
    "df_raw.at[987, 'Insula'] = '8'\n",
    "df_raw.at[982, 'Insula'] = '12'\n",
    "df_raw.at[981, 'Insula'] = '1'\n",
    "\n",
    "#Change data type to intger\n",
    "df_raw['Insula'] = df_raw['Insula'].astype('float').astype('int')"
   ]
  },
  {
   "cell_type": "markdown",
   "metadata": {},
   "source": [
    "### 'Entrance'"
   ]
  },
  {
   "cell_type": "code",
   "execution_count": null,
   "metadata": {},
   "outputs": [],
   "source": [
    "df_raw['Entrance'].value_counts()"
   ]
  },
  {
   "cell_type": "code",
   "execution_count": 9,
   "metadata": {},
   "outputs": [],
   "source": [
    "#Fill null values\n",
    "df_raw['Entrance'] = df_raw['Entrance'].fillna('unknown')\n",
    "\n",
    "#Replace all values with underscores or hyphens\n",
    "#Dict to fill values from 'Entrance'\n",
    "entrance_replacements = dict()\n",
    "entrance_values = df_raw['Entrance'].value_counts()\n",
    "\n",
    "#Iterate over Entrance values to look for underscore and hyphen\n",
    "#Make a dict with values to replace the _/- values in the dataframe\n",
    "#I'm choosing to take the first numerical value from each pair\n",
    "for index in entrance_values.index:\n",
    "        if '_' in index:\n",
    "            index_split = index.split('_')\n",
    "            entrance_replacements[index] = index_split[0]\n",
    "        elif '-' in index:\n",
    "            index_split = index.split('-')\n",
    "            entrance_replacements[index] = index_split[0]\n",
    "            \n",
    "df_raw['Entrance'] = df_raw['Entrance'].replace(entrance_replacements)\n",
    "\n",
    "#Change 'F' to 'f'\n",
    "df_raw.at[661, 'Entrance'] = df_raw.at[661, 'Entrance'].lower()\n",
    "#Change '4/5/' to '4'\n",
    "df_raw.at[6, 'Entrance'] = '4'\n",
    "#Replace 'I' and '?'\n",
    "df_raw['Entrance'] = df_raw['Entrance'].replace({'I': 'i', '?': 'unknown'})"
   ]
  },
  {
   "cell_type": "code",
   "execution_count": null,
   "metadata": {},
   "outputs": [],
   "source": [
    "df_raw['Entrance'].value_counts().shape"
   ]
  },
  {
   "cell_type": "markdown",
   "metadata": {},
   "source": [
    "This is better, but it may have to be categorized."
   ]
  },
  {
   "cell_type": "markdown",
   "metadata": {},
   "source": [
    "### 'found?'"
   ]
  },
  {
   "cell_type": "code",
   "execution_count": null,
   "metadata": {},
   "outputs": [],
   "source": [
    "df_raw['found?'].isna().sum()"
   ]
  },
  {
   "cell_type": "code",
   "execution_count": 10,
   "metadata": {},
   "outputs": [],
   "source": [
    "#Can just be dropped\n",
    "df_raw.drop(['found?'], axis = 1, inplace = True)"
   ]
  },
  {
   "cell_type": "markdown",
   "metadata": {},
   "source": [
    "### 'In English'"
   ]
  },
  {
   "cell_type": "code",
   "execution_count": null,
   "metadata": {},
   "outputs": [],
   "source": [
    "df_raw['In English'].isna().sum()"
   ]
  },
  {
   "cell_type": "code",
   "execution_count": 11,
   "metadata": {},
   "outputs": [],
   "source": [
    "#Fill nulls so that they can be read\n",
    "df_raw['In English'] = df_raw['In English'].fillna('')\n",
    "\n",
    "#Rows with null values or unhelpful 'CHECK' values\n",
    "blank_indexes = df_raw.index[df_raw['In English'] == '']\n",
    "check_indexes = df_raw.index[df_raw['In English'] == '[CHECK]']\n",
    "\n",
    "#Drop the empty rows. They aren't useful if they don't have the English text of the graffiti.\n",
    "df_raw.drop(blank_indexes, inplace = True)\n",
    "df_raw.drop(check_indexes, inplace = True)"
   ]
  },
  {
   "cell_type": "markdown",
   "metadata": {},
   "source": [
    "### 'org. '"
   ]
  },
  {
   "cell_type": "code",
   "execution_count": null,
   "metadata": {},
   "outputs": [],
   "source": [
    "df_raw['org. '].value_counts()[:10]"
   ]
  },
  {
   "cell_type": "code",
   "execution_count": 12,
   "metadata": {},
   "outputs": [],
   "source": [
    "#Won't be useful here. Can be dropped.\n",
    "df_raw.drop(['org. '], axis = 1, inplace = True)"
   ]
  },
  {
   "cell_type": "markdown",
   "metadata": {},
   "source": [
    "### 'Literacy'"
   ]
  },
  {
   "cell_type": "code",
   "execution_count": null,
   "metadata": {},
   "outputs": [],
   "source": [
    "df_raw['Literacy (1-3)'].value_counts()"
   ]
  },
  {
   "cell_type": "code",
   "execution_count": null,
   "metadata": {},
   "outputs": [],
   "source": [
    "df_raw['Literacy (1-3)'].isna().sum()"
   ]
  },
  {
   "cell_type": "code",
   "execution_count": 13,
   "metadata": {},
   "outputs": [],
   "source": [
    "#Rename column\n",
    "df_raw = df_raw.rename(index=str, columns = {'Literacy (1-3)': 'Literacy'})\n",
    "\n",
    "#Turn the few 1 values into 2s.\n",
    "df_raw['Literacy'] = df_raw['Literacy'].replace({1.0: 2})\n",
    "\n",
    "#Fill nulls\n",
    "df_raw['Literacy'] = df_raw['Literacy'].fillna(2)\n",
    "\n",
    "#Turn floats into integers\n",
    "df_raw['Literacy'] = df_raw['Literacy'].astype('float').astype('int')"
   ]
  },
  {
   "cell_type": "markdown",
   "metadata": {},
   "source": [
    "### 'In org. language'"
   ]
  },
  {
   "cell_type": "code",
   "execution_count": null,
   "metadata": {
    "scrolled": true
   },
   "outputs": [],
   "source": [
    "df_raw['In org. language'].value_counts().sum()"
   ]
  },
  {
   "cell_type": "code",
   "execution_count": 14,
   "metadata": {},
   "outputs": [],
   "source": [
    "#Dropping for now\n",
    "df_raw.drop(['In org. language'], axis = 1, inplace = True)"
   ]
  },
  {
   "cell_type": "markdown",
   "metadata": {},
   "source": [
    "Not sure what to do with this at this point."
   ]
  },
  {
   "cell_type": "markdown",
   "metadata": {},
   "source": [
    "### 'Context type general'"
   ]
  },
  {
   "cell_type": "code",
   "execution_count": null,
   "metadata": {},
   "outputs": [],
   "source": [
    "df_raw['Context type general'].value_counts()"
   ]
  },
  {
   "cell_type": "code",
   "execution_count": null,
   "metadata": {},
   "outputs": [],
   "source": [
    "df_raw['Context type general'].isna().sum()"
   ]
  },
  {
   "cell_type": "code",
   "execution_count": 15,
   "metadata": {},
   "outputs": [],
   "source": [
    "# No specific, no general, no reggio, insula\n",
    "no_spec_no_gen = df_raw[df_raw['Context type specific'].isna() & df_raw['Context type general'].isna()]\n",
    "\n",
    "no_spec_no_gen[(no_spec_no_gen['Reggio'] == 0) & (no_spec_no_gen['Insula'] == 0)].shape\n",
    "\n",
    "#Must drop the 43 rows that don't have a reggio, insula, specfic context or general context\n",
    "to_drop = no_spec_no_gen[(no_spec_no_gen['Reggio'] == 0) & (no_spec_no_gen['Insula'] == 0)]\n",
    "df_raw.drop(to_drop.index, axis = 0, inplace = True)\n",
    "\n",
    "#Maybe famous house can fill in for general context where it's missing?\n",
    "famoushouse_nogen = df_raw[\n",
    "    (df_raw['Famous House'].notna())\n",
    "    & \n",
    "    (df_raw['Context type general'].isna())]\n",
    "\n",
    "#Get indexes of all rows without a gen context but with a famous house\n",
    "indexes = famoushouse_nogen.index\n",
    "\n",
    "famoushouse_gencontexts = {\n",
    "    'Praedia ': 'building',\n",
    "    'Basilica': 'basilica',\n",
    "    'House of': 'house',\n",
    "    'house of': 'house',\n",
    "    'Villa of': 'house',\n",
    "    'Building': 'building',\n",
    "    'near the Porta Vesuvio': 'necropolis',\n",
    "    'Workshop': 'workshop'\n",
    "}\n",
    "\n",
    "#Replace gen context with the building type from its famous house\n",
    "#Iterate over all the rows which have a famous house but lack a gen context\n",
    "for index in indexes:\n",
    "    #Iterate over the keys of famous houses\n",
    "    for key, val in famoushouse_gencontexts.items():\n",
    "        #If the row's famous house matches one from the dict\n",
    "        if key in df_raw.at[index, 'Famous House']:\n",
    "            #Fill missing gen context value with value from dict\n",
    "            df_raw.at[index, 'Context type general'] = val\n",
    "            \n",
    "#Noticed that Bar of Sotericus has gen context of \"house\"\n",
    "indexes = df_raw[df_raw['Famous House'] == 'Bar of Sotericus']['Context type general']\n",
    "#Replace 'house' with 'bar' for these\n",
    "for index in indexes.index:\n",
    "    df_raw.at[index, 'Context type general'] = 'bar'\n",
    "    \n",
    "#Noticed that 'Outside Porta Marina' had two NaN gen contexts to fix\n",
    "#Will drop these because they're missing too many columns\n",
    "df_raw.drop(['997', '998'], axis = 0, inplace = True)\n",
    "\n",
    "#change all building types for spec context \"workshop\" to gen context \"workshop\"\n",
    "indexes = df_raw[df_raw['Context type specific'] == 'workshop']\n",
    "for index in indexes.index:\n",
    "    df_raw.at[index, 'Context type general'] = 'workshop'\n",
    "\n",
    "#Same for 'Workshop'\n",
    "indexes = df_raw[df_raw['Context type specific'] == 'Workshop']\n",
    "for index in indexes.index:\n",
    "    df_raw.at[index, 'Context type general'] = 'workshop'\n",
    "\n",
    "#Specific context \"dining room\" to general context \"house\"\n",
    "indexes = df_raw[\n",
    "    (df_raw['Context type specific'] == 'dining room')\n",
    "    & \n",
    "    (df_raw['Context type general'].isna())]\n",
    "for index in indexes.index:\n",
    "    df_raw.at[index, 'Context type general'] = 'house'\n",
    "\n",
    "#Spec context \"shop\" to general context \"shop\"\n",
    "indexes = df_raw[\n",
    "    (df_raw['Context type specific'] == 'shop')\n",
    "    & \n",
    "    (df_raw['Context type general'].isna())]\n",
    "for index in indexes.index:\n",
    "    df_raw.at[index, 'Context type general'] = 'shop'\n",
    "    \n",
    "#Spec context \"kitchen\" to general context \"house\"    \n",
    "indexes = df_raw[\n",
    "    (df_raw['Context type specific'] == 'kitchen')\n",
    "    & \n",
    "    (df_raw['Context type general'].isna())]\n",
    "for index in indexes.index:\n",
    "    df_raw.at[index, 'Context type general'] = 'house'    \n",
    "    \n",
    "#Add consistency to a few of the values\n",
    "replacements = {'Baths': 'baths',\n",
    "                'unit': 'apartment'}\n",
    "df_raw['Context type general'] = df_raw['Context type general'].replace(replacements)\n",
    "\n",
    "#Fill null values\n",
    "df_raw['Context type general'] = df_raw['Context type general'].fillna('unknown')\n",
    "\n",
    "#Changing the name of the column\n",
    "df_raw = df_raw.rename(index=str, columns ={\n",
    "              'Context type general': 'Building Type'})"
   ]
  },
  {
   "cell_type": "markdown",
   "metadata": {},
   "source": [
    "### 'Context type specific'"
   ]
  },
  {
   "cell_type": "code",
   "execution_count": null,
   "metadata": {},
   "outputs": [],
   "source": [
    "df_raw['Context type specific'].value_counts()"
   ]
  },
  {
   "cell_type": "code",
   "execution_count": 16,
   "metadata": {},
   "outputs": [],
   "source": [
    "#Add consistency to values\n",
    "replacements = {'façade': 'facade',\n",
    "                'tablinium': 'tablinum',\n",
    "                'Workshop': 'workshop'\n",
    "                }\n",
    "\n",
    "df_raw['Context type specific'] = df_raw['Context type specific'].replace(replacements)\n",
    "\n",
    "#Fill null values\n",
    "df_raw['Context type specific'] = df_raw['Context type specific'].fillna('unknown')\n",
    "\n",
    "#Rename column\n",
    "df_raw = df_raw.rename(index=str, columns ={'Context type specific': 'Position'})"
   ]
  },
  {
   "cell_type": "markdown",
   "metadata": {},
   "source": [
    "### 'Famous House'"
   ]
  },
  {
   "cell_type": "code",
   "execution_count": null,
   "metadata": {
    "scrolled": true
   },
   "outputs": [],
   "source": [
    "df_raw['Famous House'].value_counts()[60:90]"
   ]
  },
  {
   "cell_type": "code",
   "execution_count": null,
   "metadata": {
    "scrolled": true
   },
   "outputs": [],
   "source": [
    "df_raw['Famous House'].isna().sum()"
   ]
  },
  {
   "cell_type": "code",
   "execution_count": 17,
   "metadata": {},
   "outputs": [],
   "source": [
    "#Turn this column into a 0/1 for no/yes\n",
    "indexes = df_raw[df_raw['Famous House'].notna()]\n",
    "\n",
    "for index in indexes.index:\n",
    "    df_raw.at[index, 'Famous House'] = 1\n",
    "    \n",
    "df_raw['Famous House'] = df_raw['Famous House'].fillna(0)\n",
    "\n",
    "df_raw['Famous House'] = df_raw['Famous House'].astype('int')"
   ]
  },
  {
   "cell_type": "markdown",
   "metadata": {},
   "source": [
    "### Target: 'Category'"
   ]
  },
  {
   "cell_type": "code",
   "execution_count": null,
   "metadata": {},
   "outputs": [],
   "source": [
    "df_raw['Category'].value_counts()"
   ]
  },
  {
   "cell_type": "code",
   "execution_count": 18,
   "metadata": {},
   "outputs": [],
   "source": [
    "#Replace all values with back slashes\n",
    "#Dict to fill values from 'Category'\n",
    "cat_replacements = dict()\n",
    "cat_values = df_raw['Category'].value_counts()\n",
    "\n",
    "#Iterate over Category values to look for underscore and hyphen\n",
    "#Make a dict with values to replace the _/- values in the dataframe\n",
    "#I'm choosing to take the first value from each pair\n",
    "for index in cat_values.index:\n",
    "        if '/' in index:\n",
    "            index_split = index.split('/')\n",
    "            cat_replacements[index] = index_split[0]\n",
    "            \n",
    "df_raw['Category'] = df_raw['Category'].replace(cat_replacements)\n",
    "\n",
    "#This creates one instance of 'Political' with a space\n",
    "df_raw['Category'] = df_raw['Category'].replace({'Political ': 'Political'})\n",
    "\n",
    "#Fill null values\n",
    "df_raw['Category'] = df_raw['Category'].fillna('unknown')"
   ]
  },
  {
   "cell_type": "markdown",
   "metadata": {},
   "source": [
    "### 'Written by'"
   ]
  },
  {
   "cell_type": "code",
   "execution_count": null,
   "metadata": {},
   "outputs": [],
   "source": [
    "df_raw['Written by'].value_counts()"
   ]
  },
  {
   "cell_type": "code",
   "execution_count": 19,
   "metadata": {},
   "outputs": [],
   "source": [
    "#Fill null values first so str.contains can be used\n",
    "df_raw['Written by'] = df_raw['Written by'].fillna('unknown')\n",
    "\n",
    "#Clean up instances of ovid\n",
    "ovids = df_raw[df_raw['Written by'].str.contains('Ovid', regex = False, case = False)]\n",
    "for index in ovids.index:\n",
    "    df_raw.at[index, 'Written by'] = 'Ovid'\n",
    "\n",
    "#Clean up instances of virgil    \n",
    "virgils = df_raw[df_raw['Written by'].str.contains('rgil', regex = False, case = False)]\n",
    "for index in virgils.index:\n",
    "    df_raw.at[index, 'Written by'] = 'Virgil'\n",
    "\n",
    "#People who look like real writers as taken from value_counts    \n",
    "writers = ['Antheros', 'Ennius', 'Epaphra', \n",
    "           'Virgil', 'Horace', 'Homer', \n",
    "           'Herodotus', 'Lucretius', 'Menander',\n",
    "           'Ovid', 'poem', 'Propertius',\n",
    "           'Salvius', 'Senica', 'Tibutinus']\n",
    "                \n",
    "#Iterate over all rows to replace values with 1 for a writer\n",
    "#or zero for no writer\n",
    "for index in df_raw.index:\n",
    "    if any(writer in df_raw.at[index, 'Written by'] for writer in writers):\n",
    "        df_raw.at[index, 'Written by'] = 1\n",
    "    else:\n",
    "        df_raw.at[index, 'Written by'] = 0\n",
    "        \n",
    "#Change name of column to 'Writer'\n",
    "df_raw = df_raw.rename(index=str, columns ={'Written by': 'Writer'})"
   ]
  },
  {
   "cell_type": "markdown",
   "metadata": {},
   "source": [
    "### 'Work', 'Meter', and 'Reptition'"
   ]
  },
  {
   "cell_type": "code",
   "execution_count": 20,
   "metadata": {},
   "outputs": [],
   "source": [
    "#Change 'Work' to 0/1 no/yes\n",
    "indexes = df_raw[df_raw['Work'].notna()]\n",
    "for index in indexes.index:\n",
    "    df_raw.at[index, 'Work'] = 1    \n",
    "df_raw['Work'] = df_raw['Work'].fillna(0)\n",
    "\n",
    "\n",
    "#Change meter to 0/1 no/yes  \n",
    "indexes = df_raw[df_raw['Meter'].notna()]\n",
    "for index in indexes.index:\n",
    "    df_raw.at[index, 'Meter'] = 1    \n",
    "df_raw['Meter'] = df_raw['Meter'].fillna(0)  \n",
    "\n",
    "#Smush together Writer Work and Meter\n",
    "indexes = df_raw[(df_raw['Writer'] == 0)\n",
    "        &\n",
    "        (\n",
    "            (df_raw['Work'] == 1) \n",
    "            | \n",
    "            (df_raw['Meter'] == 1)\n",
    "        )]\n",
    "\n",
    "for index in indexes.index:\n",
    "    df_raw.at[index, 'Writer'] = 1\n",
    "    \n",
    "#Reassign the category for these smushed together \n",
    "indexes = df_raw[df_raw['Writer'] == 1]\n",
    "\n",
    "for index in indexes.index:\n",
    "    df_raw.at[index, 'Category'] = 'Reference'\n",
    "\n",
    "#Reset data type for Writer to int    \n",
    "df_raw['Writer'] = df_raw['Writer'].astype('int')\n",
    "\n",
    "#Meter, Work and Repetition can be dropped\n",
    "df_raw.drop(['Meter', 'Work', 'Repetition'], axis = 1, inplace = True)"
   ]
  },
  {
   "cell_type": "markdown",
   "metadata": {},
   "source": [
    "### 'Foreign language'"
   ]
  },
  {
   "cell_type": "code",
   "execution_count": null,
   "metadata": {},
   "outputs": [],
   "source": [
    "df_raw['Foreign language'].value_counts()"
   ]
  },
  {
   "cell_type": "code",
   "execution_count": null,
   "metadata": {},
   "outputs": [],
   "source": [
    "df_raw['Foreign language'].isna().sum()"
   ]
  },
  {
   "cell_type": "code",
   "execution_count": 21,
   "metadata": {},
   "outputs": [],
   "source": [
    "#Can be dropped\n",
    "df_raw.drop(['Foreign language'], axis = 1, inplace = True)"
   ]
  },
  {
   "cell_type": "markdown",
   "metadata": {},
   "source": [
    "### 'Image '"
   ]
  },
  {
   "cell_type": "code",
   "execution_count": 22,
   "metadata": {},
   "outputs": [],
   "source": [
    "#Get rid of the annoying space in the name\n",
    "df_raw = df_raw.rename(index=str, columns = {'Image ': 'Image'})\n",
    "\n",
    "#Fill nulls first so str.contains can be used\n",
    "df_raw['Image'] = df_raw['Image'].fillna('none')\n",
    "\n",
    "#Get all rows with gladiator in the image description\n",
    "gladiators = df_raw[df_raw['Image'].str.contains('gladiator', regex = False, case = False)]\n",
    "\n",
    "for index in gladiators.index:\n",
    "    df_raw.at[index, 'Category'] = 'Violence'\n",
    "    \n",
    "#Drop the column\n",
    "df_raw.drop(['Image'], axis = 1, inplace = True)"
   ]
  },
  {
   "cell_type": "markdown",
   "metadata": {},
   "source": [
    "### 'Flohr Score'"
   ]
  },
  {
   "cell_type": "code",
   "execution_count": null,
   "metadata": {},
   "outputs": [],
   "source": [
    "df_raw['Flohr Score'].value_counts()"
   ]
  },
  {
   "cell_type": "code",
   "execution_count": 23,
   "metadata": {},
   "outputs": [],
   "source": [
    "#Replace all values with hyphens.\n",
    "#Dict to fill values from 'Flohr Score'\n",
    "flohr_replacements = dict()\n",
    "flohr_values = df_raw['Flohr Score'].value_counts()\n",
    "\n",
    "#Iterate over values to look for hyphen\n",
    "#Make a dict with values to replace the - values in the dataframe\n",
    "#I'm choosing to take the first numerical value from each pair\n",
    "for index in flohr_values.index:\n",
    "        if '-' in index:\n",
    "            index_split = index.split('-')\n",
    "            flohr_replacements[index] = index_split[0]\n",
    "            \n",
    "df_raw['Flohr Score'] = df_raw['Flohr Score'].replace(flohr_replacements)\n",
    "\n",
    "#Get indexes for empty Flohr scores at each SES level\n",
    "low = df_raw[\n",
    "        (df_raw['Socio-economic status'] == 'low')\n",
    "        &\n",
    "        (df_raw['Flohr Score'].isna())   ]\n",
    "med = df_raw[\n",
    "        (df_raw['Socio-economic status'] == 'medium')\n",
    "        &\n",
    "        (df_raw['Flohr Score'].isna())]\n",
    "high = df_raw[\n",
    "        (df_raw['Socio-economic status'] == 'high')\n",
    "        &\n",
    "        (df_raw['Flohr Score'].isna())]\n",
    "\n",
    "#Then fill null values with zeros so that means can be taken\n",
    "df_raw['Flohr Score'] = df_raw['Flohr Score'].fillna(0.0)\n",
    "\n",
    "#Change strings to floats\n",
    "df_raw['Flohr Score'] = df_raw['Flohr Score'].astype('float')\n",
    "\n",
    "#Get the average Flohr score for low SES rows\n",
    "low_avg = np.array(df_raw['Flohr Score'][df_raw['Socio-economic status'] == 'low']).mean()\n",
    "#Get the average Flohr score for medium SES rows\n",
    "med_avg = np.array(df_raw['Flohr Score'][df_raw['Socio-economic status'] == 'medium']).mean()\n",
    "#Get the average Flohr score high SES rows\n",
    "high_avg = np.array(df_raw['Flohr Score'][df_raw['Socio-economic status'] == 'high']).mean()\n",
    "\n",
    "#Update the FLohr score for low SES rows\n",
    "for index in low.index:\n",
    "    df_raw.at[index, 'Flohr Score'] = low_avg\n",
    "#Update the FLohr score for medium SES rows\n",
    "for index in med.index:\n",
    "    df_raw.at[index, 'Flohr Score'] = med_avg\n",
    "#Update the FLohr score for high SES rows\n",
    "for index in high.index:\n",
    "    df_raw.at[index, 'Flohr Score'] = high_avg"
   ]
  },
  {
   "cell_type": "markdown",
   "metadata": {},
   "source": [
    "### 'Socio-economic status'"
   ]
  },
  {
   "cell_type": "code",
   "execution_count": null,
   "metadata": {},
   "outputs": [],
   "source": [
    "df_raw['Socio-economic status'].value_counts()"
   ]
  },
  {
   "cell_type": "code",
   "execution_count": 24,
   "metadata": {},
   "outputs": [],
   "source": [
    "df_raw['Socio-economic status'] = df_raw['Socio-economic status'].fillna('medium')"
   ]
  },
  {
   "cell_type": "markdown",
   "metadata": {},
   "source": [
    "### 'comments'"
   ]
  },
  {
   "cell_type": "code",
   "execution_count": null,
   "metadata": {},
   "outputs": [],
   "source": [
    "df_raw['comments'].value_counts()\n"
   ]
  },
  {
   "cell_type": "code",
   "execution_count": 25,
   "metadata": {},
   "outputs": [],
   "source": [
    "#interesting, further investigation could lead ot help with categorizing, but will drop for now\n",
    "df_raw.drop(['comments'], axis = 1, inplace = True)"
   ]
  },
  {
   "cell_type": "markdown",
   "metadata": {},
   "source": [
    "<a id = 'explore'></a>"
   ]
  },
  {
   "cell_type": "markdown",
   "metadata": {},
   "source": [
    "[(Back to top)](#top)\n",
    "\n",
    "# Exploratory data analysis"
   ]
  },
  {
   "cell_type": "markdown",
   "metadata": {},
   "source": [
    "What is a reggio?\n",
    "\n",
    "What is an insula?\n",
    "\n",
    "From https://sites.google.com/site/ad79eruption/pompeii/map-of-pompeii\n",
    "\n",
    "\"Pompeii, however, has an additional level of numbering. It has been divided firstly into 9 regions (Regio), numbered in Roman numerals. Each of these regions contains several Insulae which are numbered 1, 2 3, etc. As with Herculaneum, each building within an insula has its own entrance number, again numbered 1, 2, 3 etc. For example, the House of Trebius Valens is labelled (Reg III, Ins 2, 1).\""
   ]
  },
  {
   "cell_type": "code",
   "execution_count": null,
   "metadata": {
    "scrolled": true
   },
   "outputs": [],
   "source": [
    "df_raw['Category'].value_counts()"
   ]
  },
  {
   "cell_type": "markdown",
   "metadata": {},
   "source": [
    "<a id = 'character_imperative'></a>"
   ]
  },
  {
   "cell_type": "markdown",
   "metadata": {},
   "source": [
    "### Adding a character count and imperative column\n",
    "\n",
    "'Characters' will measure the length of the text of each graffito in English. 'Imperative' will count whether it has exclamation points or not."
   ]
  },
  {
   "cell_type": "code",
   "execution_count": 26,
   "metadata": {},
   "outputs": [],
   "source": [
    "#Create Characters and Imperative columns\n",
    "for index in df_raw.index:\n",
    "    df_raw.at[index, 'Characters'] = len(df_raw.at[index, 'In English'])\n",
    "    if '!' in df_raw.at[index, 'In English']:\n",
    "        df_raw.at[index, 'Imperative'] = 1\n",
    "    else: \n",
    "        df_raw.at[index, 'Imperative'] = 0\n",
    "df_raw['Characters'] = df_raw['Characters'].astype('int')\n",
    "df_raw['Imperative'] = df_raw['Imperative'].astype('int')"
   ]
  },
  {
   "cell_type": "markdown",
   "metadata": {},
   "source": [
    "<a id = 'prelim_model'></a>"
   ]
  },
  {
   "cell_type": "markdown",
   "metadata": {},
   "source": [
    "### How good are the categories? Testing with a preliminary model: plain vanilla logistic regression\n",
    "\n",
    "The data cleaning process made me suspicious that the given categories of the data aren't going to allow for good models. Let's build a plain vanilla logistic regression to see."
   ]
  },
  {
   "cell_type": "code",
   "execution_count": null,
   "metadata": {
    "scrolled": true
   },
   "outputs": [],
   "source": [
    "#Prepare the data and build a logistic regression classifier.\n",
    "\n",
    "df = copy.deepcopy(df_raw)\n",
    "\n",
    "#Make categories\n",
    "df['Literacy'] = df['Literacy'].astype('category')\n",
    "df['Position'] = df['Position'].astype('category')\n",
    "df['Building Type'] = df['Building Type'].astype('category')\n",
    "df['Famous House'] = df['Famous House'].astype('bool').astype('category')\n",
    "df['Socio-economic status'] = df['Socio-economic status'].astype('category')\n",
    "df['Writer'] = df['Writer'].astype('bool').astype('category')\n",
    "df['Category'] = df['Category'].astype('category')\n",
    "df['Imperative'] = df['Imperative'].astype('bool').astype('category')\n",
    "\n",
    "#Continuous data: 'Reggio', 'Insula', 'Characters', 'Flohr Score'\n",
    "\n",
    "#Get dummies\n",
    "literacy_dummies = pd.get_dummies(df['Literacy'], prefix = 'Literacy')\n",
    "position_dummies = pd.get_dummies(df['Position'], prefix = 'Position')\n",
    "build_type_dummies = pd.get_dummies(df['Building Type'], prefix = 'Building_Type')\n",
    "famous_dummies = pd.get_dummies(df['Famous House'], prefix = 'Famous')\n",
    "econ_status_dummies = pd.get_dummies(df['Socio-economic status'], prefix = 'Econ_Status')\n",
    "writer_dummies = pd.get_dummies(df['Writer'], prefix = 'Writer')\n",
    "imperative_dummies = pd.get_dummies(df['Imperative'], prefix = 'Imperative')\n",
    "\n",
    "X = df.drop(['CIL IV #', 'Entrance', 'Literacy', 'In English', \n",
    "             'Position', 'Building Type', \n",
    "             'Famous House', 'Category', 'Socio-economic status',\n",
    "             'Writer', 'Imperative'\n",
    "            ], axis = 1)\n",
    "X = pd.concat([X, literacy_dummies, position_dummies, build_type_dummies, \n",
    "               famous_dummies, econ_status_dummies, writer_dummies,\n",
    "             imperative_dummies\n",
    "              ], axis = 1)\n",
    "\n",
    "y = df['Category']\n",
    "\n",
    "#Create a train/test split\n",
    "X_train, X_test, y_train, y_test = train_test_split(X, y, random_state=12)\n",
    "#print(y_train.value_counts(),'\\n', y_test.value_counts())\n",
    "\n",
    "#Build a logistic regression model\n",
    "logreg = LogisticRegression(fit_intercept=False, C=1e16)"
   ]
  },
  {
   "cell_type": "code",
   "execution_count": null,
   "metadata": {},
   "outputs": [],
   "source": [
    "logreg.fit(X_train, y_train)\n",
    "\n",
    "#Generate predicted values for y to compare to real values\n",
    "y_hat_train = logreg.predict(X_train)\n",
    "\n",
    "#Now generate predicted values for the test data to compare\n",
    "y_hat_test = logreg.predict(X_test)\n",
    "\n",
    "#Create a confusion matrix with the training results\n",
    "conf_matrix_train = confusion_matrix(y_hat_train, y_train)\n",
    "#Create a confusion matrix with the test results\n",
    "conf_matrix_test = confusion_matrix(y_hat_test, y_test)\n",
    "\n",
    "#Create labels for the classes in the conf matrix\n",
    "class_names = set(y)"
   ]
  },
  {
   "cell_type": "code",
   "execution_count": null,
   "metadata": {
    "scrolled": false
   },
   "outputs": [],
   "source": [
    "#Draw a figure\n",
    "plt.figure(figsize = (10,8))\n",
    "#Call the custom function to draw the conf matrix\n",
    "plot_conf_matrix(conf_matrix_train, classes = class_names)"
   ]
  },
  {
   "cell_type": "code",
   "execution_count": null,
   "metadata": {},
   "outputs": [],
   "source": [
    "print(classification_report(y_train, y_hat_train, target_names = class_names))"
   ]
  },
  {
   "cell_type": "markdown",
   "metadata": {},
   "source": [
    "Discuss"
   ]
  },
  {
   "cell_type": "code",
   "execution_count": null,
   "metadata": {
    "scrolled": true
   },
   "outputs": [],
   "source": [
    "plt.figure(figsize = (10,8))\n",
    "#Call the custom function to draw the conf matrix\n",
    "plot_conf_matrix(conf_matrix_test, classes = class_names)"
   ]
  },
  {
   "cell_type": "code",
   "execution_count": null,
   "metadata": {},
   "outputs": [],
   "source": [
    "print(classification_report(y_test, y_hat_test, target_names = class_names))"
   ]
  },
  {
   "cell_type": "markdown",
   "metadata": {},
   "source": [
    "This model is almost useless! It only classifies 'Reference', 'Insult', and 'Violence.'"
   ]
  },
  {
   "cell_type": "markdown",
   "metadata": {},
   "source": [
    "<a id = 'detour_cat'></a>"
   ]
  },
  {
   "cell_type": "markdown",
   "metadata": {},
   "source": [
    "### Detour: improving the categories\n",
    "\n",
    "I'm unhappy with the categories and think I can do better."
   ]
  },
  {
   "cell_type": "code",
   "execution_count": null,
   "metadata": {
    "scrolled": true
   },
   "outputs": [],
   "source": [
    "cat_counts = df_raw['Category'].value_counts()"
   ]
  },
  {
   "cell_type": "code",
   "execution_count": null,
   "metadata": {},
   "outputs": [],
   "source": [
    "#COLROS ARE BROKEN\n",
    "\n",
    "#colors_for_orig_cats = ['lavender', 'brown', 'yellow', 'blue', 'lightblue', 'purple',\n",
    "#                       'maroon', 'red', 'pink', 'darkblue', 'gray']\n",
    "fig = plt.figure(figsize = (8,8))\n",
    "plt.pie(x = cat_counts, labels = cat_counts.index)\n",
    "plt.title('Distribution of data into categories')\n",
    "plt.show()"
   ]
  },
  {
   "cell_type": "code",
   "execution_count": null,
   "metadata": {},
   "outputs": [],
   "source": []
  },
  {
   "cell_type": "markdown",
   "metadata": {},
   "source": [
    "There are two problems to solve:\n",
    "\n",
    " 1. Categories are imprecise. (What isn't \"social\"?)\n",
    " 2. Data is unevenly distributed into these categories\n",
    "\n",
    "Before I try to up- or down-sample I'd like to see if I can rearrange the data within the categories. I've browsed the English translations of the graffiti and have spotted some key words that I want to count the incidence of across the categories. This may suggest some more precise categories for the data. It may also allow for more even data distribution across categories."
   ]
  },
  {
   "cell_type": "code",
   "execution_count": 27,
   "metadata": {},
   "outputs": [],
   "source": [
    "#A new df for the reorganized categories\n",
    "df_clean = copy.deepcopy(df_raw)"
   ]
  },
  {
   "cell_type": "code",
   "execution_count": 28,
   "metadata": {},
   "outputs": [],
   "source": [
    "#A lambda function with the \"globals\" so I don't have to pass them in every time\n",
    "pysqldf = lambda q: sqldf(q, globals())"
   ]
  },
  {
   "cell_type": "code",
   "execution_count": 29,
   "metadata": {},
   "outputs": [],
   "source": [
    "categories = list(df_raw['Category'].unique())\n",
    "\n",
    "#Some possible new categories\n",
    "#Hoping to draw values out from 'Social'\n",
    "love = ['the girls', 'love', 'venus']\n",
    "slave = ['servant', 'serve', 'slave']\n",
    "emperor = ['Caesar', 'emperor', 'Nero']\n",
    "gods = ['Jupiter', 'god', 'holy', 'pray']\n",
    "greeting = ['bye', 'hello', 'goodbye', 'greetings']\n",
    "glory = ['fight', 'mars','soldier', 'victor']\n",
    "########## WARNING!! NSFW ################\n",
    "lewd = ['bugger', 'cock', 'cunt', 'faggot', 'fuck', 'suck']\n",
    "###########################################\n",
    "blessing = ['best wishes', 'bravo',  'favor', 'favour', 'good luck', 'happy', 'smile']\n",
    "curse = ['anger', 'beware', 'curse']\n",
    "keyword_cats = [love, slave, emperor, gods, greeting, glory, lewd, blessing, curse]\n",
    "\n",
    "#A list of all keywords\n",
    "keywords = []\n",
    "for cat in keyword_cats:\n",
    "    for word in cat:\n",
    "        keywords.append(word)\n",
    "        \n",
    "#Build a 'keyword matrix' with my custom function\n",
    "#to show incidence of the above keywords in the \n",
    "#original categories of the data.\n",
    "keywords_df = keyword_matrix(pysqldf, categories, keywords)"
   ]
  },
  {
   "cell_type": "code",
   "execution_count": 30,
   "metadata": {
    "collapsed": true
   },
   "outputs": [
    {
     "data": {
      "text/html": [
       "<div>\n",
       "<style scoped>\n",
       "    .dataframe tbody tr th:only-of-type {\n",
       "        vertical-align: middle;\n",
       "    }\n",
       "\n",
       "    .dataframe tbody tr th {\n",
       "        vertical-align: top;\n",
       "    }\n",
       "\n",
       "    .dataframe thead th {\n",
       "        text-align: right;\n",
       "    }\n",
       "</style>\n",
       "<table border=\"1\" class=\"dataframe\">\n",
       "  <thead>\n",
       "    <tr style=\"text-align: right;\">\n",
       "      <th></th>\n",
       "      <th>Key_Word</th>\n",
       "      <th>Religious</th>\n",
       "      <th>Civic</th>\n",
       "      <th>Insult</th>\n",
       "      <th>Reference</th>\n",
       "      <th>Tagging</th>\n",
       "      <th>Social</th>\n",
       "      <th>Sexual</th>\n",
       "      <th>Romantic</th>\n",
       "      <th>unknown</th>\n",
       "      <th>Political</th>\n",
       "      <th>Violence</th>\n",
       "    </tr>\n",
       "  </thead>\n",
       "  <tbody>\n",
       "    <tr>\n",
       "      <th>0</th>\n",
       "      <td>the girls</td>\n",
       "      <td>0</td>\n",
       "      <td>0</td>\n",
       "      <td>0</td>\n",
       "      <td>0</td>\n",
       "      <td>4</td>\n",
       "      <td>0</td>\n",
       "      <td>1</td>\n",
       "      <td>0</td>\n",
       "      <td>0</td>\n",
       "      <td>0</td>\n",
       "      <td>1</td>\n",
       "    </tr>\n",
       "    <tr>\n",
       "      <th>1</th>\n",
       "      <td>love</td>\n",
       "      <td>3</td>\n",
       "      <td>0</td>\n",
       "      <td>2</td>\n",
       "      <td>18</td>\n",
       "      <td>0</td>\n",
       "      <td>0</td>\n",
       "      <td>2</td>\n",
       "      <td>40</td>\n",
       "      <td>0</td>\n",
       "      <td>0</td>\n",
       "      <td>0</td>\n",
       "    </tr>\n",
       "    <tr>\n",
       "      <th>2</th>\n",
       "      <td>venus</td>\n",
       "      <td>12</td>\n",
       "      <td>0</td>\n",
       "      <td>0</td>\n",
       "      <td>5</td>\n",
       "      <td>1</td>\n",
       "      <td>1</td>\n",
       "      <td>2</td>\n",
       "      <td>0</td>\n",
       "      <td>0</td>\n",
       "      <td>0</td>\n",
       "      <td>1</td>\n",
       "    </tr>\n",
       "    <tr>\n",
       "      <th>3</th>\n",
       "      <td>servant</td>\n",
       "      <td>0</td>\n",
       "      <td>0</td>\n",
       "      <td>1</td>\n",
       "      <td>0</td>\n",
       "      <td>0</td>\n",
       "      <td>1</td>\n",
       "      <td>0</td>\n",
       "      <td>0</td>\n",
       "      <td>0</td>\n",
       "      <td>0</td>\n",
       "      <td>0</td>\n",
       "    </tr>\n",
       "    <tr>\n",
       "      <th>4</th>\n",
       "      <td>serve</td>\n",
       "      <td>0</td>\n",
       "      <td>4</td>\n",
       "      <td>0</td>\n",
       "      <td>1</td>\n",
       "      <td>0</td>\n",
       "      <td>0</td>\n",
       "      <td>0</td>\n",
       "      <td>0</td>\n",
       "      <td>0</td>\n",
       "      <td>0</td>\n",
       "      <td>0</td>\n",
       "    </tr>\n",
       "    <tr>\n",
       "      <th>5</th>\n",
       "      <td>slave</td>\n",
       "      <td>2</td>\n",
       "      <td>2</td>\n",
       "      <td>4</td>\n",
       "      <td>0</td>\n",
       "      <td>3</td>\n",
       "      <td>5</td>\n",
       "      <td>7</td>\n",
       "      <td>1</td>\n",
       "      <td>0</td>\n",
       "      <td>1</td>\n",
       "      <td>0</td>\n",
       "    </tr>\n",
       "    <tr>\n",
       "      <th>6</th>\n",
       "      <td>Caesar</td>\n",
       "      <td>0</td>\n",
       "      <td>1</td>\n",
       "      <td>1</td>\n",
       "      <td>0</td>\n",
       "      <td>0</td>\n",
       "      <td>0</td>\n",
       "      <td>0</td>\n",
       "      <td>0</td>\n",
       "      <td>0</td>\n",
       "      <td>3</td>\n",
       "      <td>2</td>\n",
       "    </tr>\n",
       "    <tr>\n",
       "      <th>7</th>\n",
       "      <td>emperor</td>\n",
       "      <td>1</td>\n",
       "      <td>0</td>\n",
       "      <td>0</td>\n",
       "      <td>0</td>\n",
       "      <td>1</td>\n",
       "      <td>0</td>\n",
       "      <td>0</td>\n",
       "      <td>0</td>\n",
       "      <td>0</td>\n",
       "      <td>3</td>\n",
       "      <td>0</td>\n",
       "    </tr>\n",
       "    <tr>\n",
       "      <th>8</th>\n",
       "      <td>Nero</td>\n",
       "      <td>1</td>\n",
       "      <td>0</td>\n",
       "      <td>1</td>\n",
       "      <td>0</td>\n",
       "      <td>1</td>\n",
       "      <td>2</td>\n",
       "      <td>1</td>\n",
       "      <td>0</td>\n",
       "      <td>0</td>\n",
       "      <td>5</td>\n",
       "      <td>5</td>\n",
       "    </tr>\n",
       "    <tr>\n",
       "      <th>9</th>\n",
       "      <td>Jupiter</td>\n",
       "      <td>0</td>\n",
       "      <td>0</td>\n",
       "      <td>1</td>\n",
       "      <td>0</td>\n",
       "      <td>0</td>\n",
       "      <td>1</td>\n",
       "      <td>0</td>\n",
       "      <td>0</td>\n",
       "      <td>0</td>\n",
       "      <td>0</td>\n",
       "      <td>0</td>\n",
       "    </tr>\n",
       "    <tr>\n",
       "      <th>10</th>\n",
       "      <td>god</td>\n",
       "      <td>10</td>\n",
       "      <td>0</td>\n",
       "      <td>0</td>\n",
       "      <td>2</td>\n",
       "      <td>0</td>\n",
       "      <td>1</td>\n",
       "      <td>0</td>\n",
       "      <td>1</td>\n",
       "      <td>0</td>\n",
       "      <td>0</td>\n",
       "      <td>0</td>\n",
       "    </tr>\n",
       "    <tr>\n",
       "      <th>11</th>\n",
       "      <td>holy</td>\n",
       "      <td>3</td>\n",
       "      <td>0</td>\n",
       "      <td>0</td>\n",
       "      <td>0</td>\n",
       "      <td>0</td>\n",
       "      <td>0</td>\n",
       "      <td>0</td>\n",
       "      <td>1</td>\n",
       "      <td>0</td>\n",
       "      <td>0</td>\n",
       "      <td>0</td>\n",
       "    </tr>\n",
       "    <tr>\n",
       "      <th>12</th>\n",
       "      <td>pray</td>\n",
       "      <td>1</td>\n",
       "      <td>0</td>\n",
       "      <td>0</td>\n",
       "      <td>0</td>\n",
       "      <td>0</td>\n",
       "      <td>2</td>\n",
       "      <td>0</td>\n",
       "      <td>0</td>\n",
       "      <td>0</td>\n",
       "      <td>0</td>\n",
       "      <td>0</td>\n",
       "    </tr>\n",
       "    <tr>\n",
       "      <th>13</th>\n",
       "      <td>bye</td>\n",
       "      <td>0</td>\n",
       "      <td>0</td>\n",
       "      <td>4</td>\n",
       "      <td>1</td>\n",
       "      <td>0</td>\n",
       "      <td>43</td>\n",
       "      <td>1</td>\n",
       "      <td>3</td>\n",
       "      <td>0</td>\n",
       "      <td>1</td>\n",
       "      <td>0</td>\n",
       "    </tr>\n",
       "    <tr>\n",
       "      <th>14</th>\n",
       "      <td>hello</td>\n",
       "      <td>0</td>\n",
       "      <td>1</td>\n",
       "      <td>1</td>\n",
       "      <td>0</td>\n",
       "      <td>0</td>\n",
       "      <td>6</td>\n",
       "      <td>0</td>\n",
       "      <td>2</td>\n",
       "      <td>0</td>\n",
       "      <td>0</td>\n",
       "      <td>0</td>\n",
       "    </tr>\n",
       "    <tr>\n",
       "      <th>15</th>\n",
       "      <td>goodbye</td>\n",
       "      <td>0</td>\n",
       "      <td>0</td>\n",
       "      <td>0</td>\n",
       "      <td>0</td>\n",
       "      <td>0</td>\n",
       "      <td>1</td>\n",
       "      <td>0</td>\n",
       "      <td>0</td>\n",
       "      <td>0</td>\n",
       "      <td>0</td>\n",
       "      <td>0</td>\n",
       "    </tr>\n",
       "    <tr>\n",
       "      <th>16</th>\n",
       "      <td>greetings</td>\n",
       "      <td>0</td>\n",
       "      <td>0</td>\n",
       "      <td>0</td>\n",
       "      <td>2</td>\n",
       "      <td>0</td>\n",
       "      <td>31</td>\n",
       "      <td>1</td>\n",
       "      <td>4</td>\n",
       "      <td>0</td>\n",
       "      <td>0</td>\n",
       "      <td>0</td>\n",
       "    </tr>\n",
       "    <tr>\n",
       "      <th>17</th>\n",
       "      <td>fight</td>\n",
       "      <td>0</td>\n",
       "      <td>0</td>\n",
       "      <td>0</td>\n",
       "      <td>0</td>\n",
       "      <td>0</td>\n",
       "      <td>0</td>\n",
       "      <td>0</td>\n",
       "      <td>0</td>\n",
       "      <td>0</td>\n",
       "      <td>1</td>\n",
       "      <td>21</td>\n",
       "    </tr>\n",
       "    <tr>\n",
       "      <th>18</th>\n",
       "      <td>mars</td>\n",
       "      <td>1</td>\n",
       "      <td>0</td>\n",
       "      <td>0</td>\n",
       "      <td>1</td>\n",
       "      <td>1</td>\n",
       "      <td>1</td>\n",
       "      <td>0</td>\n",
       "      <td>0</td>\n",
       "      <td>0</td>\n",
       "      <td>0</td>\n",
       "      <td>0</td>\n",
       "    </tr>\n",
       "    <tr>\n",
       "      <th>19</th>\n",
       "      <td>soldier</td>\n",
       "      <td>0</td>\n",
       "      <td>0</td>\n",
       "      <td>0</td>\n",
       "      <td>1</td>\n",
       "      <td>3</td>\n",
       "      <td>0</td>\n",
       "      <td>2</td>\n",
       "      <td>0</td>\n",
       "      <td>0</td>\n",
       "      <td>0</td>\n",
       "      <td>0</td>\n",
       "    </tr>\n",
       "    <tr>\n",
       "      <th>20</th>\n",
       "      <td>victor</td>\n",
       "      <td>1</td>\n",
       "      <td>0</td>\n",
       "      <td>1</td>\n",
       "      <td>1</td>\n",
       "      <td>0</td>\n",
       "      <td>5</td>\n",
       "      <td>3</td>\n",
       "      <td>0</td>\n",
       "      <td>0</td>\n",
       "      <td>0</td>\n",
       "      <td>15</td>\n",
       "    </tr>\n",
       "    <tr>\n",
       "      <th>21</th>\n",
       "      <td>bugger</td>\n",
       "      <td>0</td>\n",
       "      <td>0</td>\n",
       "      <td>4</td>\n",
       "      <td>3</td>\n",
       "      <td>0</td>\n",
       "      <td>0</td>\n",
       "      <td>2</td>\n",
       "      <td>0</td>\n",
       "      <td>0</td>\n",
       "      <td>0</td>\n",
       "      <td>0</td>\n",
       "    </tr>\n",
       "    <tr>\n",
       "      <th>22</th>\n",
       "      <td>cock</td>\n",
       "      <td>0</td>\n",
       "      <td>0</td>\n",
       "      <td>13</td>\n",
       "      <td>3</td>\n",
       "      <td>0</td>\n",
       "      <td>1</td>\n",
       "      <td>26</td>\n",
       "      <td>0</td>\n",
       "      <td>0</td>\n",
       "      <td>0</td>\n",
       "      <td>0</td>\n",
       "    </tr>\n",
       "    <tr>\n",
       "      <th>23</th>\n",
       "      <td>cunt</td>\n",
       "      <td>0</td>\n",
       "      <td>0</td>\n",
       "      <td>5</td>\n",
       "      <td>2</td>\n",
       "      <td>0</td>\n",
       "      <td>0</td>\n",
       "      <td>18</td>\n",
       "      <td>2</td>\n",
       "      <td>0</td>\n",
       "      <td>1</td>\n",
       "      <td>0</td>\n",
       "    </tr>\n",
       "    <tr>\n",
       "      <th>24</th>\n",
       "      <td>faggot</td>\n",
       "      <td>0</td>\n",
       "      <td>0</td>\n",
       "      <td>13</td>\n",
       "      <td>0</td>\n",
       "      <td>0</td>\n",
       "      <td>0</td>\n",
       "      <td>2</td>\n",
       "      <td>0</td>\n",
       "      <td>0</td>\n",
       "      <td>0</td>\n",
       "      <td>0</td>\n",
       "    </tr>\n",
       "    <tr>\n",
       "      <th>25</th>\n",
       "      <td>fuck</td>\n",
       "      <td>1</td>\n",
       "      <td>0</td>\n",
       "      <td>8</td>\n",
       "      <td>4</td>\n",
       "      <td>0</td>\n",
       "      <td>1</td>\n",
       "      <td>51</td>\n",
       "      <td>2</td>\n",
       "      <td>0</td>\n",
       "      <td>0</td>\n",
       "      <td>0</td>\n",
       "    </tr>\n",
       "    <tr>\n",
       "      <th>26</th>\n",
       "      <td>suck</td>\n",
       "      <td>0</td>\n",
       "      <td>0</td>\n",
       "      <td>15</td>\n",
       "      <td>2</td>\n",
       "      <td>0</td>\n",
       "      <td>0</td>\n",
       "      <td>32</td>\n",
       "      <td>0</td>\n",
       "      <td>0</td>\n",
       "      <td>0</td>\n",
       "      <td>0</td>\n",
       "    </tr>\n",
       "    <tr>\n",
       "      <th>27</th>\n",
       "      <td>best wishes</td>\n",
       "      <td>0</td>\n",
       "      <td>0</td>\n",
       "      <td>0</td>\n",
       "      <td>0</td>\n",
       "      <td>1</td>\n",
       "      <td>7</td>\n",
       "      <td>0</td>\n",
       "      <td>0</td>\n",
       "      <td>0</td>\n",
       "      <td>2</td>\n",
       "      <td>1</td>\n",
       "    </tr>\n",
       "    <tr>\n",
       "      <th>28</th>\n",
       "      <td>bravo</td>\n",
       "      <td>0</td>\n",
       "      <td>0</td>\n",
       "      <td>0</td>\n",
       "      <td>0</td>\n",
       "      <td>0</td>\n",
       "      <td>6</td>\n",
       "      <td>0</td>\n",
       "      <td>0</td>\n",
       "      <td>0</td>\n",
       "      <td>0</td>\n",
       "      <td>0</td>\n",
       "    </tr>\n",
       "    <tr>\n",
       "      <th>29</th>\n",
       "      <td>favor</td>\n",
       "      <td>0</td>\n",
       "      <td>0</td>\n",
       "      <td>0</td>\n",
       "      <td>1</td>\n",
       "      <td>0</td>\n",
       "      <td>0</td>\n",
       "      <td>0</td>\n",
       "      <td>0</td>\n",
       "      <td>0</td>\n",
       "      <td>1</td>\n",
       "      <td>0</td>\n",
       "    </tr>\n",
       "    <tr>\n",
       "      <th>30</th>\n",
       "      <td>favour</td>\n",
       "      <td>2</td>\n",
       "      <td>0</td>\n",
       "      <td>0</td>\n",
       "      <td>1</td>\n",
       "      <td>0</td>\n",
       "      <td>1</td>\n",
       "      <td>0</td>\n",
       "      <td>0</td>\n",
       "      <td>0</td>\n",
       "      <td>0</td>\n",
       "      <td>0</td>\n",
       "    </tr>\n",
       "    <tr>\n",
       "      <th>31</th>\n",
       "      <td>good luck</td>\n",
       "      <td>0</td>\n",
       "      <td>0</td>\n",
       "      <td>0</td>\n",
       "      <td>1</td>\n",
       "      <td>0</td>\n",
       "      <td>15</td>\n",
       "      <td>0</td>\n",
       "      <td>1</td>\n",
       "      <td>0</td>\n",
       "      <td>1</td>\n",
       "      <td>0</td>\n",
       "    </tr>\n",
       "    <tr>\n",
       "      <th>32</th>\n",
       "      <td>happy</td>\n",
       "      <td>0</td>\n",
       "      <td>1</td>\n",
       "      <td>2</td>\n",
       "      <td>0</td>\n",
       "      <td>0</td>\n",
       "      <td>6</td>\n",
       "      <td>1</td>\n",
       "      <td>0</td>\n",
       "      <td>0</td>\n",
       "      <td>0</td>\n",
       "      <td>0</td>\n",
       "    </tr>\n",
       "    <tr>\n",
       "      <th>33</th>\n",
       "      <td>smile</td>\n",
       "      <td>0</td>\n",
       "      <td>0</td>\n",
       "      <td>0</td>\n",
       "      <td>0</td>\n",
       "      <td>0</td>\n",
       "      <td>0</td>\n",
       "      <td>0</td>\n",
       "      <td>0</td>\n",
       "      <td>0</td>\n",
       "      <td>0</td>\n",
       "      <td>0</td>\n",
       "    </tr>\n",
       "    <tr>\n",
       "      <th>34</th>\n",
       "      <td>anger</td>\n",
       "      <td>0</td>\n",
       "      <td>0</td>\n",
       "      <td>1</td>\n",
       "      <td>2</td>\n",
       "      <td>0</td>\n",
       "      <td>0</td>\n",
       "      <td>0</td>\n",
       "      <td>0</td>\n",
       "      <td>0</td>\n",
       "      <td>0</td>\n",
       "      <td>1</td>\n",
       "    </tr>\n",
       "    <tr>\n",
       "      <th>35</th>\n",
       "      <td>beware</td>\n",
       "      <td>0</td>\n",
       "      <td>0</td>\n",
       "      <td>6</td>\n",
       "      <td>0</td>\n",
       "      <td>0</td>\n",
       "      <td>2</td>\n",
       "      <td>0</td>\n",
       "      <td>0</td>\n",
       "      <td>0</td>\n",
       "      <td>0</td>\n",
       "      <td>0</td>\n",
       "    </tr>\n",
       "    <tr>\n",
       "      <th>36</th>\n",
       "      <td>curse</td>\n",
       "      <td>0</td>\n",
       "      <td>0</td>\n",
       "      <td>0</td>\n",
       "      <td>0</td>\n",
       "      <td>0</td>\n",
       "      <td>0</td>\n",
       "      <td>0</td>\n",
       "      <td>0</td>\n",
       "      <td>0</td>\n",
       "      <td>0</td>\n",
       "      <td>0</td>\n",
       "    </tr>\n",
       "  </tbody>\n",
       "</table>\n",
       "</div>"
      ],
      "text/plain": [
       "       Key_Word Religious Civic Insult Reference Tagging Social Sexual  \\\n",
       "0     the girls         0     0      0         0       4      0      1   \n",
       "1          love         3     0      2        18       0      0      2   \n",
       "2         venus        12     0      0         5       1      1      2   \n",
       "3       servant         0     0      1         0       0      1      0   \n",
       "4         serve         0     4      0         1       0      0      0   \n",
       "5         slave         2     2      4         0       3      5      7   \n",
       "6        Caesar         0     1      1         0       0      0      0   \n",
       "7       emperor         1     0      0         0       1      0      0   \n",
       "8          Nero         1     0      1         0       1      2      1   \n",
       "9       Jupiter         0     0      1         0       0      1      0   \n",
       "10          god        10     0      0         2       0      1      0   \n",
       "11         holy         3     0      0         0       0      0      0   \n",
       "12         pray         1     0      0         0       0      2      0   \n",
       "13          bye         0     0      4         1       0     43      1   \n",
       "14        hello         0     1      1         0       0      6      0   \n",
       "15      goodbye         0     0      0         0       0      1      0   \n",
       "16    greetings         0     0      0         2       0     31      1   \n",
       "17        fight         0     0      0         0       0      0      0   \n",
       "18         mars         1     0      0         1       1      1      0   \n",
       "19      soldier         0     0      0         1       3      0      2   \n",
       "20       victor         1     0      1         1       0      5      3   \n",
       "21       bugger         0     0      4         3       0      0      2   \n",
       "22         cock         0     0     13         3       0      1     26   \n",
       "23         cunt         0     0      5         2       0      0     18   \n",
       "24       faggot         0     0     13         0       0      0      2   \n",
       "25         fuck         1     0      8         4       0      1     51   \n",
       "26         suck         0     0     15         2       0      0     32   \n",
       "27  best wishes         0     0      0         0       1      7      0   \n",
       "28        bravo         0     0      0         0       0      6      0   \n",
       "29        favor         0     0      0         1       0      0      0   \n",
       "30       favour         2     0      0         1       0      1      0   \n",
       "31    good luck         0     0      0         1       0     15      0   \n",
       "32        happy         0     1      2         0       0      6      1   \n",
       "33        smile         0     0      0         0       0      0      0   \n",
       "34        anger         0     0      1         2       0      0      0   \n",
       "35       beware         0     0      6         0       0      2      0   \n",
       "36        curse         0     0      0         0       0      0      0   \n",
       "\n",
       "   Romantic unknown Political Violence  \n",
       "0         0       0         0        1  \n",
       "1        40       0         0        0  \n",
       "2         0       0         0        1  \n",
       "3         0       0         0        0  \n",
       "4         0       0         0        0  \n",
       "5         1       0         1        0  \n",
       "6         0       0         3        2  \n",
       "7         0       0         3        0  \n",
       "8         0       0         5        5  \n",
       "9         0       0         0        0  \n",
       "10        1       0         0        0  \n",
       "11        1       0         0        0  \n",
       "12        0       0         0        0  \n",
       "13        3       0         1        0  \n",
       "14        2       0         0        0  \n",
       "15        0       0         0        0  \n",
       "16        4       0         0        0  \n",
       "17        0       0         1       21  \n",
       "18        0       0         0        0  \n",
       "19        0       0         0        0  \n",
       "20        0       0         0       15  \n",
       "21        0       0         0        0  \n",
       "22        0       0         0        0  \n",
       "23        2       0         1        0  \n",
       "24        0       0         0        0  \n",
       "25        2       0         0        0  \n",
       "26        0       0         0        0  \n",
       "27        0       0         2        1  \n",
       "28        0       0         0        0  \n",
       "29        0       0         1        0  \n",
       "30        0       0         0        0  \n",
       "31        1       0         1        0  \n",
       "32        0       0         0        0  \n",
       "33        0       0         0        0  \n",
       "34        0       0         0        1  \n",
       "35        0       0         0        0  \n",
       "36        0       0         0        0  "
      ]
     },
     "execution_count": 30,
     "metadata": {},
     "output_type": "execute_result"
    }
   ],
   "source": [
    "keywords_df"
   ]
  },
  {
   "cell_type": "code",
   "execution_count": null,
   "metadata": {},
   "outputs": [],
   "source": [
    "#Opportunity to knock off many of the values from 'Social.'\n",
    "keywords_df['Social'].sum()"
   ]
  },
  {
   "cell_type": "code",
   "execution_count": 31,
   "metadata": {},
   "outputs": [],
   "source": [
    "#Categorize greetings, blessings, and curses as Hails \n",
    "#Hello, goodbye, good luck, go to hell)\n",
    "hails = []\n",
    "for words in [greeting, blessing, curse]:\n",
    "    for word in words:\n",
    "        hails.append(word)\n",
    "write(df_clean, hails, 'In English', 'Category', 'Hail')\n",
    "\n",
    "#Categorize references to emperors or slaves as Political\n",
    "poli = []\n",
    "for words in [emperor, slave]:\n",
    "    for word in words:\n",
    "        poli.append(word)\n",
    "write(df_clean, poli, 'In English', 'Category', 'Political')\n",
    "\n",
    "#Categorize glory words as Violence\n",
    "write(df_clean, glory, 'In English', 'Category', 'Violence')\n",
    "#Categorize lewd words as Lewd (new category)\n",
    "write(df_clean, lewd, 'In English', 'Category', 'Lewd')\n",
    "#Categorize love words as Romantic\n",
    "write(df_clean, love, 'In English', 'Category', 'Romantic')\n",
    "#Categorize gods words as Religious\n",
    "write(df_clean, gods, 'In English', 'Category', 'Religious')\n",
    "\n",
    "#Now:\n",
    "#Combine 'Violence' and 'Political' into 'Glory'\n",
    "write(df_clean, ['Violence', 'Political'], 'Category', 'Category', 'Glory')\n",
    "#Combine 'Sexual' and 'Romantic' into 'Love'\n",
    "write(df_clean, ['Sexual', 'Romantic'], 'Category', 'Category', 'Love')\n",
    "#Combine 'unknown' and 'Tagging' into 'Civic'\n",
    "write(df_clean, ['unknown', 'Tagging'], 'Category', 'Category', 'Civic')\n",
    "#Combine 'Insult' with 'Hail' (They're both direct adresses)\n",
    "write(df_clean, ['Insult'], 'Category', 'Category', 'Hail')\n",
    "#Combine 'Religious' with 'Glory' (Politics, War, and Religion are all heady)\n",
    "write(df_clean, ['Religious'], 'Category', 'Category', 'Glory')\n",
    "\n",
    "#Now:\n",
    "#Give the final categories jazzier names\n",
    "replacements = {'Reference': 'Literature',\n",
    "                'Social': 'Gossip',\n",
    "                'Civic': 'Bulletin',\n",
    "                'Religion': 'Gods'\n",
    "                }\n",
    "df_clean['Category'] = df_clean['Category'].replace(replacements)"
   ]
  },
  {
   "cell_type": "markdown",
   "metadata": {},
   "source": [
    "How did all this work affect our categories?"
   ]
  },
  {
   "cell_type": "code",
   "execution_count": null,
   "metadata": {},
   "outputs": [],
   "source": [
    "#FOR RTESTING\n",
    "#labels = 'Frogs', 'Hogs', 'Dogs', 'Logs'\n",
    "#fracs = [15, 30, 45, 10]\n",
    "\n",
    "#fig = plt.figure()\n",
    "\n",
    "#ax1 = fig.add_axes([0, 0, .5, .5], aspect=1)\n",
    "#ax1.pie(fracs, labels=labels, radius = 1.2)\n",
    "#ax2 = fig.add_axes([.5, .0, .5, .5], aspect=1)\n",
    "#ax2.pie(fracs, labels=labels, radius = 1.2)\n",
    "#plt.show()"
   ]
  },
  {
   "cell_type": "code",
   "execution_count": 32,
   "metadata": {},
   "outputs": [
    {
     "data": {
      "image/png": "[encoded data removed]",
      "text/plain": [
       "<Figure size 864x576 with 2 Axes>"
      ]
     },
     "metadata": {},
     "output_type": "display_data"
    }
   ],
   "source": [
    "cat_counts = df_raw['Category'].value_counts()\n",
    "\n",
    "#Colors for new categories\n",
    "colors_for_new_cats = ['green', 'yellow', 'purple', 'gray', 'blue', 'red', 'brown']\n",
    "\n",
    "#Values of old categories to count\n",
    "cat_counts = df_raw['Category'].value_counts()\n",
    "#Capture the values of the new categories to plot\n",
    "v2cat_counts = df_clean['Category'].value_counts()\n",
    "\n",
    "#Plot old categories side by side with new ones\n",
    "fig = plt.figure(figsize = (12,8))\n",
    "ax1 = fig.add_axes([0, 0, .5, .5], aspect = 1)\n",
    "ax1.pie(x = cat_counts, labels = cat_counts.index)\n",
    "ax2 = fig.add_axes([0.5, 0, .5, .5], aspect = 1)\n",
    "ax2.pie(x = v2cat_counts, labels = v2cat_counts.index)\n",
    "#Need to fix title position\n",
    "plt.title('Original categories vs new categories')\n",
    "plt.show()"
   ]
  },
  {
   "cell_type": "markdown",
   "metadata": {},
   "source": [
    "### MAKE THE COLORS CORRESPOND\n",
    "Lavender   'Sexual', 'Love'\n",
    "Brown   'Reference', 'Literature'\n",
    "Yellow     'Insult', 'Hail'\n",
    "Blue       'Civic', 'Bulletin'\n",
    "Light blue 'Tagging', 'Bulletin'\n",
    "Purple    'Romantic', 'Love'\n",
    "Maroon    'Religious', 'Glory'\n",
    "Red       'Violence', 'Glory'\n",
    "Pink     'Political', 'Glory'\n",
    "Dark blue  'unknown'], 'Bulletin'\n",
    "Gray .      Social .     Gossip\n",
    "\n",
    "Lewd  Green\n",
    "Hail Yellow\n",
    "Love Purple\n",
    "Gossip Gray\n",
    "Bulletin Blue\n",
    "Glory Red\n",
    "Literature Brown"
   ]
  },
  {
   "cell_type": "code",
   "execution_count": null,
   "metadata": {},
   "outputs": [],
   "source": [
    "df_clean['Category'].value_counts()"
   ]
  },
  {
   "cell_type": "markdown",
   "metadata": {},
   "source": [
    "Much better!\n",
    "\n",
    "*Lewd*: Swear words and body parts\n",
    "\n",
    "*Hail*: Hello, goodbye, bless you, curse you\n",
    "\n",
    "*Love*: Romance & sex\n",
    "\n",
    "*Gossip*: Have you heard who was drinking wine with Euphabia?\n",
    "\n",
    "*Bulletin*: I baked bread today; I sold some pots today\n",
    "\n",
    "*Glory*: The slaves won the battle! The emperor won the battle! The gods helped us win the battle!\n",
    "\n",
    "*Literature*: Ovid, Aenid, Homer, Horace: we've got all the classics\n",
    "\n",
    "Now let's see how this data performs with a plain vanilla logistic regression model.\n",
    "\n",
    "### Another plain vanilla logistic regression with the new categories"
   ]
  },
  {
   "cell_type": "code",
   "execution_count": null,
   "metadata": {
    "scrolled": true
   },
   "outputs": [],
   "source": [
    "#Prepare the data\n",
    "\n",
    "df = copy.deepcopy(df_clean)\n",
    "\n",
    "#Make categories\n",
    "df['Literacy'] = df['Literacy'].astype('category')\n",
    "df['Position'] = df['Position'].astype('category')\n",
    "df['Building Type'] = df['Building Type'].astype('category')\n",
    "df['Famous House'] = df['Famous House'].astype('bool').astype('category')\n",
    "df['Socio-economic status'] = df['Socio-economic status'].astype('category')\n",
    "df['Writer'] = df['Writer'].astype('bool').astype('category')\n",
    "df['Category'] = df['Category'].astype('category')\n",
    "df['Imperative'] = df['Imperative'].astype('bool').astype('category')\n",
    "\n",
    "#Continuous data: 'Reggio', 'Insula', 'Characters', 'Flohr Score'\n",
    "\n",
    "#Get dummies\n",
    "literacy_dummies = pd.get_dummies(df['Literacy'], prefix = 'Literacy')\n",
    "position_dummies = pd.get_dummies(df['Position'], prefix = 'Position')\n",
    "build_type_dummies = pd.get_dummies(df['Building Type'], prefix = 'Building_Type')\n",
    "famous_dummies = pd.get_dummies(df['Famous House'], prefix = 'Famous')\n",
    "econ_status_dummies = pd.get_dummies(df['Socio-economic status'], prefix = 'Econ_Status')\n",
    "writer_dummies = pd.get_dummies(df['Writer'], prefix = 'Writer')\n",
    "imperative_dummies = pd.get_dummies(df['Imperative'], prefix = 'Imperative')\n",
    "\n",
    "X = df.drop(['CIL IV #', 'Entrance', 'Literacy', 'In English', \n",
    "             'Position', 'Building Type', \n",
    "             'Famous House', 'Category', 'Socio-economic status',\n",
    "             'Writer', 'Imperative'\n",
    "            ], axis = 1)\n",
    "X = pd.concat([X, literacy_dummies, position_dummies, build_type_dummies, \n",
    "               famous_dummies, econ_status_dummies, writer_dummies,\n",
    "             imperative_dummies\n",
    "              ], axis = 1)\n",
    "\n",
    "y = df['Category']\n",
    "\n",
    "#Create a train/test split\n",
    "X_train, X_test, y_train, y_test = train_test_split(X, y, random_state=12)\n",
    "#print(y_train.value_counts(),'\\n', y_test.value_counts())"
   ]
  },
  {
   "cell_type": "code",
   "execution_count": null,
   "metadata": {},
   "outputs": [],
   "source": [
    "#Build a logistic regression model\n",
    "logreg = LogisticRegression(fit_intercept=False, C=1e16)\n",
    "\n",
    "Fit the classifier to the training data\n",
    "logreg.fit(X_train, y_train)\n",
    "\n",
    "#Generate predicted y values for training set\n",
    "y_hat_train = logreg.predict(X_train)\n",
    "\n",
    "#Generate predicted y values for testing set\n",
    "y_hat_test = logreg.predict(X_test)\n",
    "\n",
    "#Create a confusion matrix for the training set\n",
    "conf_matrix_train = confusion_matrix(y_hat_train, y_train)\n",
    "#Create a confusion matrix for the testing set\n",
    "conf_matrix_test = confusion_matrix(y_hat_test, y_test)\n",
    "\n",
    "#Create labels for the classes in the conf matrix\n",
    "class_names = set(y)\n",
    "#Draw a figure\n",
    "#plt.figure(figsize = (8,8))\n",
    "#Call the custom function to draw the conf matrix\n",
    "plot_conf_matrix(conf_matrix_train, title = 'Training set', classes = class_names)"
   ]
  },
  {
   "cell_type": "code",
   "execution_count": null,
   "metadata": {},
   "outputs": [],
   "source": [
    "print(classification_report(y_train, y_hat_train, target_names = class_names))"
   ]
  },
  {
   "cell_type": "code",
   "execution_count": null,
   "metadata": {},
   "outputs": [],
   "source": [
    "#plt.figure(figsize = (8,8))\n",
    "#Call the custom function to draw the conf matrix\n",
    "plot_conf_matrix(conf_matrix_test, title = 'Test set', classes = class_names)"
   ]
  },
  {
   "cell_type": "code",
   "execution_count": null,
   "metadata": {},
   "outputs": [],
   "source": [
    "print(classification_report(y_test, y_hat_test, target_names = class_names))"
   ]
  },
  {
   "cell_type": "markdown",
   "metadata": {},
   "source": [
    "The first model could only classify 3 out of 11 categories. The second model can classify all 7 of its categories, and it does a good job on 4 out of 7. Its accuracy is actually slightly lower than the first."
   ]
  },
  {
   "cell_type": "markdown",
   "metadata": {},
   "source": [
    "<a id = 'model1'></a>"
   ]
  },
  {
   "cell_type": "markdown",
   "metadata": {},
   "source": [
    "[(Back to top)](#top)\n",
    "\n",
    "# Modeling: Model \\#1"
   ]
  },
  {
   "cell_type": "code",
   "execution_count": null,
   "metadata": {},
   "outputs": [],
   "source": []
  },
  {
   "cell_type": "code",
   "execution_count": null,
   "metadata": {},
   "outputs": [],
   "source": []
  },
  {
   "cell_type": "code",
   "execution_count": null,
   "metadata": {},
   "outputs": [],
   "source": []
  },
  {
   "cell_type": "markdown",
   "metadata": {},
   "source": [
    "<a id = 'model2'></a>"
   ]
  },
  {
   "cell_type": "markdown",
   "metadata": {},
   "source": [
    "[(Back to top)](#top)\n",
    "\n",
    "# Model \\#2"
   ]
  },
  {
   "cell_type": "markdown",
   "metadata": {},
   "source": [
    "## Decision trees"
   ]
  },
  {
   "cell_type": "code",
   "execution_count": 33,
   "metadata": {},
   "outputs": [],
   "source": [
    "df = copy.deepcopy(df_clean)"
   ]
  },
  {
   "cell_type": "markdown",
   "metadata": {},
   "source": [
    "Preparing the data:"
   ]
  },
  {
   "cell_type": "code",
   "execution_count": 34,
   "metadata": {},
   "outputs": [
    {
     "name": "stderr",
     "output_type": "stream",
     "text": [
      "/Users/ssrosa/anaconda3/envs/learn-env/lib/python3.6/site-packages/sklearn/preprocessing/_encoders.py:368: FutureWarning: The handling of integer data will change in version 0.22. Currently, the categories are determined based on the range [0, max(values)], while in the future they will be determined based on the unique values.\n",
      "If you want the future behaviour and silence this warning, you can specify \"categories='auto'\".\n",
      "In case you used a LabelEncoder before this OneHotEncoder to convert the categories to integers, then you can now use the OneHotEncoder directly.\n",
      "  warnings.warn(msg, FutureWarning)\n",
      "/Users/ssrosa/anaconda3/envs/learn-env/lib/python3.6/site-packages/pandas/core/frame.py:3697: SettingWithCopyWarning: \n",
      "A value is trying to be set on a copy of a slice from a DataFrame\n",
      "\n",
      "See the caveats in the documentation: http://pandas.pydata.org/pandas-docs/stable/indexing.html#indexing-view-versus-copy\n",
      "  errors=errors)\n"
     ]
    }
   ],
   "source": [
    "class_names = set(df['Category'])\n",
    "\n",
    "# Create label encoder instance\n",
    "lb = LabelEncoder() \n",
    "\n",
    "# Create Numerical labels for categorical columns\n",
    "df['Literacy_'] = lb.fit_transform(df['Literacy'])\n",
    "df['Position_'] = lb.fit_transform(df['Position'])\n",
    "df['Build_Type_'] = lb.fit_transform(df['Building Type'])\n",
    "df['Famous_'] = lb.fit_transform(df['Famous House'])\n",
    "df['Writer_'] = lb.fit_transform(df['Writer'])\n",
    "df['Econ_Status_'] = lb.fit_transform(df['Socio-economic status'])\n",
    "df['Imperative_'] = lb.fit_transform(df['Imperative'])\n",
    "#the target\n",
    "df['Category_'] = lb.fit_transform(df['Category'])\n",
    "\n",
    "columns_to_encode = ['Literacy_', 'Position_', 'Build_Type_', \n",
    "                     'Famous_', 'Writer_', 'Econ_Status_', \n",
    "                     'Imperative_'\n",
    "                    ]\n",
    "\n",
    "columns_continuous = ['Reggio', 'Insula', 'Flohr Score', \n",
    "                      'Characters'\n",
    "                     ]\n",
    "\n",
    "# Split features and target variable\n",
    "#X = df[columns_to_encode,]\n",
    "y = df['Category_']\n",
    "\n",
    "# Instantiate a one hot encoder\n",
    "enc = OneHotEncoder()\n",
    "\n",
    "# Fit the feature set X\n",
    "enc.fit(df[columns_to_encode])\n",
    "\n",
    "# Transform X's encoded columns to onehot array \n",
    "onehotX = enc.transform(df[columns_to_encode])\n",
    "\n",
    "#Convert the sparse matrix back into a DF\n",
    "X_onehot = pd.DataFrame(onehotX.todense())\n",
    "#Get just the continuous columns\n",
    "continuous = df[columns_continuous]\n",
    "#Have to reset the index so the rows will line up with\n",
    "#the rows in the encoded set\n",
    "continuous.reset_index(inplace = True)\n",
    "continuous.drop(['index'], axis = 1, inplace = True)\n",
    "\n",
    "#Bring back together the encoded columns and the continuous columns\n",
    "X = pd.concat([X_onehot, continuous], axis = 1)\n",
    "\n",
    "# Create a 70/30 split\n",
    "X_train, X_test, y_train, y_test = train_test_split(X, y, test_size = 0.3, random_state = 12)"
   ]
  },
  {
   "cell_type": "markdown",
   "metadata": {},
   "source": [
    "## A plain vanilla decision tree"
   ]
  },
  {
   "cell_type": "code",
   "execution_count": 35,
   "metadata": {},
   "outputs": [],
   "source": [
    "# Train the classifier and make predictions\n",
    "clf = DecisionTreeClassifier(criterion = 'entropy')\n",
    "clf.fit(X_train,y_train) \n",
    "y_hat_train = clf.predict(X_train)\n",
    "y_hat_test = clf.predict(X_test)"
   ]
  },
  {
   "cell_type": "markdown",
   "metadata": {},
   "source": [
    "### Visualize the result"
   ]
  },
  {
   "cell_type": "code",
   "execution_count": 36,
   "metadata": {
    "scrolled": true
   },
   "outputs": [
    {
     "data": {
      "image/png": "[encoded data removed]",
      "text/plain": [
       "<Figure size 432x288 with 2 Axes>"
      ]
     },
     "metadata": {
      "needs_background": "light"
     },
     "output_type": "display_data"
    }
   ],
   "source": [
    "#Create confusion matrices with the results\n",
    "\n",
    "class_names = set(df['Category'])\n",
    "\n",
    "#A CM for the training set\n",
    "conf_matrix_train = confusion_matrix(y_hat_train, y_train)\n",
    "#A CM for the test set\n",
    "conf_matrix_test = confusion_matrix(y_hat_test, y_test)\n",
    "\n",
    "#Draw the training CM\n",
    "plot_conf_matrix(conf_matrix_train, title = 'Training set', classes = class_names)"
   ]
  },
  {
   "cell_type": "code",
   "execution_count": null,
   "metadata": {
    "scrolled": true
   },
   "outputs": [],
   "source": [
    "print(classification_report(y_train, y_hat_train, target_names = class_names))"
   ]
  },
  {
   "cell_type": "markdown",
   "metadata": {},
   "source": [
    "Very over-fitted!"
   ]
  },
  {
   "cell_type": "code",
   "execution_count": 37,
   "metadata": {},
   "outputs": [
    {
     "data": {
      "image/png": "[encoded data removed]",
      "text/plain": [
       "<Figure size 432x288 with 2 Axes>"
      ]
     },
     "metadata": {
      "needs_background": "light"
     },
     "output_type": "display_data"
    }
   ],
   "source": [
    "#Draw the test CM\n",
    "plot_conf_matrix(conf_matrix_test, title = 'Test set', classes = class_names)"
   ]
  },
  {
   "cell_type": "code",
   "execution_count": null,
   "metadata": {},
   "outputs": [],
   "source": [
    "print(classification_report(y_test, y_hat_test, target_names = class_names))"
   ]
  },
  {
   "cell_type": "code",
   "execution_count": null,
   "metadata": {},
   "outputs": [],
   "source": [
    "#Image = draw_graph(clf)"
   ]
  },
  {
   "cell_type": "markdown",
   "metadata": {},
   "source": [
    "In looking at the graph I notice that X_54, 'Characters' appears again and again."
   ]
  },
  {
   "cell_type": "code",
   "execution_count": 78,
   "metadata": {},
   "outputs": [
    {
     "name": "stdout",
     "output_type": "stream",
     "text": [
      "Mean Cross Validation Score: 33.51%\n"
     ]
    }
   ],
   "source": [
    "plain_cv_score = cross_val_score(clf, X_train, y_train, cv=3)\n",
    "mean_plain_cv_score = np.mean(cv_score)\n",
    "\n",
    "print(\"Mean Cross Validation Score: {:.4}%\".format(mean_plain_cv_score * 100))"
   ]
  },
  {
   "cell_type": "code",
   "execution_count": 38,
   "metadata": {
    "scrolled": true
   },
   "outputs": [
    {
     "name": "stdout",
     "output_type": "stream",
     "text": [
      "Features: 55\n",
      "Tree depth: 21\n",
      "Nodes and leaves: 731\n",
      "\"Capacity\": 731\n"
     ]
    }
   ],
   "source": [
    "#MAybe useful for interpreting graph\n",
    "print('Features:', clf.n_features_)\n",
    "print('Tree depth:', clf.tree_.max_depth)\n",
    "print('Nodes and leaves:', clf.tree_.node_count)\n",
    "print('\"Capacity\":', clf.tree_.capacity)"
   ]
  },
  {
   "cell_type": "markdown",
   "metadata": {},
   "source": [
    "Accuracy is lower than plain vanilla logistic regression. \n",
    "\n",
    "Decision tree is very complex.\n",
    "\n",
    "Needs hyperparameter tuning."
   ]
  },
  {
   "cell_type": "markdown",
   "metadata": {},
   "source": [
    "What about with the gini coefficient instead?"
   ]
  },
  {
   "cell_type": "markdown",
   "metadata": {},
   "source": [
    "Has just slightly lower accuracy scores and 10 fewer nodes than when measuring entropy."
   ]
  },
  {
   "cell_type": "markdown",
   "metadata": {},
   "source": [
    "<a id = 'tree_tuning_hypers'></a>"
   ]
  },
  {
   "cell_type": "markdown",
   "metadata": {},
   "source": [
    "[(Back to top)](#top)\n",
    "\n",
    "## Decision tree: tuning hyperparameters"
   ]
  },
  {
   "cell_type": "markdown",
   "metadata": {},
   "source": [
    "### Compare information-loss criterion"
   ]
  },
  {
   "cell_type": "code",
   "execution_count": null,
   "metadata": {},
   "outputs": [],
   "source": [
    "# Train the classifier and make predictions\n",
    "clf = DecisionTreeClassifier(criterion = 'gini')\n",
    "clf.fit(X_train,y_train) \n",
    "y_hat_train = clf.predict(X_train)\n",
    "y_hat_test = clf.predict(X_test)\n",
    "\n",
    "class_names = set(df['Category'])\n",
    "\n",
    "#A CM for the training set\n",
    "conf_matrix_train = confusion_matrix(y_hat_train, y_train)\n",
    "#A CM for the test set\n",
    "conf_matrix_test = confusion_matrix(y_hat_test, y_test)\n",
    "print(classification_report(y_train, y_hat_train, target_names = class_names))\n",
    "print(classification_report(y_test, y_hat_test, target_names = class_names))"
   ]
  },
  {
   "cell_type": "markdown",
   "metadata": {},
   "source": [
    "Discuss"
   ]
  },
  {
   "cell_type": "code",
   "execution_count": null,
   "metadata": {},
   "outputs": [],
   "source": [
    "print('Features:', clf.n_features_)\n",
    "print('Tree depth:', clf.tree_.max_depth)\n",
    "print('Nodes and leaves:', clf.tree_.node_count)\n",
    "print('\"Capacity\":', clf.tree_.capacity)"
   ]
  },
  {
   "cell_type": "markdown",
   "metadata": {},
   "source": [
    "Let's tun some of these other parameters."
   ]
  },
  {
   "cell_type": "markdown",
   "metadata": {},
   "source": [
    "### Compare values of max_depth"
   ]
  },
  {
   "cell_type": "code",
   "execution_count": 39,
   "metadata": {},
   "outputs": [
    {
     "name": "stdout",
     "output_type": "stream",
     "text": [
      "Max depth of original tree: 21\n"
     ]
    }
   ],
   "source": [
    "print('Max depth of original tree:', clf.tree_.max_depth)"
   ]
  },
  {
   "cell_type": "code",
   "execution_count": 40,
   "metadata": {},
   "outputs": [
    {
     "name": "stderr",
     "output_type": "stream",
     "text": [
      "/Users/ssrosa/anaconda3/envs/learn-env/lib/python3.6/site-packages/sklearn/metrics/classification.py:1143: UndefinedMetricWarning: Precision is ill-defined and being set to 0.0 in labels with no predicted samples.\n",
      "  'precision', 'predicted', average, warn_for)\n",
      "/Users/ssrosa/anaconda3/envs/learn-env/lib/python3.6/site-packages/sklearn/metrics/classification.py:1143: UndefinedMetricWarning: F-score is ill-defined and being set to 0.0 in labels with no predicted samples.\n",
      "  'precision', 'predicted', average, warn_for)\n"
     ]
    },
    {
     "data": {
      "image/png": "[encoded data removed]",
      "text/plain": [
       "<Figure size 720x432 with 1 Axes>"
      ]
     },
     "metadata": {
      "needs_background": "light"
     },
     "output_type": "display_data"
    }
   ],
   "source": [
    "#Set values of chosen hyperparameter\n",
    "depth_params = np.arange(3, 22, 3)\n",
    "#Run model for each param value and store scores\n",
    "depth_df = compare_hypers(depth_params, 'depth', X_train, X_test, y_train, y_test)\n",
    "#Plot scores\n",
    "plot_hypers(depth_df, 'depth')"
   ]
  },
  {
   "cell_type": "code",
   "execution_count": 40,
   "metadata": {
    "collapsed": true
   },
   "outputs": [
    {
     "data": {
      "text/html": [
       "<div>\n",
       "<style scoped>\n",
       "    .dataframe tbody tr th:only-of-type {\n",
       "        vertical-align: middle;\n",
       "    }\n",
       "\n",
       "    .dataframe tbody tr th {\n",
       "        vertical-align: top;\n",
       "    }\n",
       "\n",
       "    .dataframe thead th {\n",
       "        text-align: right;\n",
       "    }\n",
       "</style>\n",
       "<table border=\"1\" class=\"dataframe\">\n",
       "  <thead>\n",
       "    <tr style=\"text-align: right;\">\n",
       "      <th></th>\n",
       "      <th>param_values</th>\n",
       "      <th>prec_train</th>\n",
       "      <th>prec_test</th>\n",
       "      <th>recall_train</th>\n",
       "      <th>recall_test</th>\n",
       "      <th>f1_train</th>\n",
       "      <th>f1_test</th>\n",
       "    </tr>\n",
       "  </thead>\n",
       "  <tbody>\n",
       "    <tr>\n",
       "      <th>0</th>\n",
       "      <td>3.0</td>\n",
       "      <td>0.302982</td>\n",
       "      <td>0.280303</td>\n",
       "      <td>0.374851</td>\n",
       "      <td>0.375712</td>\n",
       "      <td>0.291390</td>\n",
       "      <td>0.282083</td>\n",
       "    </tr>\n",
       "    <tr>\n",
       "      <th>1</th>\n",
       "      <td>6.0</td>\n",
       "      <td>0.614380</td>\n",
       "      <td>0.367263</td>\n",
       "      <td>0.492796</td>\n",
       "      <td>0.377594</td>\n",
       "      <td>0.476358</td>\n",
       "      <td>0.347350</td>\n",
       "    </tr>\n",
       "    <tr>\n",
       "      <th>2</th>\n",
       "      <td>9.0</td>\n",
       "      <td>0.747357</td>\n",
       "      <td>0.379483</td>\n",
       "      <td>0.649828</td>\n",
       "      <td>0.379916</td>\n",
       "      <td>0.661489</td>\n",
       "      <td>0.355774</td>\n",
       "    </tr>\n",
       "    <tr>\n",
       "      <th>3</th>\n",
       "      <td>12.0</td>\n",
       "      <td>0.806470</td>\n",
       "      <td>0.379716</td>\n",
       "      <td>0.757730</td>\n",
       "      <td>0.388834</td>\n",
       "      <td>0.766110</td>\n",
       "      <td>0.369302</td>\n",
       "    </tr>\n",
       "    <tr>\n",
       "      <th>4</th>\n",
       "      <td>15.0</td>\n",
       "      <td>0.883688</td>\n",
       "      <td>0.361241</td>\n",
       "      <td>0.876861</td>\n",
       "      <td>0.376973</td>\n",
       "      <td>0.878009</td>\n",
       "      <td>0.361068</td>\n",
       "    </tr>\n",
       "    <tr>\n",
       "      <th>5</th>\n",
       "      <td>18.0</td>\n",
       "      <td>0.958592</td>\n",
       "      <td>0.355194</td>\n",
       "      <td>0.956860</td>\n",
       "      <td>0.364905</td>\n",
       "      <td>0.957188</td>\n",
       "      <td>0.353144</td>\n",
       "    </tr>\n",
       "    <tr>\n",
       "      <th>6</th>\n",
       "      <td>21.0</td>\n",
       "      <td>0.988250</td>\n",
       "      <td>0.347920</td>\n",
       "      <td>0.987582</td>\n",
       "      <td>0.357453</td>\n",
       "      <td>0.987819</td>\n",
       "      <td>0.347959</td>\n",
       "    </tr>\n",
       "  </tbody>\n",
       "</table>\n",
       "</div>"
      ],
      "text/plain": [
       "   param_values  prec_train  prec_test  recall_train  recall_test  f1_train  \\\n",
       "0           3.0    0.302982   0.280303      0.374851     0.375712  0.291390   \n",
       "1           6.0    0.614380   0.367263      0.492796     0.377594  0.476358   \n",
       "2           9.0    0.747357   0.379483      0.649828     0.379916  0.661489   \n",
       "3          12.0    0.806470   0.379716      0.757730     0.388834  0.766110   \n",
       "4          15.0    0.883688   0.361241      0.876861     0.376973  0.878009   \n",
       "5          18.0    0.958592   0.355194      0.956860     0.364905  0.957188   \n",
       "6          21.0    0.988250   0.347920      0.987582     0.357453  0.987819   \n",
       "\n",
       "    f1_test  \n",
       "0  0.282083  \n",
       "1  0.347350  \n",
       "2  0.355774  \n",
       "3  0.369302  \n",
       "4  0.361068  \n",
       "5  0.353144  \n",
       "6  0.347959  "
      ]
     },
     "execution_count": 40,
     "metadata": {},
     "output_type": "execute_result"
    }
   ],
   "source": [
    "depth_df"
   ]
  },
  {
   "cell_type": "markdown",
   "metadata": {},
   "source": [
    "### Compare values of min_samples_split"
   ]
  },
  {
   "cell_type": "code",
   "execution_count": 41,
   "metadata": {},
   "outputs": [
    {
     "name": "stdout",
     "output_type": "stream",
     "text": [
      "Min sample split of original tree: 2\n"
     ]
    }
   ],
   "source": [
    "print('Min sample split of original tree:', 2 )"
   ]
  },
  {
   "cell_type": "code",
   "execution_count": 42,
   "metadata": {
    "scrolled": false
   },
   "outputs": [
    {
     "data": {
      "image/png": "[encoded data removed]",
      "text/plain": [
       "<Figure size 720x432 with 1 Axes>"
      ]
     },
     "metadata": {
      "needs_background": "light"
     },
     "output_type": "display_data"
    }
   ],
   "source": [
    "#Set values of chosen hyperparameter\n",
    "samples_split_params = np.arange(2, 20, 4)\n",
    "#Run model for each param value and store scores\n",
    "samples_split_df = compare_hypers(samples_split_params, 'samples_split', X_train, X_test, y_train, y_test)\n",
    "#Plot scores\n",
    "plot_hypers(samples_split_df, 'samples_split')"
   ]
  },
  {
   "cell_type": "code",
   "execution_count": 44,
   "metadata": {
    "collapsed": true
   },
   "outputs": [
    {
     "data": {
      "text/html": [
       "<div>\n",
       "<style scoped>\n",
       "    .dataframe tbody tr th:only-of-type {\n",
       "        vertical-align: middle;\n",
       "    }\n",
       "\n",
       "    .dataframe tbody tr th {\n",
       "        vertical-align: top;\n",
       "    }\n",
       "\n",
       "    .dataframe thead th {\n",
       "        text-align: right;\n",
       "    }\n",
       "</style>\n",
       "<table border=\"1\" class=\"dataframe\">\n",
       "  <thead>\n",
       "    <tr style=\"text-align: right;\">\n",
       "      <th></th>\n",
       "      <th>param_values</th>\n",
       "      <th>prec_train</th>\n",
       "      <th>prec_test</th>\n",
       "      <th>recall_train</th>\n",
       "      <th>recall_test</th>\n",
       "      <th>f1_train</th>\n",
       "      <th>f1_test</th>\n",
       "    </tr>\n",
       "  </thead>\n",
       "  <tbody>\n",
       "    <tr>\n",
       "      <th>0</th>\n",
       "      <td>2.0</td>\n",
       "      <td>0.988250</td>\n",
       "      <td>0.338616</td>\n",
       "      <td>0.987582</td>\n",
       "      <td>0.360219</td>\n",
       "      <td>0.987819</td>\n",
       "      <td>0.340997</td>\n",
       "    </tr>\n",
       "    <tr>\n",
       "      <th>1</th>\n",
       "      <td>4.0</td>\n",
       "      <td>0.862982</td>\n",
       "      <td>0.371737</td>\n",
       "      <td>0.860074</td>\n",
       "      <td>0.388822</td>\n",
       "      <td>0.858197</td>\n",
       "      <td>0.371302</td>\n",
       "    </tr>\n",
       "    <tr>\n",
       "      <th>2</th>\n",
       "      <td>6.0</td>\n",
       "      <td>0.780057</td>\n",
       "      <td>0.388133</td>\n",
       "      <td>0.771995</td>\n",
       "      <td>0.397033</td>\n",
       "      <td>0.771845</td>\n",
       "      <td>0.381539</td>\n",
       "    </tr>\n",
       "    <tr>\n",
       "      <th>3</th>\n",
       "      <td>8.0</td>\n",
       "      <td>0.724944</td>\n",
       "      <td>0.390761</td>\n",
       "      <td>0.710846</td>\n",
       "      <td>0.398797</td>\n",
       "      <td>0.707856</td>\n",
       "      <td>0.379502</td>\n",
       "    </tr>\n",
       "    <tr>\n",
       "      <th>4</th>\n",
       "      <td>10.0</td>\n",
       "      <td>0.666627</td>\n",
       "      <td>0.405133</td>\n",
       "      <td>0.660669</td>\n",
       "      <td>0.421564</td>\n",
       "      <td>0.654478</td>\n",
       "      <td>0.398824</td>\n",
       "    </tr>\n",
       "    <tr>\n",
       "      <th>5</th>\n",
       "      <td>12.0</td>\n",
       "      <td>0.628235</td>\n",
       "      <td>0.416408</td>\n",
       "      <td>0.620344</td>\n",
       "      <td>0.442070</td>\n",
       "      <td>0.608602</td>\n",
       "      <td>0.409847</td>\n",
       "    </tr>\n",
       "    <tr>\n",
       "      <th>6</th>\n",
       "      <td>14.0</td>\n",
       "      <td>0.619834</td>\n",
       "      <td>0.419035</td>\n",
       "      <td>0.612681</td>\n",
       "      <td>0.444804</td>\n",
       "      <td>0.600638</td>\n",
       "      <td>0.414121</td>\n",
       "    </tr>\n",
       "    <tr>\n",
       "      <th>7</th>\n",
       "      <td>16.0</td>\n",
       "      <td>0.607261</td>\n",
       "      <td>0.410985</td>\n",
       "      <td>0.595347</td>\n",
       "      <td>0.438810</td>\n",
       "      <td>0.579780</td>\n",
       "      <td>0.406754</td>\n",
       "    </tr>\n",
       "    <tr>\n",
       "      <th>8</th>\n",
       "      <td>18.0</td>\n",
       "      <td>0.584427</td>\n",
       "      <td>0.403562</td>\n",
       "      <td>0.570118</td>\n",
       "      <td>0.434546</td>\n",
       "      <td>0.554446</td>\n",
       "      <td>0.398038</td>\n",
       "    </tr>\n",
       "  </tbody>\n",
       "</table>\n",
       "</div>"
      ],
      "text/plain": [
       "   param_values  prec_train  prec_test  recall_train  recall_test  f1_train  \\\n",
       "0           2.0    0.988250   0.338616      0.987582     0.360219  0.987819   \n",
       "1           4.0    0.862982   0.371737      0.860074     0.388822  0.858197   \n",
       "2           6.0    0.780057   0.388133      0.771995     0.397033  0.771845   \n",
       "3           8.0    0.724944   0.390761      0.710846     0.398797  0.707856   \n",
       "4          10.0    0.666627   0.405133      0.660669     0.421564  0.654478   \n",
       "5          12.0    0.628235   0.416408      0.620344     0.442070  0.608602   \n",
       "6          14.0    0.619834   0.419035      0.612681     0.444804  0.600638   \n",
       "7          16.0    0.607261   0.410985      0.595347     0.438810  0.579780   \n",
       "8          18.0    0.584427   0.403562      0.570118     0.434546  0.554446   \n",
       "\n",
       "    f1_test  \n",
       "0  0.340997  \n",
       "1  0.371302  \n",
       "2  0.381539  \n",
       "3  0.379502  \n",
       "4  0.398824  \n",
       "5  0.409847  \n",
       "6  0.414121  \n",
       "7  0.406754  \n",
       "8  0.398038  "
      ]
     },
     "execution_count": 44,
     "metadata": {},
     "output_type": "execute_result"
    }
   ],
   "source": [
    "samples_split_df"
   ]
  },
  {
   "cell_type": "markdown",
   "metadata": {},
   "source": [
    "### Compare values of min_samples_leaf"
   ]
  },
  {
   "cell_type": "code",
   "execution_count": 43,
   "metadata": {},
   "outputs": [
    {
     "data": {
      "image/png": "[encoded data removed]",
      "text/plain": [
       "<Figure size 720x432 with 1 Axes>"
      ]
     },
     "metadata": {
      "needs_background": "light"
     },
     "output_type": "display_data"
    }
   ],
   "source": [
    "#Set values of chosen hyperparameter\n",
    "samples_leaf_params = np.arange(1, 40, 5)\n",
    "#Run model for each param value and store scores\n",
    "samples_leaf_df = compare_hypers(samples_leaf_params, 'samples_leaf', X_train, X_test, y_train, y_test)\n",
    "#Plot scores\n",
    "plot_hypers(samples_leaf_df, 'samples_leaf')"
   ]
  },
  {
   "cell_type": "markdown",
   "metadata": {},
   "source": [
    "*Observations*: The test set seems to reach a peak at 5 samples per leaf."
   ]
  },
  {
   "cell_type": "markdown",
   "metadata": {},
   "source": [
    "### Compare values of max_features"
   ]
  },
  {
   "cell_type": "code",
   "execution_count": 44,
   "metadata": {},
   "outputs": [
    {
     "name": "stdout",
     "output_type": "stream",
     "text": [
      "Features in the original tree: 55\n"
     ]
    }
   ],
   "source": [
    "print('Features in the original tree:', clf.n_features_)"
   ]
  },
  {
   "cell_type": "code",
   "execution_count": 54,
   "metadata": {
    "scrolled": true
   },
   "outputs": [
    {
     "data": {
      "image/png": "[encoded data removed]",
      "text/plain": [
       "<Figure size 720x432 with 1 Axes>"
      ]
     },
     "metadata": {
      "needs_background": "light"
     },
     "output_type": "display_data"
    }
   ],
   "source": [
    "#Set values of chosen hyperparameter\n",
    "feature_params = np.arange(5, 65, 10)\n",
    "#Run model for each param value and store scores\n",
    "feature_df = compare_hypers(feature_params, 'features', X_train, X_test, y_train, y_test)\n",
    "#Plot scores\n",
    "plot_hypers(feature_df, 'features')"
   ]
  },
  {
   "cell_type": "code",
   "execution_count": 55,
   "metadata": {
    "collapsed": true
   },
   "outputs": [
    {
     "data": {
      "text/html": [
       "<div>\n",
       "<style scoped>\n",
       "    .dataframe tbody tr th:only-of-type {\n",
       "        vertical-align: middle;\n",
       "    }\n",
       "\n",
       "    .dataframe tbody tr th {\n",
       "        vertical-align: top;\n",
       "    }\n",
       "\n",
       "    .dataframe thead th {\n",
       "        text-align: right;\n",
       "    }\n",
       "</style>\n",
       "<table border=\"1\" class=\"dataframe\">\n",
       "  <thead>\n",
       "    <tr style=\"text-align: right;\">\n",
       "      <th></th>\n",
       "      <th>param_values</th>\n",
       "      <th>prec_train</th>\n",
       "      <th>prec_test</th>\n",
       "      <th>recall_train</th>\n",
       "      <th>recall_test</th>\n",
       "      <th>f1_train</th>\n",
       "      <th>f1_test</th>\n",
       "    </tr>\n",
       "  </thead>\n",
       "  <tbody>\n",
       "    <tr>\n",
       "      <th>0</th>\n",
       "      <td>5.0</td>\n",
       "      <td>0.98825</td>\n",
       "      <td>0.390014</td>\n",
       "      <td>0.987582</td>\n",
       "      <td>0.384861</td>\n",
       "      <td>0.987819</td>\n",
       "      <td>0.383297</td>\n",
       "    </tr>\n",
       "    <tr>\n",
       "      <th>1</th>\n",
       "      <td>15.0</td>\n",
       "      <td>0.98825</td>\n",
       "      <td>0.340477</td>\n",
       "      <td>0.987582</td>\n",
       "      <td>0.335394</td>\n",
       "      <td>0.987819</td>\n",
       "      <td>0.334314</td>\n",
       "    </tr>\n",
       "    <tr>\n",
       "      <th>2</th>\n",
       "      <td>25.0</td>\n",
       "      <td>0.98825</td>\n",
       "      <td>0.357527</td>\n",
       "      <td>0.987582</td>\n",
       "      <td>0.361711</td>\n",
       "      <td>0.987819</td>\n",
       "      <td>0.357852</td>\n",
       "    </tr>\n",
       "    <tr>\n",
       "      <th>3</th>\n",
       "      <td>35.0</td>\n",
       "      <td>0.98825</td>\n",
       "      <td>0.342921</td>\n",
       "      <td>0.987582</td>\n",
       "      <td>0.356537</td>\n",
       "      <td>0.987819</td>\n",
       "      <td>0.342394</td>\n",
       "    </tr>\n",
       "    <tr>\n",
       "      <th>4</th>\n",
       "      <td>45.0</td>\n",
       "      <td>0.98825</td>\n",
       "      <td>0.322142</td>\n",
       "      <td>0.987582</td>\n",
       "      <td>0.338374</td>\n",
       "      <td>0.987819</td>\n",
       "      <td>0.326596</td>\n",
       "    </tr>\n",
       "    <tr>\n",
       "      <th>5</th>\n",
       "      <td>55.0</td>\n",
       "      <td>0.98825</td>\n",
       "      <td>0.327529</td>\n",
       "      <td>0.987582</td>\n",
       "      <td>0.342351</td>\n",
       "      <td>0.987819</td>\n",
       "      <td>0.328718</td>\n",
       "    </tr>\n",
       "  </tbody>\n",
       "</table>\n",
       "</div>"
      ],
      "text/plain": [
       "   param_values  prec_train  prec_test  recall_train  recall_test  f1_train  \\\n",
       "0           5.0     0.98825   0.390014      0.987582     0.384861  0.987819   \n",
       "1          15.0     0.98825   0.340477      0.987582     0.335394  0.987819   \n",
       "2          25.0     0.98825   0.357527      0.987582     0.361711  0.987819   \n",
       "3          35.0     0.98825   0.342921      0.987582     0.356537  0.987819   \n",
       "4          45.0     0.98825   0.322142      0.987582     0.338374  0.987819   \n",
       "5          55.0     0.98825   0.327529      0.987582     0.342351  0.987819   \n",
       "\n",
       "    f1_test  \n",
       "0  0.383297  \n",
       "1  0.334314  \n",
       "2  0.357852  \n",
       "3  0.342394  \n",
       "4  0.326596  \n",
       "5  0.328718  "
      ]
     },
     "execution_count": 55,
     "metadata": {},
     "output_type": "execute_result"
    }
   ],
   "source": [
    "feature_df"
   ]
  },
  {
   "cell_type": "markdown",
   "metadata": {},
   "source": [
    "*Observations*: Scores are highest when there are only 15 features. But they're only slightly higher. At this point I don't know which features are being selected. I'd hope it were the ones at the top of the tree."
   ]
  },
  {
   "cell_type": "markdown",
   "metadata": {},
   "source": [
    "### Compare values of max_leaf_nodes"
   ]
  },
  {
   "cell_type": "code",
   "execution_count": 56,
   "metadata": {},
   "outputs": [
    {
     "name": "stdout",
     "output_type": "stream",
     "text": [
      "Nodes and leaves in original tree: 731\n"
     ]
    }
   ],
   "source": [
    "print('Nodes and leaves in original tree:', clf.tree_.node_count)"
   ]
  },
  {
   "cell_type": "code",
   "execution_count": 57,
   "metadata": {},
   "outputs": [
    {
     "data": {
      "image/png": "[encoded data removed]",
      "text/plain": [
       "<Figure size 720x432 with 1 Axes>"
      ]
     },
     "metadata": {
      "needs_background": "light"
     },
     "output_type": "display_data"
    }
   ],
   "source": [
    "#Set values of chosen hyperparameter\n",
    "leaf_nodes_params = np.arange(25, 800, 100)\n",
    "#Run model for each param value and store scores\n",
    "leaf_nodes_df = compare_hypers(leaf_nodes_params, 'leaf_nodes', X_train, X_test, y_train, y_test)\n",
    "#Plot scores\n",
    "plot_hypers(leaf_nodes_df, 'leaf_nodes')"
   ]
  },
  {
   "cell_type": "markdown",
   "metadata": {},
   "source": [
    "*Observations*: The test set gets the best results when the tree has between 50 and 75 leaves and nodes."
   ]
  },
  {
   "cell_type": "markdown",
   "metadata": {},
   "source": [
    "### Compare values of min_impurity_decrease"
   ]
  },
  {
   "cell_type": "code",
   "execution_count": 58,
   "metadata": {},
   "outputs": [
    {
     "name": "stderr",
     "output_type": "stream",
     "text": [
      "/Users/ssrosa/anaconda3/envs/learn-env/lib/python3.6/site-packages/sklearn/metrics/classification.py:1143: UndefinedMetricWarning: Precision is ill-defined and being set to 0.0 in labels with no predicted samples.\n",
      "  'precision', 'predicted', average, warn_for)\n",
      "/Users/ssrosa/anaconda3/envs/learn-env/lib/python3.6/site-packages/sklearn/metrics/classification.py:1143: UndefinedMetricWarning: F-score is ill-defined and being set to 0.0 in labels with no predicted samples.\n",
      "  'precision', 'predicted', average, warn_for)\n",
      "/Users/ssrosa/anaconda3/envs/learn-env/lib/python3.6/site-packages/sklearn/metrics/classification.py:1143: UndefinedMetricWarning: Precision is ill-defined and being set to 0.0 in labels with no predicted samples.\n",
      "  'precision', 'predicted', average, warn_for)\n",
      "/Users/ssrosa/anaconda3/envs/learn-env/lib/python3.6/site-packages/sklearn/metrics/classification.py:1143: UndefinedMetricWarning: F-score is ill-defined and being set to 0.0 in labels with no predicted samples.\n",
      "  'precision', 'predicted', average, warn_for)\n",
      "/Users/ssrosa/anaconda3/envs/learn-env/lib/python3.6/site-packages/sklearn/metrics/classification.py:1143: UndefinedMetricWarning: Precision is ill-defined and being set to 0.0 in labels with no predicted samples.\n",
      "  'precision', 'predicted', average, warn_for)\n",
      "/Users/ssrosa/anaconda3/envs/learn-env/lib/python3.6/site-packages/sklearn/metrics/classification.py:1143: UndefinedMetricWarning: F-score is ill-defined and being set to 0.0 in labels with no predicted samples.\n",
      "  'precision', 'predicted', average, warn_for)\n",
      "/Users/ssrosa/anaconda3/envs/learn-env/lib/python3.6/site-packages/sklearn/metrics/classification.py:1143: UndefinedMetricWarning: Precision is ill-defined and being set to 0.0 in labels with no predicted samples.\n",
      "  'precision', 'predicted', average, warn_for)\n",
      "/Users/ssrosa/anaconda3/envs/learn-env/lib/python3.6/site-packages/sklearn/metrics/classification.py:1143: UndefinedMetricWarning: F-score is ill-defined and being set to 0.0 in labels with no predicted samples.\n",
      "  'precision', 'predicted', average, warn_for)\n"
     ]
    },
    {
     "data": {
      "image/png": "[encoded data removed]",
      "text/plain": [
       "<Figure size 720x432 with 1 Axes>"
      ]
     },
     "metadata": {
      "needs_background": "light"
     },
     "output_type": "display_data"
    }
   ],
   "source": [
    "#Set values of chosen hyperparameter\n",
    "impurity_decrease_params = np.arange(0, .1, .02)\n",
    "#Run model for each param value and store scores\n",
    "impurity_decrease_df = compare_hypers(impurity_decrease_params, 'impurity_decrease', X_train, X_test, y_train, y_test)\n",
    "#Plot scores\n",
    "plot_hypers(impurity_decrease_df, 'impurity_decrease')"
   ]
  },
  {
   "cell_type": "markdown",
   "metadata": {},
   "source": [
    "*Observations*: Test set does best at impurity decrease of 0.01."
   ]
  },
  {
   "cell_type": "markdown",
   "metadata": {},
   "source": [
    "### Hyperparameter tuning summary\n",
    "\n",
    "\n",
    "\n",
    "\n"
   ]
  },
  {
   "cell_type": "markdown",
   "metadata": {},
   "source": [
    "The most obvious conclusion is that the test set cannot break past 40% by any measure and with any individual hyperparameter tuned.\n",
    "\n",
    "Perhaps a combination found with a GridSearch could get past 40%?"
   ]
  },
  {
   "cell_type": "markdown",
   "metadata": {},
   "source": [
    "<a id = 'tree_grid_search'></a>"
   ]
  },
  {
   "cell_type": "markdown",
   "metadata": {},
   "source": [
    "[(Back to top)](#top)\n",
    "\n",
    "## Decision tree: tuning hyperparameters with GridSearchCV"
   ]
  },
  {
   "cell_type": "code",
   "execution_count": 59,
   "metadata": {},
   "outputs": [],
   "source": []
  },
  {
   "cell_type": "code",
   "execution_count": 60,
   "metadata": {},
   "outputs": [],
   "source": [
    "clf = DecisionTreeClassifier()\n",
    "\n",
    "param_grid = {\n",
    "    'criterion': [\"gini\", \"entropy\"],\n",
    "    'max_depth': depth_params,\n",
    "    'min_samples_split': samples_split_params,\n",
    "    'min_samples_leaf': samples_leaf_params,\n",
    "    'max_features': feature_params,\n",
    "    'max_leaf_nodes': leaf_nodes_params,\n",
    "    'min_impurity_decrease': impurity_decrease_params\n",
    "    }\n",
    "\n",
    "gs_tree = GridSearchCV(clf, param_grid, cv=3)"
   ]
  },
  {
   "cell_type": "code",
   "execution_count": 65,
   "metadata": {},
   "outputs": [
    {
     "data": {
      "text/plain": [
       "403200"
      ]
     },
     "execution_count": 65,
     "metadata": {},
     "output_type": "execute_result"
    }
   ],
   "source": [
    "#K-Folds time criteria times the rest\n",
    "3 * 2 * len(depth_params) * len(samples_split_params) * len(samples_leaf_params) * len(feature_params) * len(leaf_nodes_params) * len(impurity_decrease_params)"
   ]
  },
  {
   "cell_type": "code",
   "execution_count": 64,
   "metadata": {},
   "outputs": [
    {
     "name": "stdout",
     "output_type": "stream",
     "text": [
      "1462.7618942260742\n"
     ]
    },
    {
     "name": "stderr",
     "output_type": "stream",
     "text": [
      "/Users/ssrosa/anaconda3/envs/learn-env/lib/python3.6/site-packages/sklearn/model_selection/_search.py:841: DeprecationWarning: The default of the `iid` parameter will change from True to False in version 0.22 and will be removed in 0.24. This will change numeric results when test-set sizes are unequal.\n",
      "  DeprecationWarning)\n"
     ]
    }
   ],
   "source": [
    "start = time.time()\n",
    "gs_tree.fit(X_train,  y_train)\n",
    "end = time.time()\n",
    "print(end - start)"
   ]
  },
  {
   "cell_type": "code",
   "execution_count": 66,
   "metadata": {},
   "outputs": [
    {
     "data": {
      "text/plain": [
       "24.379364903767904"
      ]
     },
     "execution_count": 66,
     "metadata": {},
     "output_type": "execute_result"
    }
   ],
   "source": [
    "1462.7618942260742 / 60"
   ]
  },
  {
   "cell_type": "code",
   "execution_count": 67,
   "metadata": {},
   "outputs": [
    {
     "data": {
      "text/plain": [
       "0.003627881682108319"
      ]
     },
     "execution_count": 67,
     "metadata": {},
     "output_type": "execute_result"
    }
   ],
   "source": [
    "1462.7618942260742 / 403200"
   ]
  },
  {
   "cell_type": "code",
   "execution_count": null,
   "metadata": {},
   "outputs": [],
   "source": [
    "24 minutes for 400,000 models. 0.003627881682108319 seconds per model."
   ]
  },
  {
   "cell_type": "code",
   "execution_count": 68,
   "metadata": {},
   "outputs": [
    {
     "data": {
      "text/plain": [
       "{'criterion': 'gini',\n",
       " 'max_depth': 15,\n",
       " 'max_features': 45,\n",
       " 'max_leaf_nodes': 225,\n",
       " 'min_impurity_decrease': 0.0,\n",
       " 'min_samples_leaf': 16,\n",
       " 'min_samples_split': 6}"
      ]
     },
     "execution_count": 68,
     "metadata": {},
     "output_type": "execute_result"
    }
   ],
   "source": [
    "gs_tree.best_params_"
   ]
  },
  {
   "cell_type": "code",
   "execution_count": 79,
   "metadata": {},
   "outputs": [
    {
     "name": "stdout",
     "output_type": "stream",
     "text": [
      "Mean Training Score: 31.89%\n",
      "Mean Testing Score: 39.46%\n",
      "Best Parameter Combination Found During Grid Search:\n"
     ]
    },
    {
     "name": "stderr",
     "output_type": "stream",
     "text": [
      "/Users/ssrosa/anaconda3/envs/learn-env/lib/python3.6/site-packages/sklearn/utils/deprecation.py:125: FutureWarning: You are accessing a training score ('mean_train_score'), which will not be available by default any more in 0.21. If you need training scores, please set return_train_score=True\n",
      "  warnings.warn(*warn_args, **warn_kwargs)\n"
     ]
    },
    {
     "data": {
      "text/plain": [
       "{'criterion': 'gini',\n",
       " 'max_depth': 15,\n",
       " 'max_features': 45,\n",
       " 'max_leaf_nodes': 225,\n",
       " 'min_impurity_decrease': 0.0,\n",
       " 'min_samples_leaf': 16,\n",
       " 'min_samples_split': 6}"
      ]
     },
     "execution_count": 79,
     "metadata": {},
     "output_type": "execute_result"
    }
   ],
   "source": [
    "#Don't know if I should use the training data or test data here.\n",
    "#Should I scale the continuous columns?\n",
    "gs_training_score = np.mean(gs_tree.cv_results_['mean_train_score'])\n",
    "gs_testing_score = gs_tree.score(X_test, y_test)\n",
    "\n",
    "print(\"Mean Training Score: {:.4}%\".format(gs_training_score * 100))\n",
    "print(\"Mean Testing Score: {:.4}%\".format(gs_testing_score * 100))\n",
    "print(\"Best Parameter Combination Found During Grid Search:\")\n",
    "gs_tree.best_params_"
   ]
  },
  {
   "cell_type": "code",
   "execution_count": null,
   "metadata": {},
   "outputs": [],
   "source": []
  },
  {
   "cell_type": "code",
   "execution_count": null,
   "metadata": {},
   "outputs": [],
   "source": []
  },
  {
   "cell_type": "markdown",
   "metadata": {},
   "source": [
    "<a id = 'model3'></a>"
   ]
  },
  {
   "cell_type": "markdown",
   "metadata": {},
   "source": [
    "[(Back to top)](#top)\n",
    "\n",
    "# Model \\#3"
   ]
  },
  {
   "cell_type": "code",
   "execution_count": null,
   "metadata": {},
   "outputs": [],
   "source": [
    "#Having reorganized the categories\n",
    "#df = copy.deepcopy(df_raw)"
   ]
  },
  {
   "cell_type": "code",
   "execution_count": null,
   "metadata": {},
   "outputs": [],
   "source": []
  },
  {
   "cell_type": "code",
   "execution_count": null,
   "metadata": {},
   "outputs": [],
   "source": []
  },
  {
   "cell_type": "code",
   "execution_count": null,
   "metadata": {},
   "outputs": [],
   "source": []
  },
  {
   "cell_type": "markdown",
   "metadata": {},
   "source": [
    "<a id = 'model4'></a>"
   ]
  },
  {
   "cell_type": "markdown",
   "metadata": {},
   "source": [
    "[(Back to top)](#top)\n",
    "\n",
    "# Model \\#4"
   ]
  },
  {
   "cell_type": "markdown",
   "metadata": {},
   "source": [
    "<a id = 'concl'></a>"
   ]
  },
  {
   "cell_type": "markdown",
   "metadata": {},
   "source": [
    "[(Back to top)](#top)\n",
    "\n",
    "# Conclusions"
   ]
  },
  {
   "cell_type": "code",
   "execution_count": null,
   "metadata": {},
   "outputs": [],
   "source": []
  },
  {
   "cell_type": "code",
   "execution_count": null,
   "metadata": {},
   "outputs": [],
   "source": []
  },
  {
   "cell_type": "code",
   "execution_count": null,
   "metadata": {},
   "outputs": [],
   "source": []
  },
  {
   "cell_type": "code",
   "execution_count": null,
   "metadata": {},
   "outputs": [],
   "source": []
  },
  {
   "cell_type": "code",
   "execution_count": null,
   "metadata": {},
   "outputs": [],
   "source": []
  },
  {
   "cell_type": "code",
   "execution_count": null,
   "metadata": {},
   "outputs": [],
   "source": [
    "#df_raw[df_raw['In English'].str.contains('bake', regex = False, case = False)]\n"
   ]
  }
 ],
 "metadata": {
  "kernelspec": {
   "display_name": "learn-env",
   "language": "python",
   "name": "learn-env"
  },
  "language_info": {
   "codemirror_mode": {
    "name": "ipython",
    "version": 3
   },
   "file_extension": ".py",
   "mimetype": "text/x-python",
   "name": "python",
   "nbconvert_exporter": "python",
   "pygments_lexer": "ipython3",
   "version": "3.6.6"
  }
 },
 "nbformat": 4,
 "nbformat_minor": 2
}
