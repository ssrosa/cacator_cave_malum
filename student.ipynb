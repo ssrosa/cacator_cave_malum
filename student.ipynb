{
 "cells": [
  {
   "cell_type": "markdown",
   "metadata": {},
   "source": [
    "## Final Project Submission\n",
    "\n",
    "Please fill out:\n",
    "* Student name: Steven Rosa\n",
    "* Student pace: part time\n",
    "* Project review date/time: Monday 1 April 2019 11am ET\n",
    "* Instructor name: Jeff Herman\n",
    "* Blog post URL:\n"
   ]
  },
  {
   "cell_type": "markdown",
   "metadata": {},
   "source": [
    "\"Database for The Scratched Voices Begging to be Heard: The Graffiti of Pompeii and Today\"\n",
    "\n",
    "by Alexa Rose\n",
    "\n",
    "https://core.tdar.org/dataset/445837/database-for-the-scratched-voices-begging-to-be-heard-the-graffiti-of-pompeii-and-today"
   ]
  },
  {
   "cell_type": "markdown",
   "metadata": {},
   "source": [
    "<a id = 'top'></a>"
   ]
  },
  {
   "cell_type": "markdown",
   "metadata": {},
   "source": [
    "# Contents\n",
    "- Libraries and helper functions\n",
    "- [A first look at the data](#obtain)\n",
    "- [Cleaning the raw data](#scrub)\n",
    "- [Exploratory data analysis](#explore)\n",
    " - [Character count and imperatives](#character_imperative)\n",
    " - [How good are the categories?](#prelim_model)\n",
    " - [Detour: improving the categories](#detour_cat)\n",
    "- Modeling\n",
    " - [Model \\#1](#model1)\n",
    " - [Model \\#2](#model2)\n",
    "   - [Tuning Hyperparameters](#tree_tuning_hypers)\n",
    " - [Model \\#3](#model3)\n",
    "- [Conclusions](#concl)"
   ]
  },
  {
   "cell_type": "markdown",
   "metadata": {},
   "source": [
    "# Libraries and helper functions"
   ]
  },
  {
   "cell_type": "code",
   "execution_count": 50,
   "metadata": {},
   "outputs": [],
   "source": [
    "import graffiti_functions #Import my custom functions"
   ]
  },
  {
   "cell_type": "code",
   "execution_count": 51,
   "metadata": {},
   "outputs": [],
   "source": [
    "from graffiti_functions import plot_conf_matrix, keyword_matrix, write"
   ]
  },
  {
   "cell_type": "code",
   "execution_count": 62,
   "metadata": {},
   "outputs": [],
   "source": [
    "import pandas as pd #For working with DataFrames\n",
    "import matplotlib.pyplot as plt #For visualizing plots\n",
    "import numpy as np #For mathematical operations\n",
    "import random                   #for generating random numbers for train/test split\n",
    "import copy                     #for making deep copies of mutable objects\n",
    "from pandasql import sqldf #for manipulating DataFrames with SQL style queries\n",
    "#for dividing data into a training set and a testing set\n",
    "from sklearn.model_selection import train_test_split \n",
    "#For building regular logistic regression models\n",
    "from sklearn.linear_model import LogisticRegression\n",
    "#To get accuracy, precision, recall, and F1 score (weighted accuracy) of a given confusion matrix\n",
    "from sklearn.metrics import accuracy_score, precision_score, recall_score, f1_score\n",
    "#To view the accuracy metrics for a given confusion matrix\n",
    "from sklearn.metrics import classification_report\n",
    "#For building decision trees\n",
    "from sklearn.tree import DecisionTreeClassifier \n",
    "from sklearn import tree \n",
    "#For scaling/normalizing, and for LabelEncoder and OneHotEncoder\n",
    "from sklearn import preprocessing\n",
    "from sklearn.preprocessing import LabelEncoder\n",
    "from sklearn.preprocessing import OneHotEncoder\n",
    "#For visualizing decision trees:\n",
    "from sklearn.externals.six import StringIO  \n",
    "from IPython.display import Image  \n",
    "from sklearn.tree import export_graphviz\n",
    "import pydotplus\n",
    "#For assessing accuracy of logistic regression or decision trees\n",
    "from sklearn.metrics import confusion_matrix \n",
    "import itertools #To iteratively append labels to cells in a confusion matrox\n"
   ]
  },
  {
   "cell_type": "code",
   "execution_count": 2,
   "metadata": {},
   "outputs": [],
   "source": [
    "import time"
   ]
  },
  {
   "cell_type": "code",
   "execution_count": null,
   "metadata": {},
   "outputs": [],
   "source": [
    "#Thing for separating values by hyphen slash etc\n",
    "\n"
   ]
  },
  {
   "cell_type": "code",
   "execution_count": null,
   "metadata": {},
   "outputs": [],
   "source": [
    "#Thing for getting indexes and filling values maybe\n",
    "\n"
   ]
  },
  {
   "cell_type": "markdown",
   "metadata": {},
   "source": [
    "<a id = 'obtain'></a>"
   ]
  },
  {
   "cell_type": "markdown",
   "metadata": {},
   "source": [
    "[(Back to top)](#top)\n",
    "\n",
    "# A first look at the data"
   ]
  },
  {
   "cell_type": "code",
   "execution_count": 5,
   "metadata": {},
   "outputs": [],
   "source": [
    "#Obtain the raw data\n",
    "df_raw = pd.read_csv('graffiti.csv')"
   ]
  },
  {
   "cell_type": "code",
   "execution_count": null,
   "metadata": {},
   "outputs": [],
   "source": [
    "df_raw.head(20)"
   ]
  },
  {
   "cell_type": "code",
   "execution_count": null,
   "metadata": {},
   "outputs": [],
   "source": [
    "df_raw.info()"
   ]
  },
  {
   "cell_type": "markdown",
   "metadata": {},
   "source": [
    "Columns to drop:\n",
    "\n",
    "'found'\n",
    "'org'?\n",
    "'comments'?\n",
    "\n",
    "Change 'Literacy' to integer before categorizing. Rename column.\n",
    "\n",
    "Rename 'Image ' as 'Image'.\n",
    "\n",
    "Categorical variables to transform: Reggio, Insula, Literacy, Context type specific, Context type general, Famous House (?), Socio-economic status\n",
    "\n",
    "\n",
    "Null values to fill: Reggio, Insula, Entrance, Context type specific, Context type general, Famous House,\n",
    "\n",
    "Target: 'Category'"
   ]
  },
  {
   "cell_type": "markdown",
   "metadata": {},
   "source": [
    "<a id = 'scrub'></a>"
   ]
  },
  {
   "cell_type": "markdown",
   "metadata": {},
   "source": [
    "[(Back to top)](#top)\n",
    "\n",
    "# Cleaning the data"
   ]
  },
  {
   "cell_type": "markdown",
   "metadata": {},
   "source": [
    "## Column by column"
   ]
  },
  {
   "cell_type": "markdown",
   "metadata": {},
   "source": [
    "### 'CIL IV Pound sign'"
   ]
  },
  {
   "cell_type": "code",
   "execution_count": 6,
   "metadata": {},
   "outputs": [],
   "source": [
    "df_raw['CIL IV #'] = df_raw['CIL IV #'].fillna(0)"
   ]
  },
  {
   "cell_type": "markdown",
   "metadata": {},
   "source": [
    "### 'Reggio'"
   ]
  },
  {
   "cell_type": "code",
   "execution_count": null,
   "metadata": {},
   "outputs": [],
   "source": [
    "df_raw['Reggio'].value_counts()"
   ]
  },
  {
   "cell_type": "code",
   "execution_count": null,
   "metadata": {},
   "outputs": [],
   "source": [
    "print(df_raw['Reggio'].isna().sum())"
   ]
  },
  {
   "cell_type": "code",
   "execution_count": 7,
   "metadata": {},
   "outputs": [],
   "source": [
    "#Fill NaN values\n",
    "df_raw['Reggio'] = df_raw['Reggio'].fillna(0)\n",
    "#Change 6_7 to 6\n",
    "df_raw.at[994, 'Reggio'] = '6'\n",
    "#Change data type to integer\n",
    "df_raw['Reggio'] = df_raw['Reggio'].astype('float').astype('int')"
   ]
  },
  {
   "cell_type": "markdown",
   "metadata": {},
   "source": [
    "Zero values can be filled later once more is known about the reggios."
   ]
  },
  {
   "cell_type": "markdown",
   "metadata": {},
   "source": [
    "### 'Insula'"
   ]
  },
  {
   "cell_type": "code",
   "execution_count": null,
   "metadata": {},
   "outputs": [],
   "source": [
    "df_raw['Insula'].value_counts()"
   ]
  },
  {
   "cell_type": "code",
   "execution_count": null,
   "metadata": {},
   "outputs": [],
   "source": [
    "df_raw['Insula'].value_counts().sum()"
   ]
  },
  {
   "cell_type": "code",
   "execution_count": null,
   "metadata": {},
   "outputs": [],
   "source": [
    "df_raw['Insula'].isna().sum()"
   ]
  },
  {
   "cell_type": "code",
   "execution_count": 8,
   "metadata": {},
   "outputs": [],
   "source": [
    "#Fill null values\n",
    "df_raw['Insula'] = df_raw['Insula'].fillna(0)\n",
    "\n",
    "#Replace the values with underscores\n",
    "df_raw.at[985, 'Insula'] = '4'\n",
    "df_raw.at[986, 'Insula'] = '4'\n",
    "df_raw.at[983, 'Insula'] = '4'\n",
    "df_raw.at[984, 'Insula'] = '4'\n",
    "df_raw.at[988, 'Insula'] = '9'\n",
    "df_raw.at[987, 'Insula'] = '8'\n",
    "df_raw.at[982, 'Insula'] = '12'\n",
    "df_raw.at[981, 'Insula'] = '1'\n",
    "\n",
    "#Change data type to intger\n",
    "df_raw['Insula'] = df_raw['Insula'].astype('float').astype('int')"
   ]
  },
  {
   "cell_type": "markdown",
   "metadata": {},
   "source": [
    "### 'Entrance'"
   ]
  },
  {
   "cell_type": "code",
   "execution_count": null,
   "metadata": {},
   "outputs": [],
   "source": [
    "df_raw['Entrance'].value_counts()"
   ]
  },
  {
   "cell_type": "code",
   "execution_count": 9,
   "metadata": {},
   "outputs": [],
   "source": [
    "#Fill null values\n",
    "df_raw['Entrance'] = df_raw['Entrance'].fillna('unknown')\n",
    "\n",
    "#Replace all values with underscores or hyphens\n",
    "#Dict to fill values from 'Entrance'\n",
    "entrance_replacements = dict()\n",
    "entrance_values = df_raw['Entrance'].value_counts()\n",
    "\n",
    "#Iterate over Entrance values to look for underscore and hyphen\n",
    "#Make a dict with values to replace the _/- values in the dataframe\n",
    "#I'm choosing to take the first numerical value from each pair\n",
    "for index in entrance_values.index:\n",
    "        if '_' in index:\n",
    "            index_split = index.split('_')\n",
    "            entrance_replacements[index] = index_split[0]\n",
    "        elif '-' in index:\n",
    "            index_split = index.split('-')\n",
    "            entrance_replacements[index] = index_split[0]\n",
    "            \n",
    "df_raw['Entrance'] = df_raw['Entrance'].replace(entrance_replacements)\n",
    "\n",
    "#Change 'F' to 'f'\n",
    "df_raw.at[661, 'Entrance'] = df_raw.at[661, 'Entrance'].lower()\n",
    "#Change '4/5/' to '4'\n",
    "df_raw.at[6, 'Entrance'] = '4'\n",
    "#Replace 'I' and '?'\n",
    "df_raw['Entrance'] = df_raw['Entrance'].replace({'I': 'i', '?': 'unknown'})"
   ]
  },
  {
   "cell_type": "code",
   "execution_count": null,
   "metadata": {},
   "outputs": [],
   "source": [
    "df_raw['Entrance'].value_counts().shape"
   ]
  },
  {
   "cell_type": "markdown",
   "metadata": {},
   "source": [
    "This is better, but it may have to be categorized."
   ]
  },
  {
   "cell_type": "markdown",
   "metadata": {},
   "source": [
    "### 'found?'"
   ]
  },
  {
   "cell_type": "code",
   "execution_count": null,
   "metadata": {},
   "outputs": [],
   "source": [
    "df_raw['found?'].isna().sum()"
   ]
  },
  {
   "cell_type": "code",
   "execution_count": 10,
   "metadata": {},
   "outputs": [],
   "source": [
    "#Can just be dropped\n",
    "df_raw.drop(['found?'], axis = 1, inplace = True)"
   ]
  },
  {
   "cell_type": "markdown",
   "metadata": {},
   "source": [
    "### 'In English'"
   ]
  },
  {
   "cell_type": "code",
   "execution_count": null,
   "metadata": {},
   "outputs": [],
   "source": [
    "df_raw['In English'].isna().sum()"
   ]
  },
  {
   "cell_type": "code",
   "execution_count": 11,
   "metadata": {},
   "outputs": [],
   "source": [
    "#Fill nulls so that they can be read\n",
    "df_raw['In English'] = df_raw['In English'].fillna('')\n",
    "\n",
    "#Rows with null values or unhelpful 'CHECK' values\n",
    "blank_indexes = df_raw.index[df_raw['In English'] == '']\n",
    "check_indexes = df_raw.index[df_raw['In English'] == '[CHECK]']\n",
    "\n",
    "#Drop the empty rows. They aren't useful if they don't have the English text of the graffiti.\n",
    "df_raw.drop(blank_indexes, inplace = True)\n",
    "df_raw.drop(check_indexes, inplace = True)"
   ]
  },
  {
   "cell_type": "markdown",
   "metadata": {},
   "source": [
    "### 'org. '"
   ]
  },
  {
   "cell_type": "code",
   "execution_count": null,
   "metadata": {},
   "outputs": [],
   "source": [
    "df_raw['org. '].value_counts()[:10]"
   ]
  },
  {
   "cell_type": "code",
   "execution_count": 12,
   "metadata": {},
   "outputs": [],
   "source": [
    "#Won't be useful here. Can be dropped.\n",
    "df_raw.drop(['org. '], axis = 1, inplace = True)"
   ]
  },
  {
   "cell_type": "markdown",
   "metadata": {},
   "source": [
    "### 'Literacy'"
   ]
  },
  {
   "cell_type": "code",
   "execution_count": null,
   "metadata": {},
   "outputs": [],
   "source": [
    "df_raw['Literacy (1-3)'].value_counts()"
   ]
  },
  {
   "cell_type": "code",
   "execution_count": null,
   "metadata": {},
   "outputs": [],
   "source": [
    "df_raw['Literacy (1-3)'].isna().sum()"
   ]
  },
  {
   "cell_type": "code",
   "execution_count": 13,
   "metadata": {},
   "outputs": [],
   "source": [
    "#Rename column\n",
    "df_raw = df_raw.rename(index=str, columns = {'Literacy (1-3)': 'Literacy'})\n",
    "\n",
    "#Turn the few 1 values into 2s.\n",
    "df_raw['Literacy'] = df_raw['Literacy'].replace({1.0: 2})\n",
    "\n",
    "#Fill nulls\n",
    "df_raw['Literacy'] = df_raw['Literacy'].fillna(2)\n",
    "\n",
    "#Turn floats into integers\n",
    "df_raw['Literacy'] = df_raw['Literacy'].astype('float').astype('int')"
   ]
  },
  {
   "cell_type": "markdown",
   "metadata": {},
   "source": [
    "### 'In org. language'"
   ]
  },
  {
   "cell_type": "code",
   "execution_count": null,
   "metadata": {
    "scrolled": true
   },
   "outputs": [],
   "source": [
    "df_raw['In org. language'].value_counts().sum()"
   ]
  },
  {
   "cell_type": "code",
   "execution_count": 14,
   "metadata": {},
   "outputs": [],
   "source": [
    "#Dropping for now\n",
    "df_raw.drop(['In org. language'], axis = 1, inplace = True)"
   ]
  },
  {
   "cell_type": "markdown",
   "metadata": {},
   "source": [
    "Not sure what to do with this at this point."
   ]
  },
  {
   "cell_type": "markdown",
   "metadata": {},
   "source": [
    "### 'Context type general'"
   ]
  },
  {
   "cell_type": "code",
   "execution_count": null,
   "metadata": {},
   "outputs": [],
   "source": [
    "df_raw['Context type general'].value_counts()"
   ]
  },
  {
   "cell_type": "code",
   "execution_count": null,
   "metadata": {},
   "outputs": [],
   "source": [
    "df_raw['Context type general'].isna().sum()"
   ]
  },
  {
   "cell_type": "code",
   "execution_count": 15,
   "metadata": {},
   "outputs": [],
   "source": [
    "# No specific, no general, no reggio, insula\n",
    "no_spec_no_gen = df_raw[df_raw['Context type specific'].isna() & df_raw['Context type general'].isna()]\n",
    "\n",
    "no_spec_no_gen[(no_spec_no_gen['Reggio'] == 0) & (no_spec_no_gen['Insula'] == 0)].shape\n",
    "\n",
    "#Must drop the 43 rows that don't have a reggio, insula, specfic context or general context\n",
    "to_drop = no_spec_no_gen[(no_spec_no_gen['Reggio'] == 0) & (no_spec_no_gen['Insula'] == 0)]\n",
    "df_raw.drop(to_drop.index, axis = 0, inplace = True)\n",
    "\n",
    "#Maybe famous house can fill in for general context where it's missing?\n",
    "famoushouse_nogen = df_raw[\n",
    "    (df_raw['Famous House'].notna())\n",
    "    & \n",
    "    (df_raw['Context type general'].isna())]\n",
    "\n",
    "#Get indexes of all rows without a gen context but with a famous house\n",
    "indexes = famoushouse_nogen.index\n",
    "\n",
    "famoushouse_gencontexts = {\n",
    "    'Praedia ': 'building',\n",
    "    'Basilica': 'basilica',\n",
    "    'House of': 'house',\n",
    "    'house of': 'house',\n",
    "    'Villa of': 'house',\n",
    "    'Building': 'building',\n",
    "    'near the Porta Vesuvio': 'necropolis',\n",
    "    'Workshop': 'workshop'\n",
    "}\n",
    "\n",
    "#Replace gen context with the building type from its famous house\n",
    "#Iterate over all the rows which have a famous house but lack a gen context\n",
    "for index in indexes:\n",
    "    #Iterate over the keys of famous houses\n",
    "    for key, val in famoushouse_gencontexts.items():\n",
    "        #If the row's famous house matches one from the dict\n",
    "        if key in df_raw.at[index, 'Famous House']:\n",
    "            #Fill missing gen context value with value from dict\n",
    "            df_raw.at[index, 'Context type general'] = val\n",
    "            \n",
    "#Noticed that Bar of Sotericus has gen context of \"house\"\n",
    "indexes = df_raw[df_raw['Famous House'] == 'Bar of Sotericus']['Context type general']\n",
    "#Replace 'house' with 'bar' for these\n",
    "for index in indexes.index:\n",
    "    df_raw.at[index, 'Context type general'] = 'bar'\n",
    "    \n",
    "#Noticed that 'Outside Porta Marina' had two NaN gen contexts to fix\n",
    "#Will drop these because they're missing too many columns\n",
    "df_raw.drop(['997', '998'], axis = 0, inplace = True)\n",
    "\n",
    "#change all building types for spec context \"workshop\" to gen context \"workshop\"\n",
    "indexes = df_raw[df_raw['Context type specific'] == 'workshop']\n",
    "for index in indexes.index:\n",
    "    df_raw.at[index, 'Context type general'] = 'workshop'\n",
    "\n",
    "#Same for 'Workshop'\n",
    "indexes = df_raw[df_raw['Context type specific'] == 'Workshop']\n",
    "for index in indexes.index:\n",
    "    df_raw.at[index, 'Context type general'] = 'workshop'\n",
    "\n",
    "#Specific context \"dining room\" to general context \"house\"\n",
    "indexes = df_raw[\n",
    "    (df_raw['Context type specific'] == 'dining room')\n",
    "    & \n",
    "    (df_raw['Context type general'].isna())]\n",
    "for index in indexes.index:\n",
    "    df_raw.at[index, 'Context type general'] = 'house'\n",
    "\n",
    "#Spec context \"shop\" to general context \"shop\"\n",
    "indexes = df_raw[\n",
    "    (df_raw['Context type specific'] == 'shop')\n",
    "    & \n",
    "    (df_raw['Context type general'].isna())]\n",
    "for index in indexes.index:\n",
    "    df_raw.at[index, 'Context type general'] = 'shop'\n",
    "    \n",
    "#Spec context \"kitchen\" to general context \"house\"    \n",
    "indexes = df_raw[\n",
    "    (df_raw['Context type specific'] == 'kitchen')\n",
    "    & \n",
    "    (df_raw['Context type general'].isna())]\n",
    "for index in indexes.index:\n",
    "    df_raw.at[index, 'Context type general'] = 'house'    \n",
    "    \n",
    "#Add consistency to a few of the values\n",
    "replacements = {'Baths': 'baths',\n",
    "                'unit': 'apartment'}\n",
    "df_raw['Context type general'] = df_raw['Context type general'].replace(replacements)\n",
    "\n",
    "#Fill null values\n",
    "df_raw['Context type general'] = df_raw['Context type general'].fillna('unknown')\n",
    "\n",
    "#Changing the name of the column\n",
    "df_raw = df_raw.rename(index=str, columns ={\n",
    "              'Context type general': 'Building Type'})"
   ]
  },
  {
   "cell_type": "markdown",
   "metadata": {},
   "source": [
    "### 'Context type specific'"
   ]
  },
  {
   "cell_type": "code",
   "execution_count": null,
   "metadata": {},
   "outputs": [],
   "source": [
    "df_raw['Context type specific'].value_counts()"
   ]
  },
  {
   "cell_type": "code",
   "execution_count": 16,
   "metadata": {},
   "outputs": [],
   "source": [
    "#Add consistency to values\n",
    "replacements = {'façade': 'facade',\n",
    "                'tablinium': 'tablinum',\n",
    "                'Workshop': 'workshop'\n",
    "                }\n",
    "\n",
    "df_raw['Context type specific'] = df_raw['Context type specific'].replace(replacements)\n",
    "\n",
    "#Fill null values\n",
    "df_raw['Context type specific'] = df_raw['Context type specific'].fillna('unknown')\n",
    "\n",
    "#Rename column\n",
    "df_raw = df_raw.rename(index=str, columns ={'Context type specific': 'Position'})"
   ]
  },
  {
   "cell_type": "markdown",
   "metadata": {},
   "source": [
    "### 'Famous House'"
   ]
  },
  {
   "cell_type": "code",
   "execution_count": null,
   "metadata": {
    "scrolled": true
   },
   "outputs": [],
   "source": [
    "df_raw['Famous House'].value_counts()[60:90]"
   ]
  },
  {
   "cell_type": "code",
   "execution_count": null,
   "metadata": {
    "scrolled": true
   },
   "outputs": [],
   "source": [
    "df_raw['Famous House'].isna().sum()"
   ]
  },
  {
   "cell_type": "code",
   "execution_count": 17,
   "metadata": {},
   "outputs": [],
   "source": [
    "#Turn this column into a 0/1 for no/yes\n",
    "indexes = df_raw[df_raw['Famous House'].notna()]\n",
    "\n",
    "for index in indexes.index:\n",
    "    df_raw.at[index, 'Famous House'] = 1\n",
    "    \n",
    "df_raw['Famous House'] = df_raw['Famous House'].fillna(0)\n",
    "\n",
    "df_raw['Famous House'] = df_raw['Famous House'].astype('int')"
   ]
  },
  {
   "cell_type": "markdown",
   "metadata": {},
   "source": [
    "### Target: 'Category'"
   ]
  },
  {
   "cell_type": "code",
   "execution_count": null,
   "metadata": {},
   "outputs": [],
   "source": [
    "df_raw['Category'].value_counts()"
   ]
  },
  {
   "cell_type": "code",
   "execution_count": 18,
   "metadata": {},
   "outputs": [],
   "source": [
    "#Replace all values with back slashes\n",
    "#Dict to fill values from 'Category'\n",
    "cat_replacements = dict()\n",
    "cat_values = df_raw['Category'].value_counts()\n",
    "\n",
    "#Iterate over Category values to look for underscore and hyphen\n",
    "#Make a dict with values to replace the _/- values in the dataframe\n",
    "#I'm choosing to take the first value from each pair\n",
    "for index in cat_values.index:\n",
    "        if '/' in index:\n",
    "            index_split = index.split('/')\n",
    "            cat_replacements[index] = index_split[0]\n",
    "            \n",
    "df_raw['Category'] = df_raw['Category'].replace(cat_replacements)\n",
    "\n",
    "#This creates one instance of 'Political' with a space\n",
    "df_raw['Category'] = df_raw['Category'].replace({'Political ': 'Political'})\n",
    "\n",
    "#Fill null values\n",
    "df_raw['Category'] = df_raw['Category'].fillna('unknown')"
   ]
  },
  {
   "cell_type": "markdown",
   "metadata": {},
   "source": [
    "### 'Written by'"
   ]
  },
  {
   "cell_type": "code",
   "execution_count": null,
   "metadata": {},
   "outputs": [],
   "source": [
    "df_raw['Written by'].value_counts()"
   ]
  },
  {
   "cell_type": "code",
   "execution_count": 19,
   "metadata": {},
   "outputs": [],
   "source": [
    "#Fill null values first so str.contains can be used\n",
    "df_raw['Written by'] = df_raw['Written by'].fillna('unknown')\n",
    "\n",
    "#Clean up instances of ovid\n",
    "ovids = df_raw[df_raw['Written by'].str.contains('Ovid', regex = False, case = False)]\n",
    "for index in ovids.index:\n",
    "    df_raw.at[index, 'Written by'] = 'Ovid'\n",
    "\n",
    "#Clean up instances of virgil    \n",
    "virgils = df_raw[df_raw['Written by'].str.contains('rgil', regex = False, case = False)]\n",
    "for index in virgils.index:\n",
    "    df_raw.at[index, 'Written by'] = 'Virgil'\n",
    "\n",
    "#People who look like real writers as taken from value_counts    \n",
    "writers = ['Antheros', 'Ennius', 'Epaphra', \n",
    "           'Virgil', 'Horace', 'Homer', \n",
    "           'Herodotus', 'Lucretius', 'Menander',\n",
    "           'Ovid', 'poem', 'Propertius',\n",
    "           'Salvius', 'Senica', 'Tibutinus']\n",
    "                \n",
    "#Iterate over all rows to replace values with 1 for a writer\n",
    "#or zero for no writer\n",
    "for index in df_raw.index:\n",
    "    if any(writer in df_raw.at[index, 'Written by'] for writer in writers):\n",
    "        df_raw.at[index, 'Written by'] = 1\n",
    "    else:\n",
    "        df_raw.at[index, 'Written by'] = 0\n",
    "        \n",
    "#Change name of column to 'Writer'\n",
    "df_raw = df_raw.rename(index=str, columns ={'Written by': 'Writer'})"
   ]
  },
  {
   "cell_type": "markdown",
   "metadata": {},
   "source": [
    "### 'Work', 'Meter', and 'Reptition'"
   ]
  },
  {
   "cell_type": "code",
   "execution_count": 20,
   "metadata": {},
   "outputs": [],
   "source": [
    "#Change 'Work' to 0/1 no/yes\n",
    "indexes = df_raw[df_raw['Work'].notna()]\n",
    "for index in indexes.index:\n",
    "    df_raw.at[index, 'Work'] = 1    \n",
    "df_raw['Work'] = df_raw['Work'].fillna(0)\n",
    "\n",
    "\n",
    "#Change meter to 0/1 no/yes  \n",
    "indexes = df_raw[df_raw['Meter'].notna()]\n",
    "for index in indexes.index:\n",
    "    df_raw.at[index, 'Meter'] = 1    \n",
    "df_raw['Meter'] = df_raw['Meter'].fillna(0)  \n",
    "\n",
    "#Smush together Writer Work and Meter\n",
    "indexes = df_raw[(df_raw['Writer'] == 0)\n",
    "        &\n",
    "        (\n",
    "            (df_raw['Work'] == 1) \n",
    "            | \n",
    "            (df_raw['Meter'] == 1)\n",
    "        )]\n",
    "\n",
    "for index in indexes.index:\n",
    "    df_raw.at[index, 'Writer'] = 1\n",
    "    \n",
    "#Reassign the category for these smushed together \n",
    "indexes = df_raw[df_raw['Writer'] == 1]\n",
    "\n",
    "for index in indexes.index:\n",
    "    df_raw.at[index, 'Category'] = 'Reference'\n",
    "\n",
    "#Reset data type for Writer to int    \n",
    "df_raw['Writer'] = df_raw['Writer'].astype('int')\n",
    "\n",
    "#Meter, Work and Repetition can be dropped\n",
    "df_raw.drop(['Meter', 'Work', 'Repetition'], axis = 1, inplace = True)"
   ]
  },
  {
   "cell_type": "markdown",
   "metadata": {},
   "source": [
    "### 'Foreign language'"
   ]
  },
  {
   "cell_type": "code",
   "execution_count": null,
   "metadata": {},
   "outputs": [],
   "source": [
    "df_raw['Foreign language'].value_counts()"
   ]
  },
  {
   "cell_type": "code",
   "execution_count": null,
   "metadata": {},
   "outputs": [],
   "source": [
    "df_raw['Foreign language'].isna().sum()"
   ]
  },
  {
   "cell_type": "code",
   "execution_count": 21,
   "metadata": {},
   "outputs": [],
   "source": [
    "#Can be dropped\n",
    "df_raw.drop(['Foreign language'], axis = 1, inplace = True)"
   ]
  },
  {
   "cell_type": "markdown",
   "metadata": {},
   "source": [
    "### 'Image '"
   ]
  },
  {
   "cell_type": "code",
   "execution_count": 22,
   "metadata": {},
   "outputs": [],
   "source": [
    "#Get rid of the annoying space in the name\n",
    "df_raw = df_raw.rename(index=str, columns = {'Image ': 'Image'})\n",
    "\n",
    "#Fill nulls first so str.contains can be used\n",
    "df_raw['Image'] = df_raw['Image'].fillna('none')\n",
    "\n",
    "#Get all rows with gladiator in the image description\n",
    "gladiators = df_raw[df_raw['Image'].str.contains('gladiator', regex = False, case = False)]\n",
    "\n",
    "for index in gladiators.index:\n",
    "    df_raw.at[index, 'Category'] = 'Violence'\n",
    "    \n",
    "#Drop the column\n",
    "df_raw.drop(['Image'], axis = 1, inplace = True)"
   ]
  },
  {
   "cell_type": "markdown",
   "metadata": {},
   "source": [
    "### 'Flohr Score'"
   ]
  },
  {
   "cell_type": "code",
   "execution_count": null,
   "metadata": {},
   "outputs": [],
   "source": [
    "df_raw['Flohr Score'].value_counts()"
   ]
  },
  {
   "cell_type": "code",
   "execution_count": 23,
   "metadata": {},
   "outputs": [],
   "source": [
    "#Replace all values with hyphens.\n",
    "#Dict to fill values from 'Flohr Score'\n",
    "flohr_replacements = dict()\n",
    "flohr_values = df_raw['Flohr Score'].value_counts()\n",
    "\n",
    "#Iterate over values to look for hyphen\n",
    "#Make a dict with values to replace the - values in the dataframe\n",
    "#I'm choosing to take the first numerical value from each pair\n",
    "for index in flohr_values.index:\n",
    "        if '-' in index:\n",
    "            index_split = index.split('-')\n",
    "            flohr_replacements[index] = index_split[0]\n",
    "            \n",
    "df_raw['Flohr Score'] = df_raw['Flohr Score'].replace(flohr_replacements)\n",
    "\n",
    "#Get indexes for empty Flohr scores at each SES level\n",
    "low = df_raw[\n",
    "        (df_raw['Socio-economic status'] == 'low')\n",
    "        &\n",
    "        (df_raw['Flohr Score'].isna())   ]\n",
    "med = df_raw[\n",
    "        (df_raw['Socio-economic status'] == 'medium')\n",
    "        &\n",
    "        (df_raw['Flohr Score'].isna())]\n",
    "high = df_raw[\n",
    "        (df_raw['Socio-economic status'] == 'high')\n",
    "        &\n",
    "        (df_raw['Flohr Score'].isna())]\n",
    "\n",
    "#Then fill null values with zeros so that means can be taken\n",
    "df_raw['Flohr Score'] = df_raw['Flohr Score'].fillna(0.0)\n",
    "\n",
    "#Change strings to floats\n",
    "df_raw['Flohr Score'] = df_raw['Flohr Score'].astype('float')\n",
    "\n",
    "#Get the average Flohr score for low SES rows\n",
    "low_avg = np.array(df_raw['Flohr Score'][df_raw['Socio-economic status'] == 'low']).mean()\n",
    "#Get the average Flohr score for medium SES rows\n",
    "med_avg = np.array(df_raw['Flohr Score'][df_raw['Socio-economic status'] == 'medium']).mean()\n",
    "#Get the average Flohr score high SES rows\n",
    "high_avg = np.array(df_raw['Flohr Score'][df_raw['Socio-economic status'] == 'high']).mean()\n",
    "\n",
    "#Update the FLohr score for low SES rows\n",
    "for index in low.index:\n",
    "    df_raw.at[index, 'Flohr Score'] = low_avg\n",
    "#Update the FLohr score for medium SES rows\n",
    "for index in med.index:\n",
    "    df_raw.at[index, 'Flohr Score'] = med_avg\n",
    "#Update the FLohr score for high SES rows\n",
    "for index in high.index:\n",
    "    df_raw.at[index, 'Flohr Score'] = high_avg"
   ]
  },
  {
   "cell_type": "markdown",
   "metadata": {},
   "source": [
    "### 'Socio-economic status'"
   ]
  },
  {
   "cell_type": "code",
   "execution_count": null,
   "metadata": {},
   "outputs": [],
   "source": [
    "df_raw['Socio-economic status'].value_counts()"
   ]
  },
  {
   "cell_type": "code",
   "execution_count": 24,
   "metadata": {},
   "outputs": [],
   "source": [
    "df_raw['Socio-economic status'] = df_raw['Socio-economic status'].fillna('medium')"
   ]
  },
  {
   "cell_type": "markdown",
   "metadata": {},
   "source": [
    "### 'comments'"
   ]
  },
  {
   "cell_type": "code",
   "execution_count": null,
   "metadata": {},
   "outputs": [],
   "source": [
    "df_raw['comments'].value_counts()\n"
   ]
  },
  {
   "cell_type": "code",
   "execution_count": 25,
   "metadata": {},
   "outputs": [],
   "source": [
    "#interesting, further investigation could lead ot help with categorizing, but will drop for now\n",
    "df_raw.drop(['comments'], axis = 1, inplace = True)"
   ]
  },
  {
   "cell_type": "markdown",
   "metadata": {},
   "source": [
    "<a id = 'explore'></a>"
   ]
  },
  {
   "cell_type": "markdown",
   "metadata": {},
   "source": [
    "[(Back to top)](#top)\n",
    "\n",
    "# Exploratory data analysis"
   ]
  },
  {
   "cell_type": "markdown",
   "metadata": {},
   "source": [
    "What is a reggio?\n",
    "\n",
    "What is an insula?\n",
    "\n",
    "From https://sites.google.com/site/ad79eruption/pompeii/map-of-pompeii\n",
    "\n",
    "\"Pompeii, however, has an additional level of numbering. It has been divided firstly into 9 regions (Regio), numbered in Roman numerals. Each of these regions contains several Insulae which are numbered 1, 2 3, etc. As with Herculaneum, each building within an insula has its own entrance number, again numbered 1, 2, 3 etc. For example, the House of Trebius Valens is labelled (Reg III, Ins 2, 1).\""
   ]
  },
  {
   "cell_type": "code",
   "execution_count": null,
   "metadata": {
    "scrolled": true
   },
   "outputs": [],
   "source": [
    "df_raw['Category'].value_counts()"
   ]
  },
  {
   "cell_type": "markdown",
   "metadata": {},
   "source": [
    "<a id = 'character_imperative'></a>"
   ]
  },
  {
   "cell_type": "markdown",
   "metadata": {},
   "source": [
    "### Adding a character count and imperative column\n",
    "\n",
    "'Characters' will measure the length of the text of each graffito in English. 'Imperative' will count whether it has exclamation points or not."
   ]
  },
  {
   "cell_type": "code",
   "execution_count": 26,
   "metadata": {},
   "outputs": [],
   "source": [
    "#Create Characters and Imperative columns\n",
    "for index in df_raw.index:\n",
    "    df_raw.at[index, 'Characters'] = len(df_raw.at[index, 'In English'])\n",
    "    if '!' in df_raw.at[index, 'In English']:\n",
    "        df_raw.at[index, 'Imperative'] = 1\n",
    "    else: \n",
    "        df_raw.at[index, 'Imperative'] = 0\n",
    "df_raw['Characters'] = df_raw['Characters'].astype('int')\n",
    "df_raw['Imperative'] = df_raw['Imperative'].astype('int')"
   ]
  },
  {
   "cell_type": "markdown",
   "metadata": {},
   "source": [
    "<a id = 'prelim_model'></a>"
   ]
  },
  {
   "cell_type": "markdown",
   "metadata": {},
   "source": [
    "### How good are the categories? Testing with a preliminary model: plain vanilla logistic regression\n",
    "\n",
    "The data cleaning process made me suspicious that the given categories of the data aren't going to allow for good models. Let's build a plain vanilla logistic regression to see."
   ]
  },
  {
   "cell_type": "code",
   "execution_count": 27,
   "metadata": {
    "scrolled": true
   },
   "outputs": [],
   "source": [
    "#Prepare the data and build a logistic regression classifier.\n",
    "\n",
    "df = copy.deepcopy(df_raw)\n",
    "\n",
    "#Make categories\n",
    "df['Literacy'] = df['Literacy'].astype('category')\n",
    "df['Position'] = df['Position'].astype('category')\n",
    "df['Building Type'] = df['Building Type'].astype('category')\n",
    "df['Famous House'] = df['Famous House'].astype('bool').astype('category')\n",
    "df['Socio-economic status'] = df['Socio-economic status'].astype('category')\n",
    "df['Writer'] = df['Writer'].astype('bool').astype('category')\n",
    "df['Category'] = df['Category'].astype('category')\n",
    "df['Imperative'] = df['Imperative'].astype('bool').astype('category')\n",
    "\n",
    "#Continuous data: 'Reggio', 'Insula', 'Characters', 'Flohr Score'\n",
    "\n",
    "#Get dummies\n",
    "literacy_dummies = pd.get_dummies(df['Literacy'], prefix = 'Literacy')\n",
    "position_dummies = pd.get_dummies(df['Position'], prefix = 'Position')\n",
    "build_type_dummies = pd.get_dummies(df['Building Type'], prefix = 'Building_Type')\n",
    "famous_dummies = pd.get_dummies(df['Famous House'], prefix = 'Famous')\n",
    "econ_status_dummies = pd.get_dummies(df['Socio-economic status'], prefix = 'Econ_Status')\n",
    "writer_dummies = pd.get_dummies(df['Writer'], prefix = 'Writer')\n",
    "imperative_dummies = pd.get_dummies(df['Imperative'], prefix = 'Imperative')\n",
    "\n",
    "X = df.drop(['CIL IV #', 'Entrance', 'Literacy', 'In English', \n",
    "             'Position', 'Building Type', \n",
    "             'Famous House', 'Category', 'Socio-economic status',\n",
    "             'Writer', 'Imperative'\n",
    "            ], axis = 1)\n",
    "X = pd.concat([X, literacy_dummies, position_dummies, build_type_dummies, \n",
    "               famous_dummies, econ_status_dummies, writer_dummies,\n",
    "             imperative_dummies\n",
    "              ], axis = 1)\n",
    "\n",
    "y = df['Category']\n",
    "\n",
    "#Create a train/test split\n",
    "X_train, X_test, y_train, y_test = train_test_split(X, y, random_state=12)\n",
    "#print(y_train.value_counts(),'\\n', y_test.value_counts())\n",
    "\n",
    "#Build a logistic regression model\n",
    "logreg = LogisticRegression(fit_intercept=False, C=1e16)"
   ]
  },
  {
   "cell_type": "code",
   "execution_count": 28,
   "metadata": {},
   "outputs": [
    {
     "name": "stderr",
     "output_type": "stream",
     "text": [
      "/Users/ssrosa/anaconda3/envs/learn-env/lib/python3.6/site-packages/sklearn/linear_model/logistic.py:433: FutureWarning: Default solver will be changed to 'lbfgs' in 0.22. Specify a solver to silence this warning.\n",
      "  FutureWarning)\n",
      "/Users/ssrosa/anaconda3/envs/learn-env/lib/python3.6/site-packages/sklearn/linear_model/logistic.py:460: FutureWarning: Default multi_class will be changed to 'auto' in 0.22. Specify the multi_class option to silence this warning.\n",
      "  \"this warning.\", FutureWarning)\n"
     ]
    }
   ],
   "source": [
    "logreg.fit(X_train, y_train)\n",
    "\n",
    "#Generate predicted values for y to compare to real values\n",
    "y_hat_train = logreg.predict(X_train)\n",
    "\n",
    "#Now generate predicted values for the test data to compare\n",
    "y_hat_test = logreg.predict(X_test)\n",
    "\n",
    "#Create a confusion matrix with the training results\n",
    "conf_matrix_train = confusion_matrix(y_hat_train, y_train)\n",
    "#Create a confusion matrix with the test results\n",
    "conf_matrix_test = confusion_matrix(y_hat_test, y_test)\n",
    "\n",
    "#Create labels for the classes in the conf matrix\n",
    "class_names = set(y)"
   ]
  },
  {
   "cell_type": "code",
   "execution_count": 57,
   "metadata": {
    "scrolled": false
   },
   "outputs": [
    {
     "ename": "NameError",
     "evalue": "name 'np' is not defined",
     "output_type": "error",
     "traceback": [
      "\u001b[0;31m---------------------------------------------------------------------------\u001b[0m",
      "\u001b[0;31mNameError\u001b[0m                                 Traceback (most recent call last)",
      "\u001b[0;32m<ipython-input-57-62f1830cf2e0>\u001b[0m in \u001b[0;36m<module>\u001b[0;34m()\u001b[0m\n\u001b[1;32m      2\u001b[0m \u001b[0mplt\u001b[0m\u001b[0;34m.\u001b[0m\u001b[0mfigure\u001b[0m\u001b[0;34m(\u001b[0m\u001b[0mfigsize\u001b[0m \u001b[0;34m=\u001b[0m \u001b[0;34m(\u001b[0m\u001b[0;36m10\u001b[0m\u001b[0;34m,\u001b[0m\u001b[0;36m8\u001b[0m\u001b[0;34m)\u001b[0m\u001b[0;34m)\u001b[0m\u001b[0;34m\u001b[0m\u001b[0m\n\u001b[1;32m      3\u001b[0m \u001b[0;31m#Call the custom function to draw the conf matrix\u001b[0m\u001b[0;34m\u001b[0m\u001b[0;34m\u001b[0m\u001b[0m\n\u001b[0;32m----> 4\u001b[0;31m \u001b[0mplot_conf_matrix\u001b[0m\u001b[0;34m(\u001b[0m\u001b[0mconf_matrix_train\u001b[0m\u001b[0;34m,\u001b[0m \u001b[0mclasses\u001b[0m \u001b[0;34m=\u001b[0m \u001b[0mclass_names\u001b[0m\u001b[0;34m)\u001b[0m\u001b[0;34m\u001b[0m\u001b[0m\n\u001b[0m",
      "\u001b[0;32m~/Documents/DataScienceBootCamp/CourseMaterials/Module03/project/dsc-3-final-project-online-ds-pt-100118/graffiti_functions.py\u001b[0m in \u001b[0;36mplot_conf_matrix\u001b[0;34m(cm, classes, normalize, title, cmap)\u001b[0m\n\u001b[1;32m    131\u001b[0m                 \u001b[0mdf\u001b[0m\u001b[0;34m.\u001b[0m\u001b[0mat\u001b[0m\u001b[0;34m[\u001b[0m\u001b[0mindex\u001b[0m\u001b[0;34m,\u001b[0m \u001b[0mwrite_to\u001b[0m\u001b[0;34m]\u001b[0m \u001b[0;34m=\u001b[0m \u001b[0mphrase\u001b[0m\u001b[0;34m\u001b[0m\u001b[0m\n\u001b[1;32m    132\u001b[0m \u001b[0;34m\u001b[0m\u001b[0m\n\u001b[0;32m--> 133\u001b[0;31m \u001b[0;34m\u001b[0m\u001b[0m\n\u001b[0m\u001b[1;32m    134\u001b[0m \u001b[0;31m#Example function to visualize a confusion matrix without yellow brick\u001b[0m\u001b[0;34m\u001b[0m\u001b[0;34m\u001b[0m\u001b[0m\n\u001b[1;32m    135\u001b[0m def plot_conf_matrix(cm, classes, normalize=False, \n",
      "\u001b[0;31mNameError\u001b[0m: name 'np' is not defined"
     ]
    },
    {
     "data": {
      "image/png": "[encoded data removed]",
      "text/plain": [
       "<Figure size 720x576 with 2 Axes>"
      ]
     },
     "metadata": {
      "needs_background": "light"
     },
     "output_type": "display_data"
    }
   ],
   "source": [
    "#Draw a figure\n",
    "plt.figure(figsize = (10,8))\n",
    "#Call the custom function to draw the conf matrix\n",
    "plot_conf_matrix(conf_matrix_train, classes = class_names)"
   ]
  },
  {
   "cell_type": "code",
   "execution_count": 33,
   "metadata": {},
   "outputs": [
    {
     "name": "stdout",
     "output_type": "stream",
     "text": [
      "             precision    recall  f1-score   support\n",
      "\n",
      "    unknown       0.25      0.12      0.16        58\n",
      "  Religious       0.37      0.36      0.36       104\n",
      "    Tagging       0.33      0.08      0.12        13\n",
      "   Romantic       1.00      1.00      1.00       117\n",
      "     Social       0.36      0.11      0.17        36\n",
      "  Reference       0.43      0.18      0.26        33\n",
      "     Insult       0.47      0.65      0.55       146\n",
      "  Political       0.40      0.56      0.47       156\n",
      "   Violence       0.39      0.19      0.26        47\n",
      "      Civic       0.63      0.52      0.57        23\n",
      "     Sexual       0.50      0.33      0.40        12\n",
      "\n",
      "avg / total       0.50      0.51      0.49       745\n",
      "\n"
     ]
    }
   ],
   "source": [
    "print(classification_report(y_train, y_hat_train, target_names = class_names))"
   ]
  },
  {
   "cell_type": "markdown",
   "metadata": {},
   "source": [
    "Discuss"
   ]
  },
  {
   "cell_type": "code",
   "execution_count": 34,
   "metadata": {
    "scrolled": true
   },
   "outputs": [
    {
     "data": {
      "image/png": "[encoded data removed]",
      "text/plain": [
       "<Figure size 720x576 with 2 Axes>"
      ]
     },
     "metadata": {
      "needs_background": "light"
     },
     "output_type": "display_data"
    }
   ],
   "source": [
    "plt.figure(figsize = (10,8))\n",
    "#Call the custom function to draw the conf matrix\n",
    "plot_conf_matrix(conf_matrix_test, classes = class_names)"
   ]
  },
  {
   "cell_type": "code",
   "execution_count": 35,
   "metadata": {},
   "outputs": [
    {
     "name": "stdout",
     "output_type": "stream",
     "text": [
      "             precision    recall  f1-score   support\n",
      "\n",
      "    unknown       0.50      0.20      0.29        20\n",
      "  Religious       0.35      0.34      0.35        35\n",
      "    Tagging       0.00      0.00      0.00         9\n",
      "   Romantic       1.00      0.97      0.99        39\n",
      "     Social       0.25      0.17      0.20         6\n",
      "  Reference       0.20      0.06      0.09        17\n",
      "     Insult       0.25      0.42      0.31        40\n",
      "  Political       0.36      0.45      0.40        56\n",
      "   Violence       0.00      0.00      0.00        12\n",
      "      Civic       0.45      0.38      0.42        13\n",
      "     Sexual       0.00      0.00      0.00         2\n",
      "\n",
      "avg / total       0.41      0.41      0.40       249\n",
      "\n"
     ]
    }
   ],
   "source": [
    "print(classification_report(y_test, y_hat_test, target_names = class_names))"
   ]
  },
  {
   "cell_type": "markdown",
   "metadata": {},
   "source": [
    "This model is almost useless! It only classifies 'Reference', 'Insult', and 'Violence.'"
   ]
  },
  {
   "cell_type": "markdown",
   "metadata": {},
   "source": [
    "<a id = 'detour_cat'></a>"
   ]
  },
  {
   "cell_type": "markdown",
   "metadata": {},
   "source": [
    "### Detour: improving the categories\n",
    "\n",
    "I'm unhappy with the categories and think I can do better."
   ]
  },
  {
   "cell_type": "code",
   "execution_count": 45,
   "metadata": {
    "scrolled": true
   },
   "outputs": [],
   "source": [
    "cat_counts = df_raw['Category'].value_counts()"
   ]
  },
  {
   "cell_type": "code",
   "execution_count": 33,
   "metadata": {},
   "outputs": [
    {
     "data": {
      "image/png": "[encoded data removed]",
      "text/plain": [
       "<Figure size 576x576 with 1 Axes>"
      ]
     },
     "metadata": {},
     "output_type": "display_data"
    }
   ],
   "source": [
    "#COLROS ARE BROKEN\n",
    "\n",
    "#colors_for_orig_cats = ['lavender', 'brown', 'yellow', 'blue', 'lightblue', 'purple',\n",
    "#                       'maroon', 'red', 'pink', 'darkblue', 'gray']\n",
    "fig = plt.figure(figsize = (8,8))\n",
    "plt.pie(x = cat_counts, labels = cat_counts.index)\n",
    "plt.title('Distribution of data into categories')\n",
    "plt.show()"
   ]
  },
  {
   "cell_type": "code",
   "execution_count": null,
   "metadata": {},
   "outputs": [],
   "source": []
  },
  {
   "cell_type": "markdown",
   "metadata": {},
   "source": [
    "There are two problems to solve:\n",
    "\n",
    " 1. Categories are imprecise. (What isn't \"social\"?)\n",
    " 2. Data is unevenly distributed into these categories\n",
    "\n",
    "Before I try to up- or down-sample I'd like to see if I can rearrange the data within the categories. I've browsed the English translations of the graffiti and have spotted some key words that I want to count the incidence of across the categories. This may suggest some more precise categories for the data. It may also allow for more even data distribution across categories."
   ]
  },
  {
   "cell_type": "code",
   "execution_count": 38,
   "metadata": {},
   "outputs": [],
   "source": [
    "#A new df for the reorganized categories\n",
    "df_clean = copy.deepcopy(df_raw)"
   ]
  },
  {
   "cell_type": "code",
   "execution_count": 39,
   "metadata": {},
   "outputs": [],
   "source": [
    "#A lambda function with the \"globals\" so I don't have to pass them in every time\n",
    "pysqldf = lambda q: sqldf(q, globals())"
   ]
  },
  {
   "cell_type": "code",
   "execution_count": 52,
   "metadata": {},
   "outputs": [
    {
     "ename": "NameError",
     "evalue": "name 'copy' is not defined",
     "output_type": "error",
     "traceback": [
      "\u001b[0;31m---------------------------------------------------------------------------\u001b[0m",
      "\u001b[0;31mNameError\u001b[0m                                 Traceback (most recent call last)",
      "\u001b[0;32m<ipython-input-52-96a6231e36a7>\u001b[0m in \u001b[0;36m<module>\u001b[0;34m()\u001b[0m\n\u001b[1;32m     25\u001b[0m \u001b[0;31m#to show incidence of the above keywords in the\u001b[0m\u001b[0;34m\u001b[0m\u001b[0;34m\u001b[0m\u001b[0m\n\u001b[1;32m     26\u001b[0m \u001b[0;31m#original categories of the data.\u001b[0m\u001b[0;34m\u001b[0m\u001b[0;34m\u001b[0m\u001b[0m\n\u001b[0;32m---> 27\u001b[0;31m \u001b[0mkeywords_df\u001b[0m \u001b[0;34m=\u001b[0m \u001b[0mkeyword_matrix\u001b[0m\u001b[0;34m(\u001b[0m\u001b[0mcategories\u001b[0m\u001b[0;34m,\u001b[0m \u001b[0mkeywords\u001b[0m\u001b[0;34m)\u001b[0m\u001b[0;34m\u001b[0m\u001b[0m\n\u001b[0m",
      "\u001b[0;32m~/Documents/DataScienceBootCamp/CourseMaterials/Module03/project/dsc-3-final-project-online-ds-pt-100118/graffiti_functions.py\u001b[0m in \u001b[0;36mkeyword_matrix\u001b[0;34m(orig_categories, keywords)\u001b[0m\n\u001b[1;32m     35\u001b[0m     \u001b[0morig_categories\u001b[0m \u001b[0;34m(\u001b[0m\u001b[0mlist\u001b[0m\u001b[0;34m.\u001b[0m\u001b[0;34m)\u001b[0m \u001b[0mThe\u001b[0m \u001b[0mcategories\u001b[0m \u001b[0;32min\u001b[0m \u001b[0mthe\u001b[0m \u001b[0mdata\u001b[0m \u001b[0mset\u001b[0m \u001b[0mto\u001b[0m \u001b[0mtraverse\u001b[0m\u001b[0;34m.\u001b[0m\u001b[0;34m\u001b[0m\u001b[0m\n\u001b[1;32m     36\u001b[0m     \u001b[0mEach\u001b[0m \u001b[0mshould\u001b[0m \u001b[0mcorrespond\u001b[0m \u001b[0mto\u001b[0m \u001b[0ma\u001b[0m \u001b[0mcategory\u001b[0m\u001b[0;34m/\u001b[0m\u001b[0;32mclass\u001b[0m \u001b[0;32min\u001b[0m \u001b[0mthe\u001b[0m \u001b[0mdata\u001b[0m \u001b[0mset\u001b[0m\u001b[0;34m.\u001b[0m\u001b[0;34m\u001b[0m\u001b[0m\n\u001b[0;32m---> 37\u001b[0;31m \u001b[0;34m\u001b[0m\u001b[0m\n\u001b[0m\u001b[1;32m     38\u001b[0m     \u001b[0mkeywords\u001b[0m \u001b[0;34m(\u001b[0m\u001b[0mlist\u001b[0m\u001b[0;34m.\u001b[0m\u001b[0;34m)\u001b[0m \u001b[0mThe\u001b[0m \u001b[0mwords\u001b[0m \u001b[0mto\u001b[0m \u001b[0msearch\u001b[0m \u001b[0;32mfor\u001b[0m \u001b[0;32mand\u001b[0m \u001b[0mcount\u001b[0m\u001b[0;34m.\u001b[0m \u001b[0mIf\u001b[0m \u001b[0ma\u001b[0m \u001b[0msingle\u001b[0m\u001b[0;34m\u001b[0m\u001b[0m\n\u001b[1;32m     39\u001b[0m     \u001b[0mword\u001b[0m \u001b[0;32mis\u001b[0m \u001b[0msought\u001b[0m\u001b[0;34m,\u001b[0m \u001b[0mit\u001b[0m \u001b[0mcan\u001b[0m \u001b[0mbe\u001b[0m \u001b[0mpassed\u001b[0m \u001b[0;32mas\u001b[0m \u001b[0;34m[\u001b[0m\u001b[0;34m'word'\u001b[0m\u001b[0;34m]\u001b[0m\u001b[0;34m.\u001b[0m \u001b[0mCan\u001b[0m\u001b[0;31m'\u001b[0m\u001b[0mt\u001b[0m \u001b[0mbe\u001b[0m \u001b[0mmulti\u001b[0m\u001b[0;34m-\u001b[0m\u001b[0mlevel\u001b[0m\u001b[0;34m,\u001b[0m\u001b[0;34m\u001b[0m\u001b[0m\n",
      "\u001b[0;31mNameError\u001b[0m: name 'copy' is not defined"
     ]
    }
   ],
   "source": [
    "categories = list(df_raw['Category'].unique())\n",
    "\n",
    "#Some possible new categories\n",
    "#Hoping to draw values out from 'Social'\n",
    "love = ['the girls', 'love', 'venus']\n",
    "slave = ['servant', 'serve', 'slave']\n",
    "emperor = ['Caesar', 'emperor', 'Nero']\n",
    "gods = ['Jupiter', 'god', 'holy', 'pray']\n",
    "greeting = ['bye', 'hello', 'goodbye', 'greetings']\n",
    "glory = ['fight', 'mars','soldier', 'victor']\n",
    "########## WARNING!! NSFW ################\n",
    "lewd = ['bugger', 'cock', 'cunt', 'faggot', 'fuck', 'suck']\n",
    "###########################################\n",
    "blessing = ['best wishes', 'bravo',  'favor', 'favour', 'good luck', 'happy', 'smile']\n",
    "curse = ['anger', 'beware', 'curse']\n",
    "keyword_cats = [love, slave, emperor, gods, greeting, glory, lewd, blessing, curse]\n",
    "\n",
    "#A list of all keywords\n",
    "keywords = []\n",
    "for cat in keyword_cats:\n",
    "    for word in cat:\n",
    "        keywords.append(word)\n",
    "        \n",
    "#Build a 'keyword matrix' with my custom function\n",
    "#to show incidence of the above keywords in the \n",
    "#original categories of the data.\n",
    "keywords_df = keyword_matrix(categories, keywords)"
   ]
  },
  {
   "cell_type": "code",
   "execution_count": null,
   "metadata": {},
   "outputs": [],
   "source": [
    "keywords_df"
   ]
  },
  {
   "cell_type": "code",
   "execution_count": 40,
   "metadata": {},
   "outputs": [
    {
     "data": {
      "text/plain": [
       "139"
      ]
     },
     "execution_count": 40,
     "metadata": {},
     "output_type": "execute_result"
    }
   ],
   "source": [
    "#Opportunity to knock off many of the values from 'Social.'\n",
    "keywords_df['Social'].sum()"
   ]
  },
  {
   "cell_type": "code",
   "execution_count": 53,
   "metadata": {},
   "outputs": [],
   "source": [
    "#Categorize greetings, blessings, and curses as Hails \n",
    "#Hello, goodbye, good luck, go to hell)\n",
    "hails = []\n",
    "for words in [greeting, blessing, curse]:\n",
    "    for word in words:\n",
    "        hails.append(word)\n",
    "write(df_clean, hails, 'In English', 'Category', 'Hail')\n",
    "\n",
    "#Categorize references to emperors or slaves as Political\n",
    "poli = []\n",
    "for words in [emperor, slave]:\n",
    "    for word in words:\n",
    "        poli.append(word)\n",
    "write(df_clean, poli, 'In English', 'Category', 'Political')\n",
    "\n",
    "#Categorize glory words as Violence\n",
    "write(df_clean, glory, 'In English', 'Category', 'Violence')\n",
    "#Categorize lewd words as Lewd (new category)\n",
    "write(df_clean, lewd, 'In English', 'Category', 'Lewd')\n",
    "#Categorize love words as Romantic\n",
    "write(df_clean, love, 'In English', 'Category', 'Romantic')\n",
    "#Categorize gods words as Religious\n",
    "write(df_clean, gods, 'In English', 'Category', 'Religious')\n",
    "\n",
    "#Now:\n",
    "#Combine 'Violence' and 'Political' into 'Glory'\n",
    "write(df_clean, ['Violence', 'Political'], 'Category', 'Category', 'Glory')\n",
    "#Combine 'Sexual' and 'Romantic' into 'Love'\n",
    "write(df_clean, ['Sexual', 'Romantic'], 'Category', 'Category', 'Love')\n",
    "#Combine 'unknown' and 'Tagging' into 'Civic'\n",
    "write(df_clean, ['unknown', 'Tagging'], 'Category', 'Category', 'Civic')\n",
    "#Combine 'Insult' with 'Hail' (They're both direct adresses)\n",
    "write(df_clean, ['Insult'], 'Category', 'Category', 'Hail')\n",
    "#Combine 'Religious' with 'Glory' (Politics, War, and Religion are all heady)\n",
    "write(df_clean, ['Religious'], 'Category', 'Category', 'Glory')\n",
    "\n",
    "#Now:\n",
    "#Give the final categories jazzier names\n",
    "replacements = {'Reference': 'Literature',\n",
    "                'Social': 'Gossip',\n",
    "                'Civic': 'Bulletin',\n",
    "                'Religion': 'Gods'\n",
    "                }\n",
    "df_clean['Category'] = df_clean['Category'].replace(replacements)"
   ]
  },
  {
   "cell_type": "markdown",
   "metadata": {},
   "source": [
    "How did all this work affect our categories?"
   ]
  },
  {
   "cell_type": "code",
   "execution_count": null,
   "metadata": {},
   "outputs": [],
   "source": [
    "#FOR RTESTING\n",
    "#labels = 'Frogs', 'Hogs', 'Dogs', 'Logs'\n",
    "#fracs = [15, 30, 45, 10]\n",
    "\n",
    "#fig = plt.figure()\n",
    "\n",
    "#ax1 = fig.add_axes([0, 0, .5, .5], aspect=1)\n",
    "#ax1.pie(fracs, labels=labels, radius = 1.2)\n",
    "#ax2 = fig.add_axes([.5, .0, .5, .5], aspect=1)\n",
    "#ax2.pie(fracs, labels=labels, radius = 1.2)\n",
    "#plt.show()"
   ]
  },
  {
   "cell_type": "code",
   "execution_count": 55,
   "metadata": {},
   "outputs": [
    {
     "data": {
      "image/png": "[encoded data removed]",
      "text/plain": [
       "<Figure size 864x576 with 2 Axes>"
      ]
     },
     "metadata": {},
     "output_type": "display_data"
    }
   ],
   "source": [
    "cat_counts = df_raw['Category'].value_counts()\n",
    "\n",
    "#Colors for new categories\n",
    "colors_for_new_cats = ['green', 'yellow', 'purple', 'gray', 'blue', 'red', 'brown']\n",
    "\n",
    "#Values of old categories to count\n",
    "cat_counts = df_raw['Category'].value_counts()\n",
    "#Capture the values of the new categories to plot\n",
    "v2cat_counts = df_clean['Category'].value_counts()\n",
    "\n",
    "#Plot old categories side by side with new ones\n",
    "fig = plt.figure(figsize = (12,8))\n",
    "ax1 = fig.add_axes([0, 0, .5, .5], aspect = 1)\n",
    "ax1.pie(x = cat_counts, labels = cat_counts.index)\n",
    "ax2 = fig.add_axes([0.5, 0, .5, .5], aspect = 1)\n",
    "ax2.pie(x = v2cat_counts, labels = v2cat_counts.index)\n",
    "#Need to fix title position\n",
    "plt.title('Original categories vs new categories')\n",
    "plt.show()"
   ]
  },
  {
   "cell_type": "markdown",
   "metadata": {},
   "source": [
    "### MAKE THE COLORS CORRESPOND\n",
    "Lavender   'Sexual', 'Love'\n",
    "Brown   'Reference', 'Literature'\n",
    "Yellow     'Insult', 'Hail'\n",
    "Blue       'Civic', 'Bulletin'\n",
    "Light blue 'Tagging', 'Bulletin'\n",
    "Purple    'Romantic', 'Love'\n",
    "Maroon    'Religious', 'Glory'\n",
    "Red       'Violence', 'Glory'\n",
    "Pink     'Political', 'Glory'\n",
    "Dark blue  'unknown'], 'Bulletin'\n",
    "Gray .      Social .     Gossip\n",
    "\n",
    "Lewd  Green\n",
    "Hail Yellow\n",
    "Love Purple\n",
    "Gossip Gray\n",
    "Bulletin Blue\n",
    "Glory Red\n",
    "Literature Brown"
   ]
  },
  {
   "cell_type": "code",
   "execution_count": null,
   "metadata": {},
   "outputs": [],
   "source": [
    "df_clean['Category'].value_counts()"
   ]
  },
  {
   "cell_type": "markdown",
   "metadata": {},
   "source": [
    "Much better!\n",
    "\n",
    "*Lewd*: Swear words and body parts\n",
    "\n",
    "*Hail*: Hello, goodbye, bless you, curse you\n",
    "\n",
    "*Love*: Romance & sex\n",
    "\n",
    "*Gossip*: Have you heard who was drinking wine with Euphabia?\n",
    "\n",
    "*Bulletin*: I baked bread today; I sold some pots today\n",
    "\n",
    "*Glory*: The slaves won the battle! The emperor won the battle! The gods helped us win the battle!\n",
    "\n",
    "*Literature*: Ovid, Aenid, Homer, Horace: we've got all the classics\n",
    "\n",
    "Now let's see how this data performs with a plain vanilla logistic regression model.\n",
    "\n",
    "### Another plain vanilla logistic regression with the new categories"
   ]
  },
  {
   "cell_type": "code",
   "execution_count": 40,
   "metadata": {
    "scrolled": true
   },
   "outputs": [],
   "source": [
    "#Prepare the data\n",
    "\n",
    "df = copy.deepcopy(df_clean)\n",
    "\n",
    "#Make categories\n",
    "df['Literacy'] = df['Literacy'].astype('category')\n",
    "df['Position'] = df['Position'].astype('category')\n",
    "df['Building Type'] = df['Building Type'].astype('category')\n",
    "df['Famous House'] = df['Famous House'].astype('bool').astype('category')\n",
    "df['Socio-economic status'] = df['Socio-economic status'].astype('category')\n",
    "df['Writer'] = df['Writer'].astype('bool').astype('category')\n",
    "df['Category'] = df['Category'].astype('category')\n",
    "df['Imperative'] = df['Imperative'].astype('bool').astype('category')\n",
    "\n",
    "#Continuous data: 'Reggio', 'Insula', 'Characters', 'Flohr Score'\n",
    "\n",
    "#Get dummies\n",
    "literacy_dummies = pd.get_dummies(df['Literacy'], prefix = 'Literacy')\n",
    "position_dummies = pd.get_dummies(df['Position'], prefix = 'Position')\n",
    "build_type_dummies = pd.get_dummies(df['Building Type'], prefix = 'Building_Type')\n",
    "famous_dummies = pd.get_dummies(df['Famous House'], prefix = 'Famous')\n",
    "econ_status_dummies = pd.get_dummies(df['Socio-economic status'], prefix = 'Econ_Status')\n",
    "writer_dummies = pd.get_dummies(df['Writer'], prefix = 'Writer')\n",
    "imperative_dummies = pd.get_dummies(df['Imperative'], prefix = 'Imperative')\n",
    "\n",
    "X = df.drop(['CIL IV #', 'Entrance', 'Literacy', 'In English', \n",
    "             'Position', 'Building Type', \n",
    "             'Famous House', 'Category', 'Socio-economic status',\n",
    "             'Writer', 'Imperative'\n",
    "            ], axis = 1)\n",
    "X = pd.concat([X, literacy_dummies, position_dummies, build_type_dummies, \n",
    "               famous_dummies, econ_status_dummies, writer_dummies,\n",
    "             imperative_dummies\n",
    "              ], axis = 1)\n",
    "\n",
    "y = df['Category']\n",
    "\n",
    "#Create a train/test split\n",
    "X_train, X_test, y_train, y_test = train_test_split(X, y, random_state=12)\n",
    "#print(y_train.value_counts(),'\\n', y_test.value_counts())"
   ]
  },
  {
   "cell_type": "code",
   "execution_count": 44,
   "metadata": {},
   "outputs": [
    {
     "data": {
      "image/png": "[encoded data removed]",
      "text/plain": [
       "<Figure size 432x288 with 2 Axes>"
      ]
     },
     "metadata": {
      "needs_background": "light"
     },
     "output_type": "display_data"
    }
   ],
   "source": [
    "#Build a logistic regression model\n",
    "logreg = LogisticRegression(fit_intercept=False, C=1e16)\n",
    "\n",
    "Fit the classifier to the training data\n",
    "logreg.fit(X_train, y_train)\n",
    "\n",
    "#Generate predicted y values for training set\n",
    "y_hat_train = logreg.predict(X_train)\n",
    "\n",
    "#Generate predicted y values for testing set\n",
    "y_hat_test = logreg.predict(X_test)\n",
    "\n",
    "#Create a confusion matrix for the training set\n",
    "conf_matrix_train = confusion_matrix(y_hat_train, y_train)\n",
    "#Create a confusion matrix for the testing set\n",
    "conf_matrix_test = confusion_matrix(y_hat_test, y_test)\n",
    "\n",
    "#Create labels for the classes in the conf matrix\n",
    "class_names = set(y)\n",
    "#Draw a figure\n",
    "#plt.figure(figsize = (8,8))\n",
    "#Call the custom function to draw the conf matrix\n",
    "plot_conf_matrix(conf_matrix_train, title = 'Training set', classes = class_names)"
   ]
  },
  {
   "cell_type": "code",
   "execution_count": 42,
   "metadata": {},
   "outputs": [
    {
     "name": "stdout",
     "output_type": "stream",
     "text": [
      "             precision    recall  f1-score   support\n",
      "\n",
      "      Glory       0.34      0.50      0.40       108\n",
      "   Bulletin       0.54      0.44      0.48        91\n",
      "     Gossip       0.40      0.27      0.32       111\n",
      "       Love       0.43      0.47      0.45       113\n",
      "       Lewd       0.54      0.48      0.51       128\n",
      " Literature       0.79      0.99      0.88        89\n",
      "       Hail       0.39      0.32      0.35       105\n",
      "\n",
      "avg / total       0.48      0.48      0.48       745\n",
      "\n"
     ]
    }
   ],
   "source": [
    "print(classification_report(y_train, y_hat_train, target_names = class_names))"
   ]
  },
  {
   "cell_type": "code",
   "execution_count": 45,
   "metadata": {},
   "outputs": [
    {
     "data": {
      "image/png": "[encoded data removed]",
      "text/plain": [
       "<Figure size 432x288 with 2 Axes>"
      ]
     },
     "metadata": {
      "needs_background": "light"
     },
     "output_type": "display_data"
    }
   ],
   "source": [
    "#plt.figure(figsize = (8,8))\n",
    "#Call the custom function to draw the conf matrix\n",
    "plot_conf_matrix(conf_matrix_test, title = 'Test set', classes = class_names)"
   ]
  },
  {
   "cell_type": "code",
   "execution_count": 47,
   "metadata": {},
   "outputs": [
    {
     "name": "stdout",
     "output_type": "stream",
     "text": [
      "             precision    recall  f1-score   support\n",
      "\n",
      " Literature       0.25      0.42      0.31        26\n",
      "      Glory       0.44      0.29      0.35        41\n",
      "       Lewd       0.28      0.22      0.25        36\n",
      "       Hail       0.40      0.51      0.45        39\n",
      "   Bulletin       0.27      0.40      0.32        30\n",
      "     Gossip       0.88      0.86      0.87        35\n",
      "       Love       0.15      0.07      0.10        42\n",
      "\n",
      "avg / total       0.38      0.39      0.37       249\n",
      "\n"
     ]
    }
   ],
   "source": [
    "print(classification_report(y_test, y_hat_test, target_names = class_names))"
   ]
  },
  {
   "cell_type": "markdown",
   "metadata": {},
   "source": [
    "The first model could only classify 3 out of 11 categories. The second model can classify all 7 of its categories, and it does a good job on 4 out of 7. Its accuracy is actually slightly lower than the first."
   ]
  },
  {
   "cell_type": "markdown",
   "metadata": {},
   "source": [
    "<a id = 'model1'></a>"
   ]
  },
  {
   "cell_type": "markdown",
   "metadata": {},
   "source": [
    "[(Back to top)](#top)\n",
    "\n",
    "# Modeling: Model \\#1"
   ]
  },
  {
   "cell_type": "code",
   "execution_count": null,
   "metadata": {},
   "outputs": [],
   "source": []
  },
  {
   "cell_type": "code",
   "execution_count": null,
   "metadata": {},
   "outputs": [],
   "source": []
  },
  {
   "cell_type": "code",
   "execution_count": null,
   "metadata": {},
   "outputs": [],
   "source": []
  },
  {
   "cell_type": "markdown",
   "metadata": {},
   "source": [
    "<a id = 'model2'></a>"
   ]
  },
  {
   "cell_type": "markdown",
   "metadata": {},
   "source": [
    "[(Back to top)](#top)\n",
    "\n",
    "# Model \\#2"
   ]
  },
  {
   "cell_type": "markdown",
   "metadata": {},
   "source": [
    "## Decision trees"
   ]
  },
  {
   "cell_type": "code",
   "execution_count": 60,
   "metadata": {},
   "outputs": [],
   "source": [
    "df = copy.deepcopy(df_clean)"
   ]
  },
  {
   "cell_type": "markdown",
   "metadata": {},
   "source": [
    "Preparing the data:"
   ]
  },
  {
   "cell_type": "code",
   "execution_count": 63,
   "metadata": {},
   "outputs": [
    {
     "name": "stderr",
     "output_type": "stream",
     "text": [
      "/Users/ssrosa/anaconda3/envs/learn-env/lib/python3.6/site-packages/sklearn/preprocessing/_encoders.py:368: FutureWarning: The handling of integer data will change in version 0.22. Currently, the categories are determined based on the range [0, max(values)], while in the future they will be determined based on the unique values.\n",
      "If you want the future behaviour and silence this warning, you can specify \"categories='auto'\".\n",
      "In case you used a LabelEncoder before this OneHotEncoder to convert the categories to integers, then you can now use the OneHotEncoder directly.\n",
      "  warnings.warn(msg, FutureWarning)\n",
      "/Users/ssrosa/anaconda3/envs/learn-env/lib/python3.6/site-packages/pandas/core/frame.py:3697: SettingWithCopyWarning: \n",
      "A value is trying to be set on a copy of a slice from a DataFrame\n",
      "\n",
      "See the caveats in the documentation: http://pandas.pydata.org/pandas-docs/stable/indexing.html#indexing-view-versus-copy\n",
      "  errors=errors)\n"
     ]
    }
   ],
   "source": [
    "class_names = set(df['Category'])\n",
    "\n",
    "# Create label encoder instance\n",
    "lb = LabelEncoder() \n",
    "\n",
    "# Create Numerical labels for categorical columns\n",
    "df['Literacy_'] = lb.fit_transform(df['Literacy'])\n",
    "df['Position_'] = lb.fit_transform(df['Position'])\n",
    "df['Build_Type_'] = lb.fit_transform(df['Building Type'])\n",
    "df['Famous_'] = lb.fit_transform(df['Famous House'])\n",
    "df['Writer_'] = lb.fit_transform(df['Writer'])\n",
    "df['Econ_Status_'] = lb.fit_transform(df['Socio-economic status'])\n",
    "df['Imperative_'] = lb.fit_transform(df['Imperative'])\n",
    "#the target\n",
    "df['Category_'] = lb.fit_transform(df['Category'])\n",
    "\n",
    "columns_to_encode = ['Literacy_', 'Position_', 'Build_Type_', \n",
    "                     'Famous_', 'Writer_', 'Econ_Status_', \n",
    "                     'Imperative_'\n",
    "                    ]\n",
    "\n",
    "columns_continuous = ['Reggio', 'Insula', 'Flohr Score', \n",
    "                      'Characters'\n",
    "                     ]\n",
    "\n",
    "# Split features and target variable\n",
    "#X = df[columns_to_encode,]\n",
    "y = df['Category_']\n",
    "\n",
    "# Instantiate a one hot encoder\n",
    "enc = OneHotEncoder()\n",
    "\n",
    "# Fit the feature set X\n",
    "enc.fit(df[columns_to_encode])\n",
    "\n",
    "# Transform X's encoded columns to onehot array \n",
    "onehotX = enc.transform(df[columns_to_encode])\n",
    "\n",
    "#Convert the sparse matrix back into a DF\n",
    "X_onehot = pd.DataFrame(onehotX.todense())\n",
    "#Get just the continuous columns\n",
    "continuous = df[columns_continuous]\n",
    "#Have to reset the index so the rows will line up with\n",
    "#the rows in the encoded set\n",
    "continuous.reset_index(inplace = True)\n",
    "continuous.drop(['index'], axis = 1, inplace = True)\n",
    "\n",
    "#Bring back together the encoded columns and the continuous columns\n",
    "X = pd.concat([X_onehot, continuous], axis = 1)\n",
    "\n",
    "# Create a 70/30 split\n",
    "X_train, X_test, y_train, y_test = train_test_split(X, y, test_size = 0.3, random_state = 12)"
   ]
  },
  {
   "cell_type": "markdown",
   "metadata": {},
   "source": [
    "## A plain vanilla decision tree"
   ]
  },
  {
   "cell_type": "code",
   "execution_count": 64,
   "metadata": {},
   "outputs": [],
   "source": [
    "# Train the classifier and make predictions\n",
    "clf = DecisionTreeClassifier(criterion = 'entropy')\n",
    "clf.fit(X_train,y_train) \n",
    "y_hat_train = clf.predict(X_train)\n",
    "y_hat_test = clf.predict(X_test)"
   ]
  },
  {
   "cell_type": "markdown",
   "metadata": {},
   "source": [
    "### Visualize the result"
   ]
  },
  {
   "cell_type": "code",
   "execution_count": 50,
   "metadata": {
    "scrolled": true
   },
   "outputs": [
    {
     "data": {
      "image/png": "[encoded data removed]",
      "text/plain": [
       "<Figure size 432x288 with 2 Axes>"
      ]
     },
     "metadata": {
      "needs_background": "light"
     },
     "output_type": "display_data"
    }
   ],
   "source": [
    "#Create confusion matrices with the results\n",
    "\n",
    "class_names = set(df['Category'])\n",
    "\n",
    "#A CM for the training set\n",
    "conf_matrix_train = confusion_matrix(y_hat_train, y_train)\n",
    "#A CM for the test set\n",
    "conf_matrix_test = confusion_matrix(y_hat_test, y_test)\n",
    "\n",
    "#Draw the training CM\n",
    "plot_conf_matrix(conf_matrix_train, title = 'Training set', classes = class_names)"
   ]
  },
  {
   "cell_type": "code",
   "execution_count": 65,
   "metadata": {
    "scrolled": true
   },
   "outputs": [
    {
     "name": "stdout",
     "output_type": "stream",
     "text": [
      "              precision    recall  f1-score   support\n",
      "\n",
      "       Glory       0.98      1.00      0.99       102\n",
      "        Hail       1.00      1.00      1.00        88\n",
      "        Love       0.98      1.00      0.99        95\n",
      "        Lewd       0.99      0.99      0.99       107\n",
      "  Literature       0.97      0.97      0.97       120\n",
      "    Bulletin       1.00      0.99      0.99        85\n",
      "      Gossip       1.00      0.96      0.98        98\n",
      "\n",
      "   micro avg       0.99      0.99      0.99       695\n",
      "   macro avg       0.99      0.99      0.99       695\n",
      "weighted avg       0.99      0.99      0.99       695\n",
      "\n"
     ]
    }
   ],
   "source": [
    "print(classification_report(y_train, y_hat_train, target_names = class_names))"
   ]
  },
  {
   "cell_type": "markdown",
   "metadata": {},
   "source": [
    "Very over-fitted!"
   ]
  },
  {
   "cell_type": "code",
   "execution_count": 52,
   "metadata": {},
   "outputs": [
    {
     "data": {
      "image/png": "[encoded data removed]",
      "text/plain": [
       "<Figure size 432x288 with 2 Axes>"
      ]
     },
     "metadata": {
      "needs_background": "light"
     },
     "output_type": "display_data"
    }
   ],
   "source": [
    "#Draw the test CM\n",
    "plot_conf_matrix(conf_matrix_test, title = 'Test set', classes = class_names)"
   ]
  },
  {
   "cell_type": "code",
   "execution_count": 66,
   "metadata": {},
   "outputs": [
    {
     "name": "stdout",
     "output_type": "stream",
     "text": [
      "              precision    recall  f1-score   support\n",
      "\n",
      "       Glory       0.30      0.53      0.39        32\n",
      "        Hail       0.19      0.11      0.14        44\n",
      "        Love       0.24      0.19      0.22        52\n",
      "        Lewd       0.32      0.42      0.37        45\n",
      "  Literature       0.29      0.32      0.30        38\n",
      "    Bulletin       0.86      0.79      0.83        39\n",
      "      Gossip       0.15      0.12      0.13        49\n",
      "\n",
      "   micro avg       0.33      0.33      0.33       299\n",
      "   macro avg       0.34      0.36      0.34       299\n",
      "weighted avg       0.33      0.33      0.32       299\n",
      "\n"
     ]
    }
   ],
   "source": [
    "print(classification_report(y_test, y_hat_test, target_names = class_names))"
   ]
  },
  {
   "cell_type": "code",
   "execution_count": 57,
   "metadata": {},
   "outputs": [],
   "source": [
    "#Image = draw_graph(clf)"
   ]
  },
  {
   "cell_type": "markdown",
   "metadata": {},
   "source": [
    "In looking at the graph I notice that X_54, 'Characters' appears again and again."
   ]
  },
  {
   "cell_type": "markdown",
   "metadata": {},
   "source": [
    "\n",
    "\n"
   ]
  },
  {
   "cell_type": "code",
   "execution_count": 67,
   "metadata": {
    "scrolled": true
   },
   "outputs": [
    {
     "name": "stdout",
     "output_type": "stream",
     "text": [
      "Features: 55\n",
      "Tree depth: 21\n",
      "Nodes and leaves: 731\n",
      "\"Capacity\": 731\n"
     ]
    }
   ],
   "source": [
    "#MAybe useful for interpreting graph\n",
    "print('Features:', clf.n_features_)\n",
    "print('Tree depth:', clf.tree_.max_depth)\n",
    "print('Nodes and leaves:', clf.tree_.node_count)\n",
    "print('\"Capacity\":', clf.tree_.capacity)"
   ]
  },
  {
   "cell_type": "markdown",
   "metadata": {},
   "source": [
    "Accuracy is lower than plain vanilla logistic regression. \n",
    "\n",
    "Decision tree is very complex.\n",
    "\n",
    "Needs hyperparameter tuning."
   ]
  },
  {
   "cell_type": "markdown",
   "metadata": {},
   "source": [
    "What about with the gini coefficient instead?"
   ]
  },
  {
   "cell_type": "code",
   "execution_count": 56,
   "metadata": {},
   "outputs": [],
   "source": [
    "# Train the classifier and make predictions\n",
    "clf = DecisionTreeClassifier(criterion = 'gini')\n",
    "clf.fit(X_train,y_train) \n",
    "y_hat_train = clf.predict(X_train)\n",
    "y_hat_test = clf.predict(X_test)"
   ]
  },
  {
   "cell_type": "code",
   "execution_count": 63,
   "metadata": {},
   "outputs": [],
   "source": [
    "#Create confusion matrices with the results\n",
    "\n",
    "class_names = set(df['Category'])\n",
    "\n",
    "#A CM for the training set\n",
    "conf_matrix_train = confusion_matrix(y_hat_train, y_train)\n",
    "#A CM for the test set\n",
    "conf_matrix_test = confusion_matrix(y_hat_test, y_test)\n",
    "\n",
    "#Draw the training CM\n",
    "#plot_conf_matrix(conf_matrix_train, title = 'Training set', classes = class_names)"
   ]
  },
  {
   "cell_type": "code",
   "execution_count": 58,
   "metadata": {},
   "outputs": [
    {
     "name": "stdout",
     "output_type": "stream",
     "text": [
      "             precision    recall  f1-score   support\n",
      "\n",
      "      Glory       0.98      1.00      0.99       102\n",
      "   Bulletin       1.00      1.00      1.00        88\n",
      "     Gossip       0.98      1.00      0.99        95\n",
      "       Love       0.99      0.99      0.99       107\n",
      "       Lewd       0.97      0.97      0.97       120\n",
      " Literature       1.00      0.99      0.99        85\n",
      "       Hail       1.00      0.96      0.98        98\n",
      "\n",
      "avg / total       0.99      0.99      0.99       695\n",
      "\n"
     ]
    }
   ],
   "source": [
    "print(classification_report(y_train, y_hat_train, target_names = class_names))"
   ]
  },
  {
   "cell_type": "code",
   "execution_count": 62,
   "metadata": {},
   "outputs": [],
   "source": [
    "#Draw the test CM\n",
    "#plot_conf_matrix(conf_matrix_test, title = 'Test set', classes = class_names)"
   ]
  },
  {
   "cell_type": "code",
   "execution_count": 60,
   "metadata": {},
   "outputs": [
    {
     "name": "stdout",
     "output_type": "stream",
     "text": [
      "             precision    recall  f1-score   support\n",
      "\n",
      "      Glory       0.33      0.44      0.38        32\n",
      "   Bulletin       0.26      0.20      0.23        44\n",
      "     Gossip       0.17      0.15      0.16        52\n",
      "       Love       0.36      0.44      0.40        45\n",
      "       Lewd       0.22      0.26      0.24        38\n",
      " Literature       0.82      0.69      0.75        39\n",
      "       Hail       0.18      0.14      0.16        49\n",
      "\n",
      "avg / total       0.32      0.32      0.32       299\n",
      "\n"
     ]
    }
   ],
   "source": [
    "print(classification_report(y_test, y_hat_test, target_names = class_names))"
   ]
  },
  {
   "cell_type": "code",
   "execution_count": 61,
   "metadata": {},
   "outputs": [
    {
     "name": "stdout",
     "output_type": "stream",
     "text": [
      "Features: 55\n",
      "Tree depth: 22\n",
      "Nodes and leaves: 725\n",
      "\"Capacity\": 725\n"
     ]
    }
   ],
   "source": [
    "#MAybe useful for interpreting graph\n",
    "print('Features:', clf.n_features_)\n",
    "print('Tree depth:', clf.tree_.max_depth)\n",
    "print('Nodes and leaves:', clf.tree_.node_count)\n",
    "print('\"Capacity\":', clf.tree_.capacity)\n"
   ]
  },
  {
   "cell_type": "markdown",
   "metadata": {},
   "source": [
    "Has just slightly lower accuracy scores and 10 fewer nodes than when measuring entropy."
   ]
  },
  {
   "cell_type": "code",
   "execution_count": null,
   "metadata": {},
   "outputs": [],
   "source": []
  },
  {
   "cell_type": "code",
   "execution_count": null,
   "metadata": {},
   "outputs": [],
   "source": []
  },
  {
   "cell_type": "code",
   "execution_count": null,
   "metadata": {},
   "outputs": [],
   "source": []
  },
  {
   "cell_type": "code",
   "execution_count": null,
   "metadata": {},
   "outputs": [],
   "source": []
  },
  {
   "cell_type": "code",
   "execution_count": null,
   "metadata": {},
   "outputs": [],
   "source": []
  },
  {
   "cell_type": "code",
   "execution_count": null,
   "metadata": {},
   "outputs": [],
   "source": []
  },
  {
   "cell_type": "code",
   "execution_count": null,
   "metadata": {},
   "outputs": [],
   "source": []
  },
  {
   "cell_type": "code",
   "execution_count": null,
   "metadata": {},
   "outputs": [],
   "source": []
  },
  {
   "cell_type": "code",
   "execution_count": null,
   "metadata": {},
   "outputs": [],
   "source": []
  },
  {
   "cell_type": "code",
   "execution_count": null,
   "metadata": {},
   "outputs": [],
   "source": []
  },
  {
   "cell_type": "markdown",
   "metadata": {},
   "source": [
    "<a id = 'tree_tuning_hypers'></a>"
   ]
  },
  {
   "cell_type": "markdown",
   "metadata": {},
   "source": [
    "[(Back to top)](#top)\n",
    "\n",
    "## Tuning hyperparameters for the decision tree"
   ]
  },
  {
   "cell_type": "code",
   "execution_count": 68,
   "metadata": {},
   "outputs": [],
   "source": [
    "#Build a generic dataframe to store precision, recall, \n",
    "#and f1 of each decision tree classifier\n",
    "#The score columns\n",
    "score_columns = ['param_values', 'prec_train', 'prec_test', \n",
    "                                 'recall_train', 'recall_test', \n",
    "                                 'f1_train', 'f1_test']\n",
    "#Instantiate a generic df to use for each\n",
    "score_df = pd.DataFrame(columns = score_columns)"
   ]
  },
  {
   "cell_type": "markdown",
   "metadata": {},
   "source": [
    "### Compare values of max_depth"
   ]
  },
  {
   "cell_type": "code",
   "execution_count": 83,
   "metadata": {},
   "outputs": [
    {
     "name": "stdout",
     "output_type": "stream",
     "text": [
      "Max depth of original tree: 21\n"
     ]
    }
   ],
   "source": [
    "print('Max depth of original tree:', clf.tree_.max_depth)"
   ]
  },
  {
   "cell_type": "code",
   "execution_count": 179,
   "metadata": {
    "scrolled": true
   },
   "outputs": [
    {
     "name": "stderr",
     "output_type": "stream",
     "text": [
      "/Users/ssrosa/anaconda3/envs/learn-env/lib/python3.6/site-packages/sklearn/metrics/classification.py:1143: UndefinedMetricWarning: Precision is ill-defined and being set to 0.0 in labels with no predicted samples.\n",
      "  'precision', 'predicted', average, warn_for)\n",
      "/Users/ssrosa/anaconda3/envs/learn-env/lib/python3.6/site-packages/sklearn/metrics/classification.py:1143: UndefinedMetricWarning: F-score is ill-defined and being set to 0.0 in labels with no predicted samples.\n",
      "  'precision', 'predicted', average, warn_for)\n"
     ]
    },
    {
     "data": {
      "image/png": "[encoded data removed]",
      "text/plain": [
       "<Figure size 720x432 with 1 Axes>"
      ]
     },
     "metadata": {
      "needs_background": "light"
     },
     "output_type": "display_data"
    },
    {
     "name": "stdout",
     "output_type": "stream",
     "text": [
      "   param_values  prec_train  prec_test  recall_train  recall_test  f1_train  \\\n",
      "0           3.0    0.302982   0.280303      0.374851     0.375712  0.291390   \n",
      "1           6.0    0.614380   0.366182      0.492796     0.377594  0.476358   \n",
      "2           9.0    0.745219   0.372853      0.648158     0.374963  0.659490   \n",
      "3          12.0    0.807545   0.367803      0.757273     0.375876  0.765947   \n",
      "4          15.0    0.881427   0.343453      0.873883     0.365172  0.875165   \n",
      "5          18.0    0.957067   0.334439      0.953585     0.343091  0.954544   \n",
      "6          21.0    0.988250   0.339958      0.987582     0.353243  0.987819   \n",
      "\n",
      "    f1_test  \n",
      "0  0.282083  \n",
      "1  0.346671  \n",
      "2  0.352235  \n",
      "3  0.359382  \n",
      "4  0.346913  \n",
      "5  0.332427  \n",
      "6  0.340081  \n"
     ]
    }
   ],
   "source": [
    "#def hypers(df, params, to_set):\n",
    "depth_df_testing = copy.deepcopy(score_df)\n",
    "#Set values of chosen hyperparameter\n",
    "depth_params = np.arange(3, 22, 3)\n",
    "#Populate df of scores and plot results\n",
    "hypers(depth_df_testing, depth_params, 'depth')"
   ]
  },
  {
   "cell_type": "markdown",
   "metadata": {},
   "source": [
    "# TESTING"
   ]
  },
  {
   "cell_type": "code",
   "execution_count": 180,
   "metadata": {
    "scrolled": true
   },
   "outputs": [
    {
     "data": {
      "text/html": [
       "<div>\n",
       "<style scoped>\n",
       "    .dataframe tbody tr th:only-of-type {\n",
       "        vertical-align: middle;\n",
       "    }\n",
       "\n",
       "    .dataframe tbody tr th {\n",
       "        vertical-align: top;\n",
       "    }\n",
       "\n",
       "    .dataframe thead th {\n",
       "        text-align: right;\n",
       "    }\n",
       "</style>\n",
       "<table border=\"1\" class=\"dataframe\">\n",
       "  <thead>\n",
       "    <tr style=\"text-align: right;\">\n",
       "      <th></th>\n",
       "      <th>param_values</th>\n",
       "      <th>prec_train</th>\n",
       "      <th>prec_test</th>\n",
       "      <th>recall_train</th>\n",
       "      <th>recall_test</th>\n",
       "      <th>f1_train</th>\n",
       "      <th>f1_test</th>\n",
       "    </tr>\n",
       "  </thead>\n",
       "  <tbody>\n",
       "  </tbody>\n",
       "</table>\n",
       "</div>"
      ],
      "text/plain": [
       "Empty DataFrame\n",
       "Columns: [param_values, prec_train, prec_test, recall_train, recall_test, f1_train, f1_test]\n",
       "Index: []"
      ]
     },
     "execution_count": 180,
     "metadata": {},
     "output_type": "execute_result"
    }
   ],
   "source": [
    "depth_df_testing"
   ]
  },
  {
   "cell_type": "code",
   "execution_count": 181,
   "metadata": {},
   "outputs": [
    {
     "data": {
      "text/html": [
       "<div>\n",
       "<style scoped>\n",
       "    .dataframe tbody tr th:only-of-type {\n",
       "        vertical-align: middle;\n",
       "    }\n",
       "\n",
       "    .dataframe tbody tr th {\n",
       "        vertical-align: top;\n",
       "    }\n",
       "\n",
       "    .dataframe thead th {\n",
       "        text-align: right;\n",
       "    }\n",
       "</style>\n",
       "<table border=\"1\" class=\"dataframe\">\n",
       "  <thead>\n",
       "    <tr style=\"text-align: right;\">\n",
       "      <th></th>\n",
       "      <th>param_values</th>\n",
       "      <th>prec_train</th>\n",
       "      <th>prec_test</th>\n",
       "      <th>recall_train</th>\n",
       "      <th>recall_test</th>\n",
       "      <th>f1_train</th>\n",
       "      <th>f1_test</th>\n",
       "    </tr>\n",
       "  </thead>\n",
       "  <tbody>\n",
       "  </tbody>\n",
       "</table>\n",
       "</div>"
      ],
      "text/plain": [
       "Empty DataFrame\n",
       "Columns: [param_values, prec_train, prec_test, recall_train, recall_test, f1_train, f1_test]\n",
       "Index: []"
      ]
     },
     "execution_count": 181,
     "metadata": {},
     "output_type": "execute_result"
    }
   ],
   "source": [
    "score_df"
   ]
  },
  {
   "cell_type": "code",
   "execution_count": 231,
   "metadata": {},
   "outputs": [],
   "source": [
    "############### TESTING ##################\n",
    "#def compare_hypers(df, index, to_set, param, X_train, X_test, y_train, y_test):\n",
    "#def hypers(df, params, to_set):\n",
    "depth_df_testing = copy.deepcopy(score_df)\n",
    "#Set values of chosen hyperparameter\n",
    "depth_params = np.arange(3, 22, 3)"
   ]
  },
  {
   "cell_type": "code",
   "execution_count": 232,
   "metadata": {},
   "outputs": [],
   "source": [
    "############### TESTING ##################\n",
    "#Create rows for df with values of hyperparameter\n",
    "for param in depth_params:\n",
    "    depth_df_testing = depth_df_testing.append({'param_values': param}, ignore_index = True)"
   ]
  },
  {
   "cell_type": "code",
   "execution_count": 233,
   "metadata": {
    "collapsed": true
   },
   "outputs": [
    {
     "data": {
      "text/html": [
       "<div>\n",
       "<style scoped>\n",
       "    .dataframe tbody tr th:only-of-type {\n",
       "        vertical-align: middle;\n",
       "    }\n",
       "\n",
       "    .dataframe tbody tr th {\n",
       "        vertical-align: top;\n",
       "    }\n",
       "\n",
       "    .dataframe thead th {\n",
       "        text-align: right;\n",
       "    }\n",
       "</style>\n",
       "<table border=\"1\" class=\"dataframe\">\n",
       "  <thead>\n",
       "    <tr style=\"text-align: right;\">\n",
       "      <th></th>\n",
       "      <th>param_values</th>\n",
       "      <th>prec_train</th>\n",
       "      <th>prec_test</th>\n",
       "      <th>recall_train</th>\n",
       "      <th>recall_test</th>\n",
       "      <th>f1_train</th>\n",
       "      <th>f1_test</th>\n",
       "    </tr>\n",
       "  </thead>\n",
       "  <tbody>\n",
       "    <tr>\n",
       "      <th>0</th>\n",
       "      <td>3.0</td>\n",
       "      <td>NaN</td>\n",
       "      <td>NaN</td>\n",
       "      <td>NaN</td>\n",
       "      <td>NaN</td>\n",
       "      <td>NaN</td>\n",
       "      <td>NaN</td>\n",
       "    </tr>\n",
       "    <tr>\n",
       "      <th>1</th>\n",
       "      <td>6.0</td>\n",
       "      <td>NaN</td>\n",
       "      <td>NaN</td>\n",
       "      <td>NaN</td>\n",
       "      <td>NaN</td>\n",
       "      <td>NaN</td>\n",
       "      <td>NaN</td>\n",
       "    </tr>\n",
       "    <tr>\n",
       "      <th>2</th>\n",
       "      <td>9.0</td>\n",
       "      <td>NaN</td>\n",
       "      <td>NaN</td>\n",
       "      <td>NaN</td>\n",
       "      <td>NaN</td>\n",
       "      <td>NaN</td>\n",
       "      <td>NaN</td>\n",
       "    </tr>\n",
       "    <tr>\n",
       "      <th>3</th>\n",
       "      <td>12.0</td>\n",
       "      <td>NaN</td>\n",
       "      <td>NaN</td>\n",
       "      <td>NaN</td>\n",
       "      <td>NaN</td>\n",
       "      <td>NaN</td>\n",
       "      <td>NaN</td>\n",
       "    </tr>\n",
       "    <tr>\n",
       "      <th>4</th>\n",
       "      <td>15.0</td>\n",
       "      <td>NaN</td>\n",
       "      <td>NaN</td>\n",
       "      <td>NaN</td>\n",
       "      <td>NaN</td>\n",
       "      <td>NaN</td>\n",
       "      <td>NaN</td>\n",
       "    </tr>\n",
       "    <tr>\n",
       "      <th>5</th>\n",
       "      <td>18.0</td>\n",
       "      <td>NaN</td>\n",
       "      <td>NaN</td>\n",
       "      <td>NaN</td>\n",
       "      <td>NaN</td>\n",
       "      <td>NaN</td>\n",
       "      <td>NaN</td>\n",
       "    </tr>\n",
       "    <tr>\n",
       "      <th>6</th>\n",
       "      <td>21.0</td>\n",
       "      <td>NaN</td>\n",
       "      <td>NaN</td>\n",
       "      <td>NaN</td>\n",
       "      <td>NaN</td>\n",
       "      <td>NaN</td>\n",
       "      <td>NaN</td>\n",
       "    </tr>\n",
       "  </tbody>\n",
       "</table>\n",
       "</div>"
      ],
      "text/plain": [
       "   param_values  prec_train  prec_test  recall_train  recall_test  f1_train  \\\n",
       "0           3.0         NaN        NaN           NaN          NaN       NaN   \n",
       "1           6.0         NaN        NaN           NaN          NaN       NaN   \n",
       "2           9.0         NaN        NaN           NaN          NaN       NaN   \n",
       "3          12.0         NaN        NaN           NaN          NaN       NaN   \n",
       "4          15.0         NaN        NaN           NaN          NaN       NaN   \n",
       "5          18.0         NaN        NaN           NaN          NaN       NaN   \n",
       "6          21.0         NaN        NaN           NaN          NaN       NaN   \n",
       "\n",
       "   f1_test  \n",
       "0      NaN  \n",
       "1      NaN  \n",
       "2      NaN  \n",
       "3      NaN  \n",
       "4      NaN  \n",
       "5      NaN  \n",
       "6      NaN  "
      ]
     },
     "execution_count": 233,
     "metadata": {},
     "output_type": "execute_result"
    }
   ],
   "source": [
    "############### TESTING ##################\n",
    "depth_df_testing"
   ]
  },
  {
   "cell_type": "code",
   "execution_count": 226,
   "metadata": {
    "collapsed": true
   },
   "outputs": [
    {
     "name": "stderr",
     "output_type": "stream",
     "text": [
      "/Users/ssrosa/anaconda3/envs/learn-env/lib/python3.6/site-packages/sklearn/metrics/classification.py:1143: UndefinedMetricWarning: Precision is ill-defined and being set to 0.0 in labels with no predicted samples.\n",
      "  'precision', 'predicted', average, warn_for)\n",
      "/Users/ssrosa/anaconda3/envs/learn-env/lib/python3.6/site-packages/sklearn/metrics/classification.py:1143: UndefinedMetricWarning: F-score is ill-defined and being set to 0.0 in labels with no predicted samples.\n",
      "  'precision', 'predicted', average, warn_for)\n"
     ]
    }
   ],
   "source": [
    "############### TESTING ###################\n",
    "#shell for comparing. Doesn't change the df\n",
    "#shell(depth_df_testing, depth_params, 'depth', X_train, X_test, y_train, y_test)"
   ]
  },
  {
   "cell_type": "code",
   "execution_count": 234,
   "metadata": {},
   "outputs": [
    {
     "name": "stderr",
     "output_type": "stream",
     "text": [
      "/Users/ssrosa/anaconda3/envs/learn-env/lib/python3.6/site-packages/sklearn/metrics/classification.py:1143: UndefinedMetricWarning: Precision is ill-defined and being set to 0.0 in labels with no predicted samples.\n",
      "  'precision', 'predicted', average, warn_for)\n",
      "/Users/ssrosa/anaconda3/envs/learn-env/lib/python3.6/site-packages/sklearn/metrics/classification.py:1143: UndefinedMetricWarning: F-score is ill-defined and being set to 0.0 in labels with no predicted samples.\n",
      "  'precision', 'predicted', average, warn_for)\n"
     ]
    }
   ],
   "source": [
    "############### TESTING ##################\n",
    "for index, param in enumerate(depth_params):\n",
    "    compare_hypers(depth_df_testing, index, param, 'depth', X_train, X_test, y_train, y_test)\n",
    "    \n",
    "    "
   ]
  },
  {
   "cell_type": "code",
   "execution_count": 235,
   "metadata": {
    "collapsed": true
   },
   "outputs": [
    {
     "data": {
      "text/html": [
       "<div>\n",
       "<style scoped>\n",
       "    .dataframe tbody tr th:only-of-type {\n",
       "        vertical-align: middle;\n",
       "    }\n",
       "\n",
       "    .dataframe tbody tr th {\n",
       "        vertical-align: top;\n",
       "    }\n",
       "\n",
       "    .dataframe thead th {\n",
       "        text-align: right;\n",
       "    }\n",
       "</style>\n",
       "<table border=\"1\" class=\"dataframe\">\n",
       "  <thead>\n",
       "    <tr style=\"text-align: right;\">\n",
       "      <th></th>\n",
       "      <th>param_values</th>\n",
       "      <th>prec_train</th>\n",
       "      <th>prec_test</th>\n",
       "      <th>recall_train</th>\n",
       "      <th>recall_test</th>\n",
       "      <th>f1_train</th>\n",
       "      <th>f1_test</th>\n",
       "    </tr>\n",
       "  </thead>\n",
       "  <tbody>\n",
       "    <tr>\n",
       "      <th>0</th>\n",
       "      <td>3.0</td>\n",
       "      <td>0.302982</td>\n",
       "      <td>0.280303</td>\n",
       "      <td>0.374851</td>\n",
       "      <td>0.375712</td>\n",
       "      <td>0.291390</td>\n",
       "      <td>0.282083</td>\n",
       "    </tr>\n",
       "    <tr>\n",
       "      <th>1</th>\n",
       "      <td>6.0</td>\n",
       "      <td>0.614380</td>\n",
       "      <td>0.367263</td>\n",
       "      <td>0.492796</td>\n",
       "      <td>0.377594</td>\n",
       "      <td>0.476358</td>\n",
       "      <td>0.347350</td>\n",
       "    </tr>\n",
       "    <tr>\n",
       "      <th>2</th>\n",
       "      <td>9.0</td>\n",
       "      <td>0.743527</td>\n",
       "      <td>0.381055</td>\n",
       "      <td>0.648333</td>\n",
       "      <td>0.378199</td>\n",
       "      <td>0.661109</td>\n",
       "      <td>0.358270</td>\n",
       "    </tr>\n",
       "    <tr>\n",
       "      <th>3</th>\n",
       "      <td>12.0</td>\n",
       "      <td>0.807107</td>\n",
       "      <td>0.366224</td>\n",
       "      <td>0.757585</td>\n",
       "      <td>0.380442</td>\n",
       "      <td>0.766101</td>\n",
       "      <td>0.362329</td>\n",
       "    </tr>\n",
       "    <tr>\n",
       "      <th>4</th>\n",
       "      <td>15.0</td>\n",
       "      <td>0.880670</td>\n",
       "      <td>0.341592</td>\n",
       "      <td>0.874394</td>\n",
       "      <td>0.360281</td>\n",
       "      <td>0.875156</td>\n",
       "      <td>0.342396</td>\n",
       "    </tr>\n",
       "    <tr>\n",
       "      <th>5</th>\n",
       "      <td>18.0</td>\n",
       "      <td>0.955958</td>\n",
       "      <td>0.322348</td>\n",
       "      <td>0.951718</td>\n",
       "      <td>0.338093</td>\n",
       "      <td>0.952828</td>\n",
       "      <td>0.323396</td>\n",
       "    </tr>\n",
       "    <tr>\n",
       "      <th>6</th>\n",
       "      <td>21.0</td>\n",
       "      <td>0.988250</td>\n",
       "      <td>0.349390</td>\n",
       "      <td>0.987582</td>\n",
       "      <td>0.372112</td>\n",
       "      <td>0.987819</td>\n",
       "      <td>0.353535</td>\n",
       "    </tr>\n",
       "  </tbody>\n",
       "</table>\n",
       "</div>"
      ],
      "text/plain": [
       "   param_values  prec_train  prec_test  recall_train  recall_test  f1_train  \\\n",
       "0           3.0    0.302982   0.280303      0.374851     0.375712  0.291390   \n",
       "1           6.0    0.614380   0.367263      0.492796     0.377594  0.476358   \n",
       "2           9.0    0.743527   0.381055      0.648333     0.378199  0.661109   \n",
       "3          12.0    0.807107   0.366224      0.757585     0.380442  0.766101   \n",
       "4          15.0    0.880670   0.341592      0.874394     0.360281  0.875156   \n",
       "5          18.0    0.955958   0.322348      0.951718     0.338093  0.952828   \n",
       "6          21.0    0.988250   0.349390      0.987582     0.372112  0.987819   \n",
       "\n",
       "    f1_test  \n",
       "0  0.282083  \n",
       "1  0.347350  \n",
       "2  0.358270  \n",
       "3  0.362329  \n",
       "4  0.342396  \n",
       "5  0.323396  \n",
       "6  0.353535  "
      ]
     },
     "execution_count": 235,
     "metadata": {},
     "output_type": "execute_result"
    }
   ],
   "source": [
    "############### TESTING ##################\n",
    "depth_df_testing"
   ]
  },
  {
   "cell_type": "code",
   "execution_count": 239,
   "metadata": {
    "collapsed": true
   },
   "outputs": [
    {
     "data": {
      "image/png": "[encoded data removed]",
      "text/plain": [
       "<Figure size 720x432 with 1 Axes>"
      ]
     },
     "metadata": {
      "needs_background": "light"
     },
     "output_type": "display_data"
    }
   ],
   "source": [
    "############### TESTING ##################\n",
    "#shell for plotting.\n",
    "shell(depth_df_testing, 'depth')"
   ]
  },
  {
   "cell_type": "code",
   "execution_count": 228,
   "metadata": {
    "collapsed": true
   },
   "outputs": [
    {
     "data": {
      "image/png": "[encoded data removed]",
      "text/plain": [
       "<Figure size 720x432 with 1 Axes>"
      ]
     },
     "metadata": {
      "needs_background": "light"
     },
     "output_type": "display_data"
    }
   ],
   "source": [
    "############### TESTING ##################\n",
    "plot_hypers(depth_df_testing, 'depth')"
   ]
  },
  {
   "cell_type": "code",
   "execution_count": 240,
   "metadata": {
    "collapsed": true
   },
   "outputs": [
    {
     "data": {
      "text/html": [
       "<div>\n",
       "<style scoped>\n",
       "    .dataframe tbody tr th:only-of-type {\n",
       "        vertical-align: middle;\n",
       "    }\n",
       "\n",
       "    .dataframe tbody tr th {\n",
       "        vertical-align: top;\n",
       "    }\n",
       "\n",
       "    .dataframe thead th {\n",
       "        text-align: right;\n",
       "    }\n",
       "</style>\n",
       "<table border=\"1\" class=\"dataframe\">\n",
       "  <thead>\n",
       "    <tr style=\"text-align: right;\">\n",
       "      <th></th>\n",
       "      <th>param_values</th>\n",
       "      <th>prec_train</th>\n",
       "      <th>prec_test</th>\n",
       "      <th>recall_train</th>\n",
       "      <th>recall_test</th>\n",
       "      <th>f1_train</th>\n",
       "      <th>f1_test</th>\n",
       "    </tr>\n",
       "  </thead>\n",
       "  <tbody>\n",
       "    <tr>\n",
       "      <th>0</th>\n",
       "      <td>3.0</td>\n",
       "      <td>0.302982</td>\n",
       "      <td>0.280303</td>\n",
       "      <td>0.374851</td>\n",
       "      <td>0.375712</td>\n",
       "      <td>0.291390</td>\n",
       "      <td>0.282083</td>\n",
       "    </tr>\n",
       "    <tr>\n",
       "      <th>1</th>\n",
       "      <td>6.0</td>\n",
       "      <td>0.614380</td>\n",
       "      <td>0.367263</td>\n",
       "      <td>0.492796</td>\n",
       "      <td>0.377594</td>\n",
       "      <td>0.476358</td>\n",
       "      <td>0.347350</td>\n",
       "    </tr>\n",
       "    <tr>\n",
       "      <th>2</th>\n",
       "      <td>9.0</td>\n",
       "      <td>0.743527</td>\n",
       "      <td>0.381055</td>\n",
       "      <td>0.648333</td>\n",
       "      <td>0.378199</td>\n",
       "      <td>0.661109</td>\n",
       "      <td>0.358270</td>\n",
       "    </tr>\n",
       "    <tr>\n",
       "      <th>3</th>\n",
       "      <td>12.0</td>\n",
       "      <td>0.807107</td>\n",
       "      <td>0.366224</td>\n",
       "      <td>0.757585</td>\n",
       "      <td>0.380442</td>\n",
       "      <td>0.766101</td>\n",
       "      <td>0.362329</td>\n",
       "    </tr>\n",
       "    <tr>\n",
       "      <th>4</th>\n",
       "      <td>15.0</td>\n",
       "      <td>0.880670</td>\n",
       "      <td>0.341592</td>\n",
       "      <td>0.874394</td>\n",
       "      <td>0.360281</td>\n",
       "      <td>0.875156</td>\n",
       "      <td>0.342396</td>\n",
       "    </tr>\n",
       "    <tr>\n",
       "      <th>5</th>\n",
       "      <td>18.0</td>\n",
       "      <td>0.955958</td>\n",
       "      <td>0.322348</td>\n",
       "      <td>0.951718</td>\n",
       "      <td>0.338093</td>\n",
       "      <td>0.952828</td>\n",
       "      <td>0.323396</td>\n",
       "    </tr>\n",
       "    <tr>\n",
       "      <th>6</th>\n",
       "      <td>21.0</td>\n",
       "      <td>0.988250</td>\n",
       "      <td>0.349390</td>\n",
       "      <td>0.987582</td>\n",
       "      <td>0.372112</td>\n",
       "      <td>0.987819</td>\n",
       "      <td>0.353535</td>\n",
       "    </tr>\n",
       "  </tbody>\n",
       "</table>\n",
       "</div>"
      ],
      "text/plain": [
       "   param_values  prec_train  prec_test  recall_train  recall_test  f1_train  \\\n",
       "0           3.0    0.302982   0.280303      0.374851     0.375712  0.291390   \n",
       "1           6.0    0.614380   0.367263      0.492796     0.377594  0.476358   \n",
       "2           9.0    0.743527   0.381055      0.648333     0.378199  0.661109   \n",
       "3          12.0    0.807107   0.366224      0.757585     0.380442  0.766101   \n",
       "4          15.0    0.880670   0.341592      0.874394     0.360281  0.875156   \n",
       "5          18.0    0.955958   0.322348      0.951718     0.338093  0.952828   \n",
       "6          21.0    0.988250   0.349390      0.987582     0.372112  0.987819   \n",
       "\n",
       "    f1_test  \n",
       "0  0.282083  \n",
       "1  0.347350  \n",
       "2  0.358270  \n",
       "3  0.362329  \n",
       "4  0.342396  \n",
       "5  0.323396  \n",
       "6  0.353535  "
      ]
     },
     "execution_count": 240,
     "metadata": {},
     "output_type": "execute_result"
    }
   ],
   "source": [
    "############### TESTING ##################\n",
    "depth_df_testing #from after the plot shell test."
   ]
  },
  {
   "cell_type": "code",
   "execution_count": 229,
   "metadata": {
    "collapsed": true
   },
   "outputs": [
    {
     "data": {
      "text/html": [
       "<div>\n",
       "<style scoped>\n",
       "    .dataframe tbody tr th:only-of-type {\n",
       "        vertical-align: middle;\n",
       "    }\n",
       "\n",
       "    .dataframe tbody tr th {\n",
       "        vertical-align: top;\n",
       "    }\n",
       "\n",
       "    .dataframe thead th {\n",
       "        text-align: right;\n",
       "    }\n",
       "</style>\n",
       "<table border=\"1\" class=\"dataframe\">\n",
       "  <thead>\n",
       "    <tr style=\"text-align: right;\">\n",
       "      <th></th>\n",
       "      <th>param_values</th>\n",
       "      <th>prec_train</th>\n",
       "      <th>prec_test</th>\n",
       "      <th>recall_train</th>\n",
       "      <th>recall_test</th>\n",
       "      <th>f1_train</th>\n",
       "      <th>f1_test</th>\n",
       "    </tr>\n",
       "  </thead>\n",
       "  <tbody>\n",
       "    <tr>\n",
       "      <th>0</th>\n",
       "      <td>3.0</td>\n",
       "      <td>0.302982</td>\n",
       "      <td>0.280303</td>\n",
       "      <td>0.374851</td>\n",
       "      <td>0.375712</td>\n",
       "      <td>0.291390</td>\n",
       "      <td>0.282083</td>\n",
       "    </tr>\n",
       "    <tr>\n",
       "      <th>1</th>\n",
       "      <td>6.0</td>\n",
       "      <td>0.614380</td>\n",
       "      <td>0.367263</td>\n",
       "      <td>0.492796</td>\n",
       "      <td>0.377594</td>\n",
       "      <td>0.476358</td>\n",
       "      <td>0.347350</td>\n",
       "    </tr>\n",
       "    <tr>\n",
       "      <th>2</th>\n",
       "      <td>9.0</td>\n",
       "      <td>0.746821</td>\n",
       "      <td>0.369077</td>\n",
       "      <td>0.648158</td>\n",
       "      <td>0.370331</td>\n",
       "      <td>0.660151</td>\n",
       "      <td>0.346713</td>\n",
       "    </tr>\n",
       "    <tr>\n",
       "      <th>3</th>\n",
       "      <td>12.0</td>\n",
       "      <td>0.806614</td>\n",
       "      <td>0.359921</td>\n",
       "      <td>0.757442</td>\n",
       "      <td>0.379244</td>\n",
       "      <td>0.766033</td>\n",
       "      <td>0.358906</td>\n",
       "    </tr>\n",
       "    <tr>\n",
       "      <th>4</th>\n",
       "      <td>15.0</td>\n",
       "      <td>0.883716</td>\n",
       "      <td>0.369748</td>\n",
       "      <td>0.877149</td>\n",
       "      <td>0.378551</td>\n",
       "      <td>0.877994</td>\n",
       "      <td>0.364403</td>\n",
       "    </tr>\n",
       "    <tr>\n",
       "      <th>5</th>\n",
       "      <td>18.0</td>\n",
       "      <td>0.959417</td>\n",
       "      <td>0.337306</td>\n",
       "      <td>0.956370</td>\n",
       "      <td>0.351797</td>\n",
       "      <td>0.957233</td>\n",
       "      <td>0.338032</td>\n",
       "    </tr>\n",
       "    <tr>\n",
       "      <th>6</th>\n",
       "      <td>21.0</td>\n",
       "      <td>0.986885</td>\n",
       "      <td>0.348236</td>\n",
       "      <td>0.986078</td>\n",
       "      <td>0.359111</td>\n",
       "      <td>0.986380</td>\n",
       "      <td>0.347506</td>\n",
       "    </tr>\n",
       "  </tbody>\n",
       "</table>\n",
       "</div>"
      ],
      "text/plain": [
       "   param_values  prec_train  prec_test  recall_train  recall_test  f1_train  \\\n",
       "0           3.0    0.302982   0.280303      0.374851     0.375712  0.291390   \n",
       "1           6.0    0.614380   0.367263      0.492796     0.377594  0.476358   \n",
       "2           9.0    0.746821   0.369077      0.648158     0.370331  0.660151   \n",
       "3          12.0    0.806614   0.359921      0.757442     0.379244  0.766033   \n",
       "4          15.0    0.883716   0.369748      0.877149     0.378551  0.877994   \n",
       "5          18.0    0.959417   0.337306      0.956370     0.351797  0.957233   \n",
       "6          21.0    0.986885   0.348236      0.986078     0.359111  0.986380   \n",
       "\n",
       "    f1_test  \n",
       "0  0.282083  \n",
       "1  0.347350  \n",
       "2  0.346713  \n",
       "3  0.358906  \n",
       "4  0.364403  \n",
       "5  0.338032  \n",
       "6  0.347506  "
      ]
     },
     "execution_count": 229,
     "metadata": {},
     "output_type": "execute_result"
    }
   ],
   "source": [
    "############### TESTING ##################\n",
    "depth_df_testing #from after the compare shell test"
   ]
  },
  {
   "cell_type": "code",
   "execution_count": 218,
   "metadata": {},
   "outputs": [],
   "source": [
    "############### TESTING ##################\n",
    "depth_df_testing2 = copy.deepcopy(score_df)\n",
    "#Set values of chosen hyperparameter\n",
    "depth_params = np.arange(3, 22, 3)\n",
    "\n"
   ]
  },
  {
   "cell_type": "code",
   "execution_count": 220,
   "metadata": {
    "collapsed": true
   },
   "outputs": [
    {
     "name": "stderr",
     "output_type": "stream",
     "text": [
      "/Users/ssrosa/anaconda3/envs/learn-env/lib/python3.6/site-packages/sklearn/metrics/classification.py:1143: UndefinedMetricWarning: Precision is ill-defined and being set to 0.0 in labels with no predicted samples.\n",
      "  'precision', 'predicted', average, warn_for)\n",
      "/Users/ssrosa/anaconda3/envs/learn-env/lib/python3.6/site-packages/sklearn/metrics/classification.py:1143: UndefinedMetricWarning: F-score is ill-defined and being set to 0.0 in labels with no predicted samples.\n",
      "  'precision', 'predicted', average, warn_for)\n"
     ]
    },
    {
     "data": {
      "image/png": "[encoded data removed]",
      "text/plain": [
       "<Figure size 720x432 with 1 Axes>"
      ]
     },
     "metadata": {
      "needs_background": "light"
     },
     "output_type": "display_data"
    },
    {
     "name": "stdout",
     "output_type": "stream",
     "text": [
      "   param_values  prec_train  prec_test  recall_train  recall_test  f1_train  \\\n",
      "0           3.0    0.302982   0.280303      0.374851     0.375712  0.291390   \n",
      "1           6.0    0.614380   0.369267      0.492796     0.377594  0.476358   \n",
      "2           9.0    0.745219   0.365352      0.648158     0.366523  0.659490   \n",
      "3          12.0    0.805486   0.347011      0.757278     0.359002  0.765145   \n",
      "4          15.0    0.881955   0.356262      0.875460     0.369767  0.876616   \n",
      "5          18.0    0.956676   0.326949      0.951450     0.347430  0.953004   \n",
      "6          21.0    0.988250   0.341809      0.987582     0.357117  0.987819   \n",
      "\n",
      "    f1_test  \n",
      "0  0.282083  \n",
      "1  0.348193  \n",
      "2  0.347600  \n",
      "3  0.340550  \n",
      "4  0.351500  \n",
      "5  0.329163  \n",
      "6  0.342366  \n"
     ]
    }
   ],
   "source": [
    "############### TESTING ##################\n",
    "\n",
    "#hypers(depth_df_testing2, depth_params, 'depth', X_train, X_test, y_train, y_test)\n",
    "\n"
   ]
  },
  {
   "cell_type": "code",
   "execution_count": 221,
   "metadata": {
    "collapsed": true
   },
   "outputs": [
    {
     "data": {
      "text/html": [
       "<div>\n",
       "<style scoped>\n",
       "    .dataframe tbody tr th:only-of-type {\n",
       "        vertical-align: middle;\n",
       "    }\n",
       "\n",
       "    .dataframe tbody tr th {\n",
       "        vertical-align: top;\n",
       "    }\n",
       "\n",
       "    .dataframe thead th {\n",
       "        text-align: right;\n",
       "    }\n",
       "</style>\n",
       "<table border=\"1\" class=\"dataframe\">\n",
       "  <thead>\n",
       "    <tr style=\"text-align: right;\">\n",
       "      <th></th>\n",
       "      <th>param_values</th>\n",
       "      <th>prec_train</th>\n",
       "      <th>prec_test</th>\n",
       "      <th>recall_train</th>\n",
       "      <th>recall_test</th>\n",
       "      <th>f1_train</th>\n",
       "      <th>f1_test</th>\n",
       "    </tr>\n",
       "  </thead>\n",
       "  <tbody>\n",
       "  </tbody>\n",
       "</table>\n",
       "</div>"
      ],
      "text/plain": [
       "Empty DataFrame\n",
       "Columns: [param_values, prec_train, prec_test, recall_train, recall_test, f1_train, f1_test]\n",
       "Index: []"
      ]
     },
     "execution_count": 221,
     "metadata": {},
     "output_type": "execute_result"
    }
   ],
   "source": [
    "############### TESTING ##################\n",
    "depth_df_testing2\n"
   ]
  },
  {
   "cell_type": "code",
   "execution_count": null,
   "metadata": {},
   "outputs": [],
   "source": [
    "############### TESTING ##################\n",
    "#def shell(df, params, to_set, X_train, X_test, y_train, y_test):\n"
   ]
  },
  {
   "cell_type": "code",
   "execution_count": 255,
   "metadata": {},
   "outputs": [],
   "source": [
    "############### TESTING ##################\n",
    "testing3 = copy.deepcopy(score_df)\n",
    "#Set values of chosen hyperparameter\n",
    "test_params = np.arange(3, 22, 3)\n"
   ]
  },
  {
   "cell_type": "code",
   "execution_count": 258,
   "metadata": {},
   "outputs": [],
   "source": [
    "shell(testing3, test_params, 'depth', X_train, X_test, y_train, y_test)"
   ]
  },
  {
   "cell_type": "code",
   "execution_count": 259,
   "metadata": {},
   "outputs": [
    {
     "data": {
      "text/html": [
       "<div>\n",
       "<style scoped>\n",
       "    .dataframe tbody tr th:only-of-type {\n",
       "        vertical-align: middle;\n",
       "    }\n",
       "\n",
       "    .dataframe tbody tr th {\n",
       "        vertical-align: top;\n",
       "    }\n",
       "\n",
       "    .dataframe thead th {\n",
       "        text-align: right;\n",
       "    }\n",
       "</style>\n",
       "<table border=\"1\" class=\"dataframe\">\n",
       "  <thead>\n",
       "    <tr style=\"text-align: right;\">\n",
       "      <th></th>\n",
       "      <th>param_values</th>\n",
       "      <th>prec_train</th>\n",
       "      <th>prec_test</th>\n",
       "      <th>recall_train</th>\n",
       "      <th>recall_test</th>\n",
       "      <th>f1_train</th>\n",
       "      <th>f1_test</th>\n",
       "    </tr>\n",
       "  </thead>\n",
       "  <tbody>\n",
       "  </tbody>\n",
       "</table>\n",
       "</div>"
      ],
      "text/plain": [
       "Empty DataFrame\n",
       "Columns: [param_values, prec_train, prec_test, recall_train, recall_test, f1_train, f1_test]\n",
       "Index: []"
      ]
     },
     "execution_count": 259,
     "metadata": {},
     "output_type": "execute_result"
    }
   ],
   "source": [
    "testing3 #When both plot and compare are together in the shell, the df doesn't keep the changes"
   ]
  },
  {
   "cell_type": "code",
   "execution_count": 276,
   "metadata": {},
   "outputs": [],
   "source": [
    "############### TESTING ##################\n",
    "testing4 = copy.deepcopy(score_df)\n",
    "#Set values of chosen hyperparameter\n",
    "test_params = np.arange(3, 22, 3)"
   ]
  },
  {
   "cell_type": "code",
   "execution_count": 277,
   "metadata": {},
   "outputs": [
    {
     "name": "stderr",
     "output_type": "stream",
     "text": [
      "/Users/ssrosa/anaconda3/envs/learn-env/lib/python3.6/site-packages/sklearn/metrics/classification.py:1143: UndefinedMetricWarning: Precision is ill-defined and being set to 0.0 in labels with no predicted samples.\n",
      "  'precision', 'predicted', average, warn_for)\n",
      "/Users/ssrosa/anaconda3/envs/learn-env/lib/python3.6/site-packages/sklearn/metrics/classification.py:1143: UndefinedMetricWarning: F-score is ill-defined and being set to 0.0 in labels with no predicted samples.\n",
      "  'precision', 'predicted', average, warn_for)\n"
     ]
    }
   ],
   "source": [
    "############### TESTING ##################\n",
    "testing4 = shell(testing4, test_params, 'depth', X_train, X_test, y_train, y_test)"
   ]
  },
  {
   "cell_type": "code",
   "execution_count": 278,
   "metadata": {},
   "outputs": [
    {
     "data": {
      "text/html": [
       "<div>\n",
       "<style scoped>\n",
       "    .dataframe tbody tr th:only-of-type {\n",
       "        vertical-align: middle;\n",
       "    }\n",
       "\n",
       "    .dataframe tbody tr th {\n",
       "        vertical-align: top;\n",
       "    }\n",
       "\n",
       "    .dataframe thead th {\n",
       "        text-align: right;\n",
       "    }\n",
       "</style>\n",
       "<table border=\"1\" class=\"dataframe\">\n",
       "  <thead>\n",
       "    <tr style=\"text-align: right;\">\n",
       "      <th></th>\n",
       "      <th>param_values</th>\n",
       "      <th>prec_train</th>\n",
       "      <th>prec_test</th>\n",
       "      <th>recall_train</th>\n",
       "      <th>recall_test</th>\n",
       "      <th>f1_train</th>\n",
       "      <th>f1_test</th>\n",
       "    </tr>\n",
       "  </thead>\n",
       "  <tbody>\n",
       "    <tr>\n",
       "      <th>0</th>\n",
       "      <td>3.0</td>\n",
       "      <td>0.302982</td>\n",
       "      <td>0.280303</td>\n",
       "      <td>0.374851</td>\n",
       "      <td>0.375712</td>\n",
       "      <td>0.291390</td>\n",
       "      <td>0.282083</td>\n",
       "    </tr>\n",
       "    <tr>\n",
       "      <th>1</th>\n",
       "      <td>6.0</td>\n",
       "      <td>0.614380</td>\n",
       "      <td>0.366182</td>\n",
       "      <td>0.492796</td>\n",
       "      <td>0.377594</td>\n",
       "      <td>0.476358</td>\n",
       "      <td>0.346671</td>\n",
       "    </tr>\n",
       "    <tr>\n",
       "      <th>2</th>\n",
       "      <td>9.0</td>\n",
       "      <td>0.745768</td>\n",
       "      <td>0.369676</td>\n",
       "      <td>0.649828</td>\n",
       "      <td>0.371789</td>\n",
       "      <td>0.660824</td>\n",
       "      <td>0.349365</td>\n",
       "    </tr>\n",
       "    <tr>\n",
       "      <th>3</th>\n",
       "      <td>12.0</td>\n",
       "      <td>0.807375</td>\n",
       "      <td>0.366234</td>\n",
       "      <td>0.757561</td>\n",
       "      <td>0.380183</td>\n",
       "      <td>0.766029</td>\n",
       "      <td>0.363475</td>\n",
       "    </tr>\n",
       "    <tr>\n",
       "      <th>4</th>\n",
       "      <td>15.0</td>\n",
       "      <td>0.881937</td>\n",
       "      <td>0.362117</td>\n",
       "      <td>0.875748</td>\n",
       "      <td>0.378105</td>\n",
       "      <td>0.876596</td>\n",
       "      <td>0.359827</td>\n",
       "    </tr>\n",
       "    <tr>\n",
       "      <th>5</th>\n",
       "      <td>18.0</td>\n",
       "      <td>0.956349</td>\n",
       "      <td>0.350829</td>\n",
       "      <td>0.953852</td>\n",
       "      <td>0.359821</td>\n",
       "      <td>0.954368</td>\n",
       "      <td>0.348447</td>\n",
       "    </tr>\n",
       "    <tr>\n",
       "      <th>6</th>\n",
       "      <td>21.0</td>\n",
       "      <td>0.988250</td>\n",
       "      <td>0.353377</td>\n",
       "      <td>0.987582</td>\n",
       "      <td>0.373972</td>\n",
       "      <td>0.987819</td>\n",
       "      <td>0.357081</td>\n",
       "    </tr>\n",
       "  </tbody>\n",
       "</table>\n",
       "</div>"
      ],
      "text/plain": [
       "   param_values  prec_train  prec_test  recall_train  recall_test  f1_train  \\\n",
       "0           3.0    0.302982   0.280303      0.374851     0.375712  0.291390   \n",
       "1           6.0    0.614380   0.366182      0.492796     0.377594  0.476358   \n",
       "2           9.0    0.745768   0.369676      0.649828     0.371789  0.660824   \n",
       "3          12.0    0.807375   0.366234      0.757561     0.380183  0.766029   \n",
       "4          15.0    0.881937   0.362117      0.875748     0.378105  0.876596   \n",
       "5          18.0    0.956349   0.350829      0.953852     0.359821  0.954368   \n",
       "6          21.0    0.988250   0.353377      0.987582     0.373972  0.987819   \n",
       "\n",
       "    f1_test  \n",
       "0  0.282083  \n",
       "1  0.346671  \n",
       "2  0.349365  \n",
       "3  0.363475  \n",
       "4  0.359827  \n",
       "5  0.348447  \n",
       "6  0.357081  "
      ]
     },
     "execution_count": 278,
     "metadata": {},
     "output_type": "execute_result"
    }
   ],
   "source": [
    "############### TESTING ##################\n",
    "testing4 #after cycling through compare with new append bit"
   ]
  },
  {
   "cell_type": "code",
   "execution_count": 270,
   "metadata": {},
   "outputs": [
    {
     "data": {
      "image/png": "[encoded data removed]",
      "text/plain": [
       "<Figure size 720x432 with 1 Axes>"
      ]
     },
     "metadata": {
      "needs_background": "light"
     },
     "output_type": "display_data"
    }
   ],
   "source": [
    "############### TESTING ##################\n",
    "plot_hypers(testing4, 'depth')"
   ]
  },
  {
   "cell_type": "code",
   "execution_count": 283,
   "metadata": {},
   "outputs": [
    {
     "name": "stderr",
     "output_type": "stream",
     "text": [
      "/Users/ssrosa/anaconda3/envs/learn-env/lib/python3.6/site-packages/sklearn/metrics/classification.py:1143: UndefinedMetricWarning: Precision is ill-defined and being set to 0.0 in labels with no predicted samples.\n",
      "  'precision', 'predicted', average, warn_for)\n",
      "/Users/ssrosa/anaconda3/envs/learn-env/lib/python3.6/site-packages/sklearn/metrics/classification.py:1143: UndefinedMetricWarning: F-score is ill-defined and being set to 0.0 in labels with no predicted samples.\n",
      "  'precision', 'predicted', average, warn_for)\n"
     ]
    }
   ],
   "source": [
    "############### TESTING ##################\n",
    "test_params = np.arange(3, 22, 3)\n",
    "testing5 = compare_hypers(test_params, 'depth', X_train, X_test, y_train, y_test)"
   ]
  },
  {
   "cell_type": "code",
   "execution_count": null,
   "metadata": {},
   "outputs": [],
   "source": []
  },
  {
   "cell_type": "markdown",
   "metadata": {},
   "source": [
    "# TESTING END"
   ]
  },
  {
   "cell_type": "markdown",
   "metadata": {},
   "source": [
    "### Compare values of min_samples_split"
   ]
  },
  {
   "cell_type": "code",
   "execution_count": 249,
   "metadata": {},
   "outputs": [],
   "source": [
    "#print('Min sample split of original tree:', 2 )"
   ]
  },
  {
   "cell_type": "code",
   "execution_count": 248,
   "metadata": {},
   "outputs": [],
   "source": [
    "#Create df to store scores\n",
    "#samples_split_df = copy.deepcopy(score_df)\n",
    "#Set values of chosen hyperparameter\n",
    "#samples_split_params = np.arange(2, 20, 2)\n",
    "#Populate df of scores and plot results\n"
   ]
  },
  {
   "cell_type": "markdown",
   "metadata": {},
   "source": [
    "### Compare values of min_samples_leaf"
   ]
  },
  {
   "cell_type": "code",
   "execution_count": 247,
   "metadata": {},
   "outputs": [],
   "source": [
    "#Create df to store scores\n",
    "#samples_leaf_df = copy.deepcopy(score_df)\n",
    "#Set values of chosen hyperparameter\n",
    "#samples_leaf_params = np.arange(1, 40, 2)"
   ]
  },
  {
   "cell_type": "markdown",
   "metadata": {},
   "source": [
    "*Observations*: The test set seems to reach a peak at 5 samples per leaf."
   ]
  },
  {
   "cell_type": "markdown",
   "metadata": {},
   "source": [
    "### Compare values of max_features"
   ]
  },
  {
   "cell_type": "code",
   "execution_count": 246,
   "metadata": {},
   "outputs": [],
   "source": [
    "#print('Features in the original tree:', clf.n_features_)"
   ]
  },
  {
   "cell_type": "code",
   "execution_count": 245,
   "metadata": {},
   "outputs": [],
   "source": [
    "#Create df to store scores\n",
    "#feature_df = copy.deepcopy(score_df)\n",
    "#Set values of chosen hyperparameter\n",
    "#feature_params = np.arange(5, 60, 5)\n"
   ]
  },
  {
   "cell_type": "markdown",
   "metadata": {},
   "source": [
    "*Observations*: Scores are highest when there are only 15 features. But they're only slightly higher. At this point I don't know which features are being selected. I'd hope it were the ones at the top of the tree."
   ]
  },
  {
   "cell_type": "markdown",
   "metadata": {},
   "source": [
    "### Compare values of max_leaf_nodes"
   ]
  },
  {
   "cell_type": "code",
   "execution_count": 243,
   "metadata": {},
   "outputs": [],
   "source": [
    "#print('Nodes and leaves in original tree:', clf.tree_.node_count)"
   ]
  },
  {
   "cell_type": "code",
   "execution_count": 242,
   "metadata": {},
   "outputs": [],
   "source": [
    "#Create df to store scores\n",
    "#leaf_nodes_df = copy.deepcopy(score_df)\n",
    "#Set values of chosen hyperparameter\n",
    "#leaf_nodes_params = np.arange(25, 800, 25)\n"
   ]
  },
  {
   "cell_type": "markdown",
   "metadata": {},
   "source": [
    "*Observations*: The test set gets the best results when the tree has between 50 and 75 leaves and nodes."
   ]
  },
  {
   "cell_type": "markdown",
   "metadata": {},
   "source": [
    "### Compare values of min_impurity_decrease"
   ]
  },
  {
   "cell_type": "code",
   "execution_count": 241,
   "metadata": {},
   "outputs": [],
   "source": [
    "#Create df to store scores\n",
    "#impurity_decrease_df = copy.deepcopy(score_df)\n",
    "#Set values of chosen hyperparameter\n",
    "#impurity_decrease_params = np.arange(0, .1, .01)\n"
   ]
  },
  {
   "cell_type": "markdown",
   "metadata": {},
   "source": [
    "*Observations*: Test set does best at impurity decrease of 0.01."
   ]
  },
  {
   "cell_type": "markdown",
   "metadata": {},
   "source": [
    "### Hyperparameter tuning summary\n",
    "\n",
    "\n",
    "\n",
    "\n"
   ]
  },
  {
   "cell_type": "code",
   "execution_count": 286,
   "metadata": {},
   "outputs": [],
   "source": [
    "def compare_hypers(params, to_set, X_train, X_test, y_train, y_test):\n",
    "    '''\n",
    "    A tool to\n",
    "    '''\n",
    "    score_columns = ['param_values', 'prec_train', 'prec_test', \n",
    "                     'recall_train', 'recall_test', 'f1_train', 'f1_test']\n",
    "    \n",
    "    #Instantiate adf to use for storing scores\n",
    "    df = pd.DataFrame(columns = score_columns)\n",
    "    \n",
    "    #Run a model for each parameter and record\n",
    "    #its scores in the df\n",
    "    for param in params:\n",
    "        df = hyper(df, param, to_set, X_train, X_test, y_train, y_test)\n",
    "    #Return the df with the scores from all the models\n",
    "    return df\n",
    "    "
   ]
  },
  {
   "cell_type": "code",
   "execution_count": 280,
   "metadata": {},
   "outputs": [],
   "source": [
    "def hyper(df, param, to_set, X_train, X_test, y_train, y_test):\n",
    "    '''\n",
    "    A tool to \n",
    "    '''\n",
    "    #Instantiate a classifier with all default hyperparameters \n",
    "    #except whatever was passed  \n",
    "    clf = DecisionTreeClassifier(\n",
    "            criterion = param if to_set == 'criterion' else 'entropy',\n",
    "            max_depth = param if to_set == 'depth' else None,\n",
    "            min_samples_split = param if to_set == 'samples_split' else 2,\n",
    "            min_samples_leaf = param if to_set == 'samples_leaf' else 1,\n",
    "            max_features = param if to_set == 'features' else None,\n",
    "            max_leaf_nodes = param if to_set == 'leaf_nodes' else None,\n",
    "            min_impurity_decrease = param if to_set == 'impurity_decrease'  else 0\n",
    "                                 )\n",
    "    #Fit the data to the classifier\n",
    "    clf.fit(X_train,y_train) \n",
    "    #Predict values for training data\n",
    "    y_hat_train = clf.predict(X_train)\n",
    "    #Predict values for testing data\n",
    "    y_hat_test = clf.predict(X_test)\n",
    "\n",
    "    #Get the scores\n",
    "    prec_train = precision_score(y_train, y_hat_train, average = None).mean()\n",
    "    prec_test = precision_score(y_test, y_hat_test, average = None).mean()\n",
    "    recall_train = recall_score(y_train, y_hat_train, average = None).mean()\n",
    "    recall_test =  recall_score(y_test, y_hat_test, average = None).mean()\n",
    "    f1_train = f1_score(y_train, y_hat_train, average = None).mean()\n",
    "    f1_test = f1_score(y_test, y_hat_test, average = None).mean()\n",
    "    \n",
    "    #Write the scores to the df\n",
    "    df = df.append({'param_values': param,\n",
    "               'prec_train': prec_train,\n",
    "               'prec_test': prec_test,\n",
    "               'recall_train': recall_train,\n",
    "               'recall_test': recall_test,\n",
    "               'f1_train': f1_train,\n",
    "               'f1_test': f1_test              \n",
    "              }, ignore_index = True)\n",
    "    \n",
    "    return df"
   ]
  },
  {
   "cell_type": "code",
   "execution_count": 207,
   "metadata": {},
   "outputs": [],
   "source": [
    "def plot_hypers(df, title):\n",
    "    '''\n",
    "    A tool to\n",
    "    \n",
    "    '''\n",
    "    # Number of iterations to plot along the x axis\n",
    "    x = df['param_values']\n",
    "   # tick_marks = np.arange(x.shape[0])\n",
    "    #Draw a figure\n",
    "    plt.figure(figsize=(10,6))\n",
    "    \n",
    "    plt.plot(x, df['prec_train'], 'b-', label = 'Training precision')\n",
    "    plt.plot(x, df['prec_test'], 'b:', label = 'Test precision')\n",
    "    plt.plot(x, df['recall_train'], 'g-', label = 'Training recall')\n",
    "    plt.plot(x, df['recall_test'], 'g:', label = 'Test recall')\n",
    "    plt.plot(x, df['f1_train'], 'r-', label = 'Training F1')\n",
    "    plt.plot(x, df['f1_test'], 'r:', label = 'Test F1')\n",
    "    #plt.xticks(tick_marks, x, rotation=45)\n",
    "    plt.ylabel('Scores')\n",
    "    plt.xlabel('Hyperparameter values')\n",
    "    plt.title(title)\n",
    "    plt.legend()\n",
    "    plt.show()"
   ]
  },
  {
   "cell_type": "code",
   "execution_count": 267,
   "metadata": {},
   "outputs": [],
   "source": []
  },
  {
   "cell_type": "code",
   "execution_count": null,
   "metadata": {},
   "outputs": [],
   "source": []
  },
  {
   "cell_type": "code",
   "execution_count": null,
   "metadata": {},
   "outputs": [],
   "source": []
  },
  {
   "cell_type": "code",
   "execution_count": null,
   "metadata": {},
   "outputs": [],
   "source": []
  },
  {
   "cell_type": "markdown",
   "metadata": {},
   "source": [
    "<a id = 'model3'></a>"
   ]
  },
  {
   "cell_type": "markdown",
   "metadata": {},
   "source": [
    "[(Back to top)](#top)\n",
    "\n",
    "# Model \\#3"
   ]
  },
  {
   "cell_type": "code",
   "execution_count": null,
   "metadata": {},
   "outputs": [],
   "source": [
    "#Having reorganized the categories\n",
    "#df = copy.deepcopy(df_raw)"
   ]
  },
  {
   "cell_type": "code",
   "execution_count": null,
   "metadata": {},
   "outputs": [],
   "source": []
  },
  {
   "cell_type": "code",
   "execution_count": null,
   "metadata": {},
   "outputs": [],
   "source": []
  },
  {
   "cell_type": "code",
   "execution_count": null,
   "metadata": {},
   "outputs": [],
   "source": []
  },
  {
   "cell_type": "markdown",
   "metadata": {},
   "source": [
    "<a id = 'model4'></a>"
   ]
  },
  {
   "cell_type": "markdown",
   "metadata": {},
   "source": [
    "[(Back to top)](#top)\n",
    "\n",
    "# Model \\#4"
   ]
  },
  {
   "cell_type": "markdown",
   "metadata": {},
   "source": [
    "<a id = 'concl'></a>"
   ]
  },
  {
   "cell_type": "markdown",
   "metadata": {},
   "source": [
    "[(Back to top)](#top)\n",
    "\n",
    "# Conclusions"
   ]
  },
  {
   "cell_type": "code",
   "execution_count": null,
   "metadata": {},
   "outputs": [],
   "source": []
  },
  {
   "cell_type": "code",
   "execution_count": null,
   "metadata": {},
   "outputs": [],
   "source": []
  },
  {
   "cell_type": "code",
   "execution_count": null,
   "metadata": {},
   "outputs": [],
   "source": []
  },
  {
   "cell_type": "code",
   "execution_count": null,
   "metadata": {},
   "outputs": [],
   "source": []
  },
  {
   "cell_type": "code",
   "execution_count": null,
   "metadata": {},
   "outputs": [],
   "source": []
  },
  {
   "cell_type": "code",
   "execution_count": null,
   "metadata": {},
   "outputs": [],
   "source": [
    "#df_raw[df_raw['In English'].str.contains('bake', regex = False, case = False)]\n"
   ]
  }
 ],
 "metadata": {
  "kernelspec": {
   "display_name": "learn-env",
   "language": "python",
   "name": "learn-env"
  },
  "language_info": {
   "codemirror_mode": {
    "name": "ipython",
    "version": 3
   },
   "file_extension": ".py",
   "mimetype": "text/x-python",
   "name": "python",
   "nbconvert_exporter": "python",
   "pygments_lexer": "ipython3",
   "version": "3.6.6"
  }
 },
 "nbformat": 4,
 "nbformat_minor": 2
}
