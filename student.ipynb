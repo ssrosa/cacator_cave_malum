{
 "cells": [
  {
   "cell_type": "markdown",
   "metadata": {},
   "source": [
    "## Final Project Submission\n",
    "\n",
    "Please fill out:\n",
    "* Student name: Steven Rosa\n",
    "* Student pace: part time\n",
    "* Project review date/time: Monday 1 April 2019 11am ET\n",
    "* Instructor name: Jeff Herman\n",
    "* Blog post URL:\n"
   ]
  },
  {
   "cell_type": "markdown",
   "metadata": {},
   "source": [
    "\"Database for The Scratched Voices Begging to be Heard: The Graffiti of Pompeii and Today\"\n",
    "\n",
    "by Alexa Rose\n",
    "\n",
    "https://core.tdar.org/dataset/445837/database-for-the-scratched-voices-begging-to-be-heard-the-graffiti-of-pompeii-and-today"
   ]
  },
  {
   "cell_type": "markdown",
   "metadata": {},
   "source": [
    "<a id = 'top'></a>"
   ]
  },
  {
   "cell_type": "markdown",
   "metadata": {},
   "source": [
    "# Table of Contents\n",
    "- Libraries and helper functions\n",
    "- [A first look at the data](#obtain)\n",
    "- [Cleaning the raw data](#scrub)\n",
    "- [Exploratory data analysis](#explore)\n",
    "- Modeling\n",
    " - [Model \\#1](#model1)\n",
    " - [Model \\#2](#model2)\n",
    " - [Model \\#3](#model3)\n",
    "- [Conclusions](#concl)"
   ]
  },
  {
   "cell_type": "markdown",
   "metadata": {},
   "source": [
    "# Libraries and helper functions"
   ]
  },
  {
   "cell_type": "code",
   "execution_count": 2,
   "metadata": {},
   "outputs": [],
   "source": [
    "import pandas as pd #For working with DataFrames\n"
   ]
  },
  {
   "cell_type": "code",
   "execution_count": null,
   "metadata": {},
   "outputs": [],
   "source": []
  },
  {
   "cell_type": "markdown",
   "metadata": {},
   "source": [
    "<a id = 'obtain'></a>"
   ]
  },
  {
   "cell_type": "markdown",
   "metadata": {},
   "source": [
    "[(Back to top)](#top)\n",
    "\n",
    "# A first look at the data"
   ]
  },
  {
   "cell_type": "code",
   "execution_count": 4,
   "metadata": {},
   "outputs": [],
   "source": [
    "#Obtain the raw data\n",
    "df = pd.read_csv('graffiti.csv')"
   ]
  },
  {
   "cell_type": "code",
   "execution_count": 7,
   "metadata": {},
   "outputs": [
    {
     "data": {
      "text/html": [
       "<div>\n",
       "<style scoped>\n",
       "    .dataframe tbody tr th:only-of-type {\n",
       "        vertical-align: middle;\n",
       "    }\n",
       "\n",
       "    .dataframe tbody tr th {\n",
       "        vertical-align: top;\n",
       "    }\n",
       "\n",
       "    .dataframe thead th {\n",
       "        text-align: right;\n",
       "    }\n",
       "</style>\n",
       "<table border=\"1\" class=\"dataframe\">\n",
       "  <thead>\n",
       "    <tr style=\"text-align: right;\">\n",
       "      <th></th>\n",
       "      <th>CIL IV #</th>\n",
       "      <th>Reggio</th>\n",
       "      <th>Insula</th>\n",
       "      <th>Entrance</th>\n",
       "      <th>found?</th>\n",
       "      <th>In English</th>\n",
       "      <th>org.</th>\n",
       "      <th>Literacy (1-3)</th>\n",
       "      <th>In org. language</th>\n",
       "      <th>Context type specific</th>\n",
       "      <th>...</th>\n",
       "      <th>Category</th>\n",
       "      <th>Written by</th>\n",
       "      <th>Work</th>\n",
       "      <th>Meter</th>\n",
       "      <th>Repetition</th>\n",
       "      <th>Foreign language</th>\n",
       "      <th>Image</th>\n",
       "      <th>Flohr Score</th>\n",
       "      <th>Socio-economic status</th>\n",
       "      <th>comments</th>\n",
       "    </tr>\n",
       "  </thead>\n",
       "  <tbody>\n",
       "    <tr>\n",
       "      <th>0</th>\n",
       "      <td>8426</td>\n",
       "      <td>2</td>\n",
       "      <td>1</td>\n",
       "      <td>NaN</td>\n",
       "      <td>NaN</td>\n",
       "      <td>By the holy gods of the house, I ask you to…</td>\n",
       "      <td>?</td>\n",
       "      <td>3.0</td>\n",
       "      <td>(per) lares sanctos rogo te vt</td>\n",
       "      <td>altar</td>\n",
       "      <td>...</td>\n",
       "      <td>Religious</td>\n",
       "      <td>NaN</td>\n",
       "      <td>NaN</td>\n",
       "      <td>NaN</td>\n",
       "      <td>NaN</td>\n",
       "      <td>NaN</td>\n",
       "      <td>NaN</td>\n",
       "      <td>NaN</td>\n",
       "      <td>low</td>\n",
       "      <td>NaN</td>\n",
       "    </tr>\n",
       "    <tr>\n",
       "      <th>1</th>\n",
       "      <td>10256c</td>\n",
       "      <td>2</td>\n",
       "      <td>1</td>\n",
       "      <td>11</td>\n",
       "      <td>NaN</td>\n",
       "      <td>UXBUCTDSERFOGPHOFMKNL</td>\n",
       "      <td>?</td>\n",
       "      <td>2.0</td>\n",
       "      <td>VXBVCTDSERFOGPHOFMKNL</td>\n",
       "      <td>column</td>\n",
       "      <td>...</td>\n",
       "      <td>Civic</td>\n",
       "      <td>NaN</td>\n",
       "      <td>NaN</td>\n",
       "      <td>NaN</td>\n",
       "      <td>NaN</td>\n",
       "      <td>NaN</td>\n",
       "      <td>NaN</td>\n",
       "      <td>23.77</td>\n",
       "      <td>medium</td>\n",
       "      <td>NaN</td>\n",
       "    </tr>\n",
       "    <tr>\n",
       "      <th>2</th>\n",
       "      <td>10093c</td>\n",
       "      <td>2</td>\n",
       "      <td>1</td>\n",
       "      <td>10</td>\n",
       "      <td>NaN</td>\n",
       "      <td>Brutus is a dog</td>\n",
       "      <td>?</td>\n",
       "      <td>2.0</td>\n",
       "      <td>Brv(t)vs canis est</td>\n",
       "      <td>entrance</td>\n",
       "      <td>...</td>\n",
       "      <td>Insult/Threat</td>\n",
       "      <td>NaN</td>\n",
       "      <td>NaN</td>\n",
       "      <td>NaN</td>\n",
       "      <td>NaN</td>\n",
       "      <td>NaN</td>\n",
       "      <td>NaN</td>\n",
       "      <td>8.74</td>\n",
       "      <td>low</td>\n",
       "      <td>NaN</td>\n",
       "    </tr>\n",
       "    <tr>\n",
       "      <th>3</th>\n",
       "      <td>10086a</td>\n",
       "      <td>2</td>\n",
       "      <td>1</td>\n",
       "      <td>10</td>\n",
       "      <td>NaN</td>\n",
       "      <td>Of arms and a man…</td>\n",
       "      <td>?</td>\n",
       "      <td>3.0</td>\n",
       "      <td>Arma virvmqve</td>\n",
       "      <td>entrance</td>\n",
       "      <td>...</td>\n",
       "      <td>Reference</td>\n",
       "      <td>Virgil</td>\n",
       "      <td>Aeneid</td>\n",
       "      <td>Metrical, quote</td>\n",
       "      <td>NaN</td>\n",
       "      <td>NaN</td>\n",
       "      <td>NaN</td>\n",
       "      <td>8.74</td>\n",
       "      <td>low</td>\n",
       "      <td>NaN</td>\n",
       "    </tr>\n",
       "    <tr>\n",
       "      <th>4</th>\n",
       "      <td>10082b</td>\n",
       "      <td>2</td>\n",
       "      <td>1</td>\n",
       "      <td>10</td>\n",
       "      <td>NaN</td>\n",
       "      <td>Saggita, the emperor's slave, the little Pompeian</td>\n",
       "      <td>Benefiel 2010a</td>\n",
       "      <td>2.0</td>\n",
       "      <td>Sagitta imperatoris servos pompeianolvs</td>\n",
       "      <td>entrance</td>\n",
       "      <td>...</td>\n",
       "      <td>Tagging</td>\n",
       "      <td>NaN</td>\n",
       "      <td>NaN</td>\n",
       "      <td>NaN</td>\n",
       "      <td>NaN</td>\n",
       "      <td>NaN</td>\n",
       "      <td>NaN</td>\n",
       "      <td>8.74</td>\n",
       "      <td>low</td>\n",
       "      <td>NaN</td>\n",
       "    </tr>\n",
       "    <tr>\n",
       "      <th>5</th>\n",
       "      <td>10079</td>\n",
       "      <td>2</td>\n",
       "      <td>1</td>\n",
       "      <td>6</td>\n",
       "      <td>NaN</td>\n",
       "      <td>Maximus (greets) his Irene</td>\n",
       "      <td>?</td>\n",
       "      <td>2.0</td>\n",
       "      <td>Maxim(vs) irenae sve</td>\n",
       "      <td>façade</td>\n",
       "      <td>...</td>\n",
       "      <td>Social</td>\n",
       "      <td>NaN</td>\n",
       "      <td>NaN</td>\n",
       "      <td>NaN</td>\n",
       "      <td>NaN</td>\n",
       "      <td>NaN</td>\n",
       "      <td>NaN</td>\n",
       "      <td>3.37</td>\n",
       "      <td>low</td>\n",
       "      <td>NaN</td>\n",
       "    </tr>\n",
       "    <tr>\n",
       "      <th>6</th>\n",
       "      <td>8480</td>\n",
       "      <td>2</td>\n",
       "      <td>1</td>\n",
       "      <td>4/5/</td>\n",
       "      <td>NaN</td>\n",
       "      <td>Arrunitis was here with Tiburtinus</td>\n",
       "      <td>?</td>\n",
       "      <td>3.0</td>\n",
       "      <td>Arrvntivs hic fvit cvm tibvrtino</td>\n",
       "      <td>façade</td>\n",
       "      <td>...</td>\n",
       "      <td>Sexual</td>\n",
       "      <td>NaN</td>\n",
       "      <td>NaN</td>\n",
       "      <td>NaN</td>\n",
       "      <td>NaN</td>\n",
       "      <td>NaN</td>\n",
       "      <td>NaN</td>\n",
       "      <td>3.44-4.52</td>\n",
       "      <td>low</td>\n",
       "      <td>NaN</td>\n",
       "    </tr>\n",
       "    <tr>\n",
       "      <th>7</th>\n",
       "      <td>10088b</td>\n",
       "      <td>2</td>\n",
       "      <td>1</td>\n",
       "      <td>10</td>\n",
       "      <td>NaN</td>\n",
       "      <td>It's raining</td>\n",
       "      <td>?</td>\n",
       "      <td>2.0</td>\n",
       "      <td>Plvi</td>\n",
       "      <td>garden</td>\n",
       "      <td>...</td>\n",
       "      <td>Civic</td>\n",
       "      <td>NaN</td>\n",
       "      <td>NaN</td>\n",
       "      <td>NaN</td>\n",
       "      <td>NaN</td>\n",
       "      <td>NaN</td>\n",
       "      <td>NaN</td>\n",
       "      <td>8.74</td>\n",
       "      <td>low</td>\n",
       "      <td>NaN</td>\n",
       "    </tr>\n",
       "    <tr>\n",
       "      <th>8</th>\n",
       "      <td>10090</td>\n",
       "      <td>2</td>\n",
       "      <td>1</td>\n",
       "      <td>10</td>\n",
       "      <td>NaN</td>\n",
       "      <td>Petronius, you fuck Pyramus</td>\n",
       "      <td>?</td>\n",
       "      <td>2.0</td>\n",
       "      <td>ΠΕΤΡΩΝΙ ΠΥΡΑΜΟ ΠΗΔΙΚΑΣ</td>\n",
       "      <td>garden</td>\n",
       "      <td>...</td>\n",
       "      <td>Sexual</td>\n",
       "      <td>NaN</td>\n",
       "      <td>NaN</td>\n",
       "      <td>NaN</td>\n",
       "      <td>NaN</td>\n",
       "      <td>NaN</td>\n",
       "      <td>NaN</td>\n",
       "      <td>8.74</td>\n",
       "      <td>low</td>\n",
       "      <td>NaN</td>\n",
       "    </tr>\n",
       "    <tr>\n",
       "      <th>9</th>\n",
       "      <td>10096b</td>\n",
       "      <td>2</td>\n",
       "      <td>1</td>\n",
       "      <td>11</td>\n",
       "      <td>NaN</td>\n",
       "      <td>All fell silent…</td>\n",
       "      <td>Milnor 2009 314</td>\n",
       "      <td>3.0</td>\n",
       "      <td>Conticvre om(nes)</td>\n",
       "      <td>outer wall</td>\n",
       "      <td>...</td>\n",
       "      <td>Reference</td>\n",
       "      <td>Virgil</td>\n",
       "      <td>Aeneid</td>\n",
       "      <td>Metrical, quote</td>\n",
       "      <td>NaN</td>\n",
       "      <td>NaN</td>\n",
       "      <td>NaN</td>\n",
       "      <td>23.77</td>\n",
       "      <td>medium</td>\n",
       "      <td>NaN</td>\n",
       "    </tr>\n",
       "  </tbody>\n",
       "</table>\n",
       "<p>10 rows × 22 columns</p>\n",
       "</div>"
      ],
      "text/plain": [
       "  CIL IV # Reggio Insula Entrance found?  \\\n",
       "0     8426      2      1      NaN    NaN   \n",
       "1   10256c      2      1       11    NaN   \n",
       "2   10093c      2      1       10    NaN   \n",
       "3   10086a      2      1       10    NaN   \n",
       "4   10082b      2      1       10    NaN   \n",
       "5    10079      2      1        6    NaN   \n",
       "6     8480      2      1     4/5/    NaN   \n",
       "7   10088b      2      1       10    NaN   \n",
       "8    10090      2      1       10    NaN   \n",
       "9   10096b      2      1       11    NaN   \n",
       "\n",
       "                                          In English            org.   \\\n",
       "0       By the holy gods of the house, I ask you to…                ?   \n",
       "1                              UXBUCTDSERFOGPHOFMKNL                ?   \n",
       "2                                    Brutus is a dog                ?   \n",
       "3                                 Of arms and a man…                ?   \n",
       "4  Saggita, the emperor's slave, the little Pompeian   Benefiel 2010a   \n",
       "5                         Maximus (greets) his Irene                ?   \n",
       "6                 Arrunitis was here with Tiburtinus                ?   \n",
       "7                                       It's raining                ?   \n",
       "8                        Petronius, you fuck Pyramus                ?   \n",
       "9                                   All fell silent…  Milnor 2009 314   \n",
       "\n",
       "   Literacy (1-3)                         In org. language  \\\n",
       "0             3.0           (per) lares sanctos rogo te vt   \n",
       "1             2.0                    VXBVCTDSERFOGPHOFMKNL   \n",
       "2             2.0                       Brv(t)vs canis est   \n",
       "3             3.0                            Arma virvmqve   \n",
       "4             2.0  Sagitta imperatoris servos pompeianolvs   \n",
       "5             2.0                     Maxim(vs) irenae sve   \n",
       "6             3.0         Arrvntivs hic fvit cvm tibvrtino   \n",
       "7             2.0                                     Plvi   \n",
       "8             2.0                   ΠΕΤΡΩΝΙ ΠΥΡΑΜΟ ΠΗΔΙΚΑΣ   \n",
       "9             3.0                        Conticvre om(nes)   \n",
       "\n",
       "  Context type specific   ...          Category Written by    Work  \\\n",
       "0                 altar   ...         Religious        NaN     NaN   \n",
       "1                column   ...             Civic        NaN     NaN   \n",
       "2              entrance   ...     Insult/Threat        NaN     NaN   \n",
       "3              entrance   ...         Reference     Virgil  Aeneid   \n",
       "4              entrance   ...           Tagging        NaN     NaN   \n",
       "5                façade   ...            Social        NaN     NaN   \n",
       "6                façade   ...            Sexual        NaN     NaN   \n",
       "7                garden   ...             Civic        NaN     NaN   \n",
       "8                garden   ...            Sexual        NaN     NaN   \n",
       "9            outer wall   ...         Reference     Virgil  Aeneid   \n",
       "\n",
       "             Meter Repetition Foreign language Image  Flohr Score  \\\n",
       "0              NaN        NaN              NaN    NaN         NaN   \n",
       "1              NaN        NaN              NaN    NaN       23.77   \n",
       "2              NaN        NaN              NaN    NaN        8.74   \n",
       "3  Metrical, quote        NaN              NaN    NaN        8.74   \n",
       "4              NaN        NaN              NaN    NaN        8.74   \n",
       "5              NaN        NaN              NaN    NaN        3.37   \n",
       "6              NaN        NaN              NaN    NaN   3.44-4.52   \n",
       "7              NaN        NaN              NaN    NaN        8.74   \n",
       "8              NaN        NaN              NaN    NaN        8.74   \n",
       "9  Metrical, quote        NaN              NaN    NaN       23.77   \n",
       "\n",
       "  Socio-economic status comments  \n",
       "0                   low      NaN  \n",
       "1                medium      NaN  \n",
       "2                   low      NaN  \n",
       "3                   low      NaN  \n",
       "4                   low      NaN  \n",
       "5                   low      NaN  \n",
       "6                   low      NaN  \n",
       "7                   low      NaN  \n",
       "8                   low      NaN  \n",
       "9                medium      NaN  \n",
       "\n",
       "[10 rows x 22 columns]"
      ]
     },
     "execution_count": 7,
     "metadata": {},
     "output_type": "execute_result"
    }
   ],
   "source": [
    "df.head(10)"
   ]
  },
  {
   "cell_type": "code",
   "execution_count": 6,
   "metadata": {},
   "outputs": [
    {
     "name": "stdout",
     "output_type": "stream",
     "text": [
      "<class 'pandas.core.frame.DataFrame'>\n",
      "RangeIndex: 1051 entries, 0 to 1050\n",
      "Data columns (total 22 columns):\n",
      "CIL IV #                 1024 non-null object\n",
      "Reggio                   994 non-null object\n",
      "Insula                   989 non-null object\n",
      "Entrance                 913 non-null object\n",
      "found?                   17 non-null object\n",
      "In English               1043 non-null object\n",
      "org.                     279 non-null object\n",
      "Literacy (1-3)           1038 non-null float64\n",
      "In org. language         315 non-null object\n",
      "Context type specific    705 non-null object\n",
      "Context type general     751 non-null object\n",
      "Famous House             503 non-null object\n",
      "Category                 1027 non-null object\n",
      "Written by               104 non-null object\n",
      "Work                     62 non-null object\n",
      "Meter                    143 non-null object\n",
      "Repetition               81 non-null object\n",
      "Foreign language         27 non-null object\n",
      "Image                    56 non-null object\n",
      "Flohr Score              582 non-null object\n",
      "Socio-economic status    974 non-null object\n",
      "comments                 29 non-null object\n",
      "dtypes: float64(1), object(21)\n",
      "memory usage: 180.7+ KB\n"
     ]
    }
   ],
   "source": [
    "df.info()"
   ]
  },
  {
   "cell_type": "code",
   "execution_count": 9,
   "metadata": {},
   "outputs": [
    {
     "data": {
      "text/html": [
       "<div>\n",
       "<style scoped>\n",
       "    .dataframe tbody tr th:only-of-type {\n",
       "        vertical-align: middle;\n",
       "    }\n",
       "\n",
       "    .dataframe tbody tr th {\n",
       "        vertical-align: top;\n",
       "    }\n",
       "\n",
       "    .dataframe thead th {\n",
       "        text-align: right;\n",
       "    }\n",
       "</style>\n",
       "<table border=\"1\" class=\"dataframe\">\n",
       "  <thead>\n",
       "    <tr style=\"text-align: right;\">\n",
       "      <th></th>\n",
       "      <th>Literacy (1-3)</th>\n",
       "    </tr>\n",
       "  </thead>\n",
       "  <tbody>\n",
       "    <tr>\n",
       "      <th>count</th>\n",
       "      <td>1038.000000</td>\n",
       "    </tr>\n",
       "    <tr>\n",
       "      <th>mean</th>\n",
       "      <td>2.425819</td>\n",
       "    </tr>\n",
       "    <tr>\n",
       "      <th>std</th>\n",
       "      <td>0.498588</td>\n",
       "    </tr>\n",
       "    <tr>\n",
       "      <th>min</th>\n",
       "      <td>1.000000</td>\n",
       "    </tr>\n",
       "    <tr>\n",
       "      <th>25%</th>\n",
       "      <td>2.000000</td>\n",
       "    </tr>\n",
       "    <tr>\n",
       "      <th>50%</th>\n",
       "      <td>2.000000</td>\n",
       "    </tr>\n",
       "    <tr>\n",
       "      <th>75%</th>\n",
       "      <td>3.000000</td>\n",
       "    </tr>\n",
       "    <tr>\n",
       "      <th>max</th>\n",
       "      <td>3.000000</td>\n",
       "    </tr>\n",
       "  </tbody>\n",
       "</table>\n",
       "</div>"
      ],
      "text/plain": [
       "       Literacy (1-3)\n",
       "count     1038.000000\n",
       "mean         2.425819\n",
       "std          0.498588\n",
       "min          1.000000\n",
       "25%          2.000000\n",
       "50%          2.000000\n",
       "75%          3.000000\n",
       "max          3.000000"
      ]
     },
     "execution_count": 9,
     "metadata": {},
     "output_type": "execute_result"
    }
   ],
   "source": [
    "df.describe()"
   ]
  },
  {
   "cell_type": "code",
   "execution_count": null,
   "metadata": {},
   "outputs": [],
   "source": []
  },
  {
   "cell_type": "code",
   "execution_count": null,
   "metadata": {},
   "outputs": [],
   "source": []
  },
  {
   "cell_type": "code",
   "execution_count": null,
   "metadata": {},
   "outputs": [],
   "source": []
  },
  {
   "cell_type": "code",
   "execution_count": null,
   "metadata": {},
   "outputs": [],
   "source": []
  },
  {
   "cell_type": "code",
   "execution_count": null,
   "metadata": {},
   "outputs": [],
   "source": []
  },
  {
   "cell_type": "code",
   "execution_count": null,
   "metadata": {},
   "outputs": [],
   "source": []
  },
  {
   "cell_type": "code",
   "execution_count": null,
   "metadata": {},
   "outputs": [],
   "source": []
  },
  {
   "cell_type": "markdown",
   "metadata": {},
   "source": [
    "<a id = 'scrub'></a>"
   ]
  },
  {
   "cell_type": "markdown",
   "metadata": {},
   "source": [
    "[(Back to top)](#top)\n",
    "\n",
    "# Cleaning the data"
   ]
  },
  {
   "cell_type": "code",
   "execution_count": null,
   "metadata": {},
   "outputs": [],
   "source": []
  },
  {
   "cell_type": "markdown",
   "metadata": {},
   "source": [
    "<a id = 'explore'></a>"
   ]
  },
  {
   "cell_type": "markdown",
   "metadata": {},
   "source": [
    "[(Back to top)](#top)\n",
    "\n",
    "# Exploratory data analysis"
   ]
  },
  {
   "cell_type": "code",
   "execution_count": null,
   "metadata": {},
   "outputs": [],
   "source": []
  },
  {
   "cell_type": "markdown",
   "metadata": {},
   "source": [
    "<a id = 'model1'></a>"
   ]
  },
  {
   "cell_type": "markdown",
   "metadata": {},
   "source": [
    "[(Back to top)](#top)\n",
    "\n",
    "# Modeling: Model \\#1"
   ]
  },
  {
   "cell_type": "code",
   "execution_count": null,
   "metadata": {},
   "outputs": [],
   "source": []
  },
  {
   "cell_type": "markdown",
   "metadata": {},
   "source": [
    "<a id = 'model2'></a>"
   ]
  },
  {
   "cell_type": "markdown",
   "metadata": {},
   "source": [
    "[(Back to top)](#top)\n",
    "\n",
    "# Model \\#2"
   ]
  },
  {
   "cell_type": "code",
   "execution_count": null,
   "metadata": {},
   "outputs": [],
   "source": []
  },
  {
   "cell_type": "markdown",
   "metadata": {},
   "source": [
    "<a id = 'model3'></a>"
   ]
  },
  {
   "cell_type": "markdown",
   "metadata": {},
   "source": [
    "[(Back to top)](#top)\n",
    "\n",
    "# Model \\#3"
   ]
  },
  {
   "cell_type": "code",
   "execution_count": null,
   "metadata": {},
   "outputs": [],
   "source": []
  },
  {
   "cell_type": "markdown",
   "metadata": {},
   "source": [
    "<a id = 'concl'></a>"
   ]
  },
  {
   "cell_type": "markdown",
   "metadata": {},
   "source": [
    "[(Back to top)](#top)\n",
    "\n",
    "# Conclusions"
   ]
  },
  {
   "cell_type": "code",
   "execution_count": null,
   "metadata": {},
   "outputs": [],
   "source": []
  }
 ],
 "metadata": {
  "kernelspec": {
   "display_name": "Python 3",
   "language": "python",
   "name": "python3"
  },
  "language_info": {
   "codemirror_mode": {
    "name": "ipython",
    "version": 3
   },
   "file_extension": ".py",
   "mimetype": "text/x-python",
   "name": "python",
   "nbconvert_exporter": "python",
   "pygments_lexer": "ipython3",
   "version": "3.6.6"
  }
 },
 "nbformat": 4,
 "nbformat_minor": 2
}
