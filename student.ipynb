{
 "cells": [
  {
   "cell_type": "markdown",
   "metadata": {},
   "source": [
    "## Final Project Submission\n",
    "\n",
    "Please fill out:\n",
    "* Student name: Steven Rosa\n",
    "* Student pace: part time\n",
    "* Project review date/time: Monday 1 April 2019 11am ET\n",
    "* Instructor name: Jeff Herman\n",
    "* Blog post URL:\n"
   ]
  },
  {
   "cell_type": "markdown",
   "metadata": {},
   "source": [
    "\"Database for The Scratched Voices Begging to be Heard: The Graffiti of Pompeii and Today\"\n",
    "\n",
    "by Alexa Rose\n",
    "\n",
    "https://core.tdar.org/dataset/445837/database-for-the-scratched-voices-begging-to-be-heard-the-graffiti-of-pompeii-and-today"
   ]
  },
  {
   "cell_type": "markdown",
   "metadata": {},
   "source": [
    "<a id = 'top'></a>"
   ]
  },
  {
   "cell_type": "markdown",
   "metadata": {},
   "source": [
    "# Contents\n",
    "- Libraries and helper functions\n",
    "- [A first look at the data](#obtain)\n",
    "- [Cleaning the raw data](#scrub)\n",
    "- [Exploratory data analysis](#explore)\n",
    "- Modeling\n",
    " - [Model \\#1](#model1)\n",
    " - [Model \\#2](#model2)\n",
    " - [Model \\#3](#model3)\n",
    "- [Conclusions](#concl)"
   ]
  },
  {
   "cell_type": "markdown",
   "metadata": {},
   "source": [
    "# Libraries and helper functions"
   ]
  },
  {
   "cell_type": "code",
   "execution_count": 1,
   "metadata": {},
   "outputs": [],
   "source": [
    "import pandas as pd #For working with DataFrames\n",
    "import matplotlib.pyplot as plt #For visualizing plots"
   ]
  },
  {
   "cell_type": "code",
   "execution_count": 2,
   "metadata": {},
   "outputs": [],
   "source": [
    "import time"
   ]
  },
  {
   "cell_type": "code",
   "execution_count": 3,
   "metadata": {},
   "outputs": [],
   "source": [
    "#Function to draw in-line histograms\n",
    "def inline_hists(xs, data, bins = 50):\n",
    "    fig, axs = plt.subplots(1, len(xs), sharey=False, figsize=((5 * len(xs), 4)))\n",
    "    for i, x in enumerate(xs):\n",
    "        data[x].hist(ax=axs[i], label=x, xlabelsize=5, bins=bins)\n",
    "        axs[i].legend()\n",
    "    plt.show()"
   ]
  },
  {
   "cell_type": "markdown",
   "metadata": {},
   "source": [
    "<a id = 'obtain'></a>"
   ]
  },
  {
   "cell_type": "markdown",
   "metadata": {},
   "source": [
    "[(Back to top)](#top)\n",
    "\n",
    "# A first look at the data"
   ]
  },
  {
   "cell_type": "code",
   "execution_count": 54,
   "metadata": {},
   "outputs": [],
   "source": [
    "#Obtain the raw data\n",
    "df_raw = pd.read_csv('graffiti.csv')"
   ]
  },
  {
   "cell_type": "code",
   "execution_count": 9,
   "metadata": {},
   "outputs": [
    {
     "data": {
      "text/html": [
       "<div>\n",
       "<style scoped>\n",
       "    .dataframe tbody tr th:only-of-type {\n",
       "        vertical-align: middle;\n",
       "    }\n",
       "\n",
       "    .dataframe tbody tr th {\n",
       "        vertical-align: top;\n",
       "    }\n",
       "\n",
       "    .dataframe thead th {\n",
       "        text-align: right;\n",
       "    }\n",
       "</style>\n",
       "<table border=\"1\" class=\"dataframe\">\n",
       "  <thead>\n",
       "    <tr style=\"text-align: right;\">\n",
       "      <th></th>\n",
       "      <th>CIL IV #</th>\n",
       "      <th>Reggio</th>\n",
       "      <th>Insula</th>\n",
       "      <th>Entrance</th>\n",
       "      <th>found?</th>\n",
       "      <th>In English</th>\n",
       "      <th>org.</th>\n",
       "      <th>Literacy (1-3)</th>\n",
       "      <th>In org. language</th>\n",
       "      <th>Context type specific</th>\n",
       "      <th>...</th>\n",
       "      <th>Category</th>\n",
       "      <th>Written by</th>\n",
       "      <th>Work</th>\n",
       "      <th>Meter</th>\n",
       "      <th>Repetition</th>\n",
       "      <th>Foreign language</th>\n",
       "      <th>Image</th>\n",
       "      <th>Flohr Score</th>\n",
       "      <th>Socio-economic status</th>\n",
       "      <th>comments</th>\n",
       "    </tr>\n",
       "  </thead>\n",
       "  <tbody>\n",
       "    <tr>\n",
       "      <th>0</th>\n",
       "      <td>8426</td>\n",
       "      <td>2</td>\n",
       "      <td>1</td>\n",
       "      <td>NaN</td>\n",
       "      <td>NaN</td>\n",
       "      <td>By the holy gods of the house, I ask you to…</td>\n",
       "      <td>?</td>\n",
       "      <td>3.0</td>\n",
       "      <td>(per) lares sanctos rogo te vt</td>\n",
       "      <td>altar</td>\n",
       "      <td>...</td>\n",
       "      <td>Religious</td>\n",
       "      <td>NaN</td>\n",
       "      <td>NaN</td>\n",
       "      <td>NaN</td>\n",
       "      <td>NaN</td>\n",
       "      <td>NaN</td>\n",
       "      <td>NaN</td>\n",
       "      <td>NaN</td>\n",
       "      <td>low</td>\n",
       "      <td>NaN</td>\n",
       "    </tr>\n",
       "    <tr>\n",
       "      <th>1</th>\n",
       "      <td>10256c</td>\n",
       "      <td>2</td>\n",
       "      <td>1</td>\n",
       "      <td>11</td>\n",
       "      <td>NaN</td>\n",
       "      <td>UXBUCTDSERFOGPHOFMKNL</td>\n",
       "      <td>?</td>\n",
       "      <td>2.0</td>\n",
       "      <td>VXBVCTDSERFOGPHOFMKNL</td>\n",
       "      <td>column</td>\n",
       "      <td>...</td>\n",
       "      <td>Civic</td>\n",
       "      <td>NaN</td>\n",
       "      <td>NaN</td>\n",
       "      <td>NaN</td>\n",
       "      <td>NaN</td>\n",
       "      <td>NaN</td>\n",
       "      <td>NaN</td>\n",
       "      <td>23.77</td>\n",
       "      <td>medium</td>\n",
       "      <td>NaN</td>\n",
       "    </tr>\n",
       "    <tr>\n",
       "      <th>2</th>\n",
       "      <td>10093c</td>\n",
       "      <td>2</td>\n",
       "      <td>1</td>\n",
       "      <td>10</td>\n",
       "      <td>NaN</td>\n",
       "      <td>Brutus is a dog</td>\n",
       "      <td>?</td>\n",
       "      <td>2.0</td>\n",
       "      <td>Brv(t)vs canis est</td>\n",
       "      <td>entrance</td>\n",
       "      <td>...</td>\n",
       "      <td>Insult/Threat</td>\n",
       "      <td>NaN</td>\n",
       "      <td>NaN</td>\n",
       "      <td>NaN</td>\n",
       "      <td>NaN</td>\n",
       "      <td>NaN</td>\n",
       "      <td>NaN</td>\n",
       "      <td>8.74</td>\n",
       "      <td>low</td>\n",
       "      <td>NaN</td>\n",
       "    </tr>\n",
       "    <tr>\n",
       "      <th>3</th>\n",
       "      <td>10086a</td>\n",
       "      <td>2</td>\n",
       "      <td>1</td>\n",
       "      <td>10</td>\n",
       "      <td>NaN</td>\n",
       "      <td>Of arms and a man…</td>\n",
       "      <td>?</td>\n",
       "      <td>3.0</td>\n",
       "      <td>Arma virvmqve</td>\n",
       "      <td>entrance</td>\n",
       "      <td>...</td>\n",
       "      <td>Reference</td>\n",
       "      <td>Virgil</td>\n",
       "      <td>Aeneid</td>\n",
       "      <td>Metrical, quote</td>\n",
       "      <td>NaN</td>\n",
       "      <td>NaN</td>\n",
       "      <td>NaN</td>\n",
       "      <td>8.74</td>\n",
       "      <td>low</td>\n",
       "      <td>NaN</td>\n",
       "    </tr>\n",
       "    <tr>\n",
       "      <th>4</th>\n",
       "      <td>10082b</td>\n",
       "      <td>2</td>\n",
       "      <td>1</td>\n",
       "      <td>10</td>\n",
       "      <td>NaN</td>\n",
       "      <td>Saggita, the emperor's slave, the little Pompeian</td>\n",
       "      <td>Benefiel 2010a</td>\n",
       "      <td>2.0</td>\n",
       "      <td>Sagitta imperatoris servos pompeianolvs</td>\n",
       "      <td>entrance</td>\n",
       "      <td>...</td>\n",
       "      <td>Tagging</td>\n",
       "      <td>NaN</td>\n",
       "      <td>NaN</td>\n",
       "      <td>NaN</td>\n",
       "      <td>NaN</td>\n",
       "      <td>NaN</td>\n",
       "      <td>NaN</td>\n",
       "      <td>8.74</td>\n",
       "      <td>low</td>\n",
       "      <td>NaN</td>\n",
       "    </tr>\n",
       "    <tr>\n",
       "      <th>5</th>\n",
       "      <td>10079</td>\n",
       "      <td>2</td>\n",
       "      <td>1</td>\n",
       "      <td>6</td>\n",
       "      <td>NaN</td>\n",
       "      <td>Maximus (greets) his Irene</td>\n",
       "      <td>?</td>\n",
       "      <td>2.0</td>\n",
       "      <td>Maxim(vs) irenae sve</td>\n",
       "      <td>façade</td>\n",
       "      <td>...</td>\n",
       "      <td>Social</td>\n",
       "      <td>NaN</td>\n",
       "      <td>NaN</td>\n",
       "      <td>NaN</td>\n",
       "      <td>NaN</td>\n",
       "      <td>NaN</td>\n",
       "      <td>NaN</td>\n",
       "      <td>3.37</td>\n",
       "      <td>low</td>\n",
       "      <td>NaN</td>\n",
       "    </tr>\n",
       "    <tr>\n",
       "      <th>6</th>\n",
       "      <td>8480</td>\n",
       "      <td>2</td>\n",
       "      <td>1</td>\n",
       "      <td>4/5/</td>\n",
       "      <td>NaN</td>\n",
       "      <td>Arrunitis was here with Tiburtinus</td>\n",
       "      <td>?</td>\n",
       "      <td>3.0</td>\n",
       "      <td>Arrvntivs hic fvit cvm tibvrtino</td>\n",
       "      <td>façade</td>\n",
       "      <td>...</td>\n",
       "      <td>Sexual</td>\n",
       "      <td>NaN</td>\n",
       "      <td>NaN</td>\n",
       "      <td>NaN</td>\n",
       "      <td>NaN</td>\n",
       "      <td>NaN</td>\n",
       "      <td>NaN</td>\n",
       "      <td>3.44-4.52</td>\n",
       "      <td>low</td>\n",
       "      <td>NaN</td>\n",
       "    </tr>\n",
       "    <tr>\n",
       "      <th>7</th>\n",
       "      <td>10088b</td>\n",
       "      <td>2</td>\n",
       "      <td>1</td>\n",
       "      <td>10</td>\n",
       "      <td>NaN</td>\n",
       "      <td>It's raining</td>\n",
       "      <td>?</td>\n",
       "      <td>2.0</td>\n",
       "      <td>Plvi</td>\n",
       "      <td>garden</td>\n",
       "      <td>...</td>\n",
       "      <td>Civic</td>\n",
       "      <td>NaN</td>\n",
       "      <td>NaN</td>\n",
       "      <td>NaN</td>\n",
       "      <td>NaN</td>\n",
       "      <td>NaN</td>\n",
       "      <td>NaN</td>\n",
       "      <td>8.74</td>\n",
       "      <td>low</td>\n",
       "      <td>NaN</td>\n",
       "    </tr>\n",
       "    <tr>\n",
       "      <th>8</th>\n",
       "      <td>10090</td>\n",
       "      <td>2</td>\n",
       "      <td>1</td>\n",
       "      <td>10</td>\n",
       "      <td>NaN</td>\n",
       "      <td>Petronius, you fuck Pyramus</td>\n",
       "      <td>?</td>\n",
       "      <td>2.0</td>\n",
       "      <td>ΠΕΤΡΩΝΙ ΠΥΡΑΜΟ ΠΗΔΙΚΑΣ</td>\n",
       "      <td>garden</td>\n",
       "      <td>...</td>\n",
       "      <td>Sexual</td>\n",
       "      <td>NaN</td>\n",
       "      <td>NaN</td>\n",
       "      <td>NaN</td>\n",
       "      <td>NaN</td>\n",
       "      <td>NaN</td>\n",
       "      <td>NaN</td>\n",
       "      <td>8.74</td>\n",
       "      <td>low</td>\n",
       "      <td>NaN</td>\n",
       "    </tr>\n",
       "    <tr>\n",
       "      <th>9</th>\n",
       "      <td>10096b</td>\n",
       "      <td>2</td>\n",
       "      <td>1</td>\n",
       "      <td>11</td>\n",
       "      <td>NaN</td>\n",
       "      <td>All fell silent…</td>\n",
       "      <td>Milnor 2009 314</td>\n",
       "      <td>3.0</td>\n",
       "      <td>Conticvre om(nes)</td>\n",
       "      <td>outer wall</td>\n",
       "      <td>...</td>\n",
       "      <td>Reference</td>\n",
       "      <td>Virgil</td>\n",
       "      <td>Aeneid</td>\n",
       "      <td>Metrical, quote</td>\n",
       "      <td>NaN</td>\n",
       "      <td>NaN</td>\n",
       "      <td>NaN</td>\n",
       "      <td>23.77</td>\n",
       "      <td>medium</td>\n",
       "      <td>NaN</td>\n",
       "    </tr>\n",
       "  </tbody>\n",
       "</table>\n",
       "<p>10 rows × 22 columns</p>\n",
       "</div>"
      ],
      "text/plain": [
       "  CIL IV # Reggio Insula Entrance found?  \\\n",
       "0     8426      2      1      NaN    NaN   \n",
       "1   10256c      2      1       11    NaN   \n",
       "2   10093c      2      1       10    NaN   \n",
       "3   10086a      2      1       10    NaN   \n",
       "4   10082b      2      1       10    NaN   \n",
       "5    10079      2      1        6    NaN   \n",
       "6     8480      2      1     4/5/    NaN   \n",
       "7   10088b      2      1       10    NaN   \n",
       "8    10090      2      1       10    NaN   \n",
       "9   10096b      2      1       11    NaN   \n",
       "\n",
       "                                          In English            org.   \\\n",
       "0       By the holy gods of the house, I ask you to…                ?   \n",
       "1                              UXBUCTDSERFOGPHOFMKNL                ?   \n",
       "2                                    Brutus is a dog                ?   \n",
       "3                                 Of arms and a man…                ?   \n",
       "4  Saggita, the emperor's slave, the little Pompeian   Benefiel 2010a   \n",
       "5                         Maximus (greets) his Irene                ?   \n",
       "6                 Arrunitis was here with Tiburtinus                ?   \n",
       "7                                       It's raining                ?   \n",
       "8                        Petronius, you fuck Pyramus                ?   \n",
       "9                                   All fell silent…  Milnor 2009 314   \n",
       "\n",
       "   Literacy (1-3)                         In org. language  \\\n",
       "0             3.0           (per) lares sanctos rogo te vt   \n",
       "1             2.0                    VXBVCTDSERFOGPHOFMKNL   \n",
       "2             2.0                       Brv(t)vs canis est   \n",
       "3             3.0                            Arma virvmqve   \n",
       "4             2.0  Sagitta imperatoris servos pompeianolvs   \n",
       "5             2.0                     Maxim(vs) irenae sve   \n",
       "6             3.0         Arrvntivs hic fvit cvm tibvrtino   \n",
       "7             2.0                                     Plvi   \n",
       "8             2.0                   ΠΕΤΡΩΝΙ ΠΥΡΑΜΟ ΠΗΔΙΚΑΣ   \n",
       "9             3.0                        Conticvre om(nes)   \n",
       "\n",
       "  Context type specific   ...          Category Written by    Work  \\\n",
       "0                 altar   ...         Religious        NaN     NaN   \n",
       "1                column   ...             Civic        NaN     NaN   \n",
       "2              entrance   ...     Insult/Threat        NaN     NaN   \n",
       "3              entrance   ...         Reference     Virgil  Aeneid   \n",
       "4              entrance   ...           Tagging        NaN     NaN   \n",
       "5                façade   ...            Social        NaN     NaN   \n",
       "6                façade   ...            Sexual        NaN     NaN   \n",
       "7                garden   ...             Civic        NaN     NaN   \n",
       "8                garden   ...            Sexual        NaN     NaN   \n",
       "9            outer wall   ...         Reference     Virgil  Aeneid   \n",
       "\n",
       "             Meter Repetition Foreign language Image  Flohr Score  \\\n",
       "0              NaN        NaN              NaN    NaN         NaN   \n",
       "1              NaN        NaN              NaN    NaN       23.77   \n",
       "2              NaN        NaN              NaN    NaN        8.74   \n",
       "3  Metrical, quote        NaN              NaN    NaN        8.74   \n",
       "4              NaN        NaN              NaN    NaN        8.74   \n",
       "5              NaN        NaN              NaN    NaN        3.37   \n",
       "6              NaN        NaN              NaN    NaN   3.44-4.52   \n",
       "7              NaN        NaN              NaN    NaN        8.74   \n",
       "8              NaN        NaN              NaN    NaN        8.74   \n",
       "9  Metrical, quote        NaN              NaN    NaN       23.77   \n",
       "\n",
       "  Socio-economic status comments  \n",
       "0                   low      NaN  \n",
       "1                medium      NaN  \n",
       "2                   low      NaN  \n",
       "3                   low      NaN  \n",
       "4                   low      NaN  \n",
       "5                   low      NaN  \n",
       "6                   low      NaN  \n",
       "7                   low      NaN  \n",
       "8                   low      NaN  \n",
       "9                medium      NaN  \n",
       "\n",
       "[10 rows x 22 columns]"
      ]
     },
     "execution_count": 9,
     "metadata": {},
     "output_type": "execute_result"
    }
   ],
   "source": [
    "df_raw.head(10)"
   ]
  },
  {
   "cell_type": "code",
   "execution_count": 10,
   "metadata": {},
   "outputs": [
    {
     "name": "stdout",
     "output_type": "stream",
     "text": [
      "<class 'pandas.core.frame.DataFrame'>\n",
      "RangeIndex: 1051 entries, 0 to 1050\n",
      "Data columns (total 22 columns):\n",
      "CIL IV #                 1024 non-null object\n",
      "Reggio                   994 non-null object\n",
      "Insula                   989 non-null object\n",
      "Entrance                 913 non-null object\n",
      "found?                   17 non-null object\n",
      "In English               1043 non-null object\n",
      "org.                     279 non-null object\n",
      "Literacy (1-3)           1038 non-null float64\n",
      "In org. language         315 non-null object\n",
      "Context type specific    705 non-null object\n",
      "Context type general     751 non-null object\n",
      "Famous House             503 non-null object\n",
      "Category                 1027 non-null object\n",
      "Written by               104 non-null object\n",
      "Work                     62 non-null object\n",
      "Meter                    143 non-null object\n",
      "Repetition               81 non-null object\n",
      "Foreign language         27 non-null object\n",
      "Image                    56 non-null object\n",
      "Flohr Score              582 non-null object\n",
      "Socio-economic status    974 non-null object\n",
      "comments                 29 non-null object\n",
      "dtypes: float64(1), object(21)\n",
      "memory usage: 180.7+ KB\n"
     ]
    }
   ],
   "source": [
    "df_raw.info()"
   ]
  },
  {
   "cell_type": "markdown",
   "metadata": {},
   "source": [
    "Columns to drop:\n",
    "\n",
    "'found'\n",
    "'org'?\n",
    "'comments'?\n",
    "\n",
    "Change 'Literacy' to integer before categorizing. Rename column.\n",
    "\n",
    "Categorical variables to transform: Reggio, Insula, Literacy, Context type specific, Context type general, Famous House (?), Socio-economic status\n",
    "\n",
    "\n",
    "Null values to fill: Reggio, Insula, Entrance, Context type specific, Context type general, Famous House,\n",
    "\n",
    "Target: 'Category'"
   ]
  },
  {
   "cell_type": "code",
   "execution_count": 13,
   "metadata": {},
   "outputs": [],
   "source": [
    "#inline_hists(['Reggio', 'Insula', 'Entrance'], df)"
   ]
  },
  {
   "cell_type": "code",
   "execution_count": 14,
   "metadata": {},
   "outputs": [],
   "source": [
    "#df['Reggio'].hist()"
   ]
  },
  {
   "cell_type": "code",
   "execution_count": 18,
   "metadata": {},
   "outputs": [
    {
     "data": {
      "text/plain": [
       "7      224\n",
       "9      148\n",
       "1      138\n",
       "6      131\n",
       "8      120\n",
       "5      104\n",
       "2       89\n",
       "3       37\n",
       "4        2\n",
       "6_7      1\n",
       "Name: Reggio, dtype: int64"
      ]
     },
     "execution_count": 18,
     "metadata": {},
     "output_type": "execute_result"
    }
   ],
   "source": [
    "df_raw['Reggio'].value_counts()"
   ]
  },
  {
   "cell_type": "code",
   "execution_count": 32,
   "metadata": {},
   "outputs": [
    {
     "data": {
      "text/plain": [
       "57"
      ]
     },
     "execution_count": 32,
     "metadata": {},
     "output_type": "execute_result"
    }
   ],
   "source": [
    "df_raw['Reggio'].isna().sum()"
   ]
  },
  {
   "cell_type": "code",
   "execution_count": 11,
   "metadata": {},
   "outputs": [],
   "source": [
    "Reggio = df_raw['Reggio'].fillna(0)"
   ]
  },
  {
   "cell_type": "code",
   "execution_count": 14,
   "metadata": {},
   "outputs": [],
   "source": [
    "Reggio = Reggio.astype(int)"
   ]
  },
  {
   "cell_type": "code",
   "execution_count": 17,
   "metadata": {},
   "outputs": [
    {
     "data": {
      "text/plain": [
       "7     224\n",
       "9     148\n",
       "1     138\n",
       "6     131\n",
       "8     120\n",
       "5     104\n",
       "2      89\n",
       "0      57\n",
       "3      37\n",
       "4       2\n",
       "67      1\n",
       "Name: Reggio, dtype: int64"
      ]
     },
     "execution_count": 17,
     "metadata": {},
     "output_type": "execute_result"
    }
   ],
   "source": [
    "Reggio.value_counts()"
   ]
  },
  {
   "cell_type": "code",
   "execution_count": 28,
   "metadata": {},
   "outputs": [
    {
     "data": {
      "text/plain": [
       "994    67\n",
       "Name: Reggio, dtype: int64"
      ]
     },
     "execution_count": 28,
     "metadata": {},
     "output_type": "execute_result"
    }
   ],
   "source": [
    "Reggio[Reggio == 67]"
   ]
  },
  {
   "cell_type": "code",
   "execution_count": 32,
   "metadata": {},
   "outputs": [],
   "source": [
    "Reggio = Reggio.drop([994])"
   ]
  },
  {
   "cell_type": "code",
   "execution_count": 33,
   "metadata": {},
   "outputs": [
    {
     "data": {
      "text/plain": [
       "7    224\n",
       "9    148\n",
       "1    138\n",
       "6    131\n",
       "8    120\n",
       "5    104\n",
       "2     89\n",
       "0     57\n",
       "3     37\n",
       "4      2\n",
       "Name: Reggio, dtype: int64"
      ]
     },
     "execution_count": 33,
     "metadata": {},
     "output_type": "execute_result"
    }
   ],
   "source": [
    "Reggio.value_counts()"
   ]
  },
  {
   "cell_type": "code",
   "execution_count": 34,
   "metadata": {},
   "outputs": [
    {
     "data": {
      "text/plain": [
       "<matplotlib.axes._subplots.AxesSubplot at 0x12f6696d8>"
      ]
     },
     "execution_count": 34,
     "metadata": {},
     "output_type": "execute_result"
    },
    {
     "data": {
      "image/png": "[encoded data removed]",
      "text/plain": [
       "<Figure size 432x288 with 1 Axes>"
      ]
     },
     "metadata": {
      "needs_background": "light"
     },
     "output_type": "display_data"
    }
   ],
   "source": [
    "#There we go\n",
    "Reggio.hist()"
   ]
  },
  {
   "cell_type": "code",
   "execution_count": 36,
   "metadata": {},
   "outputs": [
    {
     "data": {
      "text/plain": [
       "Social                245\n",
       "Sexual                200\n",
       "Insult                132\n",
       "Civic                  85\n",
       "Reference              74\n",
       "Religious              61\n",
       "Tagging                59\n",
       "Romantic               59\n",
       "Violence               37\n",
       "Insult/Sexual          20\n",
       "Political              14\n",
       "Insult/Social           9\n",
       "Insult/Threat           5\n",
       "Political/Social        5\n",
       "Romantic/Sexual         3\n",
       "Tagging/Violence        3\n",
       "Sexual/Social           3\n",
       "Romantic/Social         2\n",
       "Religious/Romantic      2\n",
       "Sexual/Violence         1\n",
       "Political/Sexual        1\n",
       "Political               1\n",
       "Reference/Tagging       1\n",
       "Political/Violence      1\n",
       "Religious/Violence      1\n",
       "Political/Tagging       1\n",
       "Civic/Political         1\n",
       "Insult/Tagging          1\n",
       "Name: Category, dtype: int64"
      ]
     },
     "execution_count": 36,
     "metadata": {},
     "output_type": "execute_result"
    }
   ],
   "source": [
    "df_raw['Category'].value_counts()\n"
   ]
  },
  {
   "cell_type": "code",
   "execution_count": 78,
   "metadata": {
    "scrolled": true
   },
   "outputs": [
    {
     "data": {
      "text/html": [
       "<div>\n",
       "<style scoped>\n",
       "    .dataframe tbody tr th:only-of-type {\n",
       "        vertical-align: middle;\n",
       "    }\n",
       "\n",
       "    .dataframe tbody tr th {\n",
       "        vertical-align: top;\n",
       "    }\n",
       "\n",
       "    .dataframe thead th {\n",
       "        text-align: right;\n",
       "    }\n",
       "</style>\n",
       "<table border=\"1\" class=\"dataframe\">\n",
       "  <thead>\n",
       "    <tr style=\"text-align: right;\">\n",
       "      <th></th>\n",
       "      <th>CIL IV #</th>\n",
       "      <th>Reggio</th>\n",
       "      <th>Insula</th>\n",
       "      <th>Entrance</th>\n",
       "      <th>found?</th>\n",
       "      <th>In English</th>\n",
       "      <th>org.</th>\n",
       "      <th>Literacy (1-3)</th>\n",
       "      <th>In org. language</th>\n",
       "      <th>Context type specific</th>\n",
       "      <th>...</th>\n",
       "      <th>Category</th>\n",
       "      <th>Written by</th>\n",
       "      <th>Work</th>\n",
       "      <th>Meter</th>\n",
       "      <th>Repetition</th>\n",
       "      <th>Foreign language</th>\n",
       "      <th>Image</th>\n",
       "      <th>Flohr Score</th>\n",
       "      <th>Socio-economic status</th>\n",
       "      <th>comments</th>\n",
       "    </tr>\n",
       "  </thead>\n",
       "  <tbody>\n",
       "    <tr>\n",
       "      <th>213</th>\n",
       "      <td>4200</td>\n",
       "      <td>5</td>\n",
       "      <td>2</td>\n",
       "      <td>i</td>\n",
       "      <td>NaN</td>\n",
       "      <td>Whoever loves me: come. To Venus' loins I want...</td>\n",
       "      <td>NaN</td>\n",
       "      <td>2.0</td>\n",
       "      <td>NaN</td>\n",
       "      <td>peristyle</td>\n",
       "      <td>...</td>\n",
       "      <td>Religious/Romantic</td>\n",
       "      <td>NaN</td>\n",
       "      <td>NaN</td>\n",
       "      <td>NaN</td>\n",
       "      <td>NaN</td>\n",
       "      <td>NaN</td>\n",
       "      <td>NaN</td>\n",
       "      <td>53.05</td>\n",
       "      <td>high</td>\n",
       "      <td>NaN</td>\n",
       "    </tr>\n",
       "    <tr>\n",
       "      <th>574</th>\n",
       "      <td>2457</td>\n",
       "      <td>8</td>\n",
       "      <td>7</td>\n",
       "      <td>21</td>\n",
       "      <td>NaN</td>\n",
       "      <td>Methe, slave of Cominia and actors of Atellan ...</td>\n",
       "      <td>NaN</td>\n",
       "      <td>3.0</td>\n",
       "      <td>NaN</td>\n",
       "      <td>NaN</td>\n",
       "      <td>...</td>\n",
       "      <td>Religious/Romantic</td>\n",
       "      <td>NaN</td>\n",
       "      <td>NaN</td>\n",
       "      <td>NaN</td>\n",
       "      <td>NaN</td>\n",
       "      <td>NaN</td>\n",
       "      <td>NaN</td>\n",
       "      <td>NaN</td>\n",
       "      <td>medium</td>\n",
       "      <td>NaN</td>\n",
       "    </tr>\n",
       "  </tbody>\n",
       "</table>\n",
       "<p>2 rows × 22 columns</p>\n",
       "</div>"
      ],
      "text/plain": [
       "    CIL IV # Reggio Insula Entrance found?  \\\n",
       "213     4200      5      2        i    NaN   \n",
       "574     2457      8      7       21    NaN   \n",
       "\n",
       "                                            In English org.   Literacy (1-3)  \\\n",
       "213  Whoever loves me: come. To Venus' loins I want...   NaN             2.0   \n",
       "574  Methe, slave of Cominia and actors of Atellan ...   NaN             3.0   \n",
       "\n",
       "    In org. language Context type specific   ...               Category  \\\n",
       "213              NaN             peristyle   ...     Religious/Romantic   \n",
       "574              NaN                   NaN   ...     Religious/Romantic   \n",
       "\n",
       "    Written by Work Meter Repetition Foreign language Image  Flohr Score  \\\n",
       "213        NaN  NaN   NaN        NaN              NaN    NaN       53.05   \n",
       "574        NaN  NaN   NaN        NaN              NaN    NaN         NaN   \n",
       "\n",
       "    Socio-economic status comments  \n",
       "213                  high      NaN  \n",
       "574                medium      NaN  \n",
       "\n",
       "[2 rows x 22 columns]"
      ]
     },
     "execution_count": 78,
     "metadata": {},
     "output_type": "execute_result"
    }
   ],
   "source": [
    "#Consider reclassifying all with 'beware' into a 'Warning' category\n",
    "#Change all \"Insult/Threat\" to just 'Insult'\n",
    "#Change all 'Political/Social' to just 'Political'\n",
    "#Change all Romantic/Sexual' to just 'Romantic'\n",
    "#Tagging/violence are just military things\n",
    "#Sexual/social are ??\n",
    "#Romantic/social are ??\n",
    "#\n",
    "df_raw[df_raw['Category'] == 'Religious/Romantic']\n",
    "\n",
    "\n"
   ]
  },
  {
   "cell_type": "code",
   "execution_count": 55,
   "metadata": {},
   "outputs": [],
   "source": [
    "df_raw['In English'] = df_raw['In English'].fillna('')\n"
   ]
  },
  {
   "cell_type": "code",
   "execution_count": 71,
   "metadata": {},
   "outputs": [
    {
     "data": {
      "text/html": [
       "<div>\n",
       "<style scoped>\n",
       "    .dataframe tbody tr th:only-of-type {\n",
       "        vertical-align: middle;\n",
       "    }\n",
       "\n",
       "    .dataframe tbody tr th {\n",
       "        vertical-align: top;\n",
       "    }\n",
       "\n",
       "    .dataframe thead th {\n",
       "        text-align: right;\n",
       "    }\n",
       "</style>\n",
       "<table border=\"1\" class=\"dataframe\">\n",
       "  <thead>\n",
       "    <tr style=\"text-align: right;\">\n",
       "      <th></th>\n",
       "      <th>CIL IV #</th>\n",
       "      <th>Reggio</th>\n",
       "      <th>Insula</th>\n",
       "      <th>Entrance</th>\n",
       "      <th>found?</th>\n",
       "      <th>In English</th>\n",
       "      <th>org.</th>\n",
       "      <th>Literacy (1-3)</th>\n",
       "      <th>In org. language</th>\n",
       "      <th>Context type specific</th>\n",
       "      <th>...</th>\n",
       "      <th>Category</th>\n",
       "      <th>Written by</th>\n",
       "      <th>Work</th>\n",
       "      <th>Meter</th>\n",
       "      <th>Repetition</th>\n",
       "      <th>Foreign language</th>\n",
       "      <th>Image</th>\n",
       "      <th>Flohr Score</th>\n",
       "      <th>Socio-economic status</th>\n",
       "      <th>comments</th>\n",
       "    </tr>\n",
       "  </thead>\n",
       "  <tbody>\n",
       "    <tr>\n",
       "      <th>0</th>\n",
       "      <td>8426</td>\n",
       "      <td>2</td>\n",
       "      <td>1</td>\n",
       "      <td>NaN</td>\n",
       "      <td>NaN</td>\n",
       "      <td>By the holy gods of the house, I ask you to…</td>\n",
       "      <td>?</td>\n",
       "      <td>3.0</td>\n",
       "      <td>(per) lares sanctos rogo te vt</td>\n",
       "      <td>altar</td>\n",
       "      <td>...</td>\n",
       "      <td>Religious</td>\n",
       "      <td>NaN</td>\n",
       "      <td>NaN</td>\n",
       "      <td>NaN</td>\n",
       "      <td>NaN</td>\n",
       "      <td>NaN</td>\n",
       "      <td>NaN</td>\n",
       "      <td>NaN</td>\n",
       "      <td>low</td>\n",
       "      <td>NaN</td>\n",
       "    </tr>\n",
       "    <tr>\n",
       "      <th>33</th>\n",
       "      <td>1227</td>\n",
       "      <td>6</td>\n",
       "      <td>1</td>\n",
       "      <td>7</td>\n",
       "      <td>NaN</td>\n",
       "      <td>We came here desiring, much more [we desire to...</td>\n",
       "      <td>Benefiel 2010a</td>\n",
       "      <td>3.0</td>\n",
       "      <td>NaN</td>\n",
       "      <td>peristyle</td>\n",
       "      <td>...</td>\n",
       "      <td>Religious</td>\n",
       "      <td>NaN</td>\n",
       "      <td>NaN</td>\n",
       "      <td>NaN</td>\n",
       "      <td>metrical [distich]</td>\n",
       "      <td>NaN</td>\n",
       "      <td>NaN</td>\n",
       "      <td>52.54</td>\n",
       "      <td>high</td>\n",
       "      <td>possible original variant</td>\n",
       "    </tr>\n",
       "    <tr>\n",
       "      <th>233</th>\n",
       "      <td>1679</td>\n",
       "      <td>7</td>\n",
       "      <td>2</td>\n",
       "      <td>45</td>\n",
       "      <td>maybe</td>\n",
       "      <td>Undefeated Castrensis, may the gods be favoura...</td>\n",
       "      <td>NaN</td>\n",
       "      <td>3.0</td>\n",
       "      <td>NaN</td>\n",
       "      <td>atrium</td>\n",
       "      <td>...</td>\n",
       "      <td>Social</td>\n",
       "      <td>NaN</td>\n",
       "      <td>NaN</td>\n",
       "      <td>NaN</td>\n",
       "      <td>NaN</td>\n",
       "      <td>NaN</td>\n",
       "      <td>NaN</td>\n",
       "      <td>1.32</td>\n",
       "      <td>low</td>\n",
       "      <td>NaN</td>\n",
       "    </tr>\n",
       "    <tr>\n",
       "      <th>319</th>\n",
       "      <td>9887</td>\n",
       "      <td>2</td>\n",
       "      <td>4</td>\n",
       "      <td>13</td>\n",
       "      <td>NaN</td>\n",
       "      <td>Felix makes a vow to the household gods</td>\n",
       "      <td>Cooley/Cooley 2014 150</td>\n",
       "      <td>3.0</td>\n",
       "      <td>Felix (…) laribvs conse(crat) votvm</td>\n",
       "      <td>kitchen</td>\n",
       "      <td>...</td>\n",
       "      <td>Religious</td>\n",
       "      <td>NaN</td>\n",
       "      <td>NaN</td>\n",
       "      <td>NaN</td>\n",
       "      <td>NaN</td>\n",
       "      <td>NaN</td>\n",
       "      <td>NaN</td>\n",
       "      <td>NaN</td>\n",
       "      <td>low</td>\n",
       "      <td>NaN</td>\n",
       "    </tr>\n",
       "    <tr>\n",
       "      <th>357</th>\n",
       "      <td>8873</td>\n",
       "      <td>3</td>\n",
       "      <td>5</td>\n",
       "      <td>1</td>\n",
       "      <td>NaN</td>\n",
       "      <td>I deny all gods! (...)</td>\n",
       "      <td>Biville 2003, 221</td>\n",
       "      <td>2.0</td>\n",
       "      <td>Homnes nego deos</td>\n",
       "      <td>outer wall</td>\n",
       "      <td>...</td>\n",
       "      <td>Religious</td>\n",
       "      <td>NaN</td>\n",
       "      <td>Reference to muscial instruments, giraffe in i...</td>\n",
       "      <td>NaN</td>\n",
       "      <td>NaN</td>\n",
       "      <td>NaN</td>\n",
       "      <td>NaN</td>\n",
       "      <td>NaN</td>\n",
       "      <td>high</td>\n",
       "      <td>NaN</td>\n",
       "    </tr>\n",
       "    <tr>\n",
       "      <th>590</th>\n",
       "      <td>5370</td>\n",
       "      <td>9</td>\n",
       "      <td>7</td>\n",
       "      <td>20</td>\n",
       "      <td>NaN</td>\n",
       "      <td>Whoever despises life, will easily feel contem...</td>\n",
       "      <td>NaN</td>\n",
       "      <td>3.0</td>\n",
       "      <td>NaN</td>\n",
       "      <td>peristyle</td>\n",
       "      <td>...</td>\n",
       "      <td>Religious</td>\n",
       "      <td>NaN</td>\n",
       "      <td>NaN</td>\n",
       "      <td>NaN</td>\n",
       "      <td>NaN</td>\n",
       "      <td>NaN</td>\n",
       "      <td>NaN</td>\n",
       "      <td>25</td>\n",
       "      <td>medium</td>\n",
       "      <td>NaN</td>\n",
       "    </tr>\n",
       "    <tr>\n",
       "      <th>673</th>\n",
       "      <td>8282</td>\n",
       "      <td>1</td>\n",
       "      <td>10</td>\n",
       "      <td>3</td>\n",
       "      <td>NaN</td>\n",
       "      <td>Household gods of Augustus…</td>\n",
       "      <td>Benefiel 2010a</td>\n",
       "      <td>2.0</td>\n",
       "      <td>Lares Avgvstos</td>\n",
       "      <td>entrance</td>\n",
       "      <td>...</td>\n",
       "      <td>Religious</td>\n",
       "      <td>NaN</td>\n",
       "      <td>NaN</td>\n",
       "      <td>NaN</td>\n",
       "      <td>NaN</td>\n",
       "      <td>NaN</td>\n",
       "      <td>NaN</td>\n",
       "      <td>7.87</td>\n",
       "      <td>low</td>\n",
       "      <td>NaN</td>\n",
       "    </tr>\n",
       "  </tbody>\n",
       "</table>\n",
       "<p>7 rows × 22 columns</p>\n",
       "</div>"
      ],
      "text/plain": [
       "    CIL IV # Reggio Insula Entrance found?  \\\n",
       "0       8426      2      1      NaN    NaN   \n",
       "33      1227      6      1        7    NaN   \n",
       "233     1679      7      2       45  maybe   \n",
       "319     9887      2      4       13    NaN   \n",
       "357     8873      3      5        1    NaN   \n",
       "590     5370      9      7       20    NaN   \n",
       "673     8282      1     10        3    NaN   \n",
       "\n",
       "                                            In English  \\\n",
       "0         By the holy gods of the house, I ask you to…   \n",
       "33   We came here desiring, much more [we desire to...   \n",
       "233  Undefeated Castrensis, may the gods be favoura...   \n",
       "319            Felix makes a vow to the household gods   \n",
       "357                             I deny all gods! (...)   \n",
       "590  Whoever despises life, will easily feel contem...   \n",
       "673                        Household gods of Augustus…   \n",
       "\n",
       "                      org.   Literacy (1-3)  \\\n",
       "0                         ?             3.0   \n",
       "33           Benefiel 2010a             3.0   \n",
       "233                     NaN             3.0   \n",
       "319  Cooley/Cooley 2014 150             3.0   \n",
       "357       Biville 2003, 221             2.0   \n",
       "590                     NaN             3.0   \n",
       "673          Benefiel 2010a             2.0   \n",
       "\n",
       "                        In org. language Context type specific  \\\n",
       "0         (per) lares sanctos rogo te vt                 altar   \n",
       "33                                   NaN             peristyle   \n",
       "233                                  NaN                atrium   \n",
       "319  Felix (…) laribvs conse(crat) votvm               kitchen   \n",
       "357                     Homnes nego deos            outer wall   \n",
       "590                                  NaN             peristyle   \n",
       "673                       Lares Avgvstos              entrance   \n",
       "\n",
       "               ...               Category Written by  \\\n",
       "0              ...              Religious        NaN   \n",
       "33             ...              Religious        NaN   \n",
       "233            ...                 Social        NaN   \n",
       "319            ...              Religious        NaN   \n",
       "357            ...              Religious        NaN   \n",
       "590            ...              Religious        NaN   \n",
       "673            ...              Religious        NaN   \n",
       "\n",
       "                                                  Work Meter  \\\n",
       "0                                                  NaN   NaN   \n",
       "33                                                 NaN   NaN   \n",
       "233                                                NaN   NaN   \n",
       "319                                                NaN   NaN   \n",
       "357  Reference to muscial instruments, giraffe in i...   NaN   \n",
       "590                                                NaN   NaN   \n",
       "673                                                NaN   NaN   \n",
       "\n",
       "             Repetition Foreign language Image  Flohr Score  \\\n",
       "0                   NaN              NaN    NaN         NaN   \n",
       "33   metrical [distich]              NaN    NaN       52.54   \n",
       "233                 NaN              NaN    NaN        1.32   \n",
       "319                 NaN              NaN    NaN         NaN   \n",
       "357                 NaN              NaN    NaN         NaN   \n",
       "590                 NaN              NaN    NaN          25   \n",
       "673                 NaN              NaN    NaN        7.87   \n",
       "\n",
       "    Socio-economic status                   comments  \n",
       "0                     low                        NaN  \n",
       "33                   high  possible original variant  \n",
       "233                   low                        NaN  \n",
       "319                   low                        NaN  \n",
       "357                  high                        NaN  \n",
       "590                medium                        NaN  \n",
       "673                   low                        NaN  \n",
       "\n",
       "[7 rows x 22 columns]"
      ]
     },
     "execution_count": 71,
     "metadata": {},
     "output_type": "execute_result"
    }
   ],
   "source": [
    "df_raw[df_raw['In English'].str.contains('gods')]"
   ]
  },
  {
   "cell_type": "code",
   "execution_count": null,
   "metadata": {},
   "outputs": [],
   "source": []
  },
  {
   "cell_type": "code",
   "execution_count": null,
   "metadata": {},
   "outputs": [],
   "source": []
  },
  {
   "cell_type": "code",
   "execution_count": null,
   "metadata": {},
   "outputs": [],
   "source": []
  },
  {
   "cell_type": "code",
   "execution_count": null,
   "metadata": {},
   "outputs": [],
   "source": []
  },
  {
   "cell_type": "code",
   "execution_count": null,
   "metadata": {},
   "outputs": [],
   "source": []
  },
  {
   "cell_type": "code",
   "execution_count": null,
   "metadata": {},
   "outputs": [],
   "source": []
  },
  {
   "cell_type": "code",
   "execution_count": null,
   "metadata": {},
   "outputs": [],
   "source": []
  },
  {
   "cell_type": "markdown",
   "metadata": {},
   "source": [
    "<a id = 'scrub'></a>"
   ]
  },
  {
   "cell_type": "markdown",
   "metadata": {},
   "source": [
    "[(Back to top)](#top)\n",
    "\n",
    "# Cleaning the data"
   ]
  },
  {
   "cell_type": "code",
   "execution_count": null,
   "metadata": {},
   "outputs": [],
   "source": []
  },
  {
   "cell_type": "markdown",
   "metadata": {},
   "source": [
    "<a id = 'explore'></a>"
   ]
  },
  {
   "cell_type": "markdown",
   "metadata": {},
   "source": [
    "[(Back to top)](#top)\n",
    "\n",
    "# Exploratory data analysis"
   ]
  },
  {
   "cell_type": "code",
   "execution_count": null,
   "metadata": {},
   "outputs": [],
   "source": []
  },
  {
   "cell_type": "markdown",
   "metadata": {},
   "source": [
    "<a id = 'model1'></a>"
   ]
  },
  {
   "cell_type": "markdown",
   "metadata": {},
   "source": [
    "[(Back to top)](#top)\n",
    "\n",
    "# Modeling: Model \\#1"
   ]
  },
  {
   "cell_type": "code",
   "execution_count": null,
   "metadata": {},
   "outputs": [],
   "source": []
  },
  {
   "cell_type": "markdown",
   "metadata": {},
   "source": [
    "<a id = 'model2'></a>"
   ]
  },
  {
   "cell_type": "markdown",
   "metadata": {},
   "source": [
    "[(Back to top)](#top)\n",
    "\n",
    "# Model \\#2"
   ]
  },
  {
   "cell_type": "code",
   "execution_count": null,
   "metadata": {},
   "outputs": [],
   "source": []
  },
  {
   "cell_type": "markdown",
   "metadata": {},
   "source": [
    "<a id = 'model3'></a>"
   ]
  },
  {
   "cell_type": "markdown",
   "metadata": {},
   "source": [
    "[(Back to top)](#top)\n",
    "\n",
    "# Model \\#3"
   ]
  },
  {
   "cell_type": "code",
   "execution_count": null,
   "metadata": {},
   "outputs": [],
   "source": []
  },
  {
   "cell_type": "markdown",
   "metadata": {},
   "source": [
    "<a id = 'concl'></a>"
   ]
  },
  {
   "cell_type": "markdown",
   "metadata": {},
   "source": [
    "[(Back to top)](#top)\n",
    "\n",
    "# Conclusions"
   ]
  },
  {
   "cell_type": "code",
   "execution_count": null,
   "metadata": {},
   "outputs": [],
   "source": []
  }
 ],
 "metadata": {
  "kernelspec": {
   "display_name": "learn-env",
   "language": "python",
   "name": "learn-env"
  },
  "language_info": {
   "codemirror_mode": {
    "name": "ipython",
    "version": 3
   },
   "file_extension": ".py",
   "mimetype": "text/x-python",
   "name": "python",
   "nbconvert_exporter": "python",
   "pygments_lexer": "ipython3",
   "version": "3.6.6"
  }
 },
 "nbformat": 4,
 "nbformat_minor": 2
}
