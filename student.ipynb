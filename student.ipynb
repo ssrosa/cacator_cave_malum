{
 "cells": [
  {
   "cell_type": "markdown",
   "metadata": {},
   "source": [
    "## Final Project Submission\n",
    "\n",
    "Please fill out:\n",
    "* Student name: Steven Rosa\n",
    "* Student pace: part time\n",
    "* Project review date/time: Monday 1 April 2019 11am ET\n",
    "* Instructor name: Jeff Herman\n",
    "* Blog post URL:\n"
   ]
  },
  {
   "cell_type": "markdown",
   "metadata": {},
   "source": [
    "\"Database for The Scratched Voices Begging to be Heard: The Graffiti of Pompeii and Today\"\n",
    "\n",
    "by Alexa Rose\n",
    "\n",
    "https://core.tdar.org/dataset/445837/database-for-the-scratched-voices-begging-to-be-heard-the-graffiti-of-pompeii-and-today"
   ]
  },
  {
   "cell_type": "markdown",
   "metadata": {},
   "source": [
    "<a id = 'top'></a>"
   ]
  },
  {
   "cell_type": "markdown",
   "metadata": {},
   "source": [
    "# Contents\n",
    "- Libraries and helper functions\n",
    "- [A first look at the data](#obtain)\n",
    "- [Cleaning the raw data](#scrub)\n",
    "- [Exploratory data analysis](#explore)\n",
    "- Modeling\n",
    " - [Model \\#1](#model1)\n",
    " - [Model \\#2](#model2)\n",
    " - [Model \\#3](#model3)\n",
    "- [Conclusions](#concl)"
   ]
  },
  {
   "cell_type": "markdown",
   "metadata": {},
   "source": [
    "# Libraries and helper functions"
   ]
  },
  {
   "cell_type": "code",
   "execution_count": 1,
   "metadata": {},
   "outputs": [],
   "source": [
    "import pandas as pd #For working with DataFrames\n",
    "import matplotlib.pyplot as plt #For visualizing plots\n",
    "import numpy as np #For mathematical operations\n",
    "import random                   #for generating random numbers for train/test split\n",
    "import copy                     #for making deep copies of mutable objects\n",
    "\n",
    "#for dividing data into a training set and a testing set\n",
    "from sklearn.model_selection import train_test_split \n",
    "#For building regular logistic regression models\n",
    "from sklearn.linear_model import LogisticRegression\n",
    "#To view the ROC of a given class and  \"area under the curve\"\n",
    "from sklearn.metrics import accuracy_score, roc_curve, auc\n",
    "#For building decision trees\n",
    "from sklearn.tree import DecisionTreeClassifier \n",
    "from sklearn import tree \n",
    "from sklearn.preprocessing import LabelEncoder\n",
    "from sklearn.preprocessing import OneHotEncoder\n",
    "#For visualizing decision trees:\n",
    "from sklearn.externals.six import StringIO  \n",
    "from IPython.display import Image  \n",
    "from sklearn.tree import export_graphviz\n",
    "import pydotplus\n",
    "#For assessing accuracy of logistic regression or decision trees\n",
    "from sklearn.metrics import confusion_matrix \n",
    "import itertools #To iteratively append labels to cells in a confusion matrox"
   ]
  },
  {
   "cell_type": "code",
   "execution_count": null,
   "metadata": {},
   "outputs": [],
   "source": [
    "import time"
   ]
  },
  {
   "cell_type": "code",
   "execution_count": 2,
   "metadata": {},
   "outputs": [],
   "source": [
    "#Function to draw in-line histograms\n",
    "def inline_hists(xs, data, bins = 50):\n",
    "    fig, axs = plt.subplots(1, len(xs), sharey=False, figsize=((5 * len(xs), 4)))\n",
    "    for i, x in enumerate(xs):\n",
    "        data[x].hist(ax=axs[i], label=x, xlabelsize=5, bins=bins)\n",
    "        axs[i].legend()\n",
    "    plt.show()"
   ]
  },
  {
   "cell_type": "code",
   "execution_count": 3,
   "metadata": {},
   "outputs": [],
   "source": [
    "#Example function to visualize a confusion matrix without yellow brick\n",
    "def plot_conf_matrix(cm, classes, normalize=False, \n",
    "                          title='Confusion Matrix', cmap=plt.cm.Blues):\n",
    "#    if normalize:\n",
    "#        cm = cm.astype('float') / cm.sum(axis=1)[:, np.newaxis]\n",
    "#        print(\"Matrix, normalized\")\n",
    "#    else:\n",
    "#        print('Matrix')\n",
    "\n",
    "    plt.imshow(cm, interpolation='nearest', cmap=cmap)\n",
    "    plt.title(title)\n",
    "    plt.colorbar()\n",
    "    tick_marks = np.arange(len(classes))\n",
    "    plt.xticks(tick_marks, classes, rotation=45)\n",
    "    plt.yticks(tick_marks, classes)\n",
    "\n",
    "    fmt = '.2f' if normalize else 'd'\n",
    "    thresh = cm.max() / 2.\n",
    "    for i, j in itertools.product(range(cm.shape[0]), range(cm.shape[1])):\n",
    "        plt.text(j, i, format(cm[i, j], fmt),\n",
    "                 horizontalalignment=\"center\",\n",
    "                 color=\"white\" if cm[i, j] > thresh else \"black\")\n",
    "\n",
    "    plt.tight_layout()\n",
    "    plt.ylabel('True label')\n",
    "    plt.xlabel('Predicted label')"
   ]
  },
  {
   "cell_type": "markdown",
   "metadata": {},
   "source": [
    "<a id = 'obtain'></a>"
   ]
  },
  {
   "cell_type": "markdown",
   "metadata": {},
   "source": [
    "[(Back to top)](#top)\n",
    "\n",
    "# A first look at the data"
   ]
  },
  {
   "cell_type": "code",
   "execution_count": 4,
   "metadata": {},
   "outputs": [],
   "source": [
    "#Obtain the raw data\n",
    "df_raw = pd.read_csv('graffiti.csv')"
   ]
  },
  {
   "cell_type": "code",
   "execution_count": null,
   "metadata": {},
   "outputs": [],
   "source": [
    "df_raw.head(20)"
   ]
  },
  {
   "cell_type": "code",
   "execution_count": null,
   "metadata": {},
   "outputs": [],
   "source": [
    "df_raw.info()"
   ]
  },
  {
   "cell_type": "markdown",
   "metadata": {},
   "source": [
    "Columns to drop:\n",
    "\n",
    "'found'\n",
    "'org'?\n",
    "'comments'?\n",
    "\n",
    "Change 'Literacy' to integer before categorizing. Rename column.\n",
    "\n",
    "Rename 'Image ' as 'Image'.\n",
    "\n",
    "Categorical variables to transform: Reggio, Insula, Literacy, Context type specific, Context type general, Famous House (?), Socio-economic status\n",
    "\n",
    "\n",
    "Null values to fill: Reggio, Insula, Entrance, Context type specific, Context type general, Famous House,\n",
    "\n",
    "Target: 'Category'"
   ]
  },
  {
   "cell_type": "markdown",
   "metadata": {},
   "source": [
    "<a id = 'scrub'></a>"
   ]
  },
  {
   "cell_type": "markdown",
   "metadata": {},
   "source": [
    "[(Back to top)](#top)\n",
    "\n",
    "# Cleaning the data"
   ]
  },
  {
   "cell_type": "markdown",
   "metadata": {},
   "source": [
    "## Column by column"
   ]
  },
  {
   "cell_type": "markdown",
   "metadata": {},
   "source": [
    "### 'CIL IV Pound sign'"
   ]
  },
  {
   "cell_type": "code",
   "execution_count": null,
   "metadata": {},
   "outputs": [],
   "source": [
    "df_raw['CIL IV #'] = df_raw['CIL IV #'].fillna(0)"
   ]
  },
  {
   "cell_type": "markdown",
   "metadata": {},
   "source": [
    "### 'Reggio'"
   ]
  },
  {
   "cell_type": "code",
   "execution_count": null,
   "metadata": {},
   "outputs": [],
   "source": [
    "df_raw['Reggio'].value_counts()"
   ]
  },
  {
   "cell_type": "code",
   "execution_count": null,
   "metadata": {},
   "outputs": [],
   "source": [
    "print(df_raw['Reggio'].isna().sum())"
   ]
  },
  {
   "cell_type": "code",
   "execution_count": 5,
   "metadata": {},
   "outputs": [],
   "source": [
    "#Fill NaN values\n",
    "df_raw['Reggio'] = df_raw['Reggio'].fillna(0)\n",
    "#Change 6_7 to 6\n",
    "df_raw.at[994, 'Reggio'] = '6'\n",
    "#Change data type to integer\n",
    "df_raw['Reggio'] = df_raw['Reggio'].astype(float).astype(int)"
   ]
  },
  {
   "cell_type": "markdown",
   "metadata": {},
   "source": [
    "Zero values can be filled later once more is known about the reggios."
   ]
  },
  {
   "cell_type": "markdown",
   "metadata": {},
   "source": [
    "### 'Insula'"
   ]
  },
  {
   "cell_type": "code",
   "execution_count": null,
   "metadata": {},
   "outputs": [],
   "source": [
    "df_raw['Insula'].value_counts()"
   ]
  },
  {
   "cell_type": "code",
   "execution_count": null,
   "metadata": {},
   "outputs": [],
   "source": [
    "df_raw['Insula'].value_counts().sum()"
   ]
  },
  {
   "cell_type": "code",
   "execution_count": null,
   "metadata": {},
   "outputs": [],
   "source": [
    "df_raw['Insula'].isna().sum()"
   ]
  },
  {
   "cell_type": "code",
   "execution_count": 6,
   "metadata": {},
   "outputs": [],
   "source": [
    "#Fill null values\n",
    "df_raw['Insula'] = df_raw['Insula'].fillna(0)\n",
    "\n",
    "#Replace the values with underscores\n",
    "df_raw.at[985, 'Insula'] = '4'\n",
    "df_raw.at[986, 'Insula'] = '4'\n",
    "df_raw.at[983, 'Insula'] = '4'\n",
    "df_raw.at[984, 'Insula'] = '4'\n",
    "df_raw.at[988, 'Insula'] = '9'\n",
    "df_raw.at[987, 'Insula'] = '8'\n",
    "df_raw.at[982, 'Insula'] = '12'\n",
    "df_raw.at[981, 'Insula'] = '1'\n",
    "\n",
    "#Change data type to intger\n",
    "df_raw['Insula'] = df_raw['Insula'].astype(float).astype(int)"
   ]
  },
  {
   "cell_type": "markdown",
   "metadata": {},
   "source": [
    "### 'Entrance'"
   ]
  },
  {
   "cell_type": "code",
   "execution_count": null,
   "metadata": {},
   "outputs": [],
   "source": [
    "df_raw['Entrance'].value_counts()"
   ]
  },
  {
   "cell_type": "code",
   "execution_count": 7,
   "metadata": {},
   "outputs": [],
   "source": [
    "#Fill null values\n",
    "df_raw['Entrance'] = df_raw['Entrance'].fillna('unknown')\n",
    "\n",
    "#Replace all values with underscores or hyphens\n",
    "#Dict to fill values from 'Entrance'\n",
    "entrance_replacements = dict()\n",
    "entrance_values = df_raw['Entrance'].value_counts()\n",
    "\n",
    "#Iterate over Entrance values to look for underscore and hyphen\n",
    "#Make a dict with values to replace the _/- values in the dataframe\n",
    "#I'm choosing to take the first numerical value from each pair\n",
    "for index in entrance_values.index:\n",
    "        if '_' in index:\n",
    "            index_split = index.split('_')\n",
    "            entrance_replacements[index] = index_split[0]\n",
    "        elif '-' in index:\n",
    "            index_split = index.split('-')\n",
    "            entrance_replacements[index] = index_split[0]\n",
    "            \n",
    "df_raw['Entrance'] = df_raw['Entrance'].replace(entrance_replacements)\n",
    "\n",
    "#Change 'F' to 'f'\n",
    "df_raw.at[661, 'Entrance'] = df_raw.at[661, 'Entrance'].lower()\n",
    "#Change '4/5/' to '4'\n",
    "df_raw.at[6, 'Entrance'] = '4'\n",
    "#Replace 'I' and '?'\n",
    "df_raw['Entrance'] = df_raw['Entrance'].replace({'I': 'i', '?': 'unknown'})"
   ]
  },
  {
   "cell_type": "markdown",
   "metadata": {},
   "source": [
    "This is better, but it may have to be categorized."
   ]
  },
  {
   "cell_type": "markdown",
   "metadata": {},
   "source": [
    "### 'found?'"
   ]
  },
  {
   "cell_type": "code",
   "execution_count": null,
   "metadata": {},
   "outputs": [],
   "source": [
    "df_raw['found?'].isna().sum()"
   ]
  },
  {
   "cell_type": "code",
   "execution_count": null,
   "metadata": {},
   "outputs": [],
   "source": [
    "#Can just be dropped\n",
    "df_raw.drop(['found?'], axis = 1, inplace = True)"
   ]
  },
  {
   "cell_type": "markdown",
   "metadata": {},
   "source": [
    "### 'In English'"
   ]
  },
  {
   "cell_type": "code",
   "execution_count": null,
   "metadata": {},
   "outputs": [],
   "source": [
    "df_raw['In English'].isna().sum()"
   ]
  },
  {
   "cell_type": "code",
   "execution_count": 8,
   "metadata": {},
   "outputs": [],
   "source": [
    "#Fill nulls so that they can be read\n",
    "df_raw['In English'] = df_raw['In English'].fillna('')\n",
    "\n",
    "#Rows with null values or unhelpful 'CHECK' values\n",
    "blank_indexes = df_raw.index[df_raw['In English'] == '']\n",
    "check_indexes = df_raw.index[df_raw['In English'] == '[CHECK]']\n",
    "\n",
    "#Drop the empty rows. They aren't useful if they don't have the English text of the graffiti.\n",
    "df_raw.drop(blank_indexes, inplace = True)\n",
    "df_raw.drop(check_indexes, inplace = True)"
   ]
  },
  {
   "cell_type": "markdown",
   "metadata": {},
   "source": [
    "### 'org. '"
   ]
  },
  {
   "cell_type": "code",
   "execution_count": null,
   "metadata": {},
   "outputs": [],
   "source": [
    "df_raw['org. '].value_counts()[:10]"
   ]
  },
  {
   "cell_type": "code",
   "execution_count": 9,
   "metadata": {},
   "outputs": [],
   "source": [
    "#Won't be useful here. Can be dropped.\n",
    "df_raw.drop(['org. '], axis = 1, inplace = True)"
   ]
  },
  {
   "cell_type": "markdown",
   "metadata": {},
   "source": [
    "### 'Literacy'"
   ]
  },
  {
   "cell_type": "code",
   "execution_count": null,
   "metadata": {},
   "outputs": [],
   "source": [
    "df_raw['Literacy (1-3)'].value_counts()"
   ]
  },
  {
   "cell_type": "code",
   "execution_count": null,
   "metadata": {},
   "outputs": [],
   "source": [
    "df_raw['Literacy (1-3)'].isna().sum()"
   ]
  },
  {
   "cell_type": "code",
   "execution_count": 10,
   "metadata": {},
   "outputs": [],
   "source": [
    "#Rename column\n",
    "df_raw = df_raw.rename(index=str, columns = {'Literacy (1-3)': 'Literacy'})\n",
    "\n",
    "#Turn the few 1 values into 2s.\n",
    "df_raw['Literacy'] = df_raw['Literacy'].replace({1.0: 2})\n",
    "df_raw['Literacy'] = df_raw['Literacy'].fillna(2)\n",
    "\n",
    "#Turn floats into integers\n",
    "df_raw['Literacy'] = df_raw['Literacy'].astype(float).astype(int)\n",
    "\n",
    "#Fill nulls\n",
    "df_raw['Literacy'] = df_raw['Literacy']"
   ]
  },
  {
   "cell_type": "markdown",
   "metadata": {},
   "source": [
    "### 'In org. language'"
   ]
  },
  {
   "cell_type": "code",
   "execution_count": null,
   "metadata": {
    "scrolled": true
   },
   "outputs": [],
   "source": [
    "df_raw['In org. language'].value_counts().sum()"
   ]
  },
  {
   "cell_type": "code",
   "execution_count": 11,
   "metadata": {},
   "outputs": [],
   "source": [
    "#Dropping for now\n",
    "df_raw.drop(['In org. language'], axis = 1, inplace = True)"
   ]
  },
  {
   "cell_type": "markdown",
   "metadata": {},
   "source": [
    "Not sure what to do with this at this point."
   ]
  },
  {
   "cell_type": "markdown",
   "metadata": {},
   "source": [
    "### 'Context type general'"
   ]
  },
  {
   "cell_type": "code",
   "execution_count": null,
   "metadata": {},
   "outputs": [],
   "source": [
    "df_raw['Context type general'].value_counts()"
   ]
  },
  {
   "cell_type": "code",
   "execution_count": null,
   "metadata": {},
   "outputs": [],
   "source": [
    "df_raw['Context type general'].isna().sum()"
   ]
  },
  {
   "cell_type": "code",
   "execution_count": 12,
   "metadata": {},
   "outputs": [],
   "source": [
    "# No specific, no general, no reggio, insula\n",
    "no_spec_no_gen = df_raw[df_raw['Context type specific'].isna() & df_raw['Context type general'].isna()]\n",
    "\n",
    "no_spec_no_gen[(no_spec_no_gen['Reggio'] == 0) & (no_spec_no_gen['Insula'] == 0)].shape\n",
    "\n",
    "#Must drop the 43 rows that don't have a reggio, insula, specfic context or general context\n",
    "to_drop = no_spec_no_gen[(no_spec_no_gen['Reggio'] == 0) & (no_spec_no_gen['Insula'] == 0)]\n",
    "df_raw.drop(to_drop.index, axis = 0, inplace = True)\n",
    "\n",
    "#Maybe famous house can fill in for general context where it's missing?\n",
    "famoushouse_nogen = df_raw[\n",
    "    (df_raw['Famous House'].notna())\n",
    "    & \n",
    "    (df_raw['Context type general'].isna())]\n",
    "\n",
    "#Get indexes of all rows without a gen context but with a famous house\n",
    "indexes = famoushouse_nogen.index\n",
    "\n",
    "famoushouse_gencontexts = {\n",
    "    'Praedia ': 'building',\n",
    "    'Basilica': 'basilica',\n",
    "    'House of': 'house',\n",
    "    'house of': 'house',\n",
    "    'Villa of': 'house',\n",
    "    'Building': 'building',\n",
    "    'near the Porta Vesuvio': 'necropolis',\n",
    "    'Workshop': 'workshop'\n",
    "}\n",
    "\n",
    "#Replace gen context with the building type from its famous house\n",
    "#Iterate over all the rows which have a famous house but lack a gen context\n",
    "for index in indexes:\n",
    "    #Iterate over the keys of famous houses\n",
    "    for key, val in famoushouse_gencontexts.items():\n",
    "        #If the row's famous house matches one from the dict\n",
    "        if key in df_raw.at[index, 'Famous House']:\n",
    "            #Fill missing gen context value with value from dict\n",
    "            df_raw.at[index, 'Context type general'] = val\n",
    "            \n",
    "#Noticed that Bar of Sotericus has gen context of \"house\"\n",
    "indexes = df_raw[df_raw['Famous House'] == 'Bar of Sotericus']['Context type general']\n",
    "#Replace 'house' with 'bar' for these\n",
    "for index in indexes.index:\n",
    "    df_raw.at[index, 'Context type general'] = 'bar'\n",
    "    \n",
    "#Noticed that 'Outside Porta Marina' had two NaN gen contexts to fix\n",
    "#Will drop these because they're missing too many columns\n",
    "df_raw.drop(['997', '998'], axis = 0, inplace = True)\n",
    "\n",
    "#change all building types for spec context \"workshop\" to gen context \"workshop\"\n",
    "indexes = df_raw[df_raw['Context type specific'] == 'workshop']\n",
    "for index in indexes.index:\n",
    "    df_raw.at[index, 'Context type general'] = 'workshop'\n",
    "\n",
    "#Same for 'Workshop'\n",
    "indexes = df_raw[df_raw['Context type specific'] == 'Workshop']\n",
    "for index in indexes.index:\n",
    "    df_raw.at[index, 'Context type general'] = 'workshop'\n",
    "\n",
    "#Specific context \"dining room\" to general context \"house\"\n",
    "indexes = df_raw[\n",
    "    (df_raw['Context type specific'] == 'dining room')\n",
    "    & \n",
    "    (df_raw['Context type general'].isna())]\n",
    "for index in indexes.index:\n",
    "    df_raw.at[index, 'Context type general'] = 'house'\n",
    "\n",
    "#Spec context \"shop\" to general context \"shop\"\n",
    "indexes = df_raw[\n",
    "    (df_raw['Context type specific'] == 'shop')\n",
    "    & \n",
    "    (df_raw['Context type general'].isna())]\n",
    "for index in indexes.index:\n",
    "    df_raw.at[index, 'Context type general'] = 'shop'\n",
    "    \n",
    "#Spec context \"kitchen\" to general context \"house\"    \n",
    "indexes = df_raw[\n",
    "    (df_raw['Context type specific'] == 'kitchen')\n",
    "    & \n",
    "    (df_raw['Context type general'].isna())]\n",
    "for index in indexes.index:\n",
    "    df_raw.at[index, 'Context type general'] = 'house'    \n",
    "    \n",
    "#Add consistency to a few of the values\n",
    "replacements = {'Baths': 'baths',\n",
    "                'unit': 'apartment'}\n",
    "df_raw['Context type general'] = df_raw['Context type general'].replace(replacements)\n",
    "\n",
    "#Fill null values\n",
    "df_raw['Context type general'] = df_raw['Context type general'].fillna('unknown')\n",
    "\n",
    "#Changing the name of the column\n",
    "df_raw = df_raw.rename(index=str, columns ={\n",
    "              'Context type general': 'Building Type'})"
   ]
  },
  {
   "cell_type": "markdown",
   "metadata": {},
   "source": [
    "### 'Context type specific'"
   ]
  },
  {
   "cell_type": "code",
   "execution_count": null,
   "metadata": {},
   "outputs": [],
   "source": [
    "df_raw['Context type specific'].value_counts()"
   ]
  },
  {
   "cell_type": "code",
   "execution_count": null,
   "metadata": {},
   "outputs": [],
   "source": [
    "#Rows with a spec context but not a building type\n",
    "df_raw['Context type specific'][\n",
    "    (df_raw['Context type specific'].notna())\n",
    "    & \n",
    "    (df_raw['Building Type'].isna())].value_counts()"
   ]
  },
  {
   "cell_type": "code",
   "execution_count": null,
   "metadata": {},
   "outputs": [],
   "source": [
    "#Reggio and insula for rows with a spec context but not a building type\n",
    "regIns = df_raw[['Reggio', 'Insula']][\n",
    "    (df_raw['Context type specific'].notna())\n",
    "    & \n",
    "    (df_raw['Building Type'].isna())]\n",
    "\n",
    "regins_tuples = []\n",
    "for row in regIns.index:\n",
    "    regins_tuples.append(tuple((regIns.at[row, 'Reggio'], regIns.at[row, 'Insula'])))\n",
    "    \n",
    "#These reggios and insulae can be looked up for building type\n",
    "set(regins_tuples)    "
   ]
  },
  {
   "cell_type": "code",
   "execution_count": null,
   "metadata": {},
   "outputs": [],
   "source": [
    "#Rows with no spec context but a building type\n",
    "regIns = df_raw[['Reggio', 'Insula']][\n",
    "    (df_raw['Context type specific'].isna())\n",
    "    & \n",
    "    (df_raw['Building Type'].notna())]"
   ]
  },
  {
   "cell_type": "code",
   "execution_count": null,
   "metadata": {},
   "outputs": [],
   "source": [
    "regIns.shape # It's probably good enough that these all have a Building Type"
   ]
  },
  {
   "cell_type": "code",
   "execution_count": 13,
   "metadata": {},
   "outputs": [],
   "source": [
    "#Add consistency to values\n",
    "replacements = {'façade': 'facade',\n",
    "                'tablinium': 'tablinum',\n",
    "                'Workshop': 'workshop'\n",
    "                }\n",
    "\n",
    "df_raw['Context type specific'] = df_raw['Context type specific'].replace(replacements)\n",
    "\n",
    "#Fill null values\n",
    "df_raw['Context type specific'] = df_raw['Context type specific'].fillna('unknown')\n",
    "\n",
    "#Rename column\n",
    "df_raw = df_raw.rename(index=str, columns ={'Context type specific': 'Position'})"
   ]
  },
  {
   "cell_type": "markdown",
   "metadata": {},
   "source": [
    "### 'Famous House'"
   ]
  },
  {
   "cell_type": "code",
   "execution_count": null,
   "metadata": {
    "scrolled": true
   },
   "outputs": [],
   "source": [
    "df_raw['Famous House'].value_counts()[60:90]"
   ]
  },
  {
   "cell_type": "code",
   "execution_count": null,
   "metadata": {
    "scrolled": true
   },
   "outputs": [],
   "source": [
    "df_raw['Famous House'].isna().sum()"
   ]
  },
  {
   "cell_type": "code",
   "execution_count": 14,
   "metadata": {},
   "outputs": [],
   "source": [
    "#Turn this column into a 0/1 for no/yes\n",
    "indexes = df_raw[df_raw['Famous House'].notna()]\n",
    "\n",
    "for index in indexes.index:\n",
    "    df_raw.at[index, 'Famous House'] = 1\n",
    "    \n",
    "df_raw['Famous House'] = df_raw['Famous House'].fillna(0)"
   ]
  },
  {
   "cell_type": "code",
   "execution_count": null,
   "metadata": {},
   "outputs": [],
   "source": [
    "#save for later?\n",
    "df_raw[(df_raw['Building Type'].isna()) & (df_raw['Famous House'] == 0)]"
   ]
  },
  {
   "cell_type": "markdown",
   "metadata": {},
   "source": [
    "### Target: 'Category'"
   ]
  },
  {
   "cell_type": "code",
   "execution_count": null,
   "metadata": {},
   "outputs": [],
   "source": [
    "#Consider reclassifying all with 'beware' into a 'Warning' category\n",
    "#Consider a \"Greetings\" category\n",
    "#Consider a \"Blessing\" category\n",
    "df_raw[df_raw['Category'] == 'Religious/Romantic']"
   ]
  },
  {
   "cell_type": "code",
   "execution_count": null,
   "metadata": {},
   "outputs": [],
   "source": [
    "df_raw['Category'].value_counts()"
   ]
  },
  {
   "cell_type": "code",
   "execution_count": 15,
   "metadata": {},
   "outputs": [],
   "source": [
    "#Replace all values with back slashes\n",
    "#Dict to fill values from 'Category'\n",
    "cat_replacements = dict()\n",
    "cat_values = df_raw['Category'].value_counts()\n",
    "\n",
    "#Iterate over Category values to look for underscore and hyphen\n",
    "#Make a dict with values to replace the _/- values in the dataframe\n",
    "#I'm choosing to take the first value from each pair\n",
    "for index in cat_values.index:\n",
    "        if '/' in index:\n",
    "            index_split = index.split('/')\n",
    "            cat_replacements[index] = index_split[0]\n",
    "            \n",
    "df_raw['Category'] = df_raw['Category'].replace(cat_replacements)\n",
    "\n",
    "#This creates one instance of 'Political' with a space\n",
    "df_raw['Category'] = df_raw['Category'].replace({'Political ': 'Political'})"
   ]
  },
  {
   "cell_type": "code",
   "execution_count": 32,
   "metadata": {},
   "outputs": [],
   "source": [
    "#For now just filling empteis with 'Political'\n",
    "df_raw['Category'] = df_raw['Category'].fillna('unknown')"
   ]
  },
  {
   "cell_type": "markdown",
   "metadata": {},
   "source": [
    "### 'Written by'"
   ]
  },
  {
   "cell_type": "code",
   "execution_count": 143,
   "metadata": {},
   "outputs": [
    {
     "data": {
      "text/plain": [
       "unknown                                     895\n",
       "Virgil                                       36\n",
       "children?                                     8\n",
       "Ennius                                        5\n",
       "Ovid                                          5\n",
       "Lucretius                                     4\n",
       "woman                                         4\n",
       "Virgil                                        3\n",
       "woman?                                        2\n",
       "Woman                                         2\n",
       "two writers                                   2\n",
       "by two writers                                1\n",
       "multiple                                      1\n",
       "at least 3 young writers                      1\n",
       "? Popular poem                                1\n",
       "Herodutus                                     1\n",
       "last line by different hand                   1\n",
       "Vergil                                        1\n",
       "allusion to virgil                            1\n",
       "Epaphra/Elea                                  1\n",
       "Written by two writers                        1\n",
       "possibly 2 writers                            1\n",
       "Homer                                         1\n",
       "Menander                                      1\n",
       "Foreign                                       1\n",
       "Salvius                                       1\n",
       "Horace                                        1\n",
       "for primigenia                                1\n",
       "Senica                                        1\n",
       "foreign                                       1\n",
       "Severus/Virgil                                1\n",
       "Foreign?  (latin words in greek letters)      1\n",
       "Tibutinus                                     1\n",
       "Vergil                                        1\n",
       "House owner                                   1\n",
       "group of women                                1\n",
       "Menander, sentenia                            1\n",
       "Propertius                                    1\n",
       "Antheros                                      1\n",
       "Name: Written by, dtype: int64"
      ]
     },
     "execution_count": 143,
     "metadata": {},
     "output_type": "execute_result"
    }
   ],
   "source": [
    "df_raw['Written by'].value_counts()"
   ]
  },
  {
   "cell_type": "code",
   "execution_count": 139,
   "metadata": {},
   "outputs": [],
   "source": [
    "df_raw['Written by'] = df_raw['Written by'].fillna('unknown')"
   ]
  },
  {
   "cell_type": "code",
   "execution_count": 142,
   "metadata": {},
   "outputs": [],
   "source": [
    "ovids = df_raw[df_raw['Written by'].str.contains('Ovid', regex = False, case = False)]\n",
    "\n",
    "for index in ovids.index:\n",
    "    df_raw.at[index, 'Written by'] = 'Ovid'"
   ]
  },
  {
   "cell_type": "code",
   "execution_count": null,
   "metadata": {},
   "outputs": [],
   "source": [
    "#Can be dropped\n",
    "#df_raw.drop(['Written by'], axis = 1, inplace = True)"
   ]
  },
  {
   "cell_type": "markdown",
   "metadata": {},
   "source": [
    "### 'Work', 'Meter', and 'Reptition'"
   ]
  },
  {
   "cell_type": "code",
   "execution_count": null,
   "metadata": {},
   "outputs": [],
   "source": [
    "#Change meter to 0/1 no/yes  \n",
    "indexes = df_raw[df_raw['Meter'].notna()]\n",
    "for index in indexes.index:\n",
    "    df_raw.at[index, 'Meter'] = 1   \n",
    "    \n",
    "df_raw['Meter'] = df_raw['Meter'].fillna(0)\n",
    "    \n",
    "#Change name of 'Meter' to 'Literary'\n",
    "df_raw = df_raw.rename(index=str, columns ={'Meter': 'Literary'})\n",
    "\n",
    "#Work and Repetition can be dropped\n",
    "df_raw.drop(['Work', 'Repetition'], axis = 1, inplace = True)"
   ]
  },
  {
   "cell_type": "markdown",
   "metadata": {},
   "source": [
    "### 'Foreign language'"
   ]
  },
  {
   "cell_type": "code",
   "execution_count": null,
   "metadata": {},
   "outputs": [],
   "source": [
    "df_raw['Foreign language'].value_counts()"
   ]
  },
  {
   "cell_type": "code",
   "execution_count": null,
   "metadata": {},
   "outputs": [],
   "source": [
    "df_raw['Foreign language'].isna().sum()"
   ]
  },
  {
   "cell_type": "code",
   "execution_count": 16,
   "metadata": {},
   "outputs": [],
   "source": [
    "#Can be dropped\n",
    "df_raw.drop(['Foreign language'], axis = 1, inplace = True)"
   ]
  },
  {
   "cell_type": "markdown",
   "metadata": {},
   "source": [
    "### 'Image '"
   ]
  },
  {
   "cell_type": "code",
   "execution_count": null,
   "metadata": {},
   "outputs": [],
   "source": [
    "#interesting, further investigation could lead ot help with categorizing, but will drop for now\n",
    "#df_raw['Image '].value_counts()"
   ]
  },
  {
   "cell_type": "code",
   "execution_count": null,
   "metadata": {},
   "outputs": [],
   "source": [
    "df_raw.drop(['Image '], axis = 1, inplace = True)"
   ]
  },
  {
   "cell_type": "code",
   "execution_count": null,
   "metadata": {},
   "outputs": [],
   "source": [
    "#df_raw = df_raw.rename(index=str, columns = {'Image ': 'Image'})"
   ]
  },
  {
   "cell_type": "markdown",
   "metadata": {},
   "source": [
    "### 'Flohr Score'"
   ]
  },
  {
   "cell_type": "code",
   "execution_count": null,
   "metadata": {},
   "outputs": [],
   "source": [
    "df_raw['Flohr Score'].value_counts()"
   ]
  },
  {
   "cell_type": "code",
   "execution_count": null,
   "metadata": {},
   "outputs": [],
   "source": [
    "#Use a loop later\n",
    "df_raw['Flohr Score'] = df_raw['Flohr Score'].replace({'1.69-1.94': 1.69,\n",
    "                                                      '3.44-4.52': 3.44,\n",
    "                                                      '2.96-3.15': 2.96,\n",
    "                                                      '17-0': 17.0})"
   ]
  },
  {
   "cell_type": "code",
   "execution_count": null,
   "metadata": {},
   "outputs": [],
   "source": [
    "df_raw['Flohr Score'] = df_raw['Flohr Score'].astype('float')"
   ]
  },
  {
   "cell_type": "code",
   "execution_count": null,
   "metadata": {},
   "outputs": [],
   "source": [
    "#Just going to put zeros for now\n",
    "df_raw['Flohr Score'] =df_raw['Flohr Score'].fillna(0)"
   ]
  },
  {
   "cell_type": "markdown",
   "metadata": {},
   "source": [
    "### 'Socio-economic status'"
   ]
  },
  {
   "cell_type": "code",
   "execution_count": null,
   "metadata": {},
   "outputs": [],
   "source": [
    "df_raw['Socio-economic status'].value_counts()"
   ]
  },
  {
   "cell_type": "code",
   "execution_count": null,
   "metadata": {},
   "outputs": [],
   "source": [
    "df_raw['Socio-economic status'] = df_raw['Socio-economic status'].fillna('medium')"
   ]
  },
  {
   "cell_type": "markdown",
   "metadata": {},
   "source": [
    "### 'Comments'"
   ]
  },
  {
   "cell_type": "code",
   "execution_count": null,
   "metadata": {},
   "outputs": [],
   "source": [
    "#interesting, further investigation could lead ot help with categorizing, but will drop for now\n",
    "df_raw.drop(['comments'], axis = 1, inplace = True)"
   ]
  },
  {
   "cell_type": "markdown",
   "metadata": {},
   "source": [
    "<a id = 'explore'></a>"
   ]
  },
  {
   "cell_type": "markdown",
   "metadata": {},
   "source": [
    "[(Back to top)](#top)\n",
    "\n",
    "# Exploratory data analysis"
   ]
  },
  {
   "cell_type": "markdown",
   "metadata": {},
   "source": [
    "What is a reggio?\n",
    "\n",
    "What is an insula?\n",
    "\n",
    "From https://sites.google.com/site/ad79eruption/pompeii/map-of-pompeii\n",
    "\n",
    "\"Pompeii, however, has an additional level of numbering. It has been divided firstly into 9 regions (Regio), numbered in Roman numerals. Each of these regions contains several Insulae which are numbered 1, 2 3, etc. As with Herculaneum, each building within an insula has its own entrance number, again numbered 1, 2, 3 etc. For example, the House of Trebius Valens is labelled (Reg III, Ins 2, 1).\""
   ]
  },
  {
   "cell_type": "code",
   "execution_count": 33,
   "metadata": {
    "scrolled": true
   },
   "outputs": [
    {
     "data": {
      "text/plain": [
       "Social       225\n",
       "Sexual       199\n",
       "Insult       160\n",
       "Civic         84\n",
       "Reference     73\n",
       "Romantic      62\n",
       "Tagging       61\n",
       "Religious     60\n",
       "Violence      35\n",
       "Political     23\n",
       "unknown       16\n",
       "Name: Category, dtype: int64"
      ]
     },
     "execution_count": 33,
     "metadata": {},
     "output_type": "execute_result"
    }
   ],
   "source": [
    "df_raw['Category'].value_counts()"
   ]
  },
  {
   "cell_type": "code",
   "execution_count": null,
   "metadata": {},
   "outputs": [],
   "source": []
  },
  {
   "cell_type": "code",
   "execution_count": 134,
   "metadata": {},
   "outputs": [
    {
     "data": {
      "text/html": [
       "<div>\n",
       "<style scoped>\n",
       "    .dataframe tbody tr th:only-of-type {\n",
       "        vertical-align: middle;\n",
       "    }\n",
       "\n",
       "    .dataframe tbody tr th {\n",
       "        vertical-align: top;\n",
       "    }\n",
       "\n",
       "    .dataframe thead th {\n",
       "        text-align: right;\n",
       "    }\n",
       "</style>\n",
       "<table border=\"1\" class=\"dataframe\">\n",
       "  <thead>\n",
       "    <tr style=\"text-align: right;\">\n",
       "      <th></th>\n",
       "      <th>CIL IV #</th>\n",
       "      <th>Reggio</th>\n",
       "      <th>Insula</th>\n",
       "      <th>Entrance</th>\n",
       "      <th>found?</th>\n",
       "      <th>In English</th>\n",
       "      <th>Literacy</th>\n",
       "      <th>Position</th>\n",
       "      <th>Building Type</th>\n",
       "      <th>Famous House</th>\n",
       "      <th>Category</th>\n",
       "      <th>Written by</th>\n",
       "      <th>Work</th>\n",
       "      <th>Meter</th>\n",
       "      <th>Repetition</th>\n",
       "      <th>Image</th>\n",
       "      <th>Flohr Score</th>\n",
       "      <th>Socio-economic status</th>\n",
       "      <th>comments</th>\n",
       "    </tr>\n",
       "  </thead>\n",
       "  <tbody>\n",
       "    <tr>\n",
       "      <th>927</th>\n",
       "      <td>4597</td>\n",
       "      <td>6.0</td>\n",
       "      <td>15.0</td>\n",
       "      <td>1</td>\n",
       "      <td>NaN</td>\n",
       "      <td>Greetings! Greetings!</td>\n",
       "      <td>2.0</td>\n",
       "      <td>peristyle</td>\n",
       "      <td>house</td>\n",
       "      <td>1</td>\n",
       "      <td>Social</td>\n",
       "      <td>NaN</td>\n",
       "      <td>NaN</td>\n",
       "      <td>NaN</td>\n",
       "      <td>NaN</td>\n",
       "      <td>NaN</td>\n",
       "      <td>39.4</td>\n",
       "      <td>medium</td>\n",
       "      <td>NaN</td>\n",
       "    </tr>\n",
       "    <tr>\n",
       "      <th>928</th>\n",
       "      <td>4596</td>\n",
       "      <td>6.0</td>\n",
       "      <td>15.0</td>\n",
       "      <td>1</td>\n",
       "      <td>NaN</td>\n",
       "      <td>Vitalio, hi! Actius (sends) Cossinia his mothe...</td>\n",
       "      <td>2.0</td>\n",
       "      <td>peristyle</td>\n",
       "      <td>house</td>\n",
       "      <td>1</td>\n",
       "      <td>Social</td>\n",
       "      <td>NaN</td>\n",
       "      <td>NaN</td>\n",
       "      <td>NaN</td>\n",
       "      <td>NaN</td>\n",
       "      <td>NaN</td>\n",
       "      <td>39.4</td>\n",
       "      <td>medium</td>\n",
       "      <td>NaN</td>\n",
       "    </tr>\n",
       "    <tr>\n",
       "      <th>933</th>\n",
       "      <td>4611</td>\n",
       "      <td>6.0</td>\n",
       "      <td>15.0</td>\n",
       "      <td>2</td>\n",
       "      <td>NaN</td>\n",
       "      <td>Send my best to!</td>\n",
       "      <td>2.0</td>\n",
       "      <td>peristyle</td>\n",
       "      <td>unknown</td>\n",
       "      <td>0</td>\n",
       "      <td>Social</td>\n",
       "      <td>NaN</td>\n",
       "      <td>NaN</td>\n",
       "      <td>NaN</td>\n",
       "      <td>NaN</td>\n",
       "      <td>NaN</td>\n",
       "      <td>NaN</td>\n",
       "      <td>low</td>\n",
       "      <td>NaN</td>\n",
       "    </tr>\n",
       "    <tr>\n",
       "      <th>937</th>\n",
       "      <td>4826</td>\n",
       "      <td>7.0</td>\n",
       "      <td>15.0</td>\n",
       "      <td>7</td>\n",
       "      <td>NaN</td>\n",
       "      <td>What have I to do with….</td>\n",
       "      <td>3.0</td>\n",
       "      <td>atrium</td>\n",
       "      <td>tabernae</td>\n",
       "      <td>0</td>\n",
       "      <td>Social</td>\n",
       "      <td>NaN</td>\n",
       "      <td>NaN</td>\n",
       "      <td>NaN</td>\n",
       "      <td>NaN</td>\n",
       "      <td>NaN</td>\n",
       "      <td>8.21</td>\n",
       "      <td>low</td>\n",
       "      <td>NaN</td>\n",
       "    </tr>\n",
       "    <tr>\n",
       "      <th>950</th>\n",
       "      <td>6817</td>\n",
       "      <td>6.0</td>\n",
       "      <td>16.0</td>\n",
       "      <td>7</td>\n",
       "      <td>NaN</td>\n",
       "      <td>Campylus sends greetings to Poppaea</td>\n",
       "      <td>2.0</td>\n",
       "      <td>entrance</td>\n",
       "      <td>house</td>\n",
       "      <td>1</td>\n",
       "      <td>Social</td>\n",
       "      <td>NaN</td>\n",
       "      <td>NaN</td>\n",
       "      <td>yes</td>\n",
       "      <td>NaN</td>\n",
       "      <td>NaN</td>\n",
       "      <td>2.01</td>\n",
       "      <td>low</td>\n",
       "      <td>NaN</td>\n",
       "    </tr>\n",
       "    <tr>\n",
       "      <th>955</th>\n",
       "      <td>9143</td>\n",
       "      <td>7.0</td>\n",
       "      <td>16.0</td>\n",
       "      <td>20</td>\n",
       "      <td>NaN</td>\n",
       "      <td>Greetings to Pompeians Everywhere</td>\n",
       "      <td>2.0</td>\n",
       "      <td>atrium</td>\n",
       "      <td>house</td>\n",
       "      <td>1</td>\n",
       "      <td>Social</td>\n",
       "      <td>NaN</td>\n",
       "      <td>NaN</td>\n",
       "      <td>NaN</td>\n",
       "      <td>NaN</td>\n",
       "      <td>NaN</td>\n",
       "      <td>5.54</td>\n",
       "      <td>low</td>\n",
       "      <td>NaN</td>\n",
       "    </tr>\n",
       "    <tr>\n",
       "      <th>956</th>\n",
       "      <td>NaN</td>\n",
       "      <td>7.0</td>\n",
       "      <td>16.0</td>\n",
       "      <td>20</td>\n",
       "      <td>NaN</td>\n",
       "      <td>Hello!</td>\n",
       "      <td>2.0</td>\n",
       "      <td>entrance</td>\n",
       "      <td>house</td>\n",
       "      <td>1</td>\n",
       "      <td>Social</td>\n",
       "      <td>NaN</td>\n",
       "      <td>NaN</td>\n",
       "      <td>NaN</td>\n",
       "      <td>NaN</td>\n",
       "      <td>NaN</td>\n",
       "      <td>5.54</td>\n",
       "      <td>low</td>\n",
       "      <td>NaN</td>\n",
       "    </tr>\n",
       "    <tr>\n",
       "      <th>957</th>\n",
       "      <td>NaN</td>\n",
       "      <td>7.0</td>\n",
       "      <td>16.0</td>\n",
       "      <td>20</td>\n",
       "      <td>NaN</td>\n",
       "      <td>Good luck to Rufo</td>\n",
       "      <td>2.0</td>\n",
       "      <td>dining room</td>\n",
       "      <td>house</td>\n",
       "      <td>1</td>\n",
       "      <td>Social</td>\n",
       "      <td>NaN</td>\n",
       "      <td>NaN</td>\n",
       "      <td>NaN</td>\n",
       "      <td>NaN</td>\n",
       "      <td>NaN</td>\n",
       "      <td>5.54</td>\n",
       "      <td>low</td>\n",
       "      <td>NaN</td>\n",
       "    </tr>\n",
       "    <tr>\n",
       "      <th>959</th>\n",
       "      <td>NaN</td>\n",
       "      <td>7.0</td>\n",
       "      <td>16.0</td>\n",
       "      <td>20</td>\n",
       "      <td>NaN</td>\n",
       "      <td>Having obtained the opportunity…I have not let...</td>\n",
       "      <td>3.0</td>\n",
       "      <td>dining room</td>\n",
       "      <td>house</td>\n",
       "      <td>1</td>\n",
       "      <td>Social</td>\n",
       "      <td>NaN</td>\n",
       "      <td>NaN</td>\n",
       "      <td>NaN</td>\n",
       "      <td>NaN</td>\n",
       "      <td>NaN</td>\n",
       "      <td>5.54</td>\n",
       "      <td>low</td>\n",
       "      <td>NaN</td>\n",
       "    </tr>\n",
       "    <tr>\n",
       "      <th>960</th>\n",
       "      <td>NaN</td>\n",
       "      <td>7.0</td>\n",
       "      <td>16.0</td>\n",
       "      <td>20</td>\n",
       "      <td>NaN</td>\n",
       "      <td>Lyaeus writes most amicably to Fabius Rufus</td>\n",
       "      <td>3.0</td>\n",
       "      <td>dining room</td>\n",
       "      <td>house</td>\n",
       "      <td>1</td>\n",
       "      <td>Social</td>\n",
       "      <td>NaN</td>\n",
       "      <td>NaN</td>\n",
       "      <td>NaN</td>\n",
       "      <td>NaN</td>\n",
       "      <td>NaN</td>\n",
       "      <td>5.54</td>\n",
       "      <td>low</td>\n",
       "      <td>NaN</td>\n",
       "    </tr>\n",
       "    <tr>\n",
       "      <th>961</th>\n",
       "      <td>NaN</td>\n",
       "      <td>7.0</td>\n",
       "      <td>16.0</td>\n",
       "      <td>20</td>\n",
       "      <td>NaN</td>\n",
       "      <td>Onesimus (sends greetings) to his brother secu...</td>\n",
       "      <td>3.0</td>\n",
       "      <td>dining room</td>\n",
       "      <td>house</td>\n",
       "      <td>1</td>\n",
       "      <td>Social</td>\n",
       "      <td>NaN</td>\n",
       "      <td>NaN</td>\n",
       "      <td>NaN</td>\n",
       "      <td>yes</td>\n",
       "      <td>NaN</td>\n",
       "      <td>5.54</td>\n",
       "      <td>low</td>\n",
       "      <td>NaN</td>\n",
       "    </tr>\n",
       "    <tr>\n",
       "      <th>962</th>\n",
       "      <td>NaN</td>\n",
       "      <td>7.0</td>\n",
       "      <td>16.0</td>\n",
       "      <td>20</td>\n",
       "      <td>NaN</td>\n",
       "      <td>Secundus sends very many and everlasting greet...</td>\n",
       "      <td>3.0</td>\n",
       "      <td>dining room</td>\n",
       "      <td>house</td>\n",
       "      <td>1</td>\n",
       "      <td>Social</td>\n",
       "      <td>NaN</td>\n",
       "      <td>NaN</td>\n",
       "      <td>NaN</td>\n",
       "      <td>yes</td>\n",
       "      <td>NaN</td>\n",
       "      <td>5.54</td>\n",
       "      <td>low</td>\n",
       "      <td>NaN</td>\n",
       "    </tr>\n",
       "    <tr>\n",
       "      <th>963</th>\n",
       "      <td>NaN</td>\n",
       "      <td>7.0</td>\n",
       "      <td>16.0</td>\n",
       "      <td>20</td>\n",
       "      <td>NaN</td>\n",
       "      <td>To Marcus Fabius Rufus</td>\n",
       "      <td>2.0</td>\n",
       "      <td>dining room</td>\n",
       "      <td>house</td>\n",
       "      <td>1</td>\n",
       "      <td>Social</td>\n",
       "      <td>NaN</td>\n",
       "      <td>NaN</td>\n",
       "      <td>NaN</td>\n",
       "      <td>NaN</td>\n",
       "      <td>NaN</td>\n",
       "      <td>5.54</td>\n",
       "      <td>low</td>\n",
       "      <td>NaN</td>\n",
       "    </tr>\n",
       "    <tr>\n",
       "      <th>964</th>\n",
       "      <td>NaN</td>\n",
       "      <td>7.0</td>\n",
       "      <td>16.0</td>\n",
       "      <td>20</td>\n",
       "      <td>NaN</td>\n",
       "      <td>To secundus lots of greetings lovingly</td>\n",
       "      <td>2.0</td>\n",
       "      <td>dining room</td>\n",
       "      <td>house</td>\n",
       "      <td>1</td>\n",
       "      <td>Social</td>\n",
       "      <td>NaN</td>\n",
       "      <td>NaN</td>\n",
       "      <td>NaN</td>\n",
       "      <td>NaN</td>\n",
       "      <td>NaN</td>\n",
       "      <td>5.54</td>\n",
       "      <td>low</td>\n",
       "      <td>NaN</td>\n",
       "    </tr>\n",
       "    <tr>\n",
       "      <th>968</th>\n",
       "      <td>NaN</td>\n",
       "      <td>7.0</td>\n",
       "      <td>16.0</td>\n",
       "      <td>17</td>\n",
       "      <td>NaN</td>\n",
       "      <td>Romula lives here with her friend. Romula live...</td>\n",
       "      <td>2.0</td>\n",
       "      <td>peristyle</td>\n",
       "      <td>house</td>\n",
       "      <td>1</td>\n",
       "      <td>Social</td>\n",
       "      <td>NaN</td>\n",
       "      <td>NaN</td>\n",
       "      <td>NaN</td>\n",
       "      <td>NaN</td>\n",
       "      <td>NaN</td>\n",
       "      <td>32.3</td>\n",
       "      <td>medium</td>\n",
       "      <td>NaN</td>\n",
       "    </tr>\n",
       "    <tr>\n",
       "      <th>979</th>\n",
       "      <td>NaN</td>\n",
       "      <td>7.0</td>\n",
       "      <td>16.0</td>\n",
       "      <td>17</td>\n",
       "      <td>NaN</td>\n",
       "      <td>Whoever…</td>\n",
       "      <td>2.0</td>\n",
       "      <td>staircase</td>\n",
       "      <td>house</td>\n",
       "      <td>1</td>\n",
       "      <td>Social</td>\n",
       "      <td>NaN</td>\n",
       "      <td>NaN</td>\n",
       "      <td>yes</td>\n",
       "      <td>NaN</td>\n",
       "      <td>NaN</td>\n",
       "      <td>32.3</td>\n",
       "      <td>medium</td>\n",
       "      <td>NaN</td>\n",
       "    </tr>\n",
       "    <tr>\n",
       "      <th>981</th>\n",
       "      <td>1593</td>\n",
       "      <td>4.0</td>\n",
       "      <td>1.0</td>\n",
       "      <td>unknown</td>\n",
       "      <td>NaN</td>\n",
       "      <td>Livia greets Alexander. I don't care much if y...</td>\n",
       "      <td>3.0</td>\n",
       "      <td>unknown</td>\n",
       "      <td>unknown</td>\n",
       "      <td>0</td>\n",
       "      <td>Social</td>\n",
       "      <td>NaN</td>\n",
       "      <td>NaN</td>\n",
       "      <td>NaN</td>\n",
       "      <td>NaN</td>\n",
       "      <td>NaN</td>\n",
       "      <td>NaN</td>\n",
       "      <td>NaN</td>\n",
       "      <td>Uncertian text</td>\n",
       "    </tr>\n",
       "    <tr>\n",
       "      <th>984</th>\n",
       "      <td>8849</td>\n",
       "      <td>3.0</td>\n",
       "      <td>4.0</td>\n",
       "      <td>unknown</td>\n",
       "      <td>NaN</td>\n",
       "      <td>When a poor man...</td>\n",
       "      <td>3.0</td>\n",
       "      <td>outer wall</td>\n",
       "      <td>unknown</td>\n",
       "      <td>0</td>\n",
       "      <td>Social</td>\n",
       "      <td>NaN</td>\n",
       "      <td>NaN</td>\n",
       "      <td>NaN</td>\n",
       "      <td>NaN</td>\n",
       "      <td>NaN</td>\n",
       "      <td>NaN</td>\n",
       "      <td>high</td>\n",
       "      <td>NaN</td>\n",
       "    </tr>\n",
       "    <tr>\n",
       "      <th>987</th>\n",
       "      <td>3779</td>\n",
       "      <td>9.0</td>\n",
       "      <td>8.0</td>\n",
       "      <td>unknown</td>\n",
       "      <td>NaN</td>\n",
       "      <td>Inn of Gaius Hyginus Firmus</td>\n",
       "      <td>2.0</td>\n",
       "      <td>entrance</td>\n",
       "      <td>unknown</td>\n",
       "      <td>0</td>\n",
       "      <td>Social</td>\n",
       "      <td>NaN</td>\n",
       "      <td>NaN</td>\n",
       "      <td>NaN</td>\n",
       "      <td>NaN</td>\n",
       "      <td>NaN</td>\n",
       "      <td>NaN</td>\n",
       "      <td>NaN</td>\n",
       "      <td>NaN</td>\n",
       "    </tr>\n",
       "    <tr>\n",
       "      <th>989</th>\n",
       "      <td>7866</td>\n",
       "      <td>9.0</td>\n",
       "      <td>0.0</td>\n",
       "      <td>11</td>\n",
       "      <td>NaN</td>\n",
       "      <td>Maria asks (this)</td>\n",
       "      <td>2.0</td>\n",
       "      <td>entrance</td>\n",
       "      <td>unknown</td>\n",
       "      <td>0</td>\n",
       "      <td>Social</td>\n",
       "      <td>NaN</td>\n",
       "      <td>NaN</td>\n",
       "      <td>NaN</td>\n",
       "      <td>yes</td>\n",
       "      <td>NaN</td>\n",
       "      <td>NaN</td>\n",
       "      <td>NaN</td>\n",
       "      <td>NaN</td>\n",
       "    </tr>\n",
       "    <tr>\n",
       "      <th>991</th>\n",
       "      <td>2167</td>\n",
       "      <td>7.0</td>\n",
       "      <td>0.0</td>\n",
       "      <td>unknown</td>\n",
       "      <td>NaN</td>\n",
       "      <td>I want to stay</td>\n",
       "      <td>2.0</td>\n",
       "      <td>unknown</td>\n",
       "      <td>unknown</td>\n",
       "      <td>0</td>\n",
       "      <td>Social</td>\n",
       "      <td>NaN</td>\n",
       "      <td>NaN</td>\n",
       "      <td>NaN</td>\n",
       "      <td>NaN</td>\n",
       "      <td>NaN</td>\n",
       "      <td>NaN</td>\n",
       "      <td>high</td>\n",
       "      <td>NaN</td>\n",
       "    </tr>\n",
       "    <tr>\n",
       "      <th>993</th>\n",
       "      <td>1604</td>\n",
       "      <td>9.0</td>\n",
       "      <td>0.0</td>\n",
       "      <td>unknown</td>\n",
       "      <td>NaN</td>\n",
       "      <td>Look for Falax and Fabius in the decuria of Co...</td>\n",
       "      <td>3.0</td>\n",
       "      <td>unknown</td>\n",
       "      <td>unknown</td>\n",
       "      <td>0</td>\n",
       "      <td>Social</td>\n",
       "      <td>NaN</td>\n",
       "      <td>NaN</td>\n",
       "      <td>NaN</td>\n",
       "      <td>NaN</td>\n",
       "      <td>NaN</td>\n",
       "      <td>NaN</td>\n",
       "      <td>NaN</td>\n",
       "      <td>NaN</td>\n",
       "    </tr>\n",
       "    <tr>\n",
       "      <th>1000</th>\n",
       "      <td>1216</td>\n",
       "      <td>0.0</td>\n",
       "      <td>0.0</td>\n",
       "      <td>unknown</td>\n",
       "      <td>NaN</td>\n",
       "      <td>Greetings, Campanians!</td>\n",
       "      <td>2.0</td>\n",
       "      <td>garden</td>\n",
       "      <td>house</td>\n",
       "      <td>1</td>\n",
       "      <td>Social</td>\n",
       "      <td>NaN</td>\n",
       "      <td>NaN</td>\n",
       "      <td>NaN</td>\n",
       "      <td>NaN</td>\n",
       "      <td>NaN</td>\n",
       "      <td>NaN</td>\n",
       "      <td>NaN</td>\n",
       "      <td>NaN</td>\n",
       "    </tr>\n",
       "    <tr>\n",
       "      <th>1033</th>\n",
       "      <td>9149</td>\n",
       "      <td>0.0</td>\n",
       "      <td>0.0</td>\n",
       "      <td>unknown</td>\n",
       "      <td>NaN</td>\n",
       "      <td>Bye, here, good luck!</td>\n",
       "      <td>2.0</td>\n",
       "      <td>unknown</td>\n",
       "      <td>house</td>\n",
       "      <td>1</td>\n",
       "      <td>Social</td>\n",
       "      <td>NaN</td>\n",
       "      <td>NaN</td>\n",
       "      <td>NaN</td>\n",
       "      <td>NaN</td>\n",
       "      <td>NaN</td>\n",
       "      <td>NaN</td>\n",
       "      <td>NaN</td>\n",
       "      <td>NaN</td>\n",
       "    </tr>\n",
       "  </tbody>\n",
       "</table>\n",
       "</div>"
      ],
      "text/plain": [
       "     CIL IV #  Reggio  Insula Entrance found?  \\\n",
       "927      4597     6.0    15.0        1    NaN   \n",
       "928      4596     6.0    15.0        1    NaN   \n",
       "933      4611     6.0    15.0        2    NaN   \n",
       "937      4826     7.0    15.0        7    NaN   \n",
       "950      6817     6.0    16.0        7    NaN   \n",
       "955      9143     7.0    16.0       20    NaN   \n",
       "956       NaN     7.0    16.0       20    NaN   \n",
       "957       NaN     7.0    16.0       20    NaN   \n",
       "959       NaN     7.0    16.0       20    NaN   \n",
       "960       NaN     7.0    16.0       20    NaN   \n",
       "961       NaN     7.0    16.0       20    NaN   \n",
       "962       NaN     7.0    16.0       20    NaN   \n",
       "963       NaN     7.0    16.0       20    NaN   \n",
       "964       NaN     7.0    16.0       20    NaN   \n",
       "968       NaN     7.0    16.0       17    NaN   \n",
       "979       NaN     7.0    16.0       17    NaN   \n",
       "981      1593     4.0     1.0  unknown    NaN   \n",
       "984      8849     3.0     4.0  unknown    NaN   \n",
       "987      3779     9.0     8.0  unknown    NaN   \n",
       "989      7866     9.0     0.0       11    NaN   \n",
       "991      2167     7.0     0.0  unknown    NaN   \n",
       "993      1604     9.0     0.0  unknown    NaN   \n",
       "1000     1216     0.0     0.0  unknown    NaN   \n",
       "1033     9149     0.0     0.0  unknown    NaN   \n",
       "\n",
       "                                             In English  Literacy  \\\n",
       "927                               Greetings! Greetings!       2.0   \n",
       "928   Vitalio, hi! Actius (sends) Cossinia his mothe...       2.0   \n",
       "933                                    Send my best to!       2.0   \n",
       "937                            What have I to do with….       3.0   \n",
       "950                 Campylus sends greetings to Poppaea       2.0   \n",
       "955                   Greetings to Pompeians Everywhere       2.0   \n",
       "956                                              Hello!       2.0   \n",
       "957                                   Good luck to Rufo       2.0   \n",
       "959   Having obtained the opportunity…I have not let...       3.0   \n",
       "960         Lyaeus writes most amicably to Fabius Rufus       3.0   \n",
       "961   Onesimus (sends greetings) to his brother secu...       3.0   \n",
       "962   Secundus sends very many and everlasting greet...       3.0   \n",
       "963                              To Marcus Fabius Rufus       2.0   \n",
       "964              To secundus lots of greetings lovingly       2.0   \n",
       "968   Romula lives here with her friend. Romula live...       2.0   \n",
       "979                                            Whoever…       2.0   \n",
       "981   Livia greets Alexander. I don't care much if y...       3.0   \n",
       "984                                  When a poor man...       3.0   \n",
       "987                         Inn of Gaius Hyginus Firmus       2.0   \n",
       "989                                   Maria asks (this)       2.0   \n",
       "991                                      I want to stay       2.0   \n",
       "993   Look for Falax and Fabius in the decuria of Co...       3.0   \n",
       "1000                             Greetings, Campanians!       2.0   \n",
       "1033                              Bye, here, good luck!       2.0   \n",
       "\n",
       "         Position Building Type  Famous House Category Written by Work Meter  \\\n",
       "927     peristyle         house             1   Social        NaN  NaN   NaN   \n",
       "928     peristyle         house             1   Social        NaN  NaN   NaN   \n",
       "933     peristyle       unknown             0   Social        NaN  NaN   NaN   \n",
       "937        atrium      tabernae             0   Social        NaN  NaN   NaN   \n",
       "950      entrance         house             1   Social        NaN  NaN   yes   \n",
       "955        atrium         house             1   Social        NaN  NaN   NaN   \n",
       "956      entrance         house             1   Social        NaN  NaN   NaN   \n",
       "957   dining room         house             1   Social        NaN  NaN   NaN   \n",
       "959   dining room         house             1   Social        NaN  NaN   NaN   \n",
       "960   dining room         house             1   Social        NaN  NaN   NaN   \n",
       "961   dining room         house             1   Social        NaN  NaN   NaN   \n",
       "962   dining room         house             1   Social        NaN  NaN   NaN   \n",
       "963   dining room         house             1   Social        NaN  NaN   NaN   \n",
       "964   dining room         house             1   Social        NaN  NaN   NaN   \n",
       "968     peristyle         house             1   Social        NaN  NaN   NaN   \n",
       "979     staircase         house             1   Social        NaN  NaN   yes   \n",
       "981       unknown       unknown             0   Social        NaN  NaN   NaN   \n",
       "984    outer wall       unknown             0   Social        NaN  NaN   NaN   \n",
       "987      entrance       unknown             0   Social        NaN  NaN   NaN   \n",
       "989      entrance       unknown             0   Social        NaN  NaN   NaN   \n",
       "991       unknown       unknown             0   Social        NaN  NaN   NaN   \n",
       "993       unknown       unknown             0   Social        NaN  NaN   NaN   \n",
       "1000       garden         house             1   Social        NaN  NaN   NaN   \n",
       "1033      unknown         house             1   Social        NaN  NaN   NaN   \n",
       "\n",
       "     Repetition Image  Flohr Score Socio-economic status        comments  \n",
       "927         NaN    NaN        39.4                medium             NaN  \n",
       "928         NaN    NaN        39.4                medium             NaN  \n",
       "933         NaN    NaN         NaN                   low             NaN  \n",
       "937         NaN    NaN        8.21                   low             NaN  \n",
       "950         NaN    NaN        2.01                   low             NaN  \n",
       "955         NaN    NaN        5.54                   low             NaN  \n",
       "956         NaN    NaN        5.54                   low             NaN  \n",
       "957         NaN    NaN        5.54                   low             NaN  \n",
       "959         NaN    NaN        5.54                   low             NaN  \n",
       "960         NaN    NaN        5.54                   low             NaN  \n",
       "961         yes    NaN        5.54                   low             NaN  \n",
       "962         yes    NaN        5.54                   low             NaN  \n",
       "963         NaN    NaN        5.54                   low             NaN  \n",
       "964         NaN    NaN        5.54                   low             NaN  \n",
       "968         NaN    NaN        32.3                medium             NaN  \n",
       "979         NaN    NaN        32.3                medium             NaN  \n",
       "981         NaN    NaN         NaN                   NaN  Uncertian text  \n",
       "984         NaN    NaN         NaN                  high             NaN  \n",
       "987         NaN    NaN         NaN                   NaN             NaN  \n",
       "989         yes    NaN         NaN                   NaN             NaN  \n",
       "991         NaN    NaN         NaN                  high             NaN  \n",
       "993         NaN    NaN         NaN                   NaN             NaN  \n",
       "1000        NaN    NaN         NaN                   NaN             NaN  \n",
       "1033        NaN    NaN         NaN                   NaN             NaN  "
      ]
     },
     "execution_count": 134,
     "metadata": {},
     "output_type": "execute_result"
    }
   ],
   "source": [
    "df_raw[df_raw['Category'] == 'Social'][200:]"
   ]
  },
  {
   "cell_type": "markdown",
   "metadata": {},
   "source": [
    "the girls 6\n",
    "\n",
    "slave 25\n",
    "\n",
    "\n",
    "Nero 16\n",
    "\n",
    "\n",
    "Love:\n",
    "    'venus'\n",
    "\n",
    "Hello and Goodbye:\n",
    "    'greet' (69)\n",
    "    'bye' (53), some lewd\n",
    "\n",
    "Glory:\n",
    "    'soldier'\n",
    "    'fight'\n",
    "    'victor'\n",
    "    'mars' 4\n",
    "\n",
    "Leave most 'Insult'\n",
    "\n",
    "\"Lewd\": \n",
    "    'suck' 49\n",
    "    'fuck'\n",
    "    'cunt'\n",
    "    'cock'\n",
    "    'bugger'\n",
    "    'faggot' 15\n",
    "    \n",
    "Blessing:\n",
    "    'best wishes'\n",
    "    'favor'\n",
    "    'favour'\n",
    "    'good luck'\n",
    "    'bravo' 5\n",
    "    happy 10\n",
    "    \n",
    "Curse:\n",
    "    All of insult?\n",
    "    'beware' (not very many)\n",
    "    'anger'"
   ]
  },
  {
   "cell_type": "code",
   "execution_count": 132,
   "metadata": {},
   "outputs": [
    {
     "data": {
      "text/html": [
       "<div>\n",
       "<style scoped>\n",
       "    .dataframe tbody tr th:only-of-type {\n",
       "        vertical-align: middle;\n",
       "    }\n",
       "\n",
       "    .dataframe tbody tr th {\n",
       "        vertical-align: top;\n",
       "    }\n",
       "\n",
       "    .dataframe thead th {\n",
       "        text-align: right;\n",
       "    }\n",
       "</style>\n",
       "<table border=\"1\" class=\"dataframe\">\n",
       "  <thead>\n",
       "    <tr style=\"text-align: right;\">\n",
       "      <th></th>\n",
       "      <th>CIL IV #</th>\n",
       "      <th>Reggio</th>\n",
       "      <th>Insula</th>\n",
       "      <th>Entrance</th>\n",
       "      <th>found?</th>\n",
       "      <th>In English</th>\n",
       "      <th>Literacy</th>\n",
       "      <th>Position</th>\n",
       "      <th>Building Type</th>\n",
       "      <th>Famous House</th>\n",
       "      <th>Category</th>\n",
       "      <th>Written by</th>\n",
       "      <th>Work</th>\n",
       "      <th>Meter</th>\n",
       "      <th>Repetition</th>\n",
       "      <th>Image</th>\n",
       "      <th>Flohr Score</th>\n",
       "      <th>Socio-economic status</th>\n",
       "      <th>comments</th>\n",
       "    </tr>\n",
       "  </thead>\n",
       "  <tbody>\n",
       "    <tr>\n",
       "      <th>644</th>\n",
       "      <td>9054</td>\n",
       "      <td>7.0</td>\n",
       "      <td>9.0</td>\n",
       "      <td>1</td>\n",
       "      <td>yes</td>\n",
       "      <td>I'm dying of love for you…lover..I'm consumed ...</td>\n",
       "      <td>3.0</td>\n",
       "      <td>unknown</td>\n",
       "      <td>building</td>\n",
       "      <td>1</td>\n",
       "      <td>Romantic</td>\n",
       "      <td>NaN</td>\n",
       "      <td>NaN</td>\n",
       "      <td>NaN</td>\n",
       "      <td>NaN</td>\n",
       "      <td>NaN</td>\n",
       "      <td>NaN</td>\n",
       "      <td>high</td>\n",
       "      <td>NaN</td>\n",
       "    </tr>\n",
       "    <tr>\n",
       "      <th>768</th>\n",
       "      <td>2258</td>\n",
       "      <td>7.0</td>\n",
       "      <td>12.0</td>\n",
       "      <td>18</td>\n",
       "      <td>NaN</td>\n",
       "      <td>Africanus is dying. A boy writes this, Rusticu...</td>\n",
       "      <td>3.0</td>\n",
       "      <td>unknown</td>\n",
       "      <td>brothel</td>\n",
       "      <td>0</td>\n",
       "      <td>Social</td>\n",
       "      <td>NaN</td>\n",
       "      <td>NaN</td>\n",
       "      <td>NaN</td>\n",
       "      <td>NaN</td>\n",
       "      <td>NaN</td>\n",
       "      <td>5.59</td>\n",
       "      <td>low</td>\n",
       "      <td>NaN</td>\n",
       "    </tr>\n",
       "  </tbody>\n",
       "</table>\n",
       "</div>"
      ],
      "text/plain": [
       "    CIL IV #  Reggio  Insula Entrance found?  \\\n",
       "644     9054     7.0     9.0        1    yes   \n",
       "768     2258     7.0    12.0       18    NaN   \n",
       "\n",
       "                                            In English  Literacy Position  \\\n",
       "644  I'm dying of love for you…lover..I'm consumed ...       3.0  unknown   \n",
       "768  Africanus is dying. A boy writes this, Rusticu...       3.0  unknown   \n",
       "\n",
       "    Building Type  Famous House  Category Written by Work Meter Repetition  \\\n",
       "644      building             1  Romantic        NaN  NaN   NaN        NaN   \n",
       "768       brothel             0    Social        NaN  NaN   NaN        NaN   \n",
       "\n",
       "    Image  Flohr Score Socio-economic status comments  \n",
       "644    NaN         NaN                  high      NaN  \n",
       "768    NaN        5.59                   low      NaN  "
      ]
     },
     "execution_count": 132,
     "metadata": {},
     "output_type": "execute_result"
    }
   ],
   "source": [
    "df_raw[df_raw['In English'].str.contains('dying', regex = False, case = False)]"
   ]
  },
  {
   "cell_type": "code",
   "execution_count": null,
   "metadata": {},
   "outputs": [],
   "source": [
    "df_raw()"
   ]
  },
  {
   "cell_type": "code",
   "execution_count": 137,
   "metadata": {},
   "outputs": [
    {
     "ename": "ValueError",
     "evalue": "cannot index with vector containing NA / NaN values",
     "output_type": "error",
     "traceback": [
      "\u001b[0;31m---------------------------------------------------------------------------\u001b[0m",
      "\u001b[0;31mValueError\u001b[0m                                Traceback (most recent call last)",
      "\u001b[0;32m<ipython-input-137-ba40671ac3be>\u001b[0m in \u001b[0;36m<module>\u001b[0;34m()\u001b[0m\n\u001b[0;32m----> 1\u001b[0;31m \u001b[0mdf_raw\u001b[0m\u001b[0;34m[\u001b[0m\u001b[0mdf_raw\u001b[0m\u001b[0;34m[\u001b[0m\u001b[0;34m'Written by'\u001b[0m\u001b[0;34m]\u001b[0m\u001b[0;34m.\u001b[0m\u001b[0mstr\u001b[0m\u001b[0;34m.\u001b[0m\u001b[0mcontains\u001b[0m\u001b[0;34m(\u001b[0m\u001b[0;34m'Ovid'\u001b[0m\u001b[0;34m,\u001b[0m \u001b[0mregex\u001b[0m \u001b[0;34m=\u001b[0m \u001b[0;32mFalse\u001b[0m\u001b[0;34m,\u001b[0m \u001b[0mcase\u001b[0m \u001b[0;34m=\u001b[0m \u001b[0;32mFalse\u001b[0m\u001b[0;34m)\u001b[0m\u001b[0;34m]\u001b[0m\u001b[0;34m\u001b[0m\u001b[0m\n\u001b[0m",
      "\u001b[0;32m~/anaconda3/envs/learn-env/lib/python3.6/site-packages/pandas/core/frame.py\u001b[0m in \u001b[0;36m__getitem__\u001b[0;34m(self, key)\u001b[0m\n\u001b[1;32m   2680\u001b[0m         \u001b[0;32mif\u001b[0m \u001b[0misinstance\u001b[0m\u001b[0;34m(\u001b[0m\u001b[0mkey\u001b[0m\u001b[0;34m,\u001b[0m \u001b[0;34m(\u001b[0m\u001b[0mSeries\u001b[0m\u001b[0;34m,\u001b[0m \u001b[0mnp\u001b[0m\u001b[0;34m.\u001b[0m\u001b[0mndarray\u001b[0m\u001b[0;34m,\u001b[0m \u001b[0mIndex\u001b[0m\u001b[0;34m,\u001b[0m \u001b[0mlist\u001b[0m\u001b[0;34m)\u001b[0m\u001b[0;34m)\u001b[0m\u001b[0;34m:\u001b[0m\u001b[0;34m\u001b[0m\u001b[0m\n\u001b[1;32m   2681\u001b[0m             \u001b[0;31m# either boolean or fancy integer index\u001b[0m\u001b[0;34m\u001b[0m\u001b[0;34m\u001b[0m\u001b[0m\n\u001b[0;32m-> 2682\u001b[0;31m             \u001b[0;32mreturn\u001b[0m \u001b[0mself\u001b[0m\u001b[0;34m.\u001b[0m\u001b[0m_getitem_array\u001b[0m\u001b[0;34m(\u001b[0m\u001b[0mkey\u001b[0m\u001b[0;34m)\u001b[0m\u001b[0;34m\u001b[0m\u001b[0m\n\u001b[0m\u001b[1;32m   2683\u001b[0m         \u001b[0;32melif\u001b[0m \u001b[0misinstance\u001b[0m\u001b[0;34m(\u001b[0m\u001b[0mkey\u001b[0m\u001b[0;34m,\u001b[0m \u001b[0mDataFrame\u001b[0m\u001b[0;34m)\u001b[0m\u001b[0;34m:\u001b[0m\u001b[0;34m\u001b[0m\u001b[0m\n\u001b[1;32m   2684\u001b[0m             \u001b[0;32mreturn\u001b[0m \u001b[0mself\u001b[0m\u001b[0;34m.\u001b[0m\u001b[0m_getitem_frame\u001b[0m\u001b[0;34m(\u001b[0m\u001b[0mkey\u001b[0m\u001b[0;34m)\u001b[0m\u001b[0;34m\u001b[0m\u001b[0m\n",
      "\u001b[0;32m~/anaconda3/envs/learn-env/lib/python3.6/site-packages/pandas/core/frame.py\u001b[0m in \u001b[0;36m_getitem_array\u001b[0;34m(self, key)\u001b[0m\n\u001b[1;32m   2707\u001b[0m     \u001b[0;32mdef\u001b[0m \u001b[0m_getitem_array\u001b[0m\u001b[0;34m(\u001b[0m\u001b[0mself\u001b[0m\u001b[0;34m,\u001b[0m \u001b[0mkey\u001b[0m\u001b[0;34m)\u001b[0m\u001b[0;34m:\u001b[0m\u001b[0;34m\u001b[0m\u001b[0m\n\u001b[1;32m   2708\u001b[0m         \u001b[0;31m# also raises Exception if object array with NA values\u001b[0m\u001b[0;34m\u001b[0m\u001b[0;34m\u001b[0m\u001b[0m\n\u001b[0;32m-> 2709\u001b[0;31m         \u001b[0;32mif\u001b[0m \u001b[0mcom\u001b[0m\u001b[0;34m.\u001b[0m\u001b[0mis_bool_indexer\u001b[0m\u001b[0;34m(\u001b[0m\u001b[0mkey\u001b[0m\u001b[0;34m)\u001b[0m\u001b[0;34m:\u001b[0m\u001b[0;34m\u001b[0m\u001b[0m\n\u001b[0m\u001b[1;32m   2710\u001b[0m             \u001b[0;31m# warning here just in case -- previously __setitem__ was\u001b[0m\u001b[0;34m\u001b[0m\u001b[0;34m\u001b[0m\u001b[0m\n\u001b[1;32m   2711\u001b[0m             \u001b[0;31m# reindexing but __getitem__ was not; it seems more reasonable to\u001b[0m\u001b[0;34m\u001b[0m\u001b[0;34m\u001b[0m\u001b[0m\n",
      "\u001b[0;32m~/anaconda3/envs/learn-env/lib/python3.6/site-packages/pandas/core/common.py\u001b[0m in \u001b[0;36mis_bool_indexer\u001b[0;34m(key)\u001b[0m\n\u001b[1;32m    105\u001b[0m             \u001b[0;32mif\u001b[0m \u001b[0;32mnot\u001b[0m \u001b[0mlib\u001b[0m\u001b[0;34m.\u001b[0m\u001b[0mis_bool_array\u001b[0m\u001b[0;34m(\u001b[0m\u001b[0mkey\u001b[0m\u001b[0;34m)\u001b[0m\u001b[0;34m:\u001b[0m\u001b[0;34m\u001b[0m\u001b[0m\n\u001b[1;32m    106\u001b[0m                 \u001b[0;32mif\u001b[0m \u001b[0misna\u001b[0m\u001b[0;34m(\u001b[0m\u001b[0mkey\u001b[0m\u001b[0;34m)\u001b[0m\u001b[0;34m.\u001b[0m\u001b[0many\u001b[0m\u001b[0;34m(\u001b[0m\u001b[0;34m)\u001b[0m\u001b[0;34m:\u001b[0m\u001b[0;34m\u001b[0m\u001b[0m\n\u001b[0;32m--> 107\u001b[0;31m                     raise ValueError('cannot index with vector containing '\n\u001b[0m\u001b[1;32m    108\u001b[0m                                      'NA / NaN values')\n\u001b[1;32m    109\u001b[0m                 \u001b[0;32mreturn\u001b[0m \u001b[0;32mFalse\u001b[0m\u001b[0;34m\u001b[0m\u001b[0m\n",
      "\u001b[0;31mValueError\u001b[0m: cannot index with vector containing NA / NaN values"
     ]
    }
   ],
   "source": []
  },
  {
   "cell_type": "code",
   "execution_count": null,
   "metadata": {},
   "outputs": [],
   "source": []
  },
  {
   "cell_type": "code",
   "execution_count": null,
   "metadata": {},
   "outputs": [],
   "source": []
  },
  {
   "cell_type": "code",
   "execution_count": null,
   "metadata": {},
   "outputs": [],
   "source": []
  },
  {
   "cell_type": "code",
   "execution_count": null,
   "metadata": {},
   "outputs": [],
   "source": []
  },
  {
   "cell_type": "markdown",
   "metadata": {},
   "source": [
    "<a id = 'model1'></a>"
   ]
  },
  {
   "cell_type": "markdown",
   "metadata": {},
   "source": [
    "[(Back to top)](#top)\n",
    "\n",
    "# Modeling: Model \\#1"
   ]
  },
  {
   "cell_type": "code",
   "execution_count": null,
   "metadata": {},
   "outputs": [],
   "source": [
    "df_raw.info()"
   ]
  },
  {
   "cell_type": "code",
   "execution_count": null,
   "metadata": {},
   "outputs": [],
   "source": [
    "#Remaining empty reggio and insula rows   \n",
    "indexes = df_raw[\n",
    "    (df_raw['Reggio'].isna())\n",
    "    & \n",
    "    (df_raw['Building Type'].isna())]\n",
    "for index in indexes.index:\n",
    "    df_raw.at[index, 'Context type general'] = 'house'    "
   ]
  },
  {
   "cell_type": "code",
   "execution_count": null,
   "metadata": {
    "scrolled": true
   },
   "outputs": [],
   "source": [
    "empties = df_raw[df_raw['Reggio'].isna()]"
   ]
  },
  {
   "cell_type": "code",
   "execution_count": null,
   "metadata": {},
   "outputs": [],
   "source": []
  },
  {
   "cell_type": "code",
   "execution_count": null,
   "metadata": {},
   "outputs": [],
   "source": [
    "df_raw.drop(['In English'], axis = 1, inplace = True)"
   ]
  },
  {
   "cell_type": "markdown",
   "metadata": {},
   "source": [
    "## Logistic regression in progress"
   ]
  },
  {
   "cell_type": "code",
   "execution_count": null,
   "metadata": {},
   "outputs": [],
   "source": [
    "#Make categories\n",
    "df_raw['Entrance'] = df_raw['Entrance'].astype('category')\n",
    "df_raw['Position'] = df_raw['Position'].astype('category')\n",
    "df_raw['Building Type'] = df_raw['Building Type'].astype('category')\n",
    "df_raw['Famous House'] = df_raw['Famous House'].astype('bool').astype('category')\n",
    "df_raw['Literary'] = df_raw['Literary'].astype('bool').astype('category')\n",
    "df_raw['Socio-economic status'] = df_raw['Socio-economic status'].astype('category')"
   ]
  },
  {
   "cell_type": "code",
   "execution_count": null,
   "metadata": {},
   "outputs": [],
   "source": [
    "#Get dummies\n",
    "#entrance_dummies = pd.get_dummies(df_raw['Entrance'], prefix = 'Entrance')\n",
    "position_dummies = pd.get_dummies(df_raw['Position'], prefix = 'Position')\n",
    "build_type_dummies = pd.get_dummies(df_raw['Building Type'], prefix = 'Building_Type')\n",
    "famous_dummies = pd.get_dummies(df_raw['Famous House'], prefix = 'Famous')\n",
    "literary_dummies = pd.get_dummies(df_raw['Literary'], prefix = 'Literary')\n",
    "econ_status_dummies = pd.get_dummies(df_raw['Socio-economic status'], prefix = 'Econ_Status')"
   ]
  },
  {
   "cell_type": "code",
   "execution_count": null,
   "metadata": {},
   "outputs": [],
   "source": [
    "#What if I get dummies for y\n",
    "category_dummies = pd.get_dummies(df_raw['Category'], prefix = 'Category')"
   ]
  },
  {
   "cell_type": "code",
   "execution_count": null,
   "metadata": {},
   "outputs": [],
   "source": [
    "X = df_raw.drop(['CIL IV #', 'Entrance', 'Position', 'Building Type', 'Famous House', 'Literary', 'Category', 'Socio-economic status'], axis = 1)\n",
    "X = pd.concat([X, position_dummies, build_type_dummies, famous_dummies, literary_dummies, econ_status_dummies], axis = 1)"
   ]
  },
  {
   "cell_type": "code",
   "execution_count": null,
   "metadata": {
    "scrolled": true
   },
   "outputs": [],
   "source": [
    "#105 columns\n",
    "X.head()"
   ]
  },
  {
   "cell_type": "code",
   "execution_count": null,
   "metadata": {},
   "outputs": [],
   "source": [
    "y = df_raw['Category']"
   ]
  },
  {
   "cell_type": "code",
   "execution_count": null,
   "metadata": {},
   "outputs": [],
   "source": [
    "#from sklearn doc\n",
    "#from sklearn.preprocessing import label_binarize\n",
    "\n",
    "#y = label_binarize(y, classes = [0, 1, 2, 3, 4, 5, 6, 7, 8, 9])"
   ]
  },
  {
   "cell_type": "code",
   "execution_count": null,
   "metadata": {},
   "outputs": [],
   "source": [
    "#from sklearn doc\n",
    "#Number of classes for which to get ROCs\n",
    "#n_classes = y.shape[1]"
   ]
  },
  {
   "cell_type": "code",
   "execution_count": null,
   "metadata": {},
   "outputs": [],
   "source": [
    "#Create a train/test split\n",
    "X_train, X_test, y_train, y_test = train_test_split(X, y, random_state=12)\n",
    "#print(y_train.value_counts(),'\\n', y_test.value_counts())"
   ]
  },
  {
   "cell_type": "code",
   "execution_count": null,
   "metadata": {
    "scrolled": true
   },
   "outputs": [],
   "source": [
    "#Build a logistic regression model\n",
    "logreg = LogisticRegression(fit_intercept=False, C=1e16)\n",
    "logreg.fit(X_train, y_train)"
   ]
  },
  {
   "cell_type": "code",
   "execution_count": null,
   "metadata": {},
   "outputs": [],
   "source": [
    "y_score = logreg.decision_function(X_test)"
   ]
  },
  {
   "cell_type": "code",
   "execution_count": null,
   "metadata": {
    "scrolled": true
   },
   "outputs": [],
   "source": [
    "y_score.shape"
   ]
  },
  {
   "cell_type": "code",
   "execution_count": null,
   "metadata": {},
   "outputs": [],
   "source": [
    "#This works\n",
    "y_hat = logreg.predict(X_train)"
   ]
  },
  {
   "cell_type": "code",
   "execution_count": null,
   "metadata": {
    "scrolled": true
   },
   "outputs": [],
   "source": [
    "#Create a confusion matrix with the results\n",
    "conf_matrix = confusion_matrix(y_hat, y_train)\n",
    "#Create labels for the classes in the conf matrix\n",
    "class_names = set(y)\n",
    "#Draw a figure\n",
    "plt.figure(figsize = (12,8))\n",
    "#Call the custom function to draw the conf matrix\n",
    "plot_conf_matrix(conf_matrix, classes = class_names)"
   ]
  },
  {
   "cell_type": "markdown",
   "metadata": {},
   "source": [
    "This model does passably only on Romantic, Political,  Religious, and Sexual."
   ]
  },
  {
   "cell_type": "code",
   "execution_count": null,
   "metadata": {},
   "outputs": [],
   "source": [
    "y_train.value_counts()"
   ]
  },
  {
   "cell_type": "code",
   "execution_count": null,
   "metadata": {},
   "outputs": [],
   "source": []
  },
  {
   "cell_type": "markdown",
   "metadata": {},
   "source": [
    "<a id = 'model2'></a>"
   ]
  },
  {
   "cell_type": "markdown",
   "metadata": {},
   "source": [
    "[(Back to top)](#top)\n",
    "\n",
    "# Model \\#2"
   ]
  },
  {
   "cell_type": "markdown",
   "metadata": {},
   "source": [
    "## Decision tree in progress"
   ]
  },
  {
   "cell_type": "code",
   "execution_count": null,
   "metadata": {},
   "outputs": [],
   "source": [
    "df = copy.deepcopy(df_raw)"
   ]
  },
  {
   "cell_type": "code",
   "execution_count": null,
   "metadata": {},
   "outputs": [],
   "source": [
    "# Create label encoder instance\n",
    "lb = LabelEncoder() "
   ]
  },
  {
   "cell_type": "code",
   "execution_count": null,
   "metadata": {},
   "outputs": [],
   "source": [
    "df.info()"
   ]
  },
  {
   "cell_type": "code",
   "execution_count": null,
   "metadata": {},
   "outputs": [],
   "source": [
    "# Create Numerical labels for classes\n",
    "df['Reggio_'] = lb.fit_transform(df['Reggio'])\n",
    "df['Insula_'] = lb.fit_transform(df['Insula'])\n",
    "df['Literacy_'] = lb.fit_transform(df['Literacy'])\n",
    "df['Position_'] = lb.fit_transform(df['Position'])\n",
    "df['Build_Type_'] = lb.fit_transform(df['Building Type'])\n",
    "df['Famous_'] = lb.fit_transform(df['Famous House'])\n",
    "df['Literary_'] = lb.fit_transform(df['Literary'])\n",
    "df['Econ_Status_'] = lb.fit_transform(df['Socio-economic status'])\n",
    "#the target\n",
    "df['Category_'] = lb.fit_transform(df['Category'])"
   ]
  },
  {
   "cell_type": "code",
   "execution_count": null,
   "metadata": {},
   "outputs": [],
   "source": [
    "class_names = set(df['Category'])"
   ]
  },
  {
   "cell_type": "code",
   "execution_count": null,
   "metadata": {},
   "outputs": [],
   "source": [
    "# Split features and target variable\n",
    "X = df[['Reggio_', 'Insula_', 'Literacy_', 'Position_', 'Build_Type_', 'Famous_', 'Literary_', 'Econ_Status_']]\n",
    "y = df['Category_']"
   ]
  },
  {
   "cell_type": "code",
   "execution_count": null,
   "metadata": {},
   "outputs": [],
   "source": [
    "# Instantiate a one hot encoder\n",
    "enc = OneHotEncoder()"
   ]
  },
  {
   "cell_type": "code",
   "execution_count": null,
   "metadata": {},
   "outputs": [],
   "source": [
    "# Fit the feature set X\n",
    "enc.fit(X)"
   ]
  },
  {
   "cell_type": "code",
   "execution_count": null,
   "metadata": {},
   "outputs": [],
   "source": [
    "# Transform X to onehot array \n",
    "onehotX = enc.transform(X).toarray()\n",
    "\n",
    "onehotX, onehotX.shape, X.shape"
   ]
  },
  {
   "cell_type": "code",
   "execution_count": null,
   "metadata": {},
   "outputs": [],
   "source": [
    "# Create a 70/30 split\n",
    "X_train, X_test, y_train, y_test = train_test_split(onehotX, y, test_size = 0.3, random_state = 12)"
   ]
  },
  {
   "cell_type": "code",
   "execution_count": null,
   "metadata": {},
   "outputs": [],
   "source": [
    "# Train the classifier and make predictions\n",
    "clf = DecisionTreeClassifier(criterion = 'entropy')\n",
    "clf.fit(X_train,y_train) \n",
    "y_hat = clf.predict(X_test)"
   ]
  },
  {
   "cell_type": "code",
   "execution_count": null,
   "metadata": {},
   "outputs": [],
   "source": [
    "# Calculate Accuracy \n",
    "acc = accuracy_score(y_test, y_hat) * 100\n",
    "print(\"Accuracy is :{0}\".format(acc))"
   ]
  },
  {
   "cell_type": "code",
   "execution_count": null,
   "metadata": {},
   "outputs": [],
   "source": [
    "# Check the AUC for predictions\n",
    "#false_positive_rate, true_positive_rate, thresholds = roc_curve(y_test, y_pred)\n",
    "#roc_auc = auc(false_positive_rate, true_positive_rate)\n",
    "#print(\"\\nAUC is :{0}\".format(round(roc_auc,2)))"
   ]
  },
  {
   "cell_type": "code",
   "execution_count": null,
   "metadata": {},
   "outputs": [],
   "source": [
    "#Create a confusion matrix with the results\n",
    "conf_matrix = confusion_matrix(y_hat, y_test)\n",
    "#Create labels for the classes in the conf matrix\n",
    "#or use labels created before y is encoded\n",
    "#Draw a figure\n",
    "plt.figure(figsize = (12,8))\n",
    "#Call the custom function to draw the conf matrix\n",
    "plot_conf_matrix(conf_matrix, classes = class_names)"
   ]
  },
  {
   "cell_type": "markdown",
   "metadata": {},
   "source": [
    "This model performed similarly as poorly as the first logistic regression."
   ]
  },
  {
   "cell_type": "code",
   "execution_count": null,
   "metadata": {},
   "outputs": [],
   "source": [
    "#And now an attempt to use Graph Viz\n",
    "# Visualize the decision tree using graph viz library \n",
    "dot_data = StringIO()"
   ]
  },
  {
   "cell_type": "code",
   "execution_count": null,
   "metadata": {},
   "outputs": [],
   "source": [
    "#Feeds from decision tree classifier instantiated above\n",
    "export_graphviz(clf, out_file=dot_data, filled=True, rounded=True,special_characters=True)"
   ]
  },
  {
   "cell_type": "code",
   "execution_count": null,
   "metadata": {},
   "outputs": [],
   "source": [
    "graph = pydotplus.graph_from_dot_data(dot_data.getvalue()) "
   ]
  },
  {
   "cell_type": "code",
   "execution_count": null,
   "metadata": {},
   "outputs": [],
   "source": [
    "Image(graph.create_png())"
   ]
  },
  {
   "cell_type": "markdown",
   "metadata": {},
   "source": [
    "<a id = 'model3'></a>"
   ]
  },
  {
   "cell_type": "markdown",
   "metadata": {},
   "source": [
    "[(Back to top)](#top)\n",
    "\n",
    "# Model \\#3"
   ]
  },
  {
   "cell_type": "code",
   "execution_count": null,
   "metadata": {},
   "outputs": [],
   "source": []
  },
  {
   "cell_type": "markdown",
   "metadata": {},
   "source": [
    "<a id = 'concl'></a>"
   ]
  },
  {
   "cell_type": "markdown",
   "metadata": {},
   "source": [
    "[(Back to top)](#top)\n",
    "\n",
    "# Conclusions"
   ]
  },
  {
   "cell_type": "code",
   "execution_count": null,
   "metadata": {},
   "outputs": [],
   "source": []
  }
 ],
 "metadata": {
  "kernelspec": {
   "display_name": "learn-env",
   "language": "python",
   "name": "learn-env"
  },
  "language_info": {
   "codemirror_mode": {
    "name": "ipython",
    "version": 3
   },
   "file_extension": ".py",
   "mimetype": "text/x-python",
   "name": "python",
   "nbconvert_exporter": "python",
   "pygments_lexer": "ipython3",
   "version": "3.6.6"
  }
 },
 "nbformat": 4,
 "nbformat_minor": 2
}
