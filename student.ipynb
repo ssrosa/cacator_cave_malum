{
 "cells": [
  {
   "cell_type": "markdown",
   "metadata": {},
   "source": [
    "## Final Project Submission\n",
    "\n",
    "Please fill out:\n",
    "* Student name: Steven Rosa\n",
    "* Student pace: part time\n",
    "* Project review date/time: Monday 1 April 2019 11am ET\n",
    "* Instructor name: Jeff Herman\n",
    "* Blog post URL:\n"
   ]
  },
  {
   "cell_type": "markdown",
   "metadata": {},
   "source": [
    "\"Database for The Scratched Voices Begging to be Heard: The Graffiti of Pompeii and Today\"\n",
    "\n",
    "by Alexa Rose\n",
    "\n",
    "https://core.tdar.org/dataset/445837/database-for-the-scratched-voices-begging-to-be-heard-the-graffiti-of-pompeii-and-today"
   ]
  },
  {
   "cell_type": "markdown",
   "metadata": {},
   "source": [
    "<a id = 'top'></a>"
   ]
  },
  {
   "cell_type": "markdown",
   "metadata": {},
   "source": [
    "# Contents\n",
    "- Libraries and helper functions\n",
    "- [A first look at the data](#obtain)\n",
    "- [Cleaning the raw data](#scrub)\n",
    "- [Exploratory data analysis](#explore)\n",
    " - [Character count and imperatives](#character_imperative)\n",
    " - [How good are the categories?](#prelim_model)\n",
    " - [Detour: improving the categories](#detour_cat)\n",
    "- Modeling\n",
    " - [Model \\#1](#model1)\n",
    " - [Model \\#2](#model2)\n",
    " - [Model \\#3](#model3)\n",
    "- [Conclusions](#concl)"
   ]
  },
  {
   "cell_type": "markdown",
   "metadata": {},
   "source": [
    "# Libraries and helper functions"
   ]
  },
  {
   "cell_type": "code",
   "execution_count": 1,
   "metadata": {},
   "outputs": [],
   "source": [
    "import pandas as pd #For working with DataFrames\n",
    "import matplotlib.pyplot as plt #For visualizing plots\n",
    "import numpy as np #For mathematical operations\n",
    "import random                   #for generating random numbers for train/test split\n",
    "import copy                     #for making deep copies of mutable objects\n",
    "from pandasql import sqldf #for manipulating DataFrames with SQL style queries\n",
    "#for dividing data into a training set and a testing set\n",
    "from sklearn.model_selection import train_test_split \n",
    "#For building regular logistic regression models\n",
    "from sklearn.linear_model import LogisticRegression\n",
    "#To get accuracy, precision, recall, and F1 score (weighted accuracy) of a given confusion matrix\n",
    "from sklearn.metrics import accuracy_score, precision_score, recall_score, f1_score\n",
    "#To view the accuracy metrics for a given confusion matrix\n",
    "from sklearn.metrics import classification_report\n",
    "#For building decision trees\n",
    "from sklearn.tree import DecisionTreeClassifier \n",
    "from sklearn import tree \n",
    "#For scaling/normalizing, and for LabelEncoder and OneHotEncoder\n",
    "from sklearn import preprocessing\n",
    "#from sklearn.preprocessing import LabelEncoder\n",
    "#from sklearn.preprocessing import OneHotEncoder\n",
    "#For visualizing decision trees:\n",
    "from sklearn.externals.six import StringIO  \n",
    "from IPython.display import Image  \n",
    "from sklearn.tree import export_graphviz\n",
    "import pydotplus\n",
    "#For assessing accuracy of logistic regression or decision trees\n",
    "from sklearn.metrics import confusion_matrix \n",
    "import itertools #To iteratively append labels to cells in a confusion matrox\n"
   ]
  },
  {
   "cell_type": "code",
   "execution_count": 2,
   "metadata": {},
   "outputs": [],
   "source": [
    "import time"
   ]
  },
  {
   "cell_type": "code",
   "execution_count": null,
   "metadata": {},
   "outputs": [],
   "source": [
    "#Thing for separating values by hyphen slash etc\n",
    "\n"
   ]
  },
  {
   "cell_type": "code",
   "execution_count": null,
   "metadata": {},
   "outputs": [],
   "source": [
    "#Thing for getting indexes and filling values maybe\n",
    "\n"
   ]
  },
  {
   "cell_type": "code",
   "execution_count": 38,
   "metadata": {},
   "outputs": [],
   "source": [
    "#Tool for exploring categories of data\n",
    "#Construct a dataframe to track incidence of key words\n",
    "def keyword_matrix(orig_categories, keywords):\n",
    "    \n",
    "    '''\n",
    "    A tool for exploring the incidence of certain key words within \n",
    "    a data set's categories/classes. It uses a Pandasql query to \n",
    "    get counts of a key word for each category in the data and\n",
    "    constructs a one-row dataframe of the counts.\n",
    "    \n",
    "    Each key word's row gets appended to the previous rows in the \n",
    "    DataFrame.\n",
    "    \n",
    "    In this version, the data set to query is hard coded as 'df'.\n",
    "    The category to search within is hard coded as\n",
    "    'In English.'\n",
    "    \n",
    "    Parameters:\n",
    "    \n",
    "    orig_categories (list.) The categories in the data set to traverse.\n",
    "    Each should correspond to a category/class in the data set.\n",
    "    \n",
    "    keywords (list.) The words to search for and count. If a single \n",
    "    word is sought, it can be passed as ['word']. Can't be multi-level,\n",
    "    i.e. a list of lists.\n",
    "    \n",
    "    \n",
    "    Returns: \n",
    "    \n",
    "    keywords_df (pandas.core.frame.DataFrame.) The full DataFrame with\n",
    "    the counts of all key words in all categories.\n",
    "    '''\n",
    "    \n",
    "    #A list of category names for the df\n",
    "    categories = copy.deepcopy(orig_categories)\n",
    "    categories.insert(0, 'Key_Word')\n",
    "\n",
    "    #list of columns to add to the query string. (Doesn't have 'Key Word.')\n",
    "    cats = copy.deepcopy(orig_categories)\n",
    "\n",
    "    #Instantiate an empty dataframe to hold results\n",
    "    keywords_df = pd.DataFrame(columns = categories)\n",
    "\n",
    "    #Build the dataframe\n",
    "    for keyword in keywords:\n",
    "        #Build query string.\n",
    "        q = '''SELECT '{}' Key_Word,'''.format(keyword)\n",
    "        #Build query string by iterating over list of columns\n",
    "        #Simultaneously add the keyword str as many types as there are categories\n",
    "        for cat in cats:\n",
    "            q += ''' SUM(\n",
    "                    CASE WHEN\n",
    "                    [In English] LIKE '%{}%'\n",
    "                    AND Category == '{}'\n",
    "                    THEN 1 ELSE 0 END\n",
    "                    ) {},\n",
    "            '''.format(keyword, cat, cat)\n",
    "        q = q[:-14]\n",
    "        q += '''\n",
    "        FROM df_raw;'''\n",
    "        #Apply the query string with the given keyword to the df.\n",
    "        results = pysqldf(q)\n",
    "        #Concat the new row onto the df\n",
    "        keywords_df = pd.concat([keywords_df, results])\n",
    "\n",
    "    keywords_df.reset_index(inplace = True)\n",
    "    keywords_df.drop(['index'], axis = 1, inplace = True)\n",
    "    return keywords_df"
   ]
  },
  {
   "cell_type": "code",
   "execution_count": 42,
   "metadata": {},
   "outputs": [],
   "source": [
    "#Fill values in a column conditionally\n",
    "#Words sought can be a list or a single value\n",
    "#Exact match or just 'appears in' can be specified\n",
    "def write(df, words_sought, read_from, write_to, phrase, exact = False):\n",
    "    '''\n",
    "    A tool for changing the values of certain cells in a DataFrame under\n",
    "    certain conditions. Looks for a given value, whetehr an exact or partial\n",
    "    match, and then replaces the value of a given column in that row with a\n",
    "    new given value. Can replace the very value that was sought or another in\n",
    "    that row. The value sought can be a list or a single value.\n",
    "    \n",
    "    Parameters:\n",
    "    \n",
    "    df (pandas.core.frame.DataFrame.) The df to search for words and in which to\n",
    "    write the new phrase.\n",
    "    \n",
    "    words_sought (list.) Key words to look for in the \"read from\" column. Can be a\n",
    "    single value passed as ['value'].\n",
    "    \n",
    "    read_from (str.) The column in which to search for the words sought.\n",
    "    \n",
    "    write_to (str.) The column to write the new phrase into. Can be the same as \n",
    "    read_from.\n",
    "    \n",
    "    phrase (str, int, or float.) The phrase to be written into the cell.\n",
    "    \n",
    "    exact (bool.) Set to False by default. If True, looks for exact match (==)\n",
    "    not just a partial match (\"in.\")\n",
    "    \n",
    "    Returns:\n",
    "    \n",
    "    Doesn't return a new object. Writes the new value into the DataFrame in place.\n",
    "    Use with caution!\n",
    "    '''\n",
    "    \n",
    "    #Iterate over each row in the given df\n",
    "    for index in df.index:\n",
    "        #If one of the given words is found in the given column\n",
    "        if not exact:\n",
    "            if any(word_sought in df.at[index, read_from] for word_sought in words_sought):\n",
    "                #Write the new phrase to the other given column\n",
    "                df.at[index, write_to] = phrase\n",
    "        else: \n",
    "            #If the word sought matches the value of the cell\n",
    "            if df.at[index, read_from] == words_sought:\n",
    "                #Write the new phrase to the other given column\n",
    "                df.at[index, write_to] = phrase"
   ]
  },
  {
   "cell_type": "code",
   "execution_count": 11,
   "metadata": {},
   "outputs": [],
   "source": [
    "#Example function to visualize a confusion matrix without yellow brick\n",
    "def plot_conf_matrix(cm, classes, normalize=False, \n",
    "                          title='Confusion Matrix', cmap=plt.cm.Blues):\n",
    "#    if normalize:\n",
    "#        cm = cm.astype('float') / cm.sum(axis=1)[:, np.newaxis]\n",
    "#        print(\"Matrix, normalized\")\n",
    "#    else:\n",
    "#        print('Matrix')\n",
    "\n",
    "    plt.imshow(cm, interpolation='nearest', cmap=cmap)\n",
    "    plt.title(title)\n",
    "    plt.colorbar()\n",
    "    tick_marks = np.arange(len(classes))\n",
    "    plt.xticks(tick_marks, classes, rotation=45)\n",
    "    plt.yticks(tick_marks, classes)\n",
    "\n",
    "    fmt = '.2f' if normalize else 'd'\n",
    "    thresh = cm.max() / 2.\n",
    "    for i, j in itertools.product(range(cm.shape[0]), range(cm.shape[1])):\n",
    "        plt.text(j, i, format(cm[i, j], fmt),\n",
    "                 horizontalalignment=\"center\",\n",
    "                 color=\"white\" if cm[i, j] > thresh else \"black\")\n",
    "\n",
    "    plt.tight_layout()\n",
    "    plt.ylabel('True label')\n",
    "    plt.xlabel('Predicted label')"
   ]
  },
  {
   "cell_type": "code",
   "execution_count": 12,
   "metadata": {},
   "outputs": [],
   "source": [
    "def draw_graph(clf):\n",
    "    '''\n",
    "    Visualizes a decision tree using GraphViz.\n",
    "    \n",
    "    Parameters:\n",
    "    \n",
    "    clf (DecisionTreeClassifier.) Must be already fit with data.\n",
    "    \n",
    "    Returns:\n",
    "    \n",
    "    image (graph.create_png().) Call the assigned variable to draw the image. \n",
    "    '''\n",
    "    dot_data = StringIO()\n",
    "\n",
    "    #Feeds from decision tree classifier instantiated above\n",
    "    export_graphviz(clf, out_file=dot_data, filled=True, \n",
    "                    rounded=True,special_characters=True)\n",
    "\n",
    "    #Create graph\n",
    "    graph = pydotplus.graph_from_dot_data(dot_data.getvalue()) \n",
    "    image = graph.create_png()\n",
    "    \n",
    "    #Draw image\n",
    "    return image"
   ]
  },
  {
   "cell_type": "markdown",
   "metadata": {},
   "source": [
    "<a id = 'obtain'></a>"
   ]
  },
  {
   "cell_type": "markdown",
   "metadata": {},
   "source": [
    "[(Back to top)](#top)\n",
    "\n",
    "# A first look at the data"
   ]
  },
  {
   "cell_type": "code",
   "execution_count": 13,
   "metadata": {},
   "outputs": [],
   "source": [
    "#Obtain the raw data\n",
    "df_raw = pd.read_csv('graffiti.csv')"
   ]
  },
  {
   "cell_type": "code",
   "execution_count": null,
   "metadata": {},
   "outputs": [],
   "source": [
    "df_raw.head(20)"
   ]
  },
  {
   "cell_type": "code",
   "execution_count": null,
   "metadata": {},
   "outputs": [],
   "source": [
    "df_raw.info()"
   ]
  },
  {
   "cell_type": "markdown",
   "metadata": {},
   "source": [
    "Columns to drop:\n",
    "\n",
    "'found'\n",
    "'org'?\n",
    "'comments'?\n",
    "\n",
    "Change 'Literacy' to integer before categorizing. Rename column.\n",
    "\n",
    "Rename 'Image ' as 'Image'.\n",
    "\n",
    "Categorical variables to transform: Reggio, Insula, Literacy, Context type specific, Context type general, Famous House (?), Socio-economic status\n",
    "\n",
    "\n",
    "Null values to fill: Reggio, Insula, Entrance, Context type specific, Context type general, Famous House,\n",
    "\n",
    "Target: 'Category'"
   ]
  },
  {
   "cell_type": "markdown",
   "metadata": {},
   "source": [
    "<a id = 'scrub'></a>"
   ]
  },
  {
   "cell_type": "markdown",
   "metadata": {},
   "source": [
    "[(Back to top)](#top)\n",
    "\n",
    "# Cleaning the data"
   ]
  },
  {
   "cell_type": "markdown",
   "metadata": {},
   "source": [
    "## Column by column"
   ]
  },
  {
   "cell_type": "markdown",
   "metadata": {},
   "source": [
    "### 'CIL IV Pound sign'"
   ]
  },
  {
   "cell_type": "code",
   "execution_count": 14,
   "metadata": {},
   "outputs": [],
   "source": [
    "df_raw['CIL IV #'] = df_raw['CIL IV #'].fillna(0)"
   ]
  },
  {
   "cell_type": "markdown",
   "metadata": {},
   "source": [
    "### 'Reggio'"
   ]
  },
  {
   "cell_type": "code",
   "execution_count": null,
   "metadata": {},
   "outputs": [],
   "source": [
    "df_raw['Reggio'].value_counts()"
   ]
  },
  {
   "cell_type": "code",
   "execution_count": null,
   "metadata": {},
   "outputs": [],
   "source": [
    "print(df_raw['Reggio'].isna().sum())"
   ]
  },
  {
   "cell_type": "code",
   "execution_count": 15,
   "metadata": {},
   "outputs": [],
   "source": [
    "#Fill NaN values\n",
    "df_raw['Reggio'] = df_raw['Reggio'].fillna(0)\n",
    "#Change 6_7 to 6\n",
    "df_raw.at[994, 'Reggio'] = '6'\n",
    "#Change data type to integer\n",
    "df_raw['Reggio'] = df_raw['Reggio'].astype('float').astype('int')"
   ]
  },
  {
   "cell_type": "markdown",
   "metadata": {},
   "source": [
    "Zero values can be filled later once more is known about the reggios."
   ]
  },
  {
   "cell_type": "markdown",
   "metadata": {},
   "source": [
    "### 'Insula'"
   ]
  },
  {
   "cell_type": "code",
   "execution_count": null,
   "metadata": {},
   "outputs": [],
   "source": [
    "df_raw['Insula'].value_counts()"
   ]
  },
  {
   "cell_type": "code",
   "execution_count": null,
   "metadata": {},
   "outputs": [],
   "source": [
    "df_raw['Insula'].value_counts().sum()"
   ]
  },
  {
   "cell_type": "code",
   "execution_count": null,
   "metadata": {},
   "outputs": [],
   "source": [
    "df_raw['Insula'].isna().sum()"
   ]
  },
  {
   "cell_type": "code",
   "execution_count": 16,
   "metadata": {},
   "outputs": [],
   "source": [
    "#Fill null values\n",
    "df_raw['Insula'] = df_raw['Insula'].fillna(0)\n",
    "\n",
    "#Replace the values with underscores\n",
    "df_raw.at[985, 'Insula'] = '4'\n",
    "df_raw.at[986, 'Insula'] = '4'\n",
    "df_raw.at[983, 'Insula'] = '4'\n",
    "df_raw.at[984, 'Insula'] = '4'\n",
    "df_raw.at[988, 'Insula'] = '9'\n",
    "df_raw.at[987, 'Insula'] = '8'\n",
    "df_raw.at[982, 'Insula'] = '12'\n",
    "df_raw.at[981, 'Insula'] = '1'\n",
    "\n",
    "#Change data type to intger\n",
    "df_raw['Insula'] = df_raw['Insula'].astype('float').astype('int')"
   ]
  },
  {
   "cell_type": "markdown",
   "metadata": {},
   "source": [
    "### 'Entrance'"
   ]
  },
  {
   "cell_type": "code",
   "execution_count": null,
   "metadata": {},
   "outputs": [],
   "source": [
    "df_raw['Entrance'].value_counts()"
   ]
  },
  {
   "cell_type": "code",
   "execution_count": 17,
   "metadata": {},
   "outputs": [],
   "source": [
    "#Fill null values\n",
    "df_raw['Entrance'] = df_raw['Entrance'].fillna('unknown')\n",
    "\n",
    "#Replace all values with underscores or hyphens\n",
    "#Dict to fill values from 'Entrance'\n",
    "entrance_replacements = dict()\n",
    "entrance_values = df_raw['Entrance'].value_counts()\n",
    "\n",
    "#Iterate over Entrance values to look for underscore and hyphen\n",
    "#Make a dict with values to replace the _/- values in the dataframe\n",
    "#I'm choosing to take the first numerical value from each pair\n",
    "for index in entrance_values.index:\n",
    "        if '_' in index:\n",
    "            index_split = index.split('_')\n",
    "            entrance_replacements[index] = index_split[0]\n",
    "        elif '-' in index:\n",
    "            index_split = index.split('-')\n",
    "            entrance_replacements[index] = index_split[0]\n",
    "            \n",
    "df_raw['Entrance'] = df_raw['Entrance'].replace(entrance_replacements)\n",
    "\n",
    "#Change 'F' to 'f'\n",
    "df_raw.at[661, 'Entrance'] = df_raw.at[661, 'Entrance'].lower()\n",
    "#Change '4/5/' to '4'\n",
    "df_raw.at[6, 'Entrance'] = '4'\n",
    "#Replace 'I' and '?'\n",
    "df_raw['Entrance'] = df_raw['Entrance'].replace({'I': 'i', '?': 'unknown'})"
   ]
  },
  {
   "cell_type": "code",
   "execution_count": null,
   "metadata": {},
   "outputs": [],
   "source": [
    "df_raw['Entrance'].value_counts().shape"
   ]
  },
  {
   "cell_type": "markdown",
   "metadata": {},
   "source": [
    "This is better, but it may have to be categorized."
   ]
  },
  {
   "cell_type": "markdown",
   "metadata": {},
   "source": [
    "### 'found?'"
   ]
  },
  {
   "cell_type": "code",
   "execution_count": null,
   "metadata": {},
   "outputs": [],
   "source": [
    "df_raw['found?'].isna().sum()"
   ]
  },
  {
   "cell_type": "code",
   "execution_count": 18,
   "metadata": {},
   "outputs": [],
   "source": [
    "#Can just be dropped\n",
    "df_raw.drop(['found?'], axis = 1, inplace = True)"
   ]
  },
  {
   "cell_type": "markdown",
   "metadata": {},
   "source": [
    "### 'In English'"
   ]
  },
  {
   "cell_type": "code",
   "execution_count": null,
   "metadata": {},
   "outputs": [],
   "source": [
    "df_raw['In English'].isna().sum()"
   ]
  },
  {
   "cell_type": "code",
   "execution_count": 19,
   "metadata": {},
   "outputs": [],
   "source": [
    "#Fill nulls so that they can be read\n",
    "df_raw['In English'] = df_raw['In English'].fillna('')\n",
    "\n",
    "#Rows with null values or unhelpful 'CHECK' values\n",
    "blank_indexes = df_raw.index[df_raw['In English'] == '']\n",
    "check_indexes = df_raw.index[df_raw['In English'] == '[CHECK]']\n",
    "\n",
    "#Drop the empty rows. They aren't useful if they don't have the English text of the graffiti.\n",
    "df_raw.drop(blank_indexes, inplace = True)\n",
    "df_raw.drop(check_indexes, inplace = True)"
   ]
  },
  {
   "cell_type": "markdown",
   "metadata": {},
   "source": [
    "### 'org. '"
   ]
  },
  {
   "cell_type": "code",
   "execution_count": null,
   "metadata": {},
   "outputs": [],
   "source": [
    "df_raw['org. '].value_counts()[:10]"
   ]
  },
  {
   "cell_type": "code",
   "execution_count": 20,
   "metadata": {},
   "outputs": [],
   "source": [
    "#Won't be useful here. Can be dropped.\n",
    "df_raw.drop(['org. '], axis = 1, inplace = True)"
   ]
  },
  {
   "cell_type": "markdown",
   "metadata": {},
   "source": [
    "### 'Literacy'"
   ]
  },
  {
   "cell_type": "code",
   "execution_count": null,
   "metadata": {},
   "outputs": [],
   "source": [
    "df_raw['Literacy (1-3)'].value_counts()"
   ]
  },
  {
   "cell_type": "code",
   "execution_count": null,
   "metadata": {},
   "outputs": [],
   "source": [
    "df_raw['Literacy (1-3)'].isna().sum()"
   ]
  },
  {
   "cell_type": "code",
   "execution_count": 21,
   "metadata": {},
   "outputs": [],
   "source": [
    "#Rename column\n",
    "df_raw = df_raw.rename(index=str, columns = {'Literacy (1-3)': 'Literacy'})\n",
    "\n",
    "#Turn the few 1 values into 2s.\n",
    "df_raw['Literacy'] = df_raw['Literacy'].replace({1.0: 2})\n",
    "\n",
    "#Fill nulls\n",
    "df_raw['Literacy'] = df_raw['Literacy'].fillna(2)\n",
    "\n",
    "#Turn floats into integers\n",
    "df_raw['Literacy'] = df_raw['Literacy'].astype('float').astype('int')"
   ]
  },
  {
   "cell_type": "markdown",
   "metadata": {},
   "source": [
    "### 'In org. language'"
   ]
  },
  {
   "cell_type": "code",
   "execution_count": null,
   "metadata": {
    "scrolled": true
   },
   "outputs": [],
   "source": [
    "df_raw['In org. language'].value_counts().sum()"
   ]
  },
  {
   "cell_type": "code",
   "execution_count": 22,
   "metadata": {},
   "outputs": [],
   "source": [
    "#Dropping for now\n",
    "df_raw.drop(['In org. language'], axis = 1, inplace = True)"
   ]
  },
  {
   "cell_type": "markdown",
   "metadata": {},
   "source": [
    "Not sure what to do with this at this point."
   ]
  },
  {
   "cell_type": "markdown",
   "metadata": {},
   "source": [
    "### 'Context type general'"
   ]
  },
  {
   "cell_type": "code",
   "execution_count": null,
   "metadata": {},
   "outputs": [],
   "source": [
    "df_raw['Context type general'].value_counts()"
   ]
  },
  {
   "cell_type": "code",
   "execution_count": null,
   "metadata": {},
   "outputs": [],
   "source": [
    "df_raw['Context type general'].isna().sum()"
   ]
  },
  {
   "cell_type": "code",
   "execution_count": 23,
   "metadata": {},
   "outputs": [],
   "source": [
    "# No specific, no general, no reggio, insula\n",
    "no_spec_no_gen = df_raw[df_raw['Context type specific'].isna() & df_raw['Context type general'].isna()]\n",
    "\n",
    "no_spec_no_gen[(no_spec_no_gen['Reggio'] == 0) & (no_spec_no_gen['Insula'] == 0)].shape\n",
    "\n",
    "#Must drop the 43 rows that don't have a reggio, insula, specfic context or general context\n",
    "to_drop = no_spec_no_gen[(no_spec_no_gen['Reggio'] == 0) & (no_spec_no_gen['Insula'] == 0)]\n",
    "df_raw.drop(to_drop.index, axis = 0, inplace = True)\n",
    "\n",
    "#Maybe famous house can fill in for general context where it's missing?\n",
    "famoushouse_nogen = df_raw[\n",
    "    (df_raw['Famous House'].notna())\n",
    "    & \n",
    "    (df_raw['Context type general'].isna())]\n",
    "\n",
    "#Get indexes of all rows without a gen context but with a famous house\n",
    "indexes = famoushouse_nogen.index\n",
    "\n",
    "famoushouse_gencontexts = {\n",
    "    'Praedia ': 'building',\n",
    "    'Basilica': 'basilica',\n",
    "    'House of': 'house',\n",
    "    'house of': 'house',\n",
    "    'Villa of': 'house',\n",
    "    'Building': 'building',\n",
    "    'near the Porta Vesuvio': 'necropolis',\n",
    "    'Workshop': 'workshop'\n",
    "}\n",
    "\n",
    "#Replace gen context with the building type from its famous house\n",
    "#Iterate over all the rows which have a famous house but lack a gen context\n",
    "for index in indexes:\n",
    "    #Iterate over the keys of famous houses\n",
    "    for key, val in famoushouse_gencontexts.items():\n",
    "        #If the row's famous house matches one from the dict\n",
    "        if key in df_raw.at[index, 'Famous House']:\n",
    "            #Fill missing gen context value with value from dict\n",
    "            df_raw.at[index, 'Context type general'] = val\n",
    "            \n",
    "#Noticed that Bar of Sotericus has gen context of \"house\"\n",
    "indexes = df_raw[df_raw['Famous House'] == 'Bar of Sotericus']['Context type general']\n",
    "#Replace 'house' with 'bar' for these\n",
    "for index in indexes.index:\n",
    "    df_raw.at[index, 'Context type general'] = 'bar'\n",
    "    \n",
    "#Noticed that 'Outside Porta Marina' had two NaN gen contexts to fix\n",
    "#Will drop these because they're missing too many columns\n",
    "df_raw.drop(['997', '998'], axis = 0, inplace = True)\n",
    "\n",
    "#change all building types for spec context \"workshop\" to gen context \"workshop\"\n",
    "indexes = df_raw[df_raw['Context type specific'] == 'workshop']\n",
    "for index in indexes.index:\n",
    "    df_raw.at[index, 'Context type general'] = 'workshop'\n",
    "\n",
    "#Same for 'Workshop'\n",
    "indexes = df_raw[df_raw['Context type specific'] == 'Workshop']\n",
    "for index in indexes.index:\n",
    "    df_raw.at[index, 'Context type general'] = 'workshop'\n",
    "\n",
    "#Specific context \"dining room\" to general context \"house\"\n",
    "indexes = df_raw[\n",
    "    (df_raw['Context type specific'] == 'dining room')\n",
    "    & \n",
    "    (df_raw['Context type general'].isna())]\n",
    "for index in indexes.index:\n",
    "    df_raw.at[index, 'Context type general'] = 'house'\n",
    "\n",
    "#Spec context \"shop\" to general context \"shop\"\n",
    "indexes = df_raw[\n",
    "    (df_raw['Context type specific'] == 'shop')\n",
    "    & \n",
    "    (df_raw['Context type general'].isna())]\n",
    "for index in indexes.index:\n",
    "    df_raw.at[index, 'Context type general'] = 'shop'\n",
    "    \n",
    "#Spec context \"kitchen\" to general context \"house\"    \n",
    "indexes = df_raw[\n",
    "    (df_raw['Context type specific'] == 'kitchen')\n",
    "    & \n",
    "    (df_raw['Context type general'].isna())]\n",
    "for index in indexes.index:\n",
    "    df_raw.at[index, 'Context type general'] = 'house'    \n",
    "    \n",
    "#Add consistency to a few of the values\n",
    "replacements = {'Baths': 'baths',\n",
    "                'unit': 'apartment'}\n",
    "df_raw['Context type general'] = df_raw['Context type general'].replace(replacements)\n",
    "\n",
    "#Fill null values\n",
    "df_raw['Context type general'] = df_raw['Context type general'].fillna('unknown')\n",
    "\n",
    "#Changing the name of the column\n",
    "df_raw = df_raw.rename(index=str, columns ={\n",
    "              'Context type general': 'Building Type'})"
   ]
  },
  {
   "cell_type": "markdown",
   "metadata": {},
   "source": [
    "### 'Context type specific'"
   ]
  },
  {
   "cell_type": "code",
   "execution_count": null,
   "metadata": {},
   "outputs": [],
   "source": [
    "df_raw['Context type specific'].value_counts()"
   ]
  },
  {
   "cell_type": "code",
   "execution_count": 24,
   "metadata": {},
   "outputs": [],
   "source": [
    "#Add consistency to values\n",
    "replacements = {'façade': 'facade',\n",
    "                'tablinium': 'tablinum',\n",
    "                'Workshop': 'workshop'\n",
    "                }\n",
    "\n",
    "df_raw['Context type specific'] = df_raw['Context type specific'].replace(replacements)\n",
    "\n",
    "#Fill null values\n",
    "df_raw['Context type specific'] = df_raw['Context type specific'].fillna('unknown')\n",
    "\n",
    "#Rename column\n",
    "df_raw = df_raw.rename(index=str, columns ={'Context type specific': 'Position'})"
   ]
  },
  {
   "cell_type": "markdown",
   "metadata": {},
   "source": [
    "### 'Famous House'"
   ]
  },
  {
   "cell_type": "code",
   "execution_count": null,
   "metadata": {
    "scrolled": true
   },
   "outputs": [],
   "source": [
    "df_raw['Famous House'].value_counts()[60:90]"
   ]
  },
  {
   "cell_type": "code",
   "execution_count": null,
   "metadata": {
    "scrolled": true
   },
   "outputs": [],
   "source": [
    "df_raw['Famous House'].isna().sum()"
   ]
  },
  {
   "cell_type": "code",
   "execution_count": 25,
   "metadata": {},
   "outputs": [],
   "source": [
    "#Turn this column into a 0/1 for no/yes\n",
    "indexes = df_raw[df_raw['Famous House'].notna()]\n",
    "\n",
    "for index in indexes.index:\n",
    "    df_raw.at[index, 'Famous House'] = 1\n",
    "    \n",
    "df_raw['Famous House'] = df_raw['Famous House'].fillna(0)\n",
    "\n",
    "df_raw['Famous House'] = df_raw['Famous House'].astype('int')"
   ]
  },
  {
   "cell_type": "markdown",
   "metadata": {},
   "source": [
    "### Target: 'Category'"
   ]
  },
  {
   "cell_type": "code",
   "execution_count": null,
   "metadata": {},
   "outputs": [],
   "source": [
    "df_raw['Category'].value_counts()"
   ]
  },
  {
   "cell_type": "code",
   "execution_count": 26,
   "metadata": {},
   "outputs": [],
   "source": [
    "#Replace all values with back slashes\n",
    "#Dict to fill values from 'Category'\n",
    "cat_replacements = dict()\n",
    "cat_values = df_raw['Category'].value_counts()\n",
    "\n",
    "#Iterate over Category values to look for underscore and hyphen\n",
    "#Make a dict with values to replace the _/- values in the dataframe\n",
    "#I'm choosing to take the first value from each pair\n",
    "for index in cat_values.index:\n",
    "        if '/' in index:\n",
    "            index_split = index.split('/')\n",
    "            cat_replacements[index] = index_split[0]\n",
    "            \n",
    "df_raw['Category'] = df_raw['Category'].replace(cat_replacements)\n",
    "\n",
    "#This creates one instance of 'Political' with a space\n",
    "df_raw['Category'] = df_raw['Category'].replace({'Political ': 'Political'})\n",
    "\n",
    "#Fill null values\n",
    "df_raw['Category'] = df_raw['Category'].fillna('unknown')"
   ]
  },
  {
   "cell_type": "markdown",
   "metadata": {},
   "source": [
    "### 'Written by'"
   ]
  },
  {
   "cell_type": "code",
   "execution_count": null,
   "metadata": {},
   "outputs": [],
   "source": [
    "df_raw['Written by'].value_counts()"
   ]
  },
  {
   "cell_type": "code",
   "execution_count": 27,
   "metadata": {},
   "outputs": [],
   "source": [
    "#Fill null values first so str.contains can be used\n",
    "df_raw['Written by'] = df_raw['Written by'].fillna('unknown')\n",
    "\n",
    "#Clean up instances of ovid\n",
    "ovids = df_raw[df_raw['Written by'].str.contains('Ovid', regex = False, case = False)]\n",
    "for index in ovids.index:\n",
    "    df_raw.at[index, 'Written by'] = 'Ovid'\n",
    "\n",
    "#Clean up instances of virgil    \n",
    "virgils = df_raw[df_raw['Written by'].str.contains('rgil', regex = False, case = False)]\n",
    "for index in virgils.index:\n",
    "    df_raw.at[index, 'Written by'] = 'Virgil'\n",
    "\n",
    "#People who look like real writers as taken from value_counts    \n",
    "writers = ['Antheros', 'Ennius', 'Epaphra', \n",
    "           'Virgil', 'Horace', 'Homer', \n",
    "           'Herodotus', 'Lucretius', 'Menander',\n",
    "           'Ovid', 'poem', 'Propertius',\n",
    "           'Salvius', 'Senica', 'Tibutinus']\n",
    "                \n",
    "#Iterate over all rows to replace values with 1 for a writer\n",
    "#or zero for no writer\n",
    "for index in df_raw.index:\n",
    "    if any(writer in df_raw.at[index, 'Written by'] for writer in writers):\n",
    "        df_raw.at[index, 'Written by'] = 1\n",
    "    else:\n",
    "        df_raw.at[index, 'Written by'] = 0\n",
    "        \n",
    "#Change name of column to 'Writer'\n",
    "df_raw = df_raw.rename(index=str, columns ={'Written by': 'Writer'})"
   ]
  },
  {
   "cell_type": "markdown",
   "metadata": {},
   "source": [
    "### 'Work', 'Meter', and 'Reptition'"
   ]
  },
  {
   "cell_type": "code",
   "execution_count": 28,
   "metadata": {},
   "outputs": [],
   "source": [
    "#Change 'Work' to 0/1 no/yes\n",
    "indexes = df_raw[df_raw['Work'].notna()]\n",
    "for index in indexes.index:\n",
    "    df_raw.at[index, 'Work'] = 1    \n",
    "df_raw['Work'] = df_raw['Work'].fillna(0)\n",
    "\n",
    "\n",
    "#Change meter to 0/1 no/yes  \n",
    "indexes = df_raw[df_raw['Meter'].notna()]\n",
    "for index in indexes.index:\n",
    "    df_raw.at[index, 'Meter'] = 1    \n",
    "df_raw['Meter'] = df_raw['Meter'].fillna(0)  \n",
    "\n",
    "#Smush together Writer Work and Meter\n",
    "indexes = df_raw[(df_raw['Writer'] == 0)\n",
    "        &\n",
    "        (\n",
    "            (df_raw['Work'] == 1) \n",
    "            | \n",
    "            (df_raw['Meter'] == 1)\n",
    "        )]\n",
    "\n",
    "for index in indexes.index:\n",
    "    df_raw.at[index, 'Writer'] = 1\n",
    "    \n",
    "#Reassign the category for these smushed together \n",
    "indexes = df_raw[df_raw['Writer'] == 1]\n",
    "\n",
    "for index in indexes.index:\n",
    "    df_raw.at[index, 'Category'] = 'Reference'\n",
    "\n",
    "#Reset data type for Writer to int    \n",
    "df_raw['Writer'] = df_raw['Writer'].astype('int')\n",
    "\n",
    "#Meter, Work and Repetition can be dropped\n",
    "df_raw.drop(['Meter', 'Work', 'Repetition'], axis = 1, inplace = True)"
   ]
  },
  {
   "cell_type": "markdown",
   "metadata": {},
   "source": [
    "### 'Foreign language'"
   ]
  },
  {
   "cell_type": "code",
   "execution_count": null,
   "metadata": {},
   "outputs": [],
   "source": [
    "df_raw['Foreign language'].value_counts()"
   ]
  },
  {
   "cell_type": "code",
   "execution_count": null,
   "metadata": {},
   "outputs": [],
   "source": [
    "df_raw['Foreign language'].isna().sum()"
   ]
  },
  {
   "cell_type": "code",
   "execution_count": 29,
   "metadata": {},
   "outputs": [],
   "source": [
    "#Can be dropped\n",
    "df_raw.drop(['Foreign language'], axis = 1, inplace = True)"
   ]
  },
  {
   "cell_type": "markdown",
   "metadata": {},
   "source": [
    "### 'Image '"
   ]
  },
  {
   "cell_type": "code",
   "execution_count": 30,
   "metadata": {},
   "outputs": [],
   "source": [
    "#Get rid of the annoying space in the name\n",
    "df_raw = df_raw.rename(index=str, columns = {'Image ': 'Image'})\n",
    "\n",
    "#Fill nulls first so str.contains can be used\n",
    "df_raw['Image'] = df_raw['Image'].fillna('none')\n",
    "\n",
    "#Get all rows with gladiator in the image description\n",
    "gladiators = df_raw[df_raw['Image'].str.contains('gladiator', regex = False, case = False)]\n",
    "\n",
    "for index in gladiators.index:\n",
    "    df_raw.at[index, 'Category'] = 'Violence'\n",
    "    \n",
    "#Drop the column\n",
    "df_raw.drop(['Image'], axis = 1, inplace = True)"
   ]
  },
  {
   "cell_type": "markdown",
   "metadata": {},
   "source": [
    "### 'Flohr Score'"
   ]
  },
  {
   "cell_type": "code",
   "execution_count": null,
   "metadata": {},
   "outputs": [],
   "source": [
    "df_raw['Flohr Score'].value_counts()"
   ]
  },
  {
   "cell_type": "code",
   "execution_count": 31,
   "metadata": {},
   "outputs": [],
   "source": [
    "#Replace all values with hyphens.\n",
    "#Dict to fill values from 'Flohr Score'\n",
    "flohr_replacements = dict()\n",
    "flohr_values = df_raw['Flohr Score'].value_counts()\n",
    "\n",
    "#Iterate over values to look for hyphen\n",
    "#Make a dict with values to replace the - values in the dataframe\n",
    "#I'm choosing to take the first numerical value from each pair\n",
    "for index in flohr_values.index:\n",
    "        if '-' in index:\n",
    "            index_split = index.split('-')\n",
    "            flohr_replacements[index] = index_split[0]\n",
    "            \n",
    "df_raw['Flohr Score'] = df_raw['Flohr Score'].replace(flohr_replacements)\n",
    "\n",
    "#Get indexes for empty Flohr scores at each SES level\n",
    "low = df_raw[\n",
    "        (df_raw['Socio-economic status'] == 'low')\n",
    "        &\n",
    "        (df_raw['Flohr Score'].isna())   ]\n",
    "med = df_raw[\n",
    "        (df_raw['Socio-economic status'] == 'medium')\n",
    "        &\n",
    "        (df_raw['Flohr Score'].isna())]\n",
    "high = df_raw[\n",
    "        (df_raw['Socio-economic status'] == 'high')\n",
    "        &\n",
    "        (df_raw['Flohr Score'].isna())]\n",
    "\n",
    "#Then fill null values with zeros so that means can be taken\n",
    "df_raw['Flohr Score'] = df_raw['Flohr Score'].fillna(0.0)\n",
    "\n",
    "#Change strings to floats\n",
    "df_raw['Flohr Score'] = df_raw['Flohr Score'].astype('float')\n",
    "\n",
    "#Get the average Flohr score for low SES rows\n",
    "low_avg = np.array(df_raw['Flohr Score'][df_raw['Socio-economic status'] == 'low']).mean()\n",
    "#Get the average Flohr score for medium SES rows\n",
    "med_avg = np.array(df_raw['Flohr Score'][df_raw['Socio-economic status'] == 'medium']).mean()\n",
    "#Get the average Flohr score high SES rows\n",
    "high_avg = np.array(df_raw['Flohr Score'][df_raw['Socio-economic status'] == 'high']).mean()\n",
    "\n",
    "#Update the FLohr score for low SES rows\n",
    "for index in low.index:\n",
    "    df_raw.at[index, 'Flohr Score'] = low_avg\n",
    "#Update the FLohr score for medium SES rows\n",
    "for index in med.index:\n",
    "    df_raw.at[index, 'Flohr Score'] = med_avg\n",
    "#Update the FLohr score for high SES rows\n",
    "for index in high.index:\n",
    "    df_raw.at[index, 'Flohr Score'] = high_avg"
   ]
  },
  {
   "cell_type": "markdown",
   "metadata": {},
   "source": [
    "### 'Socio-economic status'"
   ]
  },
  {
   "cell_type": "code",
   "execution_count": null,
   "metadata": {},
   "outputs": [],
   "source": [
    "df_raw['Socio-economic status'].value_counts()"
   ]
  },
  {
   "cell_type": "code",
   "execution_count": 32,
   "metadata": {},
   "outputs": [],
   "source": [
    "df_raw['Socio-economic status'] = df_raw['Socio-economic status'].fillna('medium')"
   ]
  },
  {
   "cell_type": "markdown",
   "metadata": {},
   "source": [
    "### 'comments'"
   ]
  },
  {
   "cell_type": "code",
   "execution_count": null,
   "metadata": {},
   "outputs": [],
   "source": [
    "df_raw['comments'].value_counts()\n"
   ]
  },
  {
   "cell_type": "code",
   "execution_count": 33,
   "metadata": {},
   "outputs": [],
   "source": [
    "#interesting, further investigation could lead ot help with categorizing, but will drop for now\n",
    "df_raw.drop(['comments'], axis = 1, inplace = True)"
   ]
  },
  {
   "cell_type": "markdown",
   "metadata": {},
   "source": [
    "<a id = 'explore'></a>"
   ]
  },
  {
   "cell_type": "markdown",
   "metadata": {},
   "source": [
    "[(Back to top)](#top)\n",
    "\n",
    "# Exploratory data analysis"
   ]
  },
  {
   "cell_type": "markdown",
   "metadata": {},
   "source": [
    "What is a reggio?\n",
    "\n",
    "What is an insula?\n",
    "\n",
    "From https://sites.google.com/site/ad79eruption/pompeii/map-of-pompeii\n",
    "\n",
    "\"Pompeii, however, has an additional level of numbering. It has been divided firstly into 9 regions (Regio), numbered in Roman numerals. Each of these regions contains several Insulae which are numbered 1, 2 3, etc. As with Herculaneum, each building within an insula has its own entrance number, again numbered 1, 2, 3 etc. For example, the House of Trebius Valens is labelled (Reg III, Ins 2, 1).\""
   ]
  },
  {
   "cell_type": "code",
   "execution_count": null,
   "metadata": {
    "scrolled": true
   },
   "outputs": [],
   "source": [
    "df_raw['Category'].value_counts()"
   ]
  },
  {
   "cell_type": "markdown",
   "metadata": {},
   "source": [
    "<a id = 'character_imperative'></a>"
   ]
  },
  {
   "cell_type": "markdown",
   "metadata": {},
   "source": [
    "### Adding a character count and imperative column\n",
    "\n",
    "'Characters' will measure the length of the text of each graffito in English. 'Imperative' will count whether it has exclamation points or not."
   ]
  },
  {
   "cell_type": "code",
   "execution_count": 34,
   "metadata": {},
   "outputs": [],
   "source": [
    "#Create Characters and Imperative columns\n",
    "for index in df_raw.index:\n",
    "    df_raw.at[index, 'Characters'] = len(df_raw.at[index, 'In English'])\n",
    "    if '!' in df_raw.at[index, 'In English']:\n",
    "        df_raw.at[index, 'Imperative'] = 1\n",
    "    else: \n",
    "        df_raw.at[index, 'Imperative'] = 0\n",
    "df_raw['Characters'] = df_raw['Characters'].astype('int')\n",
    "df_raw['Imperative'] = df_raw['Imperative'].astype('int')"
   ]
  },
  {
   "cell_type": "markdown",
   "metadata": {},
   "source": [
    "<a id = 'prelim_model'></a>"
   ]
  },
  {
   "cell_type": "markdown",
   "metadata": {},
   "source": [
    "### How good are the categories? Testing with a preliminary model: plain vanilla logistic regression\n",
    "\n",
    "The data cleaning process made me suspicious that the given categories of the data aren't going to allow for good models. Let's build a plain vanilla logistic regression to see."
   ]
  },
  {
   "cell_type": "code",
   "execution_count": 30,
   "metadata": {
    "scrolled": true
   },
   "outputs": [],
   "source": [
    "#Prepare the data and build a logistic regression classifier.\n",
    "\n",
    "df = copy.deepcopy(df_raw)\n",
    "\n",
    "#Make categories\n",
    "df['Literacy'] = df['Literacy'].astype('category')\n",
    "df['Position'] = df['Position'].astype('category')\n",
    "df['Building Type'] = df['Building Type'].astype('category')\n",
    "df['Famous House'] = df['Famous House'].astype('bool').astype('category')\n",
    "df['Socio-economic status'] = df['Socio-economic status'].astype('category')\n",
    "df['Writer'] = df['Writer'].astype('bool').astype('category')\n",
    "df['Category'] = df['Category'].astype('category')\n",
    "df['Imperative'] = df['Imperative'].astype('bool').astype('category')\n",
    "\n",
    "#Continuous data: 'Reggio', 'Insula', 'Characters', 'Flohr Score'\n",
    "\n",
    "#Get dummies\n",
    "literacy_dummies = pd.get_dummies(df['Literacy'], prefix = 'Literacy')\n",
    "position_dummies = pd.get_dummies(df['Position'], prefix = 'Position')\n",
    "build_type_dummies = pd.get_dummies(df['Building Type'], prefix = 'Building_Type')\n",
    "famous_dummies = pd.get_dummies(df['Famous House'], prefix = 'Famous')\n",
    "econ_status_dummies = pd.get_dummies(df['Socio-economic status'], prefix = 'Econ_Status')\n",
    "writer_dummies = pd.get_dummies(df['Writer'], prefix = 'Writer')\n",
    "imperative_dummies = pd.get_dummies(df['Imperative'], prefix = 'Imperative')\n",
    "\n",
    "X = df.drop(['CIL IV #', 'Entrance', 'Literacy', 'In English', \n",
    "             'Position', 'Building Type', \n",
    "             'Famous House', 'Category', 'Socio-economic status',\n",
    "             'Writer', 'Imperative'\n",
    "            ], axis = 1)\n",
    "X = pd.concat([X, literacy_dummies, position_dummies, build_type_dummies, \n",
    "               famous_dummies, econ_status_dummies, writer_dummies,\n",
    "             imperative_dummies\n",
    "              ], axis = 1)\n",
    "\n",
    "y = df['Category']\n",
    "\n",
    "#Create a train/test split\n",
    "X_train, X_test, y_train, y_test = train_test_split(X, y, random_state=12)\n",
    "#print(y_train.value_counts(),'\\n', y_test.value_counts())\n",
    "\n",
    "#Build a logistic regression model\n",
    "logreg = LogisticRegression(fit_intercept=False, C=1e16)"
   ]
  },
  {
   "cell_type": "code",
   "execution_count": 31,
   "metadata": {},
   "outputs": [],
   "source": [
    "logreg.fit(X_train, y_train)\n",
    "\n",
    "#Generate predicted values for y to compare to real values\n",
    "y_hat_train = logreg.predict(X_train)\n",
    "\n",
    "#Now generate predicted values for the test data to compare\n",
    "y_hat_test = logreg.predict(X_test)\n",
    "\n",
    "#Create a confusion matrix with the training results\n",
    "conf_matrix_train = confusion_matrix(y_hat_train, y_train)\n",
    "#Create a confusion matrix with the test results\n",
    "conf_matrix_test = confusion_matrix(y_hat_test, y_test)\n",
    "\n",
    "#Create labels for the classes in the conf matrix\n",
    "class_names = set(y)"
   ]
  },
  {
   "cell_type": "code",
   "execution_count": 32,
   "metadata": {},
   "outputs": [
    {
     "data": {
      "image/png": "[encoded data removed]",
      "text/plain": [
       "<Figure size 720x576 with 2 Axes>"
      ]
     },
     "metadata": {
      "needs_background": "light"
     },
     "output_type": "display_data"
    }
   ],
   "source": [
    "#Draw a figure\n",
    "plt.figure(figsize = (10,8))\n",
    "#Call the custom function to draw the conf matrix\n",
    "plot_conf_matrix(conf_matrix_train, classes = class_names)"
   ]
  },
  {
   "cell_type": "code",
   "execution_count": 33,
   "metadata": {},
   "outputs": [
    {
     "name": "stdout",
     "output_type": "stream",
     "text": [
      "             precision    recall  f1-score   support\n",
      "\n",
      "    unknown       0.25      0.12      0.16        58\n",
      "  Religious       0.37      0.36      0.36       104\n",
      "    Tagging       0.33      0.08      0.12        13\n",
      "   Romantic       1.00      1.00      1.00       117\n",
      "     Social       0.36      0.11      0.17        36\n",
      "  Reference       0.43      0.18      0.26        33\n",
      "     Insult       0.47      0.65      0.55       146\n",
      "  Political       0.40      0.56      0.47       156\n",
      "   Violence       0.39      0.19      0.26        47\n",
      "      Civic       0.63      0.52      0.57        23\n",
      "     Sexual       0.50      0.33      0.40        12\n",
      "\n",
      "avg / total       0.50      0.51      0.49       745\n",
      "\n"
     ]
    }
   ],
   "source": [
    "print(classification_report(y_train, y_hat_train, target_names = class_names))"
   ]
  },
  {
   "cell_type": "markdown",
   "metadata": {},
   "source": [
    "Discuss"
   ]
  },
  {
   "cell_type": "code",
   "execution_count": 34,
   "metadata": {
    "scrolled": true
   },
   "outputs": [
    {
     "data": {
      "image/png": "[encoded data removed]",
      "text/plain": [
       "<Figure size 720x576 with 2 Axes>"
      ]
     },
     "metadata": {
      "needs_background": "light"
     },
     "output_type": "display_data"
    }
   ],
   "source": [
    "plt.figure(figsize = (10,8))\n",
    "#Call the custom function to draw the conf matrix\n",
    "plot_conf_matrix(conf_matrix_test, classes = class_names)"
   ]
  },
  {
   "cell_type": "code",
   "execution_count": 35,
   "metadata": {},
   "outputs": [
    {
     "name": "stdout",
     "output_type": "stream",
     "text": [
      "             precision    recall  f1-score   support\n",
      "\n",
      "    unknown       0.50      0.20      0.29        20\n",
      "  Religious       0.35      0.34      0.35        35\n",
      "    Tagging       0.00      0.00      0.00         9\n",
      "   Romantic       1.00      0.97      0.99        39\n",
      "     Social       0.25      0.17      0.20         6\n",
      "  Reference       0.20      0.06      0.09        17\n",
      "     Insult       0.25      0.42      0.31        40\n",
      "  Political       0.36      0.45      0.40        56\n",
      "   Violence       0.00      0.00      0.00        12\n",
      "      Civic       0.45      0.38      0.42        13\n",
      "     Sexual       0.00      0.00      0.00         2\n",
      "\n",
      "avg / total       0.41      0.41      0.40       249\n",
      "\n"
     ]
    }
   ],
   "source": [
    "print(classification_report(y_test, y_hat_test, target_names = class_names))"
   ]
  },
  {
   "cell_type": "markdown",
   "metadata": {},
   "source": [
    "This model is almost useless! It only classifies 'Reference', 'Insult', and 'Violence.'"
   ]
  },
  {
   "cell_type": "markdown",
   "metadata": {},
   "source": [
    "<a id = 'detour_cat'></a>"
   ]
  },
  {
   "cell_type": "markdown",
   "metadata": {},
   "source": [
    "### Detour: improving the categories\n",
    "\n",
    "I'm unhappy with the categories and think I can do better."
   ]
  },
  {
   "cell_type": "code",
   "execution_count": 45,
   "metadata": {
    "scrolled": true
   },
   "outputs": [],
   "source": [
    "cat_counts = df_raw['Category'].value_counts()"
   ]
  },
  {
   "cell_type": "code",
   "execution_count": 33,
   "metadata": {},
   "outputs": [
    {
     "data": {
      "image/png": "[encoded data removed]",
      "text/plain": [
       "<Figure size 576x576 with 1 Axes>"
      ]
     },
     "metadata": {},
     "output_type": "display_data"
    }
   ],
   "source": [
    "#COLROS ARE BROKEN\n",
    "\n",
    "#colors_for_orig_cats = ['lavender', 'brown', 'yellow', 'blue', 'lightblue', 'purple',\n",
    "#                       'maroon', 'red', 'pink', 'darkblue', 'gray']\n",
    "fig = plt.figure(figsize = (8,8))\n",
    "plt.pie(x = cat_counts, labels = cat_counts.index)\n",
    "plt.title('Distribution of data into categories')\n",
    "plt.show()"
   ]
  },
  {
   "cell_type": "code",
   "execution_count": null,
   "metadata": {},
   "outputs": [],
   "source": []
  },
  {
   "cell_type": "markdown",
   "metadata": {},
   "source": [
    "There are two problems to solve:\n",
    "\n",
    " 1. Categories are imprecise. (What isn't \"social\"?)\n",
    " 2. Data is unevenly distributed into these categories\n",
    "\n",
    "Before I try to up- or down-sample I'd like to see if I can rearrange the data within the categories. I've browsed the English translations of the graffiti and have spotted some key words that I want to count the incidence of across the categories. This may suggest some more precise categories for the data. It may also allow for more even data distribution across categories."
   ]
  },
  {
   "cell_type": "code",
   "execution_count": 35,
   "metadata": {},
   "outputs": [],
   "source": [
    "#A new df for the reorganized categories\n",
    "df_clean = copy.deepcopy(df_raw)"
   ]
  },
  {
   "cell_type": "code",
   "execution_count": 36,
   "metadata": {},
   "outputs": [],
   "source": [
    "#A lambda function with the \"globals\" so I don't have to pass them in every time\n",
    "pysqldf = lambda q: sqldf(q, globals())"
   ]
  },
  {
   "cell_type": "code",
   "execution_count": 39,
   "metadata": {},
   "outputs": [],
   "source": [
    "categories = list(df_raw['Category'].unique())\n",
    "\n",
    "#Some possible new categories\n",
    "#Hoping to draw values out from 'Social'\n",
    "love = ['the girls', 'love', 'venus']\n",
    "slave = ['servant', 'serve', 'slave']\n",
    "emperor = ['Caesar', 'emperor', 'Nero']\n",
    "gods = ['Jupiter', 'god', 'holy', 'pray']\n",
    "greeting = ['bye', 'hello', 'goodbye', 'greetings']\n",
    "glory = ['fight', 'mars','soldier', 'victor']\n",
    "########## WARNING!! NSFW ################\n",
    "lewd = ['bugger', 'cock', 'cunt', 'faggot', 'fuck', 'suck']\n",
    "###########################################\n",
    "blessing = ['best wishes', 'bravo',  'favor', 'favour', 'good luck', 'happy', 'smile']\n",
    "curse = ['anger', 'beware', 'curse']\n",
    "keyword_cats = [love, slave, emperor, gods, greeting, glory, lewd, blessing, curse]\n",
    "\n",
    "#A list of all keywords\n",
    "keywords = []\n",
    "for cat in keyword_cats:\n",
    "    for word in cat:\n",
    "        keywords.append(word)\n",
    "        \n",
    "#Build a 'keyword matrix' with my custom function\n",
    "#to show incidence of the above keywords in the \n",
    "#original categories of the data.\n",
    "keywords_df = keyword_matrix(categories, keywords)"
   ]
  },
  {
   "cell_type": "code",
   "execution_count": null,
   "metadata": {},
   "outputs": [],
   "source": [
    "keywords_df"
   ]
  },
  {
   "cell_type": "code",
   "execution_count": 40,
   "metadata": {},
   "outputs": [
    {
     "data": {
      "text/plain": [
       "139"
      ]
     },
     "execution_count": 40,
     "metadata": {},
     "output_type": "execute_result"
    }
   ],
   "source": [
    "#Opportunity to knock off many of the values from 'Social.'\n",
    "keywords_df['Social'].sum()"
   ]
  },
  {
   "cell_type": "code",
   "execution_count": 43,
   "metadata": {},
   "outputs": [],
   "source": [
    "#Categorize greetings, blessings, and curses as Hails \n",
    "#Hello, goodbye, good luck, go to hell)\n",
    "hails = []\n",
    "for words in [greeting, blessing, curse]:\n",
    "    for word in words:\n",
    "        hails.append(word)\n",
    "write(df_clean, hails, 'In English', 'Category', 'Hail')\n",
    "\n",
    "#Categorize references to emperors or slaves as Political\n",
    "poli = []\n",
    "for words in [emperor, slave]:\n",
    "    for word in words:\n",
    "        poli.append(word)\n",
    "write(df_clean, poli, 'In English', 'Category', 'Political')\n",
    "\n",
    "#Categorize glory words as Violence\n",
    "write(df_clean, glory, 'In English', 'Category', 'Violence')\n",
    "#Categorize lewd words as Lewd (new category)\n",
    "write(df_clean, lewd, 'In English', 'Category', 'Lewd')\n",
    "#Categorize love words as Romantic\n",
    "write(df_clean, love, 'In English', 'Category', 'Romantic')\n",
    "#Categorize gods words as Religious\n",
    "write(df_clean, gods, 'In English', 'Category', 'Religious')\n",
    "\n",
    "#Now:\n",
    "#Combine 'Violence' and 'Political' into 'Glory'\n",
    "write(df_clean, ['Violence', 'Political'], 'Category', 'Category', 'Glory')\n",
    "#Combine 'Sexual' and 'Romantic' into 'Love'\n",
    "write(df_clean, ['Sexual', 'Romantic'], 'Category', 'Category', 'Love')\n",
    "#Combine 'unknown' and 'Tagging' into 'Civic'\n",
    "write(df_clean, ['unknown', 'Tagging'], 'Category', 'Category', 'Civic')\n",
    "#Combine 'Insult' with 'Hail' (They're both direct adresses)\n",
    "write(df_clean, ['Insult'], 'Category', 'Category', 'Hail')\n",
    "#Combine 'Religious' with 'Glory' (Politics, War, and Religion are all heady)\n",
    "write(df_clean, ['Religious'], 'Category', 'Category', 'Glory')\n",
    "\n",
    "#Now:\n",
    "#Give the final categories jazzier names\n",
    "replacements = {'Reference': 'Literature',\n",
    "                'Social': 'Gossip',\n",
    "                'Civic': 'Bulletin',\n",
    "                'Religion': 'Gods'\n",
    "                }\n",
    "df_clean['Category'] = df_clean['Category'].replace(replacements)"
   ]
  },
  {
   "cell_type": "markdown",
   "metadata": {},
   "source": [
    "How did all this work affect our categories?"
   ]
  },
  {
   "cell_type": "code",
   "execution_count": null,
   "metadata": {},
   "outputs": [],
   "source": [
    "#FOR RTESTING\n",
    "#labels = 'Frogs', 'Hogs', 'Dogs', 'Logs'\n",
    "#fracs = [15, 30, 45, 10]\n",
    "\n",
    "#fig = plt.figure()\n",
    "\n",
    "#ax1 = fig.add_axes([0, 0, .5, .5], aspect=1)\n",
    "#ax1.pie(fracs, labels=labels, radius = 1.2)\n",
    "#ax2 = fig.add_axes([.5, .0, .5, .5], aspect=1)\n",
    "#ax2.pie(fracs, labels=labels, radius = 1.2)\n",
    "#plt.show()"
   ]
  },
  {
   "cell_type": "code",
   "execution_count": 46,
   "metadata": {},
   "outputs": [
    {
     "data": {
      "image/png": "[encoded data removed]",
      "text/plain": [
       "<Figure size 864x576 with 2 Axes>"
      ]
     },
     "metadata": {},
     "output_type": "display_data"
    }
   ],
   "source": [
    "#Colors for new categories\n",
    "colors_for_new_cats = ['green', 'yellow', 'purple', 'gray', 'blue', 'red', 'brown']\n",
    "\n",
    "#Capture the values of the new categories to plot\n",
    "v2cat_counts = df_clean['Category'].value_counts()\n",
    "\n",
    "#Plot old categories side by side with new ones\n",
    "fig = plt.figure(figsize = (12,8))\n",
    "ax1 = fig.add_axes([0, 0, .5, .5], aspect = 1)\n",
    "ax1.pie(x = cat_counts, labels = cat_counts.index)\n",
    "ax2 = fig.add_axes([0.5, 0, .5, .5], aspect = 1)\n",
    "ax2.pie(x = v2cat_counts, labels = v2cat_counts.index)\n",
    "#Need to fix title position\n",
    "plt.title('Original categories vs new categories')\n",
    "plt.show()"
   ]
  },
  {
   "cell_type": "markdown",
   "metadata": {},
   "source": [
    "### MAKE THE COLORS CORRESPOND\n",
    "Lavender   'Sexual', 'Love'\n",
    "Brown   'Reference', 'Literature'\n",
    "Yellow     'Insult', 'Hail'\n",
    "Blue       'Civic', 'Bulletin'\n",
    "Light blue 'Tagging', 'Bulletin'\n",
    "Purple    'Romantic', 'Love'\n",
    "Maroon    'Religious', 'Glory'\n",
    "Red       'Violence', 'Glory'\n",
    "Pink     'Political', 'Glory'\n",
    "Dark blue  'unknown'], 'Bulletin'\n",
    "Gray .      Social .     Gossip\n",
    "\n",
    "Lewd  Green\n",
    "Hail Yellow\n",
    "Love Purple\n",
    "Gossip Gray\n",
    "Bulletin Blue\n",
    "Glory Red\n",
    "Literature Brown"
   ]
  },
  {
   "cell_type": "code",
   "execution_count": null,
   "metadata": {},
   "outputs": [],
   "source": [
    "df_clean['Category'].value_counts()"
   ]
  },
  {
   "cell_type": "markdown",
   "metadata": {},
   "source": [
    "Much better!\n",
    "\n",
    "*Lewd*: Swear words and body parts\n",
    "\n",
    "*Hail*: Hello, goodbye, bless you, curse you\n",
    "\n",
    "*Love*: Romance & sex\n",
    "\n",
    "*Gossip*: Have you heard who was drinking wine with Euphabia?\n",
    "\n",
    "*Bulletin*: I baked bread today; I sold some pots today\n",
    "\n",
    "*Glory*: The slaves won the battle! The emperor won the battle! The gods helped us win the battle!\n",
    "\n",
    "*Literature*: Ovid, Aenid, Homer, Horace: we've got all the classics\n",
    "\n",
    "Now let's see how this data performs with a plain vanilla logistic regression model.\n",
    "\n",
    "### Another plain vanilla logistic regression with the new categories"
   ]
  },
  {
   "cell_type": "code",
   "execution_count": 40,
   "metadata": {
    "scrolled": true
   },
   "outputs": [],
   "source": [
    "#Prepare the data\n",
    "\n",
    "df = copy.deepcopy(df_clean)\n",
    "\n",
    "#Make categories\n",
    "df['Literacy'] = df['Literacy'].astype('category')\n",
    "df['Position'] = df['Position'].astype('category')\n",
    "df['Building Type'] = df['Building Type'].astype('category')\n",
    "df['Famous House'] = df['Famous House'].astype('bool').astype('category')\n",
    "df['Socio-economic status'] = df['Socio-economic status'].astype('category')\n",
    "df['Writer'] = df['Writer'].astype('bool').astype('category')\n",
    "df['Category'] = df['Category'].astype('category')\n",
    "df['Imperative'] = df['Imperative'].astype('bool').astype('category')\n",
    "\n",
    "#Continuous data: 'Reggio', 'Insula', 'Characters', 'Flohr Score'\n",
    "\n",
    "#Get dummies\n",
    "literacy_dummies = pd.get_dummies(df['Literacy'], prefix = 'Literacy')\n",
    "position_dummies = pd.get_dummies(df['Position'], prefix = 'Position')\n",
    "build_type_dummies = pd.get_dummies(df['Building Type'], prefix = 'Building_Type')\n",
    "famous_dummies = pd.get_dummies(df['Famous House'], prefix = 'Famous')\n",
    "econ_status_dummies = pd.get_dummies(df['Socio-economic status'], prefix = 'Econ_Status')\n",
    "writer_dummies = pd.get_dummies(df['Writer'], prefix = 'Writer')\n",
    "imperative_dummies = pd.get_dummies(df['Imperative'], prefix = 'Imperative')\n",
    "\n",
    "X = df.drop(['CIL IV #', 'Entrance', 'Literacy', 'In English', \n",
    "             'Position', 'Building Type', \n",
    "             'Famous House', 'Category', 'Socio-economic status',\n",
    "             'Writer', 'Imperative'\n",
    "            ], axis = 1)\n",
    "X = pd.concat([X, literacy_dummies, position_dummies, build_type_dummies, \n",
    "               famous_dummies, econ_status_dummies, writer_dummies,\n",
    "             imperative_dummies\n",
    "              ], axis = 1)\n",
    "\n",
    "y = df['Category']\n",
    "\n",
    "#Create a train/test split\n",
    "X_train, X_test, y_train, y_test = train_test_split(X, y, random_state=12)\n",
    "#print(y_train.value_counts(),'\\n', y_test.value_counts())"
   ]
  },
  {
   "cell_type": "code",
   "execution_count": 44,
   "metadata": {},
   "outputs": [
    {
     "data": {
      "image/png": "[encoded data removed]",
      "text/plain": [
       "<Figure size 432x288 with 2 Axes>"
      ]
     },
     "metadata": {
      "needs_background": "light"
     },
     "output_type": "display_data"
    }
   ],
   "source": [
    "#Build a logistic regression model\n",
    "logreg = LogisticRegression(fit_intercept=False, C=1e16)\n",
    "\n",
    "Fit the classifier to the training data\n",
    "logreg.fit(X_train, y_train)\n",
    "\n",
    "#Generate predicted y values for training set\n",
    "y_hat_train = logreg.predict(X_train)\n",
    "\n",
    "#Generate predicted y values for testing set\n",
    "y_hat_test = logreg.predict(X_test)\n",
    "\n",
    "#Create a confusion matrix for the training set\n",
    "conf_matrix_train = confusion_matrix(y_hat_train, y_train)\n",
    "#Create a confusion matrix for the testing set\n",
    "conf_matrix_test = confusion_matrix(y_hat_test, y_test)\n",
    "\n",
    "#Create labels for the classes in the conf matrix\n",
    "class_names = set(y)\n",
    "#Draw a figure\n",
    "#plt.figure(figsize = (8,8))\n",
    "#Call the custom function to draw the conf matrix\n",
    "plot_conf_matrix(conf_matrix_train, title = 'Training set', classes = class_names)"
   ]
  },
  {
   "cell_type": "code",
   "execution_count": 42,
   "metadata": {},
   "outputs": [
    {
     "name": "stdout",
     "output_type": "stream",
     "text": [
      "             precision    recall  f1-score   support\n",
      "\n",
      "      Glory       0.34      0.50      0.40       108\n",
      "   Bulletin       0.54      0.44      0.48        91\n",
      "     Gossip       0.40      0.27      0.32       111\n",
      "       Love       0.43      0.47      0.45       113\n",
      "       Lewd       0.54      0.48      0.51       128\n",
      " Literature       0.79      0.99      0.88        89\n",
      "       Hail       0.39      0.32      0.35       105\n",
      "\n",
      "avg / total       0.48      0.48      0.48       745\n",
      "\n"
     ]
    }
   ],
   "source": [
    "print(classification_report(y_train, y_hat_train, target_names = class_names))"
   ]
  },
  {
   "cell_type": "code",
   "execution_count": 45,
   "metadata": {},
   "outputs": [
    {
     "data": {
      "image/png": "[encoded data removed]",
      "text/plain": [
       "<Figure size 432x288 with 2 Axes>"
      ]
     },
     "metadata": {
      "needs_background": "light"
     },
     "output_type": "display_data"
    }
   ],
   "source": [
    "#plt.figure(figsize = (8,8))\n",
    "#Call the custom function to draw the conf matrix\n",
    "plot_conf_matrix(conf_matrix_test, title = 'Test set', classes = class_names)"
   ]
  },
  {
   "cell_type": "code",
   "execution_count": 47,
   "metadata": {},
   "outputs": [
    {
     "name": "stdout",
     "output_type": "stream",
     "text": [
      "             precision    recall  f1-score   support\n",
      "\n",
      " Literature       0.25      0.42      0.31        26\n",
      "      Glory       0.44      0.29      0.35        41\n",
      "       Lewd       0.28      0.22      0.25        36\n",
      "       Hail       0.40      0.51      0.45        39\n",
      "   Bulletin       0.27      0.40      0.32        30\n",
      "     Gossip       0.88      0.86      0.87        35\n",
      "       Love       0.15      0.07      0.10        42\n",
      "\n",
      "avg / total       0.38      0.39      0.37       249\n",
      "\n"
     ]
    }
   ],
   "source": [
    "print(classification_report(y_test, y_hat_test, target_names = class_names))"
   ]
  },
  {
   "cell_type": "markdown",
   "metadata": {},
   "source": [
    "The first model could only classify 3 out of 11 categories. The second model can classify all 7 of its categories, and it does a good job on 4 out of 7. Its accuracy is actually slightly lower than the first."
   ]
  },
  {
   "cell_type": "markdown",
   "metadata": {},
   "source": [
    "<a id = 'model1'></a>"
   ]
  },
  {
   "cell_type": "markdown",
   "metadata": {},
   "source": [
    "[(Back to top)](#top)\n",
    "\n",
    "# Modeling: Model \\#1"
   ]
  },
  {
   "cell_type": "code",
   "execution_count": null,
   "metadata": {},
   "outputs": [],
   "source": []
  },
  {
   "cell_type": "code",
   "execution_count": null,
   "metadata": {},
   "outputs": [],
   "source": []
  },
  {
   "cell_type": "code",
   "execution_count": null,
   "metadata": {},
   "outputs": [],
   "source": []
  },
  {
   "cell_type": "markdown",
   "metadata": {},
   "source": [
    "<a id = 'model2'></a>"
   ]
  },
  {
   "cell_type": "markdown",
   "metadata": {},
   "source": [
    "[(Back to top)](#top)\n",
    "\n",
    "# Model \\#2"
   ]
  },
  {
   "cell_type": "markdown",
   "metadata": {},
   "source": [
    "## Decision trees"
   ]
  },
  {
   "cell_type": "code",
   "execution_count": 47,
   "metadata": {},
   "outputs": [],
   "source": [
    "df = copy.deepcopy(df_clean)"
   ]
  },
  {
   "cell_type": "markdown",
   "metadata": {},
   "source": [
    "Preparing the data:"
   ]
  },
  {
   "cell_type": "code",
   "execution_count": 93,
   "metadata": {},
   "outputs": [
    {
     "name": "stderr",
     "output_type": "stream",
     "text": [
      "/Users/ssrosa/anaconda3/envs/learn-env/lib/python3.6/site-packages/sklearn/preprocessing/_encoders.py:368: FutureWarning: The handling of integer data will change in version 0.22. Currently, the categories are determined based on the range [0, max(values)], while in the future they will be determined based on the unique values.\n",
      "If you want the future behaviour and silence this warning, you can specify \"categories='auto'\".\n",
      "In case you used a LabelEncoder before this OneHotEncoder to convert the categories to integers, then you can now use the OneHotEncoder directly.\n",
      "  warnings.warn(msg, FutureWarning)\n",
      "/Users/ssrosa/anaconda3/envs/learn-env/lib/python3.6/site-packages/pandas/core/frame.py:3697: SettingWithCopyWarning: \n",
      "A value is trying to be set on a copy of a slice from a DataFrame\n",
      "\n",
      "See the caveats in the documentation: http://pandas.pydata.org/pandas-docs/stable/indexing.html#indexing-view-versus-copy\n",
      "  errors=errors)\n"
     ]
    }
   ],
   "source": [
    "class_names = set(df['Category'])\n",
    "\n",
    "# Create label encoder instance\n",
    "lb = LabelEncoder() \n",
    "\n",
    "# Create Numerical labels for categorical columns\n",
    "df['Literacy_'] = lb.fit_transform(df['Literacy'])\n",
    "df['Position_'] = lb.fit_transform(df['Position'])\n",
    "df['Build_Type_'] = lb.fit_transform(df['Building Type'])\n",
    "df['Famous_'] = lb.fit_transform(df['Famous House'])\n",
    "df['Writer_'] = lb.fit_transform(df['Writer'])\n",
    "df['Econ_Status_'] = lb.fit_transform(df['Socio-economic status'])\n",
    "df['Imperative_'] = lb.fit_transform(df['Imperative'])\n",
    "#the target\n",
    "df['Category_'] = lb.fit_transform(df['Category'])\n",
    "\n",
    "columns_to_encode = ['Literacy_', 'Position_', 'Build_Type_', \n",
    "                     'Famous_', 'Writer_', 'Econ_Status_', \n",
    "                     'Imperative_'\n",
    "                    ]\n",
    "\n",
    "columns_continuous = ['Reggio', 'Insula', 'Flohr Score', \n",
    "                      'Characters'\n",
    "                     ]\n",
    "\n",
    "# Split features and target variable\n",
    "#X = df[columns_to_encode,]\n",
    "y = df['Category_']\n",
    "\n",
    "# Instantiate a one hot encoder\n",
    "enc = OneHotEncoder()\n",
    "\n",
    "# Fit the feature set X\n",
    "enc.fit(df[columns_to_encode])\n",
    "\n",
    "# Transform X's encoded columns to onehot array \n",
    "onehotX = enc.transform(df[columns_to_encode])\n",
    "\n",
    "#Convert the sparse matrix back into a DF\n",
    "X_onehot = pd.DataFrame(onehotX.todense())\n",
    "#Get just the continuous columns\n",
    "continuous = df[columns_continuous]\n",
    "#Have to reset the index so the rows will line up with\n",
    "#the rows in the encoded set\n",
    "continuous.reset_index(inplace = True)\n",
    "continuous.drop(['index'], axis = 1, inplace = True)\n",
    "\n",
    "#Bring back together the encoded columns and the continuous columns\n",
    "X = pd.concat([X_onehot, continuous], axis = 1)\n",
    "\n",
    "# Create a 70/30 split\n",
    "X_train, X_test, y_train, y_test = train_test_split(X, y, test_size = 0.3, random_state = 12)"
   ]
  },
  {
   "cell_type": "markdown",
   "metadata": {},
   "source": [
    "## A plain vanilla decision tree"
   ]
  },
  {
   "cell_type": "code",
   "execution_count": 49,
   "metadata": {},
   "outputs": [],
   "source": [
    "# Train the classifier and make predictions\n",
    "clf = DecisionTreeClassifier(criterion = 'entropy')\n",
    "clf.fit(X_train,y_train) \n",
    "y_hat_train = clf.predict(X_train)\n",
    "y_hat_test = clf.predict(X_test)"
   ]
  },
  {
   "cell_type": "markdown",
   "metadata": {},
   "source": [
    "### Visualize the result"
   ]
  },
  {
   "cell_type": "code",
   "execution_count": 50,
   "metadata": {
    "scrolled": true
   },
   "outputs": [
    {
     "data": {
      "image/png": "[encoded data removed]",
      "text/plain": [
       "<Figure size 432x288 with 2 Axes>"
      ]
     },
     "metadata": {
      "needs_background": "light"
     },
     "output_type": "display_data"
    }
   ],
   "source": [
    "#Create confusion matrices with the results\n",
    "\n",
    "class_names = set(df['Category'])\n",
    "\n",
    "#A CM for the training set\n",
    "conf_matrix_train = confusion_matrix(y_hat_train, y_train)\n",
    "#A CM for the test set\n",
    "conf_matrix_test = confusion_matrix(y_hat_test, y_test)\n",
    "\n",
    "#Draw the training CM\n",
    "plot_conf_matrix(conf_matrix_train, title = 'Training set', classes = class_names)"
   ]
  },
  {
   "cell_type": "code",
   "execution_count": 51,
   "metadata": {
    "scrolled": true
   },
   "outputs": [
    {
     "name": "stdout",
     "output_type": "stream",
     "text": [
      "             precision    recall  f1-score   support\n",
      "\n",
      "      Glory       0.98      1.00      0.99       102\n",
      "   Bulletin       1.00      1.00      1.00        88\n",
      "     Gossip       0.98      1.00      0.99        95\n",
      "       Love       0.99      0.99      0.99       107\n",
      "       Lewd       0.97      0.97      0.97       120\n",
      " Literature       1.00      0.99      0.99        85\n",
      "       Hail       1.00      0.96      0.98        98\n",
      "\n",
      "avg / total       0.99      0.99      0.99       695\n",
      "\n"
     ]
    }
   ],
   "source": [
    "print(classification_report(y_train, y_hat_train, target_names = class_names))"
   ]
  },
  {
   "cell_type": "markdown",
   "metadata": {},
   "source": [
    "Very over-fitted!"
   ]
  },
  {
   "cell_type": "code",
   "execution_count": 52,
   "metadata": {},
   "outputs": [
    {
     "data": {
      "image/png": "[encoded data removed]",
      "text/plain": [
       "<Figure size 432x288 with 2 Axes>"
      ]
     },
     "metadata": {
      "needs_background": "light"
     },
     "output_type": "display_data"
    }
   ],
   "source": [
    "#Draw the test CM\n",
    "plot_conf_matrix(conf_matrix_test, title = 'Test set', classes = class_names)"
   ]
  },
  {
   "cell_type": "code",
   "execution_count": 53,
   "metadata": {},
   "outputs": [
    {
     "name": "stdout",
     "output_type": "stream",
     "text": [
      "             precision    recall  f1-score   support\n",
      "\n",
      "      Glory       0.32      0.47      0.38        32\n",
      "   Bulletin       0.20      0.14      0.16        44\n",
      "     Gossip       0.27      0.23      0.25        52\n",
      "       Love       0.33      0.47      0.39        45\n",
      "       Lewd       0.25      0.29      0.27        38\n",
      " Literature       0.83      0.77      0.80        39\n",
      "       Hail       0.18      0.12      0.14        49\n",
      "\n",
      "avg / total       0.33      0.34      0.33       299\n",
      "\n"
     ]
    }
   ],
   "source": [
    "print(classification_report(y_test, y_hat_test, target_names = class_names))"
   ]
  },
  {
   "cell_type": "code",
   "execution_count": 57,
   "metadata": {},
   "outputs": [],
   "source": [
    "#Image = draw_graph(clf)"
   ]
  },
  {
   "cell_type": "markdown",
   "metadata": {},
   "source": [
    "In looking at the graph I notice that X_54, 'Characters' appears again and again."
   ]
  },
  {
   "cell_type": "markdown",
   "metadata": {},
   "source": [
    "\n",
    "\n"
   ]
  },
  {
   "cell_type": "code",
   "execution_count": 54,
   "metadata": {
    "scrolled": true
   },
   "outputs": [
    {
     "name": "stdout",
     "output_type": "stream",
     "text": [
      "Features: 55\n",
      "Tree depth: 21\n",
      "Nodes and leaves: 733\n",
      "\"Capacity\": 733\n"
     ]
    }
   ],
   "source": [
    "#MAybe useful for interpreting graph\n",
    "print('Features:', clf.n_features_)\n",
    "print('Tree depth:', clf.tree_.max_depth)\n",
    "print('Nodes and leaves:', clf.tree_.node_count)\n",
    "print('\"Capacity\":', clf.tree_.capacity)"
   ]
  },
  {
   "cell_type": "markdown",
   "metadata": {},
   "source": [
    "Accuracy is lower than plain vanilla logistic regression. \n",
    "\n",
    "Decision tree is very complex.\n",
    "\n",
    "Needs hyperparameter tuning."
   ]
  },
  {
   "cell_type": "markdown",
   "metadata": {},
   "source": [
    "What about with the gini coefficient instead?"
   ]
  },
  {
   "cell_type": "code",
   "execution_count": 55,
   "metadata": {},
   "outputs": [],
   "source": [
    "DecisionTreeClassifier?"
   ]
  },
  {
   "cell_type": "code",
   "execution_count": 56,
   "metadata": {},
   "outputs": [],
   "source": [
    "# Train the classifier and make predictions\n",
    "clf = DecisionTreeClassifier(criterion = 'gini')\n",
    "clf.fit(X_train,y_train) \n",
    "y_hat_train = clf.predict(X_train)\n",
    "y_hat_test = clf.predict(X_test)"
   ]
  },
  {
   "cell_type": "code",
   "execution_count": 63,
   "metadata": {},
   "outputs": [],
   "source": [
    "#Create confusion matrices with the results\n",
    "\n",
    "class_names = set(df['Category'])\n",
    "\n",
    "#A CM for the training set\n",
    "conf_matrix_train = confusion_matrix(y_hat_train, y_train)\n",
    "#A CM for the test set\n",
    "conf_matrix_test = confusion_matrix(y_hat_test, y_test)\n",
    "\n",
    "#Draw the training CM\n",
    "#plot_conf_matrix(conf_matrix_train, title = 'Training set', classes = class_names)"
   ]
  },
  {
   "cell_type": "code",
   "execution_count": 58,
   "metadata": {},
   "outputs": [
    {
     "name": "stdout",
     "output_type": "stream",
     "text": [
      "             precision    recall  f1-score   support\n",
      "\n",
      "      Glory       0.98      1.00      0.99       102\n",
      "   Bulletin       1.00      1.00      1.00        88\n",
      "     Gossip       0.98      1.00      0.99        95\n",
      "       Love       0.99      0.99      0.99       107\n",
      "       Lewd       0.97      0.97      0.97       120\n",
      " Literature       1.00      0.99      0.99        85\n",
      "       Hail       1.00      0.96      0.98        98\n",
      "\n",
      "avg / total       0.99      0.99      0.99       695\n",
      "\n"
     ]
    }
   ],
   "source": [
    "print(classification_report(y_train, y_hat_train, target_names = class_names))"
   ]
  },
  {
   "cell_type": "code",
   "execution_count": 62,
   "metadata": {},
   "outputs": [],
   "source": [
    "#Draw the test CM\n",
    "#plot_conf_matrix(conf_matrix_test, title = 'Test set', classes = class_names)"
   ]
  },
  {
   "cell_type": "code",
   "execution_count": 60,
   "metadata": {},
   "outputs": [
    {
     "name": "stdout",
     "output_type": "stream",
     "text": [
      "             precision    recall  f1-score   support\n",
      "\n",
      "      Glory       0.33      0.44      0.38        32\n",
      "   Bulletin       0.26      0.20      0.23        44\n",
      "     Gossip       0.17      0.15      0.16        52\n",
      "       Love       0.36      0.44      0.40        45\n",
      "       Lewd       0.22      0.26      0.24        38\n",
      " Literature       0.82      0.69      0.75        39\n",
      "       Hail       0.18      0.14      0.16        49\n",
      "\n",
      "avg / total       0.32      0.32      0.32       299\n",
      "\n"
     ]
    }
   ],
   "source": [
    "print(classification_report(y_test, y_hat_test, target_names = class_names))"
   ]
  },
  {
   "cell_type": "code",
   "execution_count": 61,
   "metadata": {},
   "outputs": [
    {
     "name": "stdout",
     "output_type": "stream",
     "text": [
      "Features: 55\n",
      "Tree depth: 22\n",
      "Nodes and leaves: 725\n",
      "\"Capacity\": 725\n"
     ]
    }
   ],
   "source": [
    "#MAybe useful for interpreting graph\n",
    "print('Features:', clf.n_features_)\n",
    "print('Tree depth:', clf.tree_.max_depth)\n",
    "print('Nodes and leaves:', clf.tree_.node_count)\n",
    "print('\"Capacity\":', clf.tree_.capacity)"
   ]
  },
  {
   "cell_type": "markdown",
   "metadata": {},
   "source": [
    "Has just slightly lower accuracy scores and 10 fewer nodes than when measuring entropy."
   ]
  },
  {
   "cell_type": "code",
   "execution_count": null,
   "metadata": {},
   "outputs": [],
   "source": []
  },
  {
   "cell_type": "code",
   "execution_count": null,
   "metadata": {},
   "outputs": [],
   "source": []
  },
  {
   "cell_type": "code",
   "execution_count": null,
   "metadata": {},
   "outputs": [],
   "source": []
  },
  {
   "cell_type": "code",
   "execution_count": null,
   "metadata": {},
   "outputs": [],
   "source": []
  },
  {
   "cell_type": "code",
   "execution_count": null,
   "metadata": {},
   "outputs": [],
   "source": []
  },
  {
   "cell_type": "code",
   "execution_count": null,
   "metadata": {},
   "outputs": [],
   "source": []
  },
  {
   "cell_type": "code",
   "execution_count": null,
   "metadata": {},
   "outputs": [],
   "source": []
  },
  {
   "cell_type": "code",
   "execution_count": null,
   "metadata": {},
   "outputs": [],
   "source": []
  },
  {
   "cell_type": "code",
   "execution_count": null,
   "metadata": {},
   "outputs": [],
   "source": []
  },
  {
   "cell_type": "code",
   "execution_count": null,
   "metadata": {},
   "outputs": [],
   "source": []
  },
  {
   "cell_type": "code",
   "execution_count": null,
   "metadata": {},
   "outputs": [],
   "source": []
  },
  {
   "cell_type": "markdown",
   "metadata": {},
   "source": [
    "## Building a df to store accuracy scores (on hold til I remember grid search)"
   ]
  },
  {
   "cell_type": "code",
   "execution_count": 122,
   "metadata": {},
   "outputs": [],
   "source": [
    "#Build a generic dataframe to store precision, recall, and f1 of each decision tree classifier\n",
    "score_columns = ['param_values', 'prec_train', 'prec_test', \n",
    "                                 'recall_train', 'recall_test', \n",
    "                                 'f1_train', 'f1_test']\n",
    "\n",
    "score_df = pd.DataFrame(columns = score_columns)"
   ]
  },
  {
   "cell_type": "code",
   "execution_count": 105,
   "metadata": {},
   "outputs": [],
   "source": [
    "#Testing for number of features\n",
    "\n",
    "features_df = copy.deepcopy(score_df)\n",
    "feature_params = [25, 30, 35, 40, 45, 50]\n",
    "param = 25\n",
    "for param in feature_params:\n",
    "    features_df = features_df.append({'param_values': param}, ignore_index = True)"
   ]
  },
  {
   "cell_type": "code",
   "execution_count": 108,
   "metadata": {},
   "outputs": [
    {
     "data": {
      "text/html": [
       "<div>\n",
       "<style scoped>\n",
       "    .dataframe tbody tr th:only-of-type {\n",
       "        vertical-align: middle;\n",
       "    }\n",
       "\n",
       "    .dataframe tbody tr th {\n",
       "        vertical-align: top;\n",
       "    }\n",
       "\n",
       "    .dataframe thead th {\n",
       "        text-align: right;\n",
       "    }\n",
       "</style>\n",
       "<table border=\"1\" class=\"dataframe\">\n",
       "  <thead>\n",
       "    <tr style=\"text-align: right;\">\n",
       "      <th></th>\n",
       "      <th>param_values</th>\n",
       "      <th>prec_train</th>\n",
       "      <th>prec_test</th>\n",
       "      <th>recall_train</th>\n",
       "      <th>recall_test</th>\n",
       "      <th>f1_train</th>\n",
       "      <th>f1_test</th>\n",
       "    </tr>\n",
       "  </thead>\n",
       "  <tbody>\n",
       "    <tr>\n",
       "      <th>0</th>\n",
       "      <td>25.0</td>\n",
       "      <td>0.98825</td>\n",
       "      <td>0.345869</td>\n",
       "      <td>0.987582</td>\n",
       "      <td>0.346197</td>\n",
       "      <td>0.987819</td>\n",
       "      <td>0.343093</td>\n",
       "    </tr>\n",
       "    <tr>\n",
       "      <th>1</th>\n",
       "      <td>30.0</td>\n",
       "      <td>0.98825</td>\n",
       "      <td>0.335358</td>\n",
       "      <td>0.987582</td>\n",
       "      <td>0.336448</td>\n",
       "      <td>0.987819</td>\n",
       "      <td>0.330509</td>\n",
       "    </tr>\n",
       "    <tr>\n",
       "      <th>2</th>\n",
       "      <td>35.0</td>\n",
       "      <td>0.98825</td>\n",
       "      <td>0.349692</td>\n",
       "      <td>0.987582</td>\n",
       "      <td>0.353299</td>\n",
       "      <td>0.987819</td>\n",
       "      <td>0.347752</td>\n",
       "    </tr>\n",
       "    <tr>\n",
       "      <th>3</th>\n",
       "      <td>40.0</td>\n",
       "      <td>0.98825</td>\n",
       "      <td>0.348182</td>\n",
       "      <td>0.987582</td>\n",
       "      <td>0.359523</td>\n",
       "      <td>0.987819</td>\n",
       "      <td>0.346099</td>\n",
       "    </tr>\n",
       "    <tr>\n",
       "      <th>4</th>\n",
       "      <td>45.0</td>\n",
       "      <td>0.98825</td>\n",
       "      <td>0.325470</td>\n",
       "      <td>0.987582</td>\n",
       "      <td>0.327927</td>\n",
       "      <td>0.987819</td>\n",
       "      <td>0.323678</td>\n",
       "    </tr>\n",
       "    <tr>\n",
       "      <th>5</th>\n",
       "      <td>50.0</td>\n",
       "      <td>0.98825</td>\n",
       "      <td>0.324358</td>\n",
       "      <td>0.987582</td>\n",
       "      <td>0.338200</td>\n",
       "      <td>0.987819</td>\n",
       "      <td>0.325984</td>\n",
       "    </tr>\n",
       "  </tbody>\n",
       "</table>\n",
       "</div>"
      ],
      "text/plain": [
       "   param_values  prec_train  prec_test  recall_train  recall_test  f1_train  \\\n",
       "0          25.0     0.98825   0.345869      0.987582     0.346197  0.987819   \n",
       "1          30.0     0.98825   0.335358      0.987582     0.336448  0.987819   \n",
       "2          35.0     0.98825   0.349692      0.987582     0.353299  0.987819   \n",
       "3          40.0     0.98825   0.348182      0.987582     0.359523  0.987819   \n",
       "4          45.0     0.98825   0.325470      0.987582     0.327927  0.987819   \n",
       "5          50.0     0.98825   0.324358      0.987582     0.338200  0.987819   \n",
       "\n",
       "    f1_test  \n",
       "0  0.343093  \n",
       "1  0.330509  \n",
       "2  0.347752  \n",
       "3  0.346099  \n",
       "4  0.323678  \n",
       "5  0.325984  "
      ]
     },
     "execution_count": 108,
     "metadata": {},
     "output_type": "execute_result"
    }
   ],
   "source": [
    "features_df"
   ]
  },
  {
   "cell_type": "code",
   "execution_count": 112,
   "metadata": {},
   "outputs": [],
   "source": [
    "from sklearn import preprocessing"
   ]
  },
  {
   "cell_type": "code",
   "execution_count": 114,
   "metadata": {},
   "outputs": [],
   "source": [
    "#This doesn't work super well\n",
    "fx = features_df.values #returns a numpy array\n",
    "min_max_scaler = preprocessing.MinMaxScaler()\n",
    "fx_scaled = min_max_scaler.fit_transform(fx)\n",
    "features_df_scaled = pd.DataFrame(fx_scaled)"
   ]
  },
  {
   "cell_type": "code",
   "execution_count": 115,
   "metadata": {},
   "outputs": [
    {
     "data": {
      "text/html": [
       "<div>\n",
       "<style scoped>\n",
       "    .dataframe tbody tr th:only-of-type {\n",
       "        vertical-align: middle;\n",
       "    }\n",
       "\n",
       "    .dataframe tbody tr th {\n",
       "        vertical-align: top;\n",
       "    }\n",
       "\n",
       "    .dataframe thead th {\n",
       "        text-align: right;\n",
       "    }\n",
       "</style>\n",
       "<table border=\"1\" class=\"dataframe\">\n",
       "  <thead>\n",
       "    <tr style=\"text-align: right;\">\n",
       "      <th></th>\n",
       "      <th>0</th>\n",
       "      <th>1</th>\n",
       "      <th>2</th>\n",
       "      <th>3</th>\n",
       "      <th>4</th>\n",
       "      <th>5</th>\n",
       "      <th>6</th>\n",
       "    </tr>\n",
       "  </thead>\n",
       "  <tbody>\n",
       "    <tr>\n",
       "      <th>0</th>\n",
       "      <td>0.0</td>\n",
       "      <td>0.0</td>\n",
       "      <td>0.849093</td>\n",
       "      <td>0.0</td>\n",
       "      <td>0.578243</td>\n",
       "      <td>0.0</td>\n",
       "      <td>0.806471</td>\n",
       "    </tr>\n",
       "    <tr>\n",
       "      <th>1</th>\n",
       "      <td>0.2</td>\n",
       "      <td>0.0</td>\n",
       "      <td>0.434176</td>\n",
       "      <td>0.0</td>\n",
       "      <td>0.269689</td>\n",
       "      <td>0.0</td>\n",
       "      <td>0.283748</td>\n",
       "    </tr>\n",
       "    <tr>\n",
       "      <th>2</th>\n",
       "      <td>0.4</td>\n",
       "      <td>0.0</td>\n",
       "      <td>1.000000</td>\n",
       "      <td>0.0</td>\n",
       "      <td>0.802998</td>\n",
       "      <td>0.0</td>\n",
       "      <td>1.000000</td>\n",
       "    </tr>\n",
       "    <tr>\n",
       "      <th>3</th>\n",
       "      <td>0.6</td>\n",
       "      <td>0.0</td>\n",
       "      <td>0.940403</td>\n",
       "      <td>0.0</td>\n",
       "      <td>1.000000</td>\n",
       "      <td>0.0</td>\n",
       "      <td>0.931338</td>\n",
       "    </tr>\n",
       "    <tr>\n",
       "      <th>4</th>\n",
       "      <td>0.8</td>\n",
       "      <td>0.0</td>\n",
       "      <td>0.043882</td>\n",
       "      <td>0.0</td>\n",
       "      <td>0.000000</td>\n",
       "      <td>0.0</td>\n",
       "      <td>0.000000</td>\n",
       "    </tr>\n",
       "    <tr>\n",
       "      <th>5</th>\n",
       "      <td>1.0</td>\n",
       "      <td>0.0</td>\n",
       "      <td>0.000000</td>\n",
       "      <td>0.0</td>\n",
       "      <td>0.325132</td>\n",
       "      <td>0.0</td>\n",
       "      <td>0.095785</td>\n",
       "    </tr>\n",
       "  </tbody>\n",
       "</table>\n",
       "</div>"
      ],
      "text/plain": [
       "     0    1         2    3         4    5         6\n",
       "0  0.0  0.0  0.849093  0.0  0.578243  0.0  0.806471\n",
       "1  0.2  0.0  0.434176  0.0  0.269689  0.0  0.283748\n",
       "2  0.4  0.0  1.000000  0.0  0.802998  0.0  1.000000\n",
       "3  0.6  0.0  0.940403  0.0  1.000000  0.0  0.931338\n",
       "4  0.8  0.0  0.043882  0.0  0.000000  0.0  0.000000\n",
       "5  1.0  0.0  0.000000  0.0  0.325132  0.0  0.095785"
      ]
     },
     "execution_count": 115,
     "metadata": {},
     "output_type": "execute_result"
    }
   ],
   "source": [
    "features_df_scaled"
   ]
  },
  {
   "cell_type": "code",
   "execution_count": 118,
   "metadata": {},
   "outputs": [
    {
     "name": "stderr",
     "output_type": "stream",
     "text": [
      "/Users/ssrosa/anaconda3/envs/learn-env/lib/python3.6/site-packages/sklearn/preprocessing/data.py:193: UserWarning: Numerical issues were encountered when scaling the data and might not be solved. The standard deviation of the data is probably very close to 0. \n",
      "  warnings.warn(\"Numerical issues were encountered \"\n"
     ]
    }
   ],
   "source": [
    "fx_scaled = preprocessing.scale(features_df)"
   ]
  },
  {
   "cell_type": "code",
   "execution_count": 123,
   "metadata": {},
   "outputs": [
    {
     "data": {
      "text/html": [
       "<div>\n",
       "<style scoped>\n",
       "    .dataframe tbody tr th:only-of-type {\n",
       "        vertical-align: middle;\n",
       "    }\n",
       "\n",
       "    .dataframe tbody tr th {\n",
       "        vertical-align: top;\n",
       "    }\n",
       "\n",
       "    .dataframe thead th {\n",
       "        text-align: right;\n",
       "    }\n",
       "</style>\n",
       "<table border=\"1\" class=\"dataframe\">\n",
       "  <thead>\n",
       "    <tr style=\"text-align: right;\">\n",
       "      <th></th>\n",
       "      <th>param_values</th>\n",
       "      <th>prec_train</th>\n",
       "      <th>prec_test</th>\n",
       "      <th>recall_train</th>\n",
       "      <th>recall_test</th>\n",
       "      <th>f1_train</th>\n",
       "      <th>f1_test</th>\n",
       "    </tr>\n",
       "  </thead>\n",
       "  <tbody>\n",
       "    <tr>\n",
       "      <th>0</th>\n",
       "      <td>-1.46385</td>\n",
       "      <td>0.0</td>\n",
       "      <td>0.739877</td>\n",
       "      <td>0.0</td>\n",
       "      <td>0.244006</td>\n",
       "      <td>0.0</td>\n",
       "      <td>0.707107</td>\n",
       "    </tr>\n",
       "    <tr>\n",
       "      <th>1</th>\n",
       "      <td>-0.87831</td>\n",
       "      <td>0.0</td>\n",
       "      <td>-0.268290</td>\n",
       "      <td>0.0</td>\n",
       "      <td>-0.671556</td>\n",
       "      <td>0.0</td>\n",
       "      <td>-0.581156</td>\n",
       "    </tr>\n",
       "    <tr>\n",
       "      <th>2</th>\n",
       "      <td>-0.29277</td>\n",
       "      <td>0.0</td>\n",
       "      <td>1.106553</td>\n",
       "      <td>0.0</td>\n",
       "      <td>0.910914</td>\n",
       "      <td>0.0</td>\n",
       "      <td>1.184063</td>\n",
       "    </tr>\n",
       "    <tr>\n",
       "      <th>3</th>\n",
       "      <td>0.29277</td>\n",
       "      <td>0.0</td>\n",
       "      <td>0.961745</td>\n",
       "      <td>0.0</td>\n",
       "      <td>1.495472</td>\n",
       "      <td>0.0</td>\n",
       "      <td>1.014843</td>\n",
       "    </tr>\n",
       "    <tr>\n",
       "      <th>4</th>\n",
       "      <td>0.87831</td>\n",
       "      <td>0.0</td>\n",
       "      <td>-1.216630</td>\n",
       "      <td>0.0</td>\n",
       "      <td>-1.471795</td>\n",
       "      <td>0.0</td>\n",
       "      <td>-1.280461</td>\n",
       "    </tr>\n",
       "    <tr>\n",
       "      <th>5</th>\n",
       "      <td>1.46385</td>\n",
       "      <td>0.0</td>\n",
       "      <td>-1.323255</td>\n",
       "      <td>0.0</td>\n",
       "      <td>-0.507041</td>\n",
       "      <td>0.0</td>\n",
       "      <td>-1.044397</td>\n",
       "    </tr>\n",
       "  </tbody>\n",
       "</table>\n",
       "</div>"
      ],
      "text/plain": [
       "   param_values  prec_train  prec_test  recall_train  recall_test  f1_train  \\\n",
       "0      -1.46385         0.0   0.739877           0.0     0.244006       0.0   \n",
       "1      -0.87831         0.0  -0.268290           0.0    -0.671556       0.0   \n",
       "2      -0.29277         0.0   1.106553           0.0     0.910914       0.0   \n",
       "3       0.29277         0.0   0.961745           0.0     1.495472       0.0   \n",
       "4       0.87831         0.0  -1.216630           0.0    -1.471795       0.0   \n",
       "5       1.46385         0.0  -1.323255           0.0    -0.507041       0.0   \n",
       "\n",
       "    f1_test  \n",
       "0  0.707107  \n",
       "1 -0.581156  \n",
       "2  1.184063  \n",
       "3  1.014843  \n",
       "4 -1.280461  \n",
       "5 -1.044397  "
      ]
     },
     "execution_count": 123,
     "metadata": {},
     "output_type": "execute_result"
    }
   ],
   "source": [
    "scaled_feature_df = pd.DataFrame(fx_scaled, columns = score_columns)\n",
    "scaled_feature_df"
   ]
  },
  {
   "cell_type": "code",
   "execution_count": 117,
   "metadata": {},
   "outputs": [
    {
     "data": {
      "image/png": "[encoded data removed]",
      "text/plain": [
       "<Figure size 720x432 with 1 Axes>"
      ]
     },
     "metadata": {
      "needs_background": "light"
     },
     "output_type": "display_data"
    }
   ],
   "source": [
    "#Plot Hypers seems to be working\n",
    "plot_hypers(features_df, 'Features')"
   ]
  },
  {
   "cell_type": "code",
   "execution_count": 124,
   "metadata": {},
   "outputs": [
    {
     "data": {
      "image/png": "[encoded data removed]",
      "text/plain": [
       "<Figure size 720x432 with 1 Axes>"
      ]
     },
     "metadata": {
      "needs_background": "light"
     },
     "output_type": "display_data"
    }
   ],
   "source": [
    "plot_hypers(scaled_feature_df, 'Scaled Features')"
   ]
  },
  {
   "cell_type": "code",
   "execution_count": 116,
   "metadata": {},
   "outputs": [],
   "source": [
    "\n",
    "# Identify the optimal tree depth for given data\n",
    "#max_depths = np.linspace(1, 32, 32, endpoint=True)\n",
    "#train_results = []\n",
    "#test_results = []\n",
    "#for max_depth in max_depths:\n",
    "#   dt = DecisionTreeClassifier(criterion='entropy', max_depth=max_depth)\n",
    "#   dt.fit(x_train, y_train)\n",
    "#   train_pred = dt.predict(x_train)\n",
    "#   false_positive_rate, true_positive_rate, thresholds = roc_curve(y_train, train_pred)\n",
    "#   roc_auc = auc(false_positive_rate, true_positive_rate)\n",
    "#   # Add auc score to previous train results\n",
    "##   train_results.append(roc_auc)\n",
    "#   y_pred = dt.predict(x_test)\n",
    "#   false_positive_rate, true_positive_rate, thresholds = roc_curve(y_test, y_pred)\n",
    "#   roc_auc = auc(false_positive_rate, true_positive_rate)\n",
    "#   # Add auc score to previous test results\n",
    "#   test_results.append(roc_auc)\n",
    "#plt.figure(figsize=(12,6))\n",
    "#plt.plot(max_depths, train_results, 'b', label='Train AUC')\n",
    "#plt.plot(max_depths, test_results, 'r', label='Test AUC')\n",
    "#plt.ylabel('AUC score')\n",
    "#plt.xlabel('Tree depth')\n",
    "#plt.legend()\n",
    "#plt.show()\n",
    "def plot_hypers(df, title):\n",
    "    '''\n",
    "    A tool to\n",
    "    \n",
    "    '''\n",
    "    # Number of iterations to plot along the x axis\n",
    "    x = df['param_values']\n",
    "   # tick_marks = np.arange(x.shape[0])\n",
    "    #Draw a figure\n",
    "    plt.figure(figsize=(10,6))\n",
    "    \n",
    "    plt.plot(x, df['prec_train'], 'b-', label = 'Training precision')\n",
    "    plt.plot(x, df['prec_test'], 'b:', label = 'Test precision')\n",
    "    plt.plot(x, df['recall_train'], 'g-', label = 'Training recall')\n",
    "    plt.plot(x, df['recall_test'], 'g:', label = 'Test recall')\n",
    "    plt.plot(x, df['f1_train'], 'r-', label = 'Training F1')\n",
    "    plt.plot(x, df['f1_test'], 'r:', label = 'Test F1')\n",
    "    #plt.xticks(tick_marks, x, rotation=45)\n",
    "    plt.ylabel('Scores')\n",
    "    plt.xlabel('Hyperparameter values')\n",
    "    plt.title(title)\n",
    "    plt.legend()\n",
    "    plt.show()"
   ]
  },
  {
   "cell_type": "code",
   "execution_count": 98,
   "metadata": {},
   "outputs": [],
   "source": [
    "def compare_hypers(df, index, X_train, X_test, y_train, y_test, \n",
    "                   criterion = 'entropy',\n",
    "                   depth = None,\n",
    "                   samples_split = 2,\n",
    "                   samples_leaf = 1,\n",
    "                   features = None,\n",
    "                   leaf_nodes = None,\n",
    "                   presort = False,\n",
    "                  ):\n",
    "\n",
    "    '''\n",
    "    A tool to \n",
    "    '''\n",
    "    \n",
    "    #Instantiate a classifier with all default hyperparameters \n",
    "    #except whatever was passed\n",
    "    clf = DecisionTreeClassifier(criterion = criterion,\n",
    "                                 max_depth = depth,\n",
    "                                 min_samples_split = samples_split,\n",
    "                                 min_samples_leaf = samples_leaf,\n",
    "                                 max_features = features,\n",
    "                                 max_leaf_nodes = leaf_nodes,\n",
    "                                 presort = presort\n",
    "                                 )\n",
    "   \n",
    "    #Fit the data to the classifier\n",
    "    clf.fit(X_train,y_train) \n",
    "    #Predict values for training data\n",
    "    y_hat_train = clf.predict(X_train)\n",
    "    #Predict values for testing data\n",
    "    y_hat_test = clf.predict(X_test)\n",
    "\n",
    "    #Get the scores\n",
    "    prec_train = precision_score(y_train, y_hat_train, average = None).mean()\n",
    "    prec_test = precision_score(y_test, y_hat_test, average = None).mean()\n",
    "    recall_train = recall_score(y_train, y_hat_train, average = None).mean()\n",
    "    recall_test =  recall_score(y_test, y_hat_test, average = None).mean()\n",
    "    f1_train = f1_score(y_train, y_hat_train, average = None).mean()\n",
    "    f1_test = f1_score(y_test, y_hat_test, average = None).mean()\n",
    "    \n",
    "    #Write the scores to the df\n",
    "    df.at[index, 'prec_train'] = prec_train\n",
    "    df.at[index, 'prec_test'] = prec_test\n",
    "    df.at[index, 'recall_train'] = recall_train \n",
    "    df.at[index, 'recall_test'] = recall_test\n",
    "    df.at[index, 'f1_train'] = f1_train\n",
    "    df.at[index, 'f1_test'] = f1_test"
   ]
  },
  {
   "cell_type": "code",
   "execution_count": null,
   "metadata": {},
   "outputs": [],
   "source": []
  },
  {
   "cell_type": "code",
   "execution_count": null,
   "metadata": {},
   "outputs": [],
   "source": []
  },
  {
   "cell_type": "code",
   "execution_count": null,
   "metadata": {},
   "outputs": [],
   "source": []
  },
  {
   "cell_type": "markdown",
   "metadata": {},
   "source": [
    "<a id = 'model3'></a>"
   ]
  },
  {
   "cell_type": "markdown",
   "metadata": {},
   "source": [
    "[(Back to top)](#top)\n",
    "\n",
    "# Model \\#3"
   ]
  },
  {
   "cell_type": "code",
   "execution_count": null,
   "metadata": {},
   "outputs": [],
   "source": [
    "#Having reorganized the categories\n",
    "#df = copy.deepcopy(df_raw)"
   ]
  },
  {
   "cell_type": "code",
   "execution_count": null,
   "metadata": {},
   "outputs": [],
   "source": []
  },
  {
   "cell_type": "code",
   "execution_count": null,
   "metadata": {},
   "outputs": [],
   "source": []
  },
  {
   "cell_type": "code",
   "execution_count": null,
   "metadata": {},
   "outputs": [],
   "source": []
  },
  {
   "cell_type": "markdown",
   "metadata": {},
   "source": [
    "<a id = 'model4'></a>"
   ]
  },
  {
   "cell_type": "markdown",
   "metadata": {},
   "source": [
    "[(Back to top)](#top)\n",
    "\n",
    "# Model \\#4"
   ]
  },
  {
   "cell_type": "markdown",
   "metadata": {},
   "source": [
    "<a id = 'concl'></a>"
   ]
  },
  {
   "cell_type": "markdown",
   "metadata": {},
   "source": [
    "[(Back to top)](#top)\n",
    "\n",
    "# Conclusions"
   ]
  },
  {
   "cell_type": "code",
   "execution_count": null,
   "metadata": {},
   "outputs": [],
   "source": []
  },
  {
   "cell_type": "code",
   "execution_count": null,
   "metadata": {},
   "outputs": [],
   "source": []
  },
  {
   "cell_type": "code",
   "execution_count": null,
   "metadata": {},
   "outputs": [],
   "source": []
  },
  {
   "cell_type": "code",
   "execution_count": null,
   "metadata": {},
   "outputs": [],
   "source": []
  },
  {
   "cell_type": "code",
   "execution_count": null,
   "metadata": {},
   "outputs": [],
   "source": []
  },
  {
   "cell_type": "code",
   "execution_count": null,
   "metadata": {},
   "outputs": [],
   "source": [
    "#df_raw[df_raw['In English'].str.contains('bake', regex = False, case = False)]\n"
   ]
  }
 ],
 "metadata": {
  "kernelspec": {
   "display_name": "learn-env",
   "language": "python",
   "name": "learn-env"
  },
  "language_info": {
   "codemirror_mode": {
    "name": "ipython",
    "version": 3
   },
   "file_extension": ".py",
   "mimetype": "text/x-python",
   "name": "python",
   "nbconvert_exporter": "python",
   "pygments_lexer": "ipython3",
   "version": "3.6.6"
  }
 },
 "nbformat": 4,
 "nbformat_minor": 2
}
