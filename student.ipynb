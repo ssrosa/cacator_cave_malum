{
 "cells": [
  {
   "cell_type": "markdown",
   "metadata": {},
   "source": [
    "## Final Project Submission\n",
    "\n",
    "Please fill out:\n",
    "* Student name: Steven Rosa\n",
    "* Student pace: part time\n",
    "* Project review date/time: Monday 1 April 2019 11am ET\n",
    "* Instructor name: Jeff Herman\n",
    "* Blog post URL:\n"
   ]
  },
  {
   "cell_type": "markdown",
   "metadata": {},
   "source": [
    "\"Database for The Scratched Voices Begging to be Heard: The Graffiti of Pompeii and Today\"\n",
    "\n",
    "by Alexa Rose\n",
    "\n",
    "https://core.tdar.org/dataset/445837/database-for-the-scratched-voices-begging-to-be-heard-the-graffiti-of-pompeii-and-today\n",
    "\n",
    "To do:\n",
    "\n",
    "- Big pictrue explanation\n",
    "- GraphViz?\n",
    "- SeaBorn confusion matrix\n",
    "- Write up final model for log reg\n",
    "- Examples of each new category to illustrate\n",
    "\n"
   ]
  },
  {
   "cell_type": "markdown",
   "metadata": {},
   "source": [
    "<a id = 'top'></a>"
   ]
  },
  {
   "cell_type": "markdown",
   "metadata": {},
   "source": [
    "# Contents\n",
    "- Libraries\n",
    "- [A first look at the data](#obtain)\n",
    "- [Cleaning the raw data](#scrub)\n",
    "- [Exploratory data analysis](#explore)\n",
    " - [Character count and imperatives](#character_imperative)\n",
    " - [How good are the categories?](#prelim_model)\n",
    " - [Detour: improving the categories](#detour_cat)\n",
    "- Modeling\n",
    " - [Model #1: Logistic Regression](#model1)\n",
    "   - [intercept] \n",
    "   - [Adjusting regularization parameter](#logreg_regparam)\n",
    "   - [Cross validation](#logreg_cv)\n",
    "   - [The final model](#logreg_final)\n",
    " - [Model #2: Decision tree](#model2)\n",
    "   - [Tuning Hyperparameters](#tree_tuning_hypers)\n",
    "   - [Tuning with Grid Search CV](#tree_grid_search)\n",
    "   - [The final model](#tree_final)\n",
    " - [Model #3: Random forest](#model3)\n",
    "   - [Something]\n",
    "   - [Something]\n",
    "   - [The final model](#forest_final)\n",
    "- [Conclusions](#concl)"
   ]
  },
  {
   "cell_type": "markdown",
   "metadata": {},
   "source": [
    "# Libraries"
   ]
  },
  {
   "cell_type": "code",
   "execution_count": 1,
   "metadata": {},
   "outputs": [],
   "source": [
    "import graffiti_functions #Import my custom functions\n",
    "from graffiti_functions import plot_conf_matrix, keyword_matrix, write, hyper, compare_hypers, plot_hypers, draw_graph \n",
    "import pandas as pd #For working with DataFrames\n",
    "import matplotlib.pyplot as plt #For visualizing plots\n",
    "import numpy as np #For mathematical operations\n",
    "import random                   #for generating random numbers for train/test split\n",
    "import copy                     #for making deep copies of mutable objects\n",
    "import time                     #for timing expensive operations\n",
    "from pandasql import sqldf #for manipulating DataFrames with SQL style queries\n",
    "\n",
    "#############################\n",
    "# PREPARING DATA FOR MODELING:\n",
    "#To divide data when testing a trained model\n",
    "from sklearn.model_selection import train_test_split \n",
    "#For scaling/normalizing, and for LabelEncoder and OneHotEncoder\n",
    "from sklearn import preprocessing\n",
    "#To turn categorical columns into sets of numerical columns\n",
    "from sklearn.preprocessing import LabelEncoder\n",
    "from sklearn.preprocessing import OneHotEncoder\n",
    "\n",
    "#####################\n",
    "# LOGISTIC REGRESSION:\n",
    "#To build regular logistic regression models\n",
    "from sklearn.linear_model import LogisticRegression\n",
    "#To build LRs with cross validation\n",
    "from sklearn.linear_model import LogisticRegressionCV\n",
    "\n",
    "################\n",
    "# DECISION TREES:\n",
    "#For building decision trees\n",
    "from sklearn.tree import DecisionTreeClassifier \n",
    "from sklearn import tree \n",
    "#To find best combination of hyperparameters in decision trees\n",
    "from sklearn.model_selection import GridSearchCV\n",
    "#To evaluate accuracy of decision trees\n",
    "from sklearn.model_selection import cross_val_score\n",
    "\n",
    "##################\n",
    "# RANDOM FORESTS:\n",
    "from sklearn.ensemble import BaggingClassifier, RandomForestClassifier\n",
    "\n",
    "###################\n",
    "# ASSESSING MODELS:\n",
    "#To assess accuracy of logistic regression or decision trees\n",
    "from sklearn.metrics import confusion_matrix \n",
    "#To iteratively append labels to cells in a confusion matrix\n",
    "import itertools \n",
    "#To get accuracy, precision, recall, and F1 score (weighted accuracy) of a given confusion matrix\n",
    "from sklearn.metrics import accuracy_score, precision_score, recall_score, f1_score\n",
    "#To view the accuracy metrics for a given confusion matrix\n",
    "from sklearn.metrics import classification_report"
   ]
  },
  {
   "cell_type": "code",
   "execution_count": null,
   "metadata": {},
   "outputs": [],
   "source": [
    "#Thing for separating values by hyphen slash etc\n",
    "\n"
   ]
  },
  {
   "cell_type": "code",
   "execution_count": null,
   "metadata": {},
   "outputs": [],
   "source": [
    "#Thing for getting indexes and filling values maybe\n",
    "\n"
   ]
  },
  {
   "cell_type": "markdown",
   "metadata": {},
   "source": [
    "<a id = 'obtain'></a>"
   ]
  },
  {
   "cell_type": "markdown",
   "metadata": {},
   "source": [
    "[(Back to top)](#top)\n",
    "\n",
    "# A first look at the data"
   ]
  },
  {
   "cell_type": "code",
   "execution_count": 2,
   "metadata": {},
   "outputs": [],
   "source": [
    "#Obtain the raw data\n",
    "df_raw = pd.read_csv('graffiti.csv')"
   ]
  },
  {
   "cell_type": "code",
   "execution_count": null,
   "metadata": {},
   "outputs": [],
   "source": [
    "df_raw.head(20)"
   ]
  },
  {
   "cell_type": "code",
   "execution_count": null,
   "metadata": {},
   "outputs": [],
   "source": [
    "df_raw.info()"
   ]
  },
  {
   "cell_type": "markdown",
   "metadata": {},
   "source": [
    "Columns to drop:\n",
    "\n",
    "'found'\n",
    "'org'?\n",
    "'comments'?\n",
    "\n",
    "Change 'Literacy' to integer before categorizing. Rename column.\n",
    "\n",
    "Rename 'Image ' as 'Image'.\n",
    "\n",
    "Categorical variables to transform: Reggio, Insula, Literacy, Context type specific, Context type general, Famous House (?), Socio-economic status\n",
    "\n",
    "\n",
    "Null values to fill: Reggio, Insula, Entrance, Context type specific, Context type general, Famous House,\n",
    "\n",
    "Target: 'Category'"
   ]
  },
  {
   "cell_type": "markdown",
   "metadata": {},
   "source": [
    "<a id = 'scrub'></a>"
   ]
  },
  {
   "cell_type": "markdown",
   "metadata": {},
   "source": [
    "[(Back to top)](#top)\n",
    "\n",
    "# Cleaning the data"
   ]
  },
  {
   "cell_type": "markdown",
   "metadata": {},
   "source": [
    "## Column by column"
   ]
  },
  {
   "cell_type": "markdown",
   "metadata": {},
   "source": [
    "### 'CIL IV Pound sign'"
   ]
  },
  {
   "cell_type": "code",
   "execution_count": 3,
   "metadata": {},
   "outputs": [],
   "source": [
    "df_raw['CIL IV #'] = df_raw['CIL IV #'].fillna(0)"
   ]
  },
  {
   "cell_type": "markdown",
   "metadata": {},
   "source": [
    "### 'Reggio'"
   ]
  },
  {
   "cell_type": "code",
   "execution_count": null,
   "metadata": {},
   "outputs": [],
   "source": [
    "df_raw['Reggio'].value_counts()"
   ]
  },
  {
   "cell_type": "code",
   "execution_count": null,
   "metadata": {},
   "outputs": [],
   "source": [
    "print(df_raw['Reggio'].isna().sum())"
   ]
  },
  {
   "cell_type": "code",
   "execution_count": 4,
   "metadata": {},
   "outputs": [],
   "source": [
    "#Fill NaN values\n",
    "df_raw['Reggio'] = df_raw['Reggio'].fillna(0)\n",
    "#Change 6_7 to 6\n",
    "df_raw.at[994, 'Reggio'] = '6'\n",
    "#Change data type to integer\n",
    "df_raw['Reggio'] = df_raw['Reggio'].astype('float').astype('int')"
   ]
  },
  {
   "cell_type": "markdown",
   "metadata": {},
   "source": [
    "Zero values can be filled later once more is known about the reggios."
   ]
  },
  {
   "cell_type": "markdown",
   "metadata": {},
   "source": [
    "### 'Insula'"
   ]
  },
  {
   "cell_type": "code",
   "execution_count": null,
   "metadata": {},
   "outputs": [],
   "source": [
    "df_raw['Insula'].value_counts()"
   ]
  },
  {
   "cell_type": "code",
   "execution_count": null,
   "metadata": {},
   "outputs": [],
   "source": [
    "df_raw['Insula'].isna().sum()"
   ]
  },
  {
   "cell_type": "code",
   "execution_count": 5,
   "metadata": {},
   "outputs": [],
   "source": [
    "#Fill null values\n",
    "df_raw['Insula'] = df_raw['Insula'].fillna(0)\n",
    "\n",
    "#Replace the values with underscores\n",
    "df_raw.at[985, 'Insula'] = '4'\n",
    "df_raw.at[986, 'Insula'] = '4'\n",
    "df_raw.at[983, 'Insula'] = '4'\n",
    "df_raw.at[984, 'Insula'] = '4'\n",
    "df_raw.at[988, 'Insula'] = '9'\n",
    "df_raw.at[987, 'Insula'] = '8'\n",
    "df_raw.at[982, 'Insula'] = '12'\n",
    "df_raw.at[981, 'Insula'] = '1'\n",
    "\n",
    "#Change data type to intger\n",
    "df_raw['Insula'] = df_raw['Insula'].astype('float').astype('int')"
   ]
  },
  {
   "cell_type": "markdown",
   "metadata": {},
   "source": [
    "### 'Entrance'"
   ]
  },
  {
   "cell_type": "code",
   "execution_count": null,
   "metadata": {},
   "outputs": [],
   "source": [
    "df_raw['Entrance'].value_counts()"
   ]
  },
  {
   "cell_type": "code",
   "execution_count": 6,
   "metadata": {},
   "outputs": [],
   "source": [
    "#Fill null values\n",
    "df_raw['Entrance'] = df_raw['Entrance'].fillna('unknown')\n",
    "\n",
    "#Replace all values with underscores or hyphens\n",
    "#Dict to fill values from 'Entrance'\n",
    "entrance_replacements = dict()\n",
    "entrance_values = df_raw['Entrance'].value_counts()\n",
    "\n",
    "#Iterate over Entrance values to look for underscore and hyphen\n",
    "#Make a dict with values to replace the _/- values in the dataframe\n",
    "#I'm choosing to take the first numerical value from each pair\n",
    "for index in entrance_values.index:\n",
    "        if '_' in index:\n",
    "            index_split = index.split('_')\n",
    "            entrance_replacements[index] = index_split[0]\n",
    "        elif '-' in index:\n",
    "            index_split = index.split('-')\n",
    "            entrance_replacements[index] = index_split[0]\n",
    "            \n",
    "df_raw['Entrance'] = df_raw['Entrance'].replace(entrance_replacements)\n",
    "\n",
    "#Change 'F' to 'f'\n",
    "df_raw.at[661, 'Entrance'] = df_raw.at[661, 'Entrance'].lower()\n",
    "#Change '4/5/' to '4'\n",
    "df_raw.at[6, 'Entrance'] = '4'\n",
    "#Replace 'I' and '?'\n",
    "df_raw['Entrance'] = df_raw['Entrance'].replace({'I': 'i', '?': 'unknown'})"
   ]
  },
  {
   "cell_type": "markdown",
   "metadata": {},
   "source": [
    "This is better, but it may have to be categorized."
   ]
  },
  {
   "cell_type": "markdown",
   "metadata": {},
   "source": [
    "### 'found?'"
   ]
  },
  {
   "cell_type": "code",
   "execution_count": null,
   "metadata": {},
   "outputs": [],
   "source": [
    "df_raw['found?'].isna().sum()"
   ]
  },
  {
   "cell_type": "code",
   "execution_count": 7,
   "metadata": {},
   "outputs": [],
   "source": [
    "#Can just be dropped\n",
    "df_raw.drop(['found?'], axis = 1, inplace = True)"
   ]
  },
  {
   "cell_type": "markdown",
   "metadata": {},
   "source": [
    "### 'In English'"
   ]
  },
  {
   "cell_type": "code",
   "execution_count": null,
   "metadata": {},
   "outputs": [],
   "source": [
    "df_raw['In English'].isna().sum()"
   ]
  },
  {
   "cell_type": "code",
   "execution_count": 8,
   "metadata": {},
   "outputs": [],
   "source": [
    "#Fill nulls so that they can be read\n",
    "df_raw['In English'] = df_raw['In English'].fillna('')\n",
    "\n",
    "#Rows with null values or unhelpful 'CHECK' values\n",
    "blank_indexes = df_raw.index[df_raw['In English'] == '']\n",
    "check_indexes = df_raw.index[df_raw['In English'] == '[CHECK]']\n",
    "\n",
    "#Drop the empty rows. They aren't useful if they don't have the English text of the graffiti.\n",
    "df_raw.drop(blank_indexes, inplace = True)\n",
    "df_raw.drop(check_indexes, inplace = True)"
   ]
  },
  {
   "cell_type": "markdown",
   "metadata": {},
   "source": [
    "### 'org. '"
   ]
  },
  {
   "cell_type": "code",
   "execution_count": null,
   "metadata": {},
   "outputs": [],
   "source": [
    "df_raw['org. '].value_counts()[:10]"
   ]
  },
  {
   "cell_type": "code",
   "execution_count": 9,
   "metadata": {},
   "outputs": [],
   "source": [
    "#Won't be useful here. Can be dropped.\n",
    "df_raw.drop(['org. '], axis = 1, inplace = True)"
   ]
  },
  {
   "cell_type": "markdown",
   "metadata": {},
   "source": [
    "### 'Literacy'"
   ]
  },
  {
   "cell_type": "code",
   "execution_count": null,
   "metadata": {},
   "outputs": [],
   "source": [
    "df_raw['Literacy (1-3)'].value_counts()"
   ]
  },
  {
   "cell_type": "code",
   "execution_count": null,
   "metadata": {},
   "outputs": [],
   "source": [
    "df_raw['Literacy (1-3)'].isna().sum()"
   ]
  },
  {
   "cell_type": "code",
   "execution_count": 10,
   "metadata": {},
   "outputs": [],
   "source": [
    "#Rename column\n",
    "df_raw = df_raw.rename(index=str, columns = {'Literacy (1-3)': 'Literacy'})\n",
    "\n",
    "#Turn the few 1 values into 2s.\n",
    "df_raw['Literacy'] = df_raw['Literacy'].replace({1.0: 2})\n",
    "\n",
    "#Fill nulls\n",
    "df_raw['Literacy'] = df_raw['Literacy'].fillna(2)\n",
    "\n",
    "#Turn floats into integers\n",
    "df_raw['Literacy'] = df_raw['Literacy'].astype('float').astype('int')"
   ]
  },
  {
   "cell_type": "markdown",
   "metadata": {},
   "source": [
    "### 'In org. language'"
   ]
  },
  {
   "cell_type": "code",
   "execution_count": null,
   "metadata": {
    "scrolled": true
   },
   "outputs": [],
   "source": [
    "df_raw['In org. language'].value_counts().sum()"
   ]
  },
  {
   "cell_type": "code",
   "execution_count": 11,
   "metadata": {},
   "outputs": [],
   "source": [
    "#Dropping for now\n",
    "df_raw.drop(['In org. language'], axis = 1, inplace = True)"
   ]
  },
  {
   "cell_type": "markdown",
   "metadata": {},
   "source": [
    "Not sure what to do with this at this point."
   ]
  },
  {
   "cell_type": "markdown",
   "metadata": {},
   "source": [
    "### 'Context type general'"
   ]
  },
  {
   "cell_type": "code",
   "execution_count": null,
   "metadata": {},
   "outputs": [],
   "source": [
    "df_raw['Context type general'].value_counts()"
   ]
  },
  {
   "cell_type": "code",
   "execution_count": null,
   "metadata": {},
   "outputs": [],
   "source": [
    "df_raw['Context type general'].isna().sum()"
   ]
  },
  {
   "cell_type": "code",
   "execution_count": 12,
   "metadata": {},
   "outputs": [],
   "source": [
    "# No specific, no general, no reggio, insula\n",
    "no_spec_no_gen = df_raw[df_raw['Context type specific'].isna() & df_raw['Context type general'].isna()]\n",
    "\n",
    "no_spec_no_gen[(no_spec_no_gen['Reggio'] == 0) & (no_spec_no_gen['Insula'] == 0)].shape\n",
    "\n",
    "#Must drop the 43 rows that don't have a reggio, insula, specfic context or general context\n",
    "to_drop = no_spec_no_gen[(no_spec_no_gen['Reggio'] == 0) & (no_spec_no_gen['Insula'] == 0)]\n",
    "df_raw.drop(to_drop.index, axis = 0, inplace = True)\n",
    "\n",
    "#Maybe famous house can fill in for general context where it's missing?\n",
    "famoushouse_nogen = df_raw[\n",
    "    (df_raw['Famous House'].notna())\n",
    "    & \n",
    "    (df_raw['Context type general'].isna())]\n",
    "\n",
    "#Get indexes of all rows without a gen context but with a famous house\n",
    "indexes = famoushouse_nogen.index\n",
    "\n",
    "famoushouse_gencontexts = {\n",
    "    'Praedia ': 'building',\n",
    "    'Basilica': 'basilica',\n",
    "    'House of': 'house',\n",
    "    'house of': 'house',\n",
    "    'Villa of': 'house',\n",
    "    'Building': 'building',\n",
    "    'near the Porta Vesuvio': 'necropolis',\n",
    "    'Workshop': 'workshop'\n",
    "}\n",
    "\n",
    "#Replace gen context with the building type from its famous house\n",
    "#Iterate over all the rows which have a famous house but lack a gen context\n",
    "for index in indexes:\n",
    "    #Iterate over the keys of famous houses\n",
    "    for key, val in famoushouse_gencontexts.items():\n",
    "        #If the row's famous house matches one from the dict\n",
    "        if key in df_raw.at[index, 'Famous House']:\n",
    "            #Fill missing gen context value with value from dict\n",
    "            df_raw.at[index, 'Context type general'] = val\n",
    "            \n",
    "#Noticed that Bar of Sotericus has gen context of \"house\"\n",
    "indexes = df_raw[df_raw['Famous House'] == 'Bar of Sotericus']['Context type general']\n",
    "#Replace 'house' with 'bar' for these\n",
    "for index in indexes.index:\n",
    "    df_raw.at[index, 'Context type general'] = 'bar'\n",
    "    \n",
    "#Noticed that 'Outside Porta Marina' had two NaN gen contexts to fix\n",
    "#Will drop these because they're missing too many columns\n",
    "df_raw.drop(['997', '998'], axis = 0, inplace = True)\n",
    "\n",
    "#change all building types for spec context \"workshop\" to gen context \"workshop\"\n",
    "indexes = df_raw[df_raw['Context type specific'] == 'workshop']\n",
    "for index in indexes.index:\n",
    "    df_raw.at[index, 'Context type general'] = 'workshop'\n",
    "\n",
    "#Same for 'Workshop'\n",
    "indexes = df_raw[df_raw['Context type specific'] == 'Workshop']\n",
    "for index in indexes.index:\n",
    "    df_raw.at[index, 'Context type general'] = 'workshop'\n",
    "\n",
    "#Specific context \"dining room\" to general context \"house\"\n",
    "indexes = df_raw[\n",
    "    (df_raw['Context type specific'] == 'dining room')\n",
    "    & \n",
    "    (df_raw['Context type general'].isna())]\n",
    "for index in indexes.index:\n",
    "    df_raw.at[index, 'Context type general'] = 'house'\n",
    "\n",
    "#Spec context \"shop\" to general context \"shop\"\n",
    "indexes = df_raw[\n",
    "    (df_raw['Context type specific'] == 'shop')\n",
    "    & \n",
    "    (df_raw['Context type general'].isna())]\n",
    "for index in indexes.index:\n",
    "    df_raw.at[index, 'Context type general'] = 'shop'\n",
    "    \n",
    "#Spec context \"kitchen\" to general context \"house\"    \n",
    "indexes = df_raw[\n",
    "    (df_raw['Context type specific'] == 'kitchen')\n",
    "    & \n",
    "    (df_raw['Context type general'].isna())]\n",
    "for index in indexes.index:\n",
    "    df_raw.at[index, 'Context type general'] = 'house'    \n",
    "    \n",
    "#Add consistency to a few of the values\n",
    "replacements = {'Baths': 'baths',\n",
    "                'unit': 'apartment'}\n",
    "df_raw['Context type general'] = df_raw['Context type general'].replace(replacements)\n",
    "\n",
    "#Fill null values\n",
    "df_raw['Context type general'] = df_raw['Context type general'].fillna('unknown')\n",
    "\n",
    "#Changing the name of the column\n",
    "df_raw = df_raw.rename(index=str, columns ={\n",
    "              'Context type general': 'Building Type'})"
   ]
  },
  {
   "cell_type": "markdown",
   "metadata": {},
   "source": [
    "### 'Context type specific'"
   ]
  },
  {
   "cell_type": "code",
   "execution_count": null,
   "metadata": {},
   "outputs": [],
   "source": [
    "df_raw['Context type specific'].value_counts()"
   ]
  },
  {
   "cell_type": "code",
   "execution_count": 13,
   "metadata": {},
   "outputs": [],
   "source": [
    "#Add consistency to values\n",
    "replacements = {'façade': 'facade',\n",
    "                'tablinium': 'tablinum',\n",
    "                'Workshop': 'workshop'\n",
    "                }\n",
    "\n",
    "df_raw['Context type specific'] = df_raw['Context type specific'].replace(replacements)\n",
    "\n",
    "#Fill null values\n",
    "df_raw['Context type specific'] = df_raw['Context type specific'].fillna('unknown')\n",
    "\n",
    "#Rename column\n",
    "df_raw = df_raw.rename(index=str, columns ={'Context type specific': 'Position'})"
   ]
  },
  {
   "cell_type": "markdown",
   "metadata": {},
   "source": [
    "### 'Famous House'"
   ]
  },
  {
   "cell_type": "code",
   "execution_count": null,
   "metadata": {
    "scrolled": true
   },
   "outputs": [],
   "source": [
    "df_raw['Famous House'].value_counts()[60:90]"
   ]
  },
  {
   "cell_type": "code",
   "execution_count": null,
   "metadata": {
    "scrolled": true
   },
   "outputs": [],
   "source": [
    "df_raw['Famous House'].isna().sum()"
   ]
  },
  {
   "cell_type": "code",
   "execution_count": 14,
   "metadata": {},
   "outputs": [],
   "source": [
    "#Turn this column into a 0/1 for no/yes\n",
    "indexes = df_raw[df_raw['Famous House'].notna()]\n",
    "\n",
    "for index in indexes.index:\n",
    "    df_raw.at[index, 'Famous House'] = 1\n",
    "    \n",
    "df_raw['Famous House'] = df_raw['Famous House'].fillna(0)\n",
    "\n",
    "df_raw['Famous House'] = df_raw['Famous House'].astype('int')"
   ]
  },
  {
   "cell_type": "markdown",
   "metadata": {},
   "source": [
    "### Target: 'Category'"
   ]
  },
  {
   "cell_type": "code",
   "execution_count": null,
   "metadata": {},
   "outputs": [],
   "source": [
    "df_raw['Category'].value_counts()"
   ]
  },
  {
   "cell_type": "code",
   "execution_count": 15,
   "metadata": {},
   "outputs": [],
   "source": [
    "#Replace all values with back slashes\n",
    "#Dict to fill values from 'Category'\n",
    "cat_replacements = dict()\n",
    "cat_values = df_raw['Category'].value_counts()\n",
    "\n",
    "#Iterate over Category values to look for underscore and hyphen\n",
    "#Make a dict with values to replace the _/- values in the dataframe\n",
    "#I'm choosing to take the first value from each pair\n",
    "for index in cat_values.index:\n",
    "        if '/' in index:\n",
    "            index_split = index.split('/')\n",
    "            cat_replacements[index] = index_split[0]\n",
    "            \n",
    "df_raw['Category'] = df_raw['Category'].replace(cat_replacements)\n",
    "\n",
    "#This creates one instance of 'Political' with a space\n",
    "df_raw['Category'] = df_raw['Category'].replace({'Political ': 'Political'})\n",
    "\n",
    "#Fill null values\n",
    "df_raw['Category'] = df_raw['Category'].fillna('unknown')"
   ]
  },
  {
   "cell_type": "markdown",
   "metadata": {},
   "source": [
    "### 'Written by'"
   ]
  },
  {
   "cell_type": "code",
   "execution_count": null,
   "metadata": {},
   "outputs": [],
   "source": [
    "df_raw['Written by'].value_counts()"
   ]
  },
  {
   "cell_type": "code",
   "execution_count": 16,
   "metadata": {},
   "outputs": [],
   "source": [
    "#Fill null values first so str.contains can be used\n",
    "df_raw['Written by'] = df_raw['Written by'].fillna('unknown')\n",
    "\n",
    "#Clean up instances of ovid\n",
    "ovids = df_raw[df_raw['Written by'].str.contains('Ovid', regex = False, case = False)]\n",
    "for index in ovids.index:\n",
    "    df_raw.at[index, 'Written by'] = 'Ovid'\n",
    "\n",
    "#Clean up instances of virgil    \n",
    "virgils = df_raw[df_raw['Written by'].str.contains('rgil', regex = False, case = False)]\n",
    "for index in virgils.index:\n",
    "    df_raw.at[index, 'Written by'] = 'Virgil'\n",
    "\n",
    "#People who look like real writers as taken from value_counts    \n",
    "writers = ['Antheros', 'Ennius', 'Epaphra', \n",
    "           'Virgil', 'Horace', 'Homer', \n",
    "           'Herodotus', 'Lucretius', 'Menander',\n",
    "           'Ovid', 'poem', 'Propertius',\n",
    "           'Salvius', 'Senica', 'Tibutinus']\n",
    "                \n",
    "#Iterate over all rows to replace values with 1 for a writer\n",
    "#or zero for no writer\n",
    "for index in df_raw.index:\n",
    "    if any(writer in df_raw.at[index, 'Written by'] for writer in writers):\n",
    "        df_raw.at[index, 'Written by'] = 1\n",
    "    else:\n",
    "        df_raw.at[index, 'Written by'] = 0\n",
    "        \n",
    "#Change name of column to 'Writer'\n",
    "df_raw = df_raw.rename(index=str, columns ={'Written by': 'Writer'})"
   ]
  },
  {
   "cell_type": "markdown",
   "metadata": {},
   "source": [
    "### 'Work', 'Meter', and 'Reptition'"
   ]
  },
  {
   "cell_type": "code",
   "execution_count": 17,
   "metadata": {},
   "outputs": [],
   "source": [
    "#Change 'Work' to 0/1 no/yes\n",
    "indexes = df_raw[df_raw['Work'].notna()]\n",
    "for index in indexes.index:\n",
    "    df_raw.at[index, 'Work'] = 1    \n",
    "df_raw['Work'] = df_raw['Work'].fillna(0)\n",
    "\n",
    "\n",
    "#Change meter to 0/1 no/yes  \n",
    "indexes = df_raw[df_raw['Meter'].notna()]\n",
    "for index in indexes.index:\n",
    "    df_raw.at[index, 'Meter'] = 1    \n",
    "df_raw['Meter'] = df_raw['Meter'].fillna(0)  \n",
    "\n",
    "#Smush together Writer Work and Meter\n",
    "indexes = df_raw[(df_raw['Writer'] == 0)\n",
    "        &\n",
    "        (\n",
    "            (df_raw['Work'] == 1) \n",
    "            | \n",
    "            (df_raw['Meter'] == 1)\n",
    "        )]\n",
    "\n",
    "for index in indexes.index:\n",
    "    df_raw.at[index, 'Writer'] = 1\n",
    "    \n",
    "#Reassign the category for these smushed together \n",
    "indexes = df_raw[df_raw['Writer'] == 1]\n",
    "\n",
    "for index in indexes.index:\n",
    "    df_raw.at[index, 'Category'] = 'Reference'\n",
    "\n",
    "#Reset data type for Writer to int    \n",
    "df_raw['Writer'] = df_raw['Writer'].astype('int')\n",
    "\n",
    "#Meter, Work and Repetition can be dropped\n",
    "df_raw.drop(['Meter', 'Work', 'Repetition'], axis = 1, inplace = True)"
   ]
  },
  {
   "cell_type": "markdown",
   "metadata": {},
   "source": [
    "### 'Foreign language'"
   ]
  },
  {
   "cell_type": "code",
   "execution_count": null,
   "metadata": {},
   "outputs": [],
   "source": [
    "df_raw['Foreign language'].value_counts()"
   ]
  },
  {
   "cell_type": "code",
   "execution_count": null,
   "metadata": {},
   "outputs": [],
   "source": [
    "df_raw['Foreign language'].isna().sum()"
   ]
  },
  {
   "cell_type": "code",
   "execution_count": 18,
   "metadata": {},
   "outputs": [],
   "source": [
    "#Can be dropped\n",
    "df_raw.drop(['Foreign language'], axis = 1, inplace = True)"
   ]
  },
  {
   "cell_type": "markdown",
   "metadata": {},
   "source": [
    "### 'Image '"
   ]
  },
  {
   "cell_type": "code",
   "execution_count": 19,
   "metadata": {},
   "outputs": [],
   "source": [
    "#Get rid of the annoying space in the name\n",
    "df_raw = df_raw.rename(index=str, columns = {'Image ': 'Image'})\n",
    "\n",
    "#Fill nulls first so str.contains can be used\n",
    "df_raw['Image'] = df_raw['Image'].fillna('none')\n",
    "\n",
    "#Get all rows with gladiator in the image description\n",
    "gladiators = df_raw[df_raw['Image'].str.contains('gladiator', regex = False, case = False)]\n",
    "\n",
    "for index in gladiators.index:\n",
    "    df_raw.at[index, 'Category'] = 'Violence'\n",
    "    \n",
    "#Drop the column\n",
    "df_raw.drop(['Image'], axis = 1, inplace = True)"
   ]
  },
  {
   "cell_type": "markdown",
   "metadata": {},
   "source": [
    "### 'Flohr Score'"
   ]
  },
  {
   "cell_type": "code",
   "execution_count": null,
   "metadata": {},
   "outputs": [],
   "source": [
    "df_raw['Flohr Score'].value_counts()"
   ]
  },
  {
   "cell_type": "code",
   "execution_count": 20,
   "metadata": {},
   "outputs": [],
   "source": [
    "#Replace all values with hyphens.\n",
    "#Dict to fill values from 'Flohr Score'\n",
    "flohr_replacements = dict()\n",
    "flohr_values = df_raw['Flohr Score'].value_counts()\n",
    "\n",
    "#Iterate over values to look for hyphen\n",
    "#Make a dict with values to replace the - values in the dataframe\n",
    "#I'm choosing to take the first numerical value from each pair\n",
    "for index in flohr_values.index:\n",
    "        if '-' in index:\n",
    "            index_split = index.split('-')\n",
    "            flohr_replacements[index] = index_split[0]\n",
    "            \n",
    "df_raw['Flohr Score'] = df_raw['Flohr Score'].replace(flohr_replacements)\n",
    "\n",
    "#Get indexes for empty Flohr scores at each SES level\n",
    "low = df_raw[\n",
    "        (df_raw['Socio-economic status'] == 'low')\n",
    "        &\n",
    "        (df_raw['Flohr Score'].isna())   ]\n",
    "med = df_raw[\n",
    "        (df_raw['Socio-economic status'] == 'medium')\n",
    "        &\n",
    "        (df_raw['Flohr Score'].isna())]\n",
    "high = df_raw[\n",
    "        (df_raw['Socio-economic status'] == 'high')\n",
    "        &\n",
    "        (df_raw['Flohr Score'].isna())]\n",
    "\n",
    "#Then fill null values with zeros so that means can be taken\n",
    "df_raw['Flohr Score'] = df_raw['Flohr Score'].fillna(0.0)\n",
    "\n",
    "#Change strings to floats\n",
    "df_raw['Flohr Score'] = df_raw['Flohr Score'].astype('float')\n",
    "\n",
    "#Get the average Flohr score for low SES rows\n",
    "low_avg = np.array(df_raw['Flohr Score'][df_raw['Socio-economic status'] == 'low']).mean()\n",
    "#Get the average Flohr score for medium SES rows\n",
    "med_avg = np.array(df_raw['Flohr Score'][df_raw['Socio-economic status'] == 'medium']).mean()\n",
    "#Get the average Flohr score high SES rows\n",
    "high_avg = np.array(df_raw['Flohr Score'][df_raw['Socio-economic status'] == 'high']).mean()\n",
    "\n",
    "#Update the FLohr score for low SES rows\n",
    "for index in low.index:\n",
    "    df_raw.at[index, 'Flohr Score'] = low_avg\n",
    "#Update the FLohr score for medium SES rows\n",
    "for index in med.index:\n",
    "    df_raw.at[index, 'Flohr Score'] = med_avg\n",
    "#Update the FLohr score for high SES rows\n",
    "for index in high.index:\n",
    "    df_raw.at[index, 'Flohr Score'] = high_avg"
   ]
  },
  {
   "cell_type": "markdown",
   "metadata": {},
   "source": [
    "### 'Socio-economic status'"
   ]
  },
  {
   "cell_type": "code",
   "execution_count": null,
   "metadata": {},
   "outputs": [],
   "source": [
    "df_raw['Socio-economic status'].value_counts()"
   ]
  },
  {
   "cell_type": "code",
   "execution_count": 21,
   "metadata": {},
   "outputs": [],
   "source": [
    "df_raw['Socio-economic status'] = df_raw['Socio-economic status'].fillna('medium')"
   ]
  },
  {
   "cell_type": "markdown",
   "metadata": {},
   "source": [
    "### 'comments'"
   ]
  },
  {
   "cell_type": "code",
   "execution_count": null,
   "metadata": {},
   "outputs": [],
   "source": [
    "df_raw['comments'].value_counts()\n"
   ]
  },
  {
   "cell_type": "code",
   "execution_count": 22,
   "metadata": {},
   "outputs": [],
   "source": [
    "#interesting, further investigation could lead ot help with categorizing, but will drop for now\n",
    "df_raw.drop(['comments'], axis = 1, inplace = True)"
   ]
  },
  {
   "cell_type": "markdown",
   "metadata": {},
   "source": [
    "<a id = 'explore'></a>"
   ]
  },
  {
   "cell_type": "markdown",
   "metadata": {},
   "source": [
    "[(Back to top)](#top)\n",
    "\n",
    "# Exploratory data analysis"
   ]
  },
  {
   "cell_type": "markdown",
   "metadata": {},
   "source": [
    "What is a reggio?\n",
    "\n",
    "What is an insula?\n",
    "\n",
    "From https://sites.google.com/site/ad79eruption/pompeii/map-of-pompeii\n",
    "\n",
    "\"Pompeii, however, has an additional level of numbering. It has been divided firstly into 9 regions (Regio), numbered in Roman numerals. Each of these regions contains several Insulae which are numbered 1, 2 3, etc. As with Herculaneum, each building within an insula has its own entrance number, again numbered 1, 2, 3 etc. For example, the House of Trebius Valens is labelled (Reg III, Ins 2, 1).\""
   ]
  },
  {
   "cell_type": "code",
   "execution_count": null,
   "metadata": {
    "scrolled": true
   },
   "outputs": [],
   "source": [
    "df_raw['Category'].value_counts()"
   ]
  },
  {
   "cell_type": "markdown",
   "metadata": {},
   "source": [
    "<a id = 'character_imperative'></a>"
   ]
  },
  {
   "cell_type": "markdown",
   "metadata": {},
   "source": [
    "### Adding a character count and imperative column\n",
    "\n",
    "'Characters' will measure the length of the text of each graffito in English. 'Imperative' will count whether it has exclamation points or not."
   ]
  },
  {
   "cell_type": "code",
   "execution_count": 23,
   "metadata": {},
   "outputs": [],
   "source": [
    "#Create Characters and Imperative columns\n",
    "for index in df_raw.index:\n",
    "    df_raw.at[index, 'Characters'] = len(df_raw.at[index, 'In English'])\n",
    "    if '!' in df_raw.at[index, 'In English']:\n",
    "        df_raw.at[index, 'Imperative'] = 1\n",
    "    else: \n",
    "        df_raw.at[index, 'Imperative'] = 0\n",
    "df_raw['Characters'] = df_raw['Characters'].astype('int')\n",
    "df_raw['Imperative'] = df_raw['Imperative'].astype('int')"
   ]
  },
  {
   "cell_type": "markdown",
   "metadata": {},
   "source": [
    "<a id = 'prelim_model'></a>"
   ]
  },
  {
   "cell_type": "markdown",
   "metadata": {},
   "source": [
    "### How good are the categories? Testing with a preliminary model: plain vanilla logistic regression\n",
    "\n",
    "The data cleaning process made me suspicious that the given categories of the data aren't going to allow for good models. Let's build a plain vanilla logistic regression to see."
   ]
  },
  {
   "cell_type": "code",
   "execution_count": 24,
   "metadata": {
    "scrolled": true
   },
   "outputs": [],
   "source": [
    "#Prepare the data and build a logistic regression classifier.\n",
    "\n",
    "df = copy.deepcopy(df_raw)\n",
    "\n",
    "#Make categories\n",
    "df['Literacy'] = df['Literacy'].astype('category')\n",
    "df['Position'] = df['Position'].astype('category')\n",
    "df['Building Type'] = df['Building Type'].astype('category')\n",
    "df['Famous House'] = df['Famous House'].astype('bool').astype('category')\n",
    "df['Socio-economic status'] = df['Socio-economic status'].astype('category')\n",
    "df['Writer'] = df['Writer'].astype('bool').astype('category')\n",
    "df['Category'] = df['Category'].astype('category')\n",
    "df['Imperative'] = df['Imperative'].astype('bool').astype('category')\n",
    "\n",
    "#Continuous data: 'Reggio', 'Insula', 'Characters', 'Flohr Score'\n",
    "\n",
    "#Get dummies\n",
    "literacy_dummies = pd.get_dummies(df['Literacy'], prefix = 'Literacy')\n",
    "position_dummies = pd.get_dummies(df['Position'], prefix = 'Position')\n",
    "build_type_dummies = pd.get_dummies(df['Building Type'], prefix = 'Building_Type')\n",
    "famous_dummies = pd.get_dummies(df['Famous House'], prefix = 'Famous')\n",
    "econ_status_dummies = pd.get_dummies(df['Socio-economic status'], prefix = 'Econ_Status')\n",
    "writer_dummies = pd.get_dummies(df['Writer'], prefix = 'Writer')\n",
    "imperative_dummies = pd.get_dummies(df['Imperative'], prefix = 'Imperative')\n",
    "\n",
    "X = df.drop(['CIL IV #', 'Entrance', 'Literacy', 'In English', \n",
    "             'Position', 'Building Type', \n",
    "             'Famous House', 'Category', 'Socio-economic status',\n",
    "             'Writer', 'Imperative'\n",
    "            ], axis = 1)\n",
    "X = pd.concat([X, literacy_dummies, position_dummies, build_type_dummies, \n",
    "               famous_dummies, econ_status_dummies, writer_dummies,\n",
    "             imperative_dummies\n",
    "              ], axis = 1)\n",
    "\n",
    "y = df['Category']\n",
    "\n",
    "#Create a train/test split\n",
    "X_train, X_test, y_train, y_test = train_test_split(X, y, random_state=12)\n",
    "#print(y_train.value_counts(),'\\n', y_test.value_counts())\n",
    "\n",
    "#Build a logistic regression model\n",
    "logreg = LogisticRegression(fit_intercept=False, C=1e16)"
   ]
  },
  {
   "cell_type": "code",
   "execution_count": 25,
   "metadata": {},
   "outputs": [
    {
     "name": "stderr",
     "output_type": "stream",
     "text": [
      "/Users/ssrosa/anaconda3/envs/learn-env/lib/python3.6/site-packages/sklearn/linear_model/logistic.py:433: FutureWarning: Default solver will be changed to 'lbfgs' in 0.22. Specify a solver to silence this warning.\n",
      "  FutureWarning)\n",
      "/Users/ssrosa/anaconda3/envs/learn-env/lib/python3.6/site-packages/sklearn/linear_model/logistic.py:460: FutureWarning: Default multi_class will be changed to 'auto' in 0.22. Specify the multi_class option to silence this warning.\n",
      "  \"this warning.\", FutureWarning)\n"
     ]
    }
   ],
   "source": [
    "logreg.fit(X_train, y_train)\n",
    "\n",
    "#Generate predicted values for y to compare to real values\n",
    "y_hat_train = logreg.predict(X_train)\n",
    "\n",
    "#Now generate predicted values for the test data to compare\n",
    "y_hat_test = logreg.predict(X_test)\n",
    "\n",
    "#Create a confusion matrix with the training results\n",
    "conf_matrix_train = confusion_matrix(y_hat_train, y_train)\n",
    "#Create a confusion matrix with the test results\n",
    "conf_matrix_test = confusion_matrix(y_hat_test, y_test)\n",
    "\n",
    "#Create labels for the classes in the conf matrix\n",
    "class_names = set(y)"
   ]
  },
  {
   "cell_type": "code",
   "execution_count": 28,
   "metadata": {
    "scrolled": false
   },
   "outputs": [
    {
     "data": {
      "image/png": "[encoded data removed]",
      "text/plain": [
       "<Figure size 576x576 with 2 Axes>"
      ]
     },
     "metadata": {
      "needs_background": "light"
     },
     "output_type": "display_data"
    }
   ],
   "source": [
    "#Draw a figure\n",
    "fig = plt.figure(figsize = (8,8))\n",
    "#Call the custom function to draw the conf matrix\n",
    "plot_conf_matrix(conf_matrix_train, classes = class_names)"
   ]
  },
  {
   "cell_type": "code",
   "execution_count": 28,
   "metadata": {},
   "outputs": [
    {
     "name": "stdout",
     "output_type": "stream",
     "text": [
      "             precision    recall  f1-score   support\n",
      "\n",
      "     Sexual       0.25      0.12      0.16        58\n",
      "  Reference       0.37      0.36      0.36       104\n",
      "   Romantic       0.33      0.08      0.12        13\n",
      "   Violence       1.00      1.00      1.00       117\n",
      "  Religious       0.36      0.11      0.17        36\n",
      "    Tagging       0.43      0.18      0.26        33\n",
      "    unknown       0.47      0.65      0.55       146\n",
      "     Insult       0.40      0.56      0.47       156\n",
      "  Political       0.39      0.19      0.26        47\n",
      "      Civic       0.63      0.52      0.57        23\n",
      "     Social       0.50      0.33      0.40        12\n",
      "\n",
      "avg / total       0.50      0.51      0.49       745\n",
      "\n"
     ]
    }
   ],
   "source": [
    "print(classification_report(y_train, y_hat_train, target_names = class_names))"
   ]
  },
  {
   "cell_type": "markdown",
   "metadata": {},
   "source": [
    "Discuss"
   ]
  },
  {
   "cell_type": "code",
   "execution_count": 28,
   "metadata": {
    "scrolled": true
   },
   "outputs": [
    {
     "data": {
      "image/png": "[encoded data removed]",
      "text/plain": [
       "<Figure size 720x576 with 2 Axes>"
      ]
     },
     "metadata": {
      "needs_background": "light"
     },
     "output_type": "display_data"
    }
   ],
   "source": [
    "plt.figure(figsize = (10,8))\n",
    "#Call the custom function to draw the conf matrix\n",
    "plot_conf_matrix(conf_matrix_test, classes = class_names)"
   ]
  },
  {
   "cell_type": "code",
   "execution_count": 29,
   "metadata": {},
   "outputs": [
    {
     "name": "stdout",
     "output_type": "stream",
     "text": [
      "              precision    recall  f1-score   support\n",
      "\n",
      "   Reference       0.50      0.20      0.29        20\n",
      "      Social       0.35      0.34      0.35        35\n",
      "   Political       0.00      0.00      0.00         9\n",
      "   Religious       1.00      0.97      0.99        39\n",
      "       Civic       0.25      0.17      0.20         6\n",
      "    Romantic       0.20      0.06      0.09        17\n",
      "      Insult       0.25      0.42      0.31        40\n",
      "      Sexual       0.36      0.45      0.40        56\n",
      "    Violence       0.00      0.00      0.00        12\n",
      "     Tagging       0.45      0.38      0.42        13\n",
      "     unknown       0.00      0.00      0.00         2\n",
      "\n",
      "   micro avg       0.41      0.41      0.41       249\n",
      "   macro avg       0.31      0.27      0.28       249\n",
      "weighted avg       0.41      0.41      0.40       249\n",
      "\n"
     ]
    }
   ],
   "source": [
    "print(classification_report(y_test, y_hat_test, target_names = class_names))"
   ]
  },
  {
   "cell_type": "markdown",
   "metadata": {},
   "source": [
    "This model is almost useless! It only classifies 'Reference', 'Insult', and 'Violence.'\n",
    "There is wide variation in its predictive ability from class to class."
   ]
  },
  {
   "cell_type": "markdown",
   "metadata": {},
   "source": [
    "<a id = 'detour_cat'></a>"
   ]
  },
  {
   "cell_type": "markdown",
   "metadata": {},
   "source": [
    "### Detour: improving the categories\n",
    "\n",
    "I'm unhappy with the categories and think I can do better."
   ]
  },
  {
   "cell_type": "code",
   "execution_count": 26,
   "metadata": {},
   "outputs": [
    {
     "data": {
      "image/png": "[encoded data removed]",
      "text/plain": [
       "<Figure size 576x576 with 1 Axes>"
      ]
     },
     "metadata": {},
     "output_type": "display_data"
    }
   ],
   "source": [
    "#COLROS ARE BROKEN\n",
    "cat_counts = df_raw['Category'].value_counts()\n",
    "#colors_for_orig_cats = ['lavender', 'brown', 'yellow', 'blue', 'lightblue', 'purple',\n",
    "#                       'maroon', 'red', 'pink', 'darkblue', 'gray']\n",
    "fig = plt.figure(figsize = (8,8))\n",
    "plt.pie(x = cat_counts, labels = cat_counts.index)\n",
    "plt.title('Distribution of data into categories')\n",
    "plt.show()"
   ]
  },
  {
   "cell_type": "code",
   "execution_count": null,
   "metadata": {},
   "outputs": [],
   "source": []
  },
  {
   "cell_type": "markdown",
   "metadata": {},
   "source": [
    "There are two problems to solve:\n",
    "\n",
    " 1. Categories are imprecise. (What isn't \"social\"?)\n",
    " 2. Data is unevenly distributed into these categories\n",
    "\n",
    "Before I try to up- or down-sample I'd like to see if I can rearrange the data within the categories. I've browsed the English translations of the graffiti and have spotted some key words that I want to count the incidence of across the categories. This may suggest some more precise categories for the data. It may also allow for more even data distribution across categories."
   ]
  },
  {
   "cell_type": "code",
   "execution_count": 25,
   "metadata": {},
   "outputs": [],
   "source": [
    "#A new df for the reorganized categories\n",
    "df_clean = copy.deepcopy(df_raw)"
   ]
  },
  {
   "cell_type": "code",
   "execution_count": 26,
   "metadata": {},
   "outputs": [],
   "source": [
    "#A lambda function with the \"globals\" so I don't have to pass them in every time\n",
    "pysqldf = lambda q: sqldf(q, globals())\n",
    "\n",
    "categories = list(df_raw['Category'].unique())\n",
    "\n",
    "#Some possible new categories\n",
    "#Hoping to draw values out from 'Social'\n",
    "love = ['the girls', 'love', 'venus']\n",
    "slave = ['servant', 'serve', 'slave']\n",
    "emperor = ['Caesar', 'emperor', 'Nero']\n",
    "gods = ['Jupiter', 'god', 'holy', 'pray']\n",
    "greeting = ['bye', 'hello', 'goodbye', 'greetings']\n",
    "glory = ['fight', 'mars','soldier', 'victor']\n",
    "########## WARNING!! NSFW ################\n",
    "lewd = ['bugger', 'cock', 'cunt', 'faggot', 'fuck', 'suck']\n",
    "###########################################\n",
    "blessing = ['best wishes', 'bravo',  'favor', 'favour', 'good luck', 'happy', 'smile']\n",
    "curse = ['anger', 'beware', 'curse']\n",
    "keyword_cats = [love, slave, emperor, gods, greeting, glory, lewd, blessing, curse]\n",
    "\n",
    "#A list of all keywords\n",
    "keywords = []\n",
    "for cat in keyword_cats:\n",
    "    for word in cat:\n",
    "        keywords.append(word)\n",
    "        \n",
    "#Build a 'keyword matrix' with my custom function\n",
    "#to show incidence of the above keywords in the \n",
    "#original categories of the data.\n",
    "keywords_df = keyword_matrix(pysqldf, categories, keywords)"
   ]
  },
  {
   "cell_type": "code",
   "execution_count": 36,
   "metadata": {
    "collapsed": true
   },
   "outputs": [
    {
     "data": {
      "text/html": [
       "<div>\n",
       "<style scoped>\n",
       "    .dataframe tbody tr th:only-of-type {\n",
       "        vertical-align: middle;\n",
       "    }\n",
       "\n",
       "    .dataframe tbody tr th {\n",
       "        vertical-align: top;\n",
       "    }\n",
       "\n",
       "    .dataframe thead th {\n",
       "        text-align: right;\n",
       "    }\n",
       "</style>\n",
       "<table border=\"1\" class=\"dataframe\">\n",
       "  <thead>\n",
       "    <tr style=\"text-align: right;\">\n",
       "      <th></th>\n",
       "      <th>Key_Word</th>\n",
       "      <th>Religious</th>\n",
       "      <th>Civic</th>\n",
       "      <th>Insult</th>\n",
       "      <th>Reference</th>\n",
       "      <th>Tagging</th>\n",
       "      <th>Social</th>\n",
       "      <th>Sexual</th>\n",
       "      <th>Romantic</th>\n",
       "      <th>unknown</th>\n",
       "      <th>Political</th>\n",
       "      <th>Violence</th>\n",
       "    </tr>\n",
       "  </thead>\n",
       "  <tbody>\n",
       "    <tr>\n",
       "      <th>0</th>\n",
       "      <td>the girls</td>\n",
       "      <td>0</td>\n",
       "      <td>0</td>\n",
       "      <td>0</td>\n",
       "      <td>0</td>\n",
       "      <td>4</td>\n",
       "      <td>0</td>\n",
       "      <td>1</td>\n",
       "      <td>0</td>\n",
       "      <td>0</td>\n",
       "      <td>0</td>\n",
       "      <td>1</td>\n",
       "    </tr>\n",
       "    <tr>\n",
       "      <th>1</th>\n",
       "      <td>love</td>\n",
       "      <td>3</td>\n",
       "      <td>0</td>\n",
       "      <td>2</td>\n",
       "      <td>18</td>\n",
       "      <td>0</td>\n",
       "      <td>0</td>\n",
       "      <td>2</td>\n",
       "      <td>40</td>\n",
       "      <td>0</td>\n",
       "      <td>0</td>\n",
       "      <td>0</td>\n",
       "    </tr>\n",
       "    <tr>\n",
       "      <th>2</th>\n",
       "      <td>venus</td>\n",
       "      <td>12</td>\n",
       "      <td>0</td>\n",
       "      <td>0</td>\n",
       "      <td>5</td>\n",
       "      <td>1</td>\n",
       "      <td>1</td>\n",
       "      <td>2</td>\n",
       "      <td>0</td>\n",
       "      <td>0</td>\n",
       "      <td>0</td>\n",
       "      <td>1</td>\n",
       "    </tr>\n",
       "    <tr>\n",
       "      <th>3</th>\n",
       "      <td>servant</td>\n",
       "      <td>0</td>\n",
       "      <td>0</td>\n",
       "      <td>1</td>\n",
       "      <td>0</td>\n",
       "      <td>0</td>\n",
       "      <td>1</td>\n",
       "      <td>0</td>\n",
       "      <td>0</td>\n",
       "      <td>0</td>\n",
       "      <td>0</td>\n",
       "      <td>0</td>\n",
       "    </tr>\n",
       "    <tr>\n",
       "      <th>4</th>\n",
       "      <td>serve</td>\n",
       "      <td>0</td>\n",
       "      <td>4</td>\n",
       "      <td>0</td>\n",
       "      <td>1</td>\n",
       "      <td>0</td>\n",
       "      <td>0</td>\n",
       "      <td>0</td>\n",
       "      <td>0</td>\n",
       "      <td>0</td>\n",
       "      <td>0</td>\n",
       "      <td>0</td>\n",
       "    </tr>\n",
       "    <tr>\n",
       "      <th>5</th>\n",
       "      <td>slave</td>\n",
       "      <td>2</td>\n",
       "      <td>2</td>\n",
       "      <td>4</td>\n",
       "      <td>0</td>\n",
       "      <td>3</td>\n",
       "      <td>5</td>\n",
       "      <td>7</td>\n",
       "      <td>1</td>\n",
       "      <td>0</td>\n",
       "      <td>1</td>\n",
       "      <td>0</td>\n",
       "    </tr>\n",
       "    <tr>\n",
       "      <th>6</th>\n",
       "      <td>Caesar</td>\n",
       "      <td>0</td>\n",
       "      <td>1</td>\n",
       "      <td>1</td>\n",
       "      <td>0</td>\n",
       "      <td>0</td>\n",
       "      <td>0</td>\n",
       "      <td>0</td>\n",
       "      <td>0</td>\n",
       "      <td>0</td>\n",
       "      <td>3</td>\n",
       "      <td>2</td>\n",
       "    </tr>\n",
       "    <tr>\n",
       "      <th>7</th>\n",
       "      <td>emperor</td>\n",
       "      <td>1</td>\n",
       "      <td>0</td>\n",
       "      <td>0</td>\n",
       "      <td>0</td>\n",
       "      <td>1</td>\n",
       "      <td>0</td>\n",
       "      <td>0</td>\n",
       "      <td>0</td>\n",
       "      <td>0</td>\n",
       "      <td>3</td>\n",
       "      <td>0</td>\n",
       "    </tr>\n",
       "    <tr>\n",
       "      <th>8</th>\n",
       "      <td>Nero</td>\n",
       "      <td>1</td>\n",
       "      <td>0</td>\n",
       "      <td>1</td>\n",
       "      <td>0</td>\n",
       "      <td>1</td>\n",
       "      <td>2</td>\n",
       "      <td>1</td>\n",
       "      <td>0</td>\n",
       "      <td>0</td>\n",
       "      <td>5</td>\n",
       "      <td>5</td>\n",
       "    </tr>\n",
       "    <tr>\n",
       "      <th>9</th>\n",
       "      <td>Jupiter</td>\n",
       "      <td>0</td>\n",
       "      <td>0</td>\n",
       "      <td>1</td>\n",
       "      <td>0</td>\n",
       "      <td>0</td>\n",
       "      <td>1</td>\n",
       "      <td>0</td>\n",
       "      <td>0</td>\n",
       "      <td>0</td>\n",
       "      <td>0</td>\n",
       "      <td>0</td>\n",
       "    </tr>\n",
       "    <tr>\n",
       "      <th>10</th>\n",
       "      <td>god</td>\n",
       "      <td>10</td>\n",
       "      <td>0</td>\n",
       "      <td>0</td>\n",
       "      <td>2</td>\n",
       "      <td>0</td>\n",
       "      <td>1</td>\n",
       "      <td>0</td>\n",
       "      <td>1</td>\n",
       "      <td>0</td>\n",
       "      <td>0</td>\n",
       "      <td>0</td>\n",
       "    </tr>\n",
       "    <tr>\n",
       "      <th>11</th>\n",
       "      <td>holy</td>\n",
       "      <td>3</td>\n",
       "      <td>0</td>\n",
       "      <td>0</td>\n",
       "      <td>0</td>\n",
       "      <td>0</td>\n",
       "      <td>0</td>\n",
       "      <td>0</td>\n",
       "      <td>1</td>\n",
       "      <td>0</td>\n",
       "      <td>0</td>\n",
       "      <td>0</td>\n",
       "    </tr>\n",
       "    <tr>\n",
       "      <th>12</th>\n",
       "      <td>pray</td>\n",
       "      <td>1</td>\n",
       "      <td>0</td>\n",
       "      <td>0</td>\n",
       "      <td>0</td>\n",
       "      <td>0</td>\n",
       "      <td>2</td>\n",
       "      <td>0</td>\n",
       "      <td>0</td>\n",
       "      <td>0</td>\n",
       "      <td>0</td>\n",
       "      <td>0</td>\n",
       "    </tr>\n",
       "    <tr>\n",
       "      <th>13</th>\n",
       "      <td>bye</td>\n",
       "      <td>0</td>\n",
       "      <td>0</td>\n",
       "      <td>4</td>\n",
       "      <td>1</td>\n",
       "      <td>0</td>\n",
       "      <td>43</td>\n",
       "      <td>1</td>\n",
       "      <td>3</td>\n",
       "      <td>0</td>\n",
       "      <td>1</td>\n",
       "      <td>0</td>\n",
       "    </tr>\n",
       "    <tr>\n",
       "      <th>14</th>\n",
       "      <td>hello</td>\n",
       "      <td>0</td>\n",
       "      <td>1</td>\n",
       "      <td>1</td>\n",
       "      <td>0</td>\n",
       "      <td>0</td>\n",
       "      <td>6</td>\n",
       "      <td>0</td>\n",
       "      <td>2</td>\n",
       "      <td>0</td>\n",
       "      <td>0</td>\n",
       "      <td>0</td>\n",
       "    </tr>\n",
       "    <tr>\n",
       "      <th>15</th>\n",
       "      <td>goodbye</td>\n",
       "      <td>0</td>\n",
       "      <td>0</td>\n",
       "      <td>0</td>\n",
       "      <td>0</td>\n",
       "      <td>0</td>\n",
       "      <td>1</td>\n",
       "      <td>0</td>\n",
       "      <td>0</td>\n",
       "      <td>0</td>\n",
       "      <td>0</td>\n",
       "      <td>0</td>\n",
       "    </tr>\n",
       "    <tr>\n",
       "      <th>16</th>\n",
       "      <td>greetings</td>\n",
       "      <td>0</td>\n",
       "      <td>0</td>\n",
       "      <td>0</td>\n",
       "      <td>2</td>\n",
       "      <td>0</td>\n",
       "      <td>31</td>\n",
       "      <td>1</td>\n",
       "      <td>4</td>\n",
       "      <td>0</td>\n",
       "      <td>0</td>\n",
       "      <td>0</td>\n",
       "    </tr>\n",
       "    <tr>\n",
       "      <th>17</th>\n",
       "      <td>fight</td>\n",
       "      <td>0</td>\n",
       "      <td>0</td>\n",
       "      <td>0</td>\n",
       "      <td>0</td>\n",
       "      <td>0</td>\n",
       "      <td>0</td>\n",
       "      <td>0</td>\n",
       "      <td>0</td>\n",
       "      <td>0</td>\n",
       "      <td>1</td>\n",
       "      <td>21</td>\n",
       "    </tr>\n",
       "    <tr>\n",
       "      <th>18</th>\n",
       "      <td>mars</td>\n",
       "      <td>1</td>\n",
       "      <td>0</td>\n",
       "      <td>0</td>\n",
       "      <td>1</td>\n",
       "      <td>1</td>\n",
       "      <td>1</td>\n",
       "      <td>0</td>\n",
       "      <td>0</td>\n",
       "      <td>0</td>\n",
       "      <td>0</td>\n",
       "      <td>0</td>\n",
       "    </tr>\n",
       "    <tr>\n",
       "      <th>19</th>\n",
       "      <td>soldier</td>\n",
       "      <td>0</td>\n",
       "      <td>0</td>\n",
       "      <td>0</td>\n",
       "      <td>1</td>\n",
       "      <td>3</td>\n",
       "      <td>0</td>\n",
       "      <td>2</td>\n",
       "      <td>0</td>\n",
       "      <td>0</td>\n",
       "      <td>0</td>\n",
       "      <td>0</td>\n",
       "    </tr>\n",
       "    <tr>\n",
       "      <th>20</th>\n",
       "      <td>victor</td>\n",
       "      <td>1</td>\n",
       "      <td>0</td>\n",
       "      <td>1</td>\n",
       "      <td>1</td>\n",
       "      <td>0</td>\n",
       "      <td>5</td>\n",
       "      <td>3</td>\n",
       "      <td>0</td>\n",
       "      <td>0</td>\n",
       "      <td>0</td>\n",
       "      <td>15</td>\n",
       "    </tr>\n",
       "    <tr>\n",
       "      <th>21</th>\n",
       "      <td>bugger</td>\n",
       "      <td>0</td>\n",
       "      <td>0</td>\n",
       "      <td>4</td>\n",
       "      <td>3</td>\n",
       "      <td>0</td>\n",
       "      <td>0</td>\n",
       "      <td>2</td>\n",
       "      <td>0</td>\n",
       "      <td>0</td>\n",
       "      <td>0</td>\n",
       "      <td>0</td>\n",
       "    </tr>\n",
       "    <tr>\n",
       "      <th>22</th>\n",
       "      <td>cock</td>\n",
       "      <td>0</td>\n",
       "      <td>0</td>\n",
       "      <td>13</td>\n",
       "      <td>3</td>\n",
       "      <td>0</td>\n",
       "      <td>1</td>\n",
       "      <td>26</td>\n",
       "      <td>0</td>\n",
       "      <td>0</td>\n",
       "      <td>0</td>\n",
       "      <td>0</td>\n",
       "    </tr>\n",
       "    <tr>\n",
       "      <th>23</th>\n",
       "      <td>cunt</td>\n",
       "      <td>0</td>\n",
       "      <td>0</td>\n",
       "      <td>5</td>\n",
       "      <td>2</td>\n",
       "      <td>0</td>\n",
       "      <td>0</td>\n",
       "      <td>18</td>\n",
       "      <td>2</td>\n",
       "      <td>0</td>\n",
       "      <td>1</td>\n",
       "      <td>0</td>\n",
       "    </tr>\n",
       "    <tr>\n",
       "      <th>24</th>\n",
       "      <td>faggot</td>\n",
       "      <td>0</td>\n",
       "      <td>0</td>\n",
       "      <td>13</td>\n",
       "      <td>0</td>\n",
       "      <td>0</td>\n",
       "      <td>0</td>\n",
       "      <td>2</td>\n",
       "      <td>0</td>\n",
       "      <td>0</td>\n",
       "      <td>0</td>\n",
       "      <td>0</td>\n",
       "    </tr>\n",
       "    <tr>\n",
       "      <th>25</th>\n",
       "      <td>fuck</td>\n",
       "      <td>1</td>\n",
       "      <td>0</td>\n",
       "      <td>8</td>\n",
       "      <td>4</td>\n",
       "      <td>0</td>\n",
       "      <td>1</td>\n",
       "      <td>51</td>\n",
       "      <td>2</td>\n",
       "      <td>0</td>\n",
       "      <td>0</td>\n",
       "      <td>0</td>\n",
       "    </tr>\n",
       "    <tr>\n",
       "      <th>26</th>\n",
       "      <td>suck</td>\n",
       "      <td>0</td>\n",
       "      <td>0</td>\n",
       "      <td>15</td>\n",
       "      <td>2</td>\n",
       "      <td>0</td>\n",
       "      <td>0</td>\n",
       "      <td>32</td>\n",
       "      <td>0</td>\n",
       "      <td>0</td>\n",
       "      <td>0</td>\n",
       "      <td>0</td>\n",
       "    </tr>\n",
       "    <tr>\n",
       "      <th>27</th>\n",
       "      <td>best wishes</td>\n",
       "      <td>0</td>\n",
       "      <td>0</td>\n",
       "      <td>0</td>\n",
       "      <td>0</td>\n",
       "      <td>1</td>\n",
       "      <td>7</td>\n",
       "      <td>0</td>\n",
       "      <td>0</td>\n",
       "      <td>0</td>\n",
       "      <td>2</td>\n",
       "      <td>1</td>\n",
       "    </tr>\n",
       "    <tr>\n",
       "      <th>28</th>\n",
       "      <td>bravo</td>\n",
       "      <td>0</td>\n",
       "      <td>0</td>\n",
       "      <td>0</td>\n",
       "      <td>0</td>\n",
       "      <td>0</td>\n",
       "      <td>6</td>\n",
       "      <td>0</td>\n",
       "      <td>0</td>\n",
       "      <td>0</td>\n",
       "      <td>0</td>\n",
       "      <td>0</td>\n",
       "    </tr>\n",
       "    <tr>\n",
       "      <th>29</th>\n",
       "      <td>favor</td>\n",
       "      <td>0</td>\n",
       "      <td>0</td>\n",
       "      <td>0</td>\n",
       "      <td>1</td>\n",
       "      <td>0</td>\n",
       "      <td>0</td>\n",
       "      <td>0</td>\n",
       "      <td>0</td>\n",
       "      <td>0</td>\n",
       "      <td>1</td>\n",
       "      <td>0</td>\n",
       "    </tr>\n",
       "    <tr>\n",
       "      <th>30</th>\n",
       "      <td>favour</td>\n",
       "      <td>2</td>\n",
       "      <td>0</td>\n",
       "      <td>0</td>\n",
       "      <td>1</td>\n",
       "      <td>0</td>\n",
       "      <td>1</td>\n",
       "      <td>0</td>\n",
       "      <td>0</td>\n",
       "      <td>0</td>\n",
       "      <td>0</td>\n",
       "      <td>0</td>\n",
       "    </tr>\n",
       "    <tr>\n",
       "      <th>31</th>\n",
       "      <td>good luck</td>\n",
       "      <td>0</td>\n",
       "      <td>0</td>\n",
       "      <td>0</td>\n",
       "      <td>1</td>\n",
       "      <td>0</td>\n",
       "      <td>15</td>\n",
       "      <td>0</td>\n",
       "      <td>1</td>\n",
       "      <td>0</td>\n",
       "      <td>1</td>\n",
       "      <td>0</td>\n",
       "    </tr>\n",
       "    <tr>\n",
       "      <th>32</th>\n",
       "      <td>happy</td>\n",
       "      <td>0</td>\n",
       "      <td>1</td>\n",
       "      <td>2</td>\n",
       "      <td>0</td>\n",
       "      <td>0</td>\n",
       "      <td>6</td>\n",
       "      <td>1</td>\n",
       "      <td>0</td>\n",
       "      <td>0</td>\n",
       "      <td>0</td>\n",
       "      <td>0</td>\n",
       "    </tr>\n",
       "    <tr>\n",
       "      <th>33</th>\n",
       "      <td>smile</td>\n",
       "      <td>0</td>\n",
       "      <td>0</td>\n",
       "      <td>0</td>\n",
       "      <td>0</td>\n",
       "      <td>0</td>\n",
       "      <td>0</td>\n",
       "      <td>0</td>\n",
       "      <td>0</td>\n",
       "      <td>0</td>\n",
       "      <td>0</td>\n",
       "      <td>0</td>\n",
       "    </tr>\n",
       "    <tr>\n",
       "      <th>34</th>\n",
       "      <td>anger</td>\n",
       "      <td>0</td>\n",
       "      <td>0</td>\n",
       "      <td>1</td>\n",
       "      <td>2</td>\n",
       "      <td>0</td>\n",
       "      <td>0</td>\n",
       "      <td>0</td>\n",
       "      <td>0</td>\n",
       "      <td>0</td>\n",
       "      <td>0</td>\n",
       "      <td>1</td>\n",
       "    </tr>\n",
       "    <tr>\n",
       "      <th>35</th>\n",
       "      <td>beware</td>\n",
       "      <td>0</td>\n",
       "      <td>0</td>\n",
       "      <td>6</td>\n",
       "      <td>0</td>\n",
       "      <td>0</td>\n",
       "      <td>2</td>\n",
       "      <td>0</td>\n",
       "      <td>0</td>\n",
       "      <td>0</td>\n",
       "      <td>0</td>\n",
       "      <td>0</td>\n",
       "    </tr>\n",
       "    <tr>\n",
       "      <th>36</th>\n",
       "      <td>curse</td>\n",
       "      <td>0</td>\n",
       "      <td>0</td>\n",
       "      <td>0</td>\n",
       "      <td>0</td>\n",
       "      <td>0</td>\n",
       "      <td>0</td>\n",
       "      <td>0</td>\n",
       "      <td>0</td>\n",
       "      <td>0</td>\n",
       "      <td>0</td>\n",
       "      <td>0</td>\n",
       "    </tr>\n",
       "  </tbody>\n",
       "</table>\n",
       "</div>"
      ],
      "text/plain": [
       "       Key_Word Religious Civic Insult Reference Tagging Social Sexual  \\\n",
       "0     the girls         0     0      0         0       4      0      1   \n",
       "1          love         3     0      2        18       0      0      2   \n",
       "2         venus        12     0      0         5       1      1      2   \n",
       "3       servant         0     0      1         0       0      1      0   \n",
       "4         serve         0     4      0         1       0      0      0   \n",
       "5         slave         2     2      4         0       3      5      7   \n",
       "6        Caesar         0     1      1         0       0      0      0   \n",
       "7       emperor         1     0      0         0       1      0      0   \n",
       "8          Nero         1     0      1         0       1      2      1   \n",
       "9       Jupiter         0     0      1         0       0      1      0   \n",
       "10          god        10     0      0         2       0      1      0   \n",
       "11         holy         3     0      0         0       0      0      0   \n",
       "12         pray         1     0      0         0       0      2      0   \n",
       "13          bye         0     0      4         1       0     43      1   \n",
       "14        hello         0     1      1         0       0      6      0   \n",
       "15      goodbye         0     0      0         0       0      1      0   \n",
       "16    greetings         0     0      0         2       0     31      1   \n",
       "17        fight         0     0      0         0       0      0      0   \n",
       "18         mars         1     0      0         1       1      1      0   \n",
       "19      soldier         0     0      0         1       3      0      2   \n",
       "20       victor         1     0      1         1       0      5      3   \n",
       "21       bugger         0     0      4         3       0      0      2   \n",
       "22         cock         0     0     13         3       0      1     26   \n",
       "23         cunt         0     0      5         2       0      0     18   \n",
       "24       faggot         0     0     13         0       0      0      2   \n",
       "25         fuck         1     0      8         4       0      1     51   \n",
       "26         suck         0     0     15         2       0      0     32   \n",
       "27  best wishes         0     0      0         0       1      7      0   \n",
       "28        bravo         0     0      0         0       0      6      0   \n",
       "29        favor         0     0      0         1       0      0      0   \n",
       "30       favour         2     0      0         1       0      1      0   \n",
       "31    good luck         0     0      0         1       0     15      0   \n",
       "32        happy         0     1      2         0       0      6      1   \n",
       "33        smile         0     0      0         0       0      0      0   \n",
       "34        anger         0     0      1         2       0      0      0   \n",
       "35       beware         0     0      6         0       0      2      0   \n",
       "36        curse         0     0      0         0       0      0      0   \n",
       "\n",
       "   Romantic unknown Political Violence  \n",
       "0         0       0         0        1  \n",
       "1        40       0         0        0  \n",
       "2         0       0         0        1  \n",
       "3         0       0         0        0  \n",
       "4         0       0         0        0  \n",
       "5         1       0         1        0  \n",
       "6         0       0         3        2  \n",
       "7         0       0         3        0  \n",
       "8         0       0         5        5  \n",
       "9         0       0         0        0  \n",
       "10        1       0         0        0  \n",
       "11        1       0         0        0  \n",
       "12        0       0         0        0  \n",
       "13        3       0         1        0  \n",
       "14        2       0         0        0  \n",
       "15        0       0         0        0  \n",
       "16        4       0         0        0  \n",
       "17        0       0         1       21  \n",
       "18        0       0         0        0  \n",
       "19        0       0         0        0  \n",
       "20        0       0         0       15  \n",
       "21        0       0         0        0  \n",
       "22        0       0         0        0  \n",
       "23        2       0         1        0  \n",
       "24        0       0         0        0  \n",
       "25        2       0         0        0  \n",
       "26        0       0         0        0  \n",
       "27        0       0         2        1  \n",
       "28        0       0         0        0  \n",
       "29        0       0         1        0  \n",
       "30        0       0         0        0  \n",
       "31        1       0         1        0  \n",
       "32        0       0         0        0  \n",
       "33        0       0         0        0  \n",
       "34        0       0         0        1  \n",
       "35        0       0         0        0  \n",
       "36        0       0         0        0  "
      ]
     },
     "execution_count": 36,
     "metadata": {},
     "output_type": "execute_result"
    }
   ],
   "source": [
    "keywords_df"
   ]
  },
  {
   "cell_type": "code",
   "execution_count": 32,
   "metadata": {},
   "outputs": [
    {
     "data": {
      "text/plain": [
       "139"
      ]
     },
     "execution_count": 32,
     "metadata": {},
     "output_type": "execute_result"
    }
   ],
   "source": [
    "#Opportunity to knock off many of the values from 'Social.'\n",
    "keywords_df['Social'].sum()"
   ]
  },
  {
   "cell_type": "code",
   "execution_count": 27,
   "metadata": {},
   "outputs": [],
   "source": [
    "#Categorize greetings, blessings, and curses as Hails \n",
    "#Hello, goodbye, good luck, go to hell)\n",
    "hails = []\n",
    "for words in [greeting, blessing, curse]:\n",
    "    for word in words:\n",
    "        hails.append(word)\n",
    "write(df_clean, hails, 'In English', 'Category', 'Hail')\n",
    "\n",
    "#Categorize references to emperors or slaves as Political\n",
    "poli = []\n",
    "for words in [emperor, slave]:\n",
    "    for word in words:\n",
    "        poli.append(word)\n",
    "write(df_clean, poli, 'In English', 'Category', 'Political')\n",
    "\n",
    "#Categorize glory words as Violence\n",
    "write(df_clean, glory, 'In English', 'Category', 'Violence')\n",
    "#Categorize lewd words as Lewd (new category)\n",
    "write(df_clean, lewd, 'In English', 'Category', 'Lewd')\n",
    "#Categorize love words as Romantic\n",
    "write(df_clean, love, 'In English', 'Category', 'Romantic')\n",
    "#Categorize gods words as Religious\n",
    "write(df_clean, gods, 'In English', 'Category', 'Religious')\n",
    "\n",
    "#Now:\n",
    "#Combine 'Violence' and 'Political' into 'Glory'\n",
    "write(df_clean, ['Violence', 'Political'], 'Category', 'Category', 'Glory')\n",
    "#Combine 'Sexual' and 'Romantic' into 'Love'\n",
    "write(df_clean, ['Sexual', 'Romantic'], 'Category', 'Category', 'Love')\n",
    "#Combine 'unknown' and 'Tagging' into 'Civic'\n",
    "write(df_clean, ['unknown', 'Tagging'], 'Category', 'Category', 'Civic')\n",
    "#Combine 'Insult' with 'Hail' (They're both direct adresses)\n",
    "write(df_clean, ['Insult'], 'Category', 'Category', 'Hail')\n",
    "#Combine 'Religious' with 'Glory' (Politics, War, and Religion are all heady)\n",
    "write(df_clean, ['Religious'], 'Category', 'Category', 'Glory')\n",
    "\n",
    "#Now:\n",
    "#Give the final categories jazzier names\n",
    "replacements = {'Reference': 'Literature',\n",
    "                'Social': 'Gossip',\n",
    "                'Civic': 'Bulletin',\n",
    "                'Religion': 'Gods'\n",
    "                }\n",
    "df_clean['Category'] = df_clean['Category'].replace(replacements)"
   ]
  },
  {
   "cell_type": "markdown",
   "metadata": {},
   "source": [
    "How did all this work affect our categories?"
   ]
  },
  {
   "cell_type": "code",
   "execution_count": null,
   "metadata": {},
   "outputs": [],
   "source": [
    "#FOR RTESTING\n",
    "#labels = 'Frogs', 'Hogs', 'Dogs', 'Logs'\n",
    "#fracs = [15, 30, 45, 10]\n",
    "\n",
    "#fig = plt.figure()\n",
    "\n",
    "#ax1 = fig.add_axes([0, 0, .5, .5], aspect=1)\n",
    "#ax1.pie(fracs, labels=labels, radius = 1.2)\n",
    "#ax2 = fig.add_axes([.5, .0, .5, .5], aspect=1)\n",
    "#ax2.pie(fracs, labels=labels, radius = 1.2)\n",
    "#plt.show()"
   ]
  },
  {
   "cell_type": "code",
   "execution_count": 34,
   "metadata": {},
   "outputs": [
    {
     "data": {
      "image/png": "[encoded data removed]",
      "text/plain": [
       "<Figure size 864x576 with 2 Axes>"
      ]
     },
     "metadata": {},
     "output_type": "display_data"
    }
   ],
   "source": [
    "cat_counts = df_raw['Category'].value_counts()\n",
    "\n",
    "#Colors for new categories\n",
    "colors_for_new_cats = ['green', 'yellow', 'purple', 'gray', 'blue', 'red', 'brown']\n",
    "\n",
    "#Values of old categories to count\n",
    "cat_counts = df_raw['Category'].value_counts()\n",
    "#Capture the values of the new categories to plot\n",
    "v2cat_counts = df_clean['Category'].value_counts()\n",
    "\n",
    "#Plot old categories side by side with new ones\n",
    "fig = plt.figure(figsize = (12,8))\n",
    "ax1 = fig.add_axes([0, 0, .5, .5], aspect = 1)\n",
    "ax1.pie(x = cat_counts, labels = cat_counts.index)\n",
    "ax2 = fig.add_axes([0.5, 0, .5, .5], aspect = 1)\n",
    "ax2.pie(x = v2cat_counts, labels = v2cat_counts.index)\n",
    "#Need to fix title position\n",
    "plt.title('Original categories vs new categories')\n",
    "plt.show()"
   ]
  },
  {
   "cell_type": "markdown",
   "metadata": {},
   "source": [
    "### MAKE THE COLORS CORRESPOND\n",
    "Lavender   'Sexual', 'Love'\n",
    "Brown   'Reference', 'Literature'\n",
    "Yellow     'Insult', 'Hail'\n",
    "Blue       'Civic', 'Bulletin'\n",
    "Light blue 'Tagging', 'Bulletin'\n",
    "Purple    'Romantic', 'Love'\n",
    "Maroon    'Religious', 'Glory'\n",
    "Red       'Violence', 'Glory'\n",
    "Pink     'Political', 'Glory'\n",
    "Dark blue  'unknown'], 'Bulletin'\n",
    "Gray .      Social .     Gossip\n",
    "\n",
    "Lewd  Green\n",
    "Hail Yellow\n",
    "Love Purple\n",
    "Gossip Gray\n",
    "Bulletin Blue\n",
    "Glory Red\n",
    "Literature Brown"
   ]
  },
  {
   "cell_type": "code",
   "execution_count": null,
   "metadata": {},
   "outputs": [],
   "source": [
    "df_clean['Category'].value_counts()"
   ]
  },
  {
   "cell_type": "markdown",
   "metadata": {},
   "source": [
    "Much better!\n",
    "\n",
    "*Lewd*: Swear words and body parts\n",
    "\n",
    "*Hail*: Hello, goodbye, bless you, curse you\n",
    "\n",
    "*Love*: Romance & sex\n",
    "\n",
    "*Gossip*: Have you heard who was drinking wine with Euphabia?\n",
    "\n",
    "*Bulletin*: I baked bread today; I sold some pots today\n",
    "\n",
    "*Glory*: The slaves won the battle! The emperor won the battle! The gods helped us win the battle!\n",
    "\n",
    "*Literature*: Ovid, Aenid, Homer, Horace: we've got all the classics\n",
    "\n",
    "Now let's see how this data performs with a plain vanilla logistic regression model."
   ]
  },
  {
   "cell_type": "markdown",
   "metadata": {},
   "source": [
    "<a id = 'model1'></a>"
   ]
  },
  {
   "cell_type": "markdown",
   "metadata": {},
   "source": [
    "[(Back to top)](#top)\n",
    "\n",
    "# Model #1: Logistic regression\n",
    "### Prepare the data"
   ]
  },
  {
   "cell_type": "code",
   "execution_count": 32,
   "metadata": {
    "scrolled": true
   },
   "outputs": [],
   "source": [
    "df = copy.deepcopy(df_clean)\n",
    "\n",
    "#Make categories\n",
    "df['Literacy'] = df['Literacy'].astype('category')\n",
    "df['Position'] = df['Position'].astype('category')\n",
    "df['Building Type'] = df['Building Type'].astype('category')\n",
    "df['Famous House'] = df['Famous House'].astype('bool').astype('category')\n",
    "df['Socio-economic status'] = df['Socio-economic status'].astype('category')\n",
    "df['Writer'] = df['Writer'].astype('bool').astype('category')\n",
    "df['Category'] = df['Category'].astype('category')\n",
    "df['Imperative'] = df['Imperative'].astype('bool').astype('category')\n",
    "\n",
    "#Continuous data: 'Reggio', 'Insula', 'Characters', 'Flohr Score'\n",
    "\n",
    "#Get dummies\n",
    "literacy_dummies = pd.get_dummies(df['Literacy'], prefix = 'Literacy')\n",
    "position_dummies = pd.get_dummies(df['Position'], prefix = 'Position')\n",
    "build_type_dummies = pd.get_dummies(df['Building Type'], prefix = 'Building_Type')\n",
    "famous_dummies = pd.get_dummies(df['Famous House'], prefix = 'Famous')\n",
    "econ_status_dummies = pd.get_dummies(df['Socio-economic status'], prefix = 'Econ_Status')\n",
    "writer_dummies = pd.get_dummies(df['Writer'], prefix = 'Writer')\n",
    "imperative_dummies = pd.get_dummies(df['Imperative'], prefix = 'Imperative')\n",
    "\n",
    "X = df.drop(['CIL IV #', 'Entrance', 'Literacy', 'In English', \n",
    "             'Position', 'Building Type', \n",
    "             'Famous House', 'Category', 'Socio-economic status',\n",
    "             'Writer', 'Imperative'\n",
    "            ], axis = 1)\n",
    "X = pd.concat([X, literacy_dummies, position_dummies, build_type_dummies, \n",
    "               famous_dummies, econ_status_dummies, writer_dummies,\n",
    "             imperative_dummies\n",
    "              ], axis = 1)\n",
    "\n",
    "y = df['Category']\n",
    "\n",
    "#Create a train/test split\n",
    "X_train, X_test, y_train, y_test = train_test_split(X, y, random_state=12)\n",
    "#print(y_train.value_counts(),'\\n', y_test.value_counts())"
   ]
  },
  {
   "cell_type": "markdown",
   "metadata": {},
   "source": [
    "### Build a model"
   ]
  },
  {
   "cell_type": "markdown",
   "metadata": {},
   "source": [
    "#Build a logistic regression model\n",
    "first_lr = LogisticRegression(fit_intercept=False, C=1e16)\n",
    "#Fit the classifier to the training data\n",
    "first_lr.fit(X_train, y_train)\n",
    "#Generate predicted y values for training set\n",
    "first_lr_y_hat_train = first_lr.predict(X_train)\n",
    "#Generate predicted y values for testing set\n",
    "first_lr_y_hat_test = first_lr.predict(X_test)\n",
    "\n",
    "#Create a confusion matrix for the training set\n",
    "first_lr_conf_matrix_train = confusion_matrix(first_lr_y_hat_train, y_train)\n",
    "#Create a confusion matrix for the testing set\n",
    "first_lr_conf_matrix_test = confusion_matrix(first_lr_y_hat_test, y_test)\n",
    "\n",
    "#Create labels for the classes in the conf matrix\n",
    "class_names = set(y)\n",
    "#Draw a figure\n",
    "#plt.figure(figsize = (8,8))\n",
    "#Call the custom function to draw the conf matrix\n",
    "plot_conf_matrix(first_lr_conf_matrix_train, title = 'Training set', classes = class_names)"
   ]
  },
  {
   "cell_type": "code",
   "execution_count": 35,
   "metadata": {},
   "outputs": [
    {
     "data": {
      "image/png": "[encoded data removed]",
      "text/plain": [
       "<Figure size 432x288 with 2 Axes>"
      ]
     },
     "metadata": {
      "needs_background": "light"
     },
     "output_type": "display_data"
    }
   ],
   "source": [
    "#plt.figure(figsize = (8,8))\n",
    "#Call the custom function to draw the conf matrix\n",
    "plot_conf_matrix(first_lr_conf_matrix_test, title = 'Test set', classes = class_names)"
   ]
  },
  {
   "cell_type": "code",
   "execution_count": 36,
   "metadata": {},
   "outputs": [
    {
     "name": "stdout",
     "output_type": "stream",
     "text": [
      "First model training set:\n",
      "              precision    recall  f1-score   support\n",
      "\n",
      "    Bulletin       0.34      0.50      0.40       108\n",
      "       Glory       0.54      0.44      0.48        91\n",
      "        Lewd       0.40      0.27      0.32       111\n",
      "        Hail       0.43      0.47      0.45       113\n",
      "        Love       0.54      0.48      0.51       128\n",
      "      Gossip       0.79      0.99      0.88        89\n",
      "  Literature       0.39      0.32      0.35       105\n",
      "\n",
      "   micro avg       0.48      0.48      0.48       745\n",
      "   macro avg       0.49      0.50      0.49       745\n",
      "weighted avg       0.48      0.48      0.48       745\n",
      "\n",
      "First model testing set:\n",
      "              precision    recall  f1-score   support\n",
      "\n",
      "    Bulletin       0.25      0.42      0.31        26\n",
      "       Glory       0.44      0.29      0.35        41\n",
      "        Lewd       0.28      0.22      0.25        36\n",
      "        Hail       0.40      0.51      0.45        39\n",
      "        Love       0.26      0.40      0.32        30\n",
      "      Gossip       0.88      0.83      0.85        35\n",
      "  Literature       0.15      0.07      0.10        42\n",
      "\n",
      "   micro avg       0.38      0.38      0.38       249\n",
      "   macro avg       0.38      0.39      0.38       249\n",
      "weighted avg       0.38      0.38      0.37       249\n",
      "\n"
     ]
    }
   ],
   "source": [
    "print('First model training set:')\n",
    "print(classification_report(y_train, first_lr_y_hat_train, target_names = class_names))\n",
    "print('First model testing set:')\n",
    "print(classification_report(y_test, first_lr_y_hat_test, target_names = class_names))"
   ]
  },
  {
   "cell_type": "markdown",
   "metadata": {},
   "source": [
    "The first model could only classify 3 out of 11 categories. The second model can classify all 7 of its categories, and it does a good job on 4 out of 7 although its mean scores a bit lower than the first. There is less variation in predictive ability from column to column, a step toward a better model.\n",
    "\n",
    "Maybe we can hone the model by adjusting a few of its parameters?"
   ]
  },
  {
   "cell_type": "markdown",
   "metadata": {},
   "source": [
    "<a id = 'logreg_regparam'></a>"
   ]
  },
  {
   "cell_type": "markdown",
   "metadata": {},
   "source": [
    "[(Back to top)](#top)\n",
    "\n",
    "## Logistic regression: adjusting the regularization parameter"
   ]
  },
  {
   "cell_type": "code",
   "execution_count": 40,
   "metadata": {
    "scrolled": true
   },
   "outputs": [
    {
     "name": "stderr",
     "output_type": "stream",
     "text": [
      "/Users/ssrosa/anaconda3/envs/learn-env/lib/python3.6/site-packages/sklearn/linear_model/logistic.py:433: FutureWarning: Default solver will be changed to 'lbfgs' in 0.22. Specify a solver to silence this warning.\n",
      "  FutureWarning)\n",
      "/Users/ssrosa/anaconda3/envs/learn-env/lib/python3.6/site-packages/sklearn/linear_model/logistic.py:460: FutureWarning: Default multi_class will be changed to 'auto' in 0.22. Specify the multi_class option to silence this warning.\n",
      "  \"this warning.\", FutureWarning)\n",
      "/Users/ssrosa/anaconda3/envs/learn-env/lib/python3.6/site-packages/sklearn/linear_model/logistic.py:433: FutureWarning: Default solver will be changed to 'lbfgs' in 0.22. Specify a solver to silence this warning.\n",
      "  FutureWarning)\n",
      "/Users/ssrosa/anaconda3/envs/learn-env/lib/python3.6/site-packages/sklearn/linear_model/logistic.py:460: FutureWarning: Default multi_class will be changed to 'auto' in 0.22. Specify the multi_class option to silence this warning.\n",
      "  \"this warning.\", FutureWarning)\n",
      "/Users/ssrosa/anaconda3/envs/learn-env/lib/python3.6/site-packages/sklearn/linear_model/logistic.py:433: FutureWarning: Default solver will be changed to 'lbfgs' in 0.22. Specify a solver to silence this warning.\n",
      "  FutureWarning)\n",
      "/Users/ssrosa/anaconda3/envs/learn-env/lib/python3.6/site-packages/sklearn/linear_model/logistic.py:460: FutureWarning: Default multi_class will be changed to 'auto' in 0.22. Specify the multi_class option to silence this warning.\n",
      "  \"this warning.\", FutureWarning)\n",
      "/Users/ssrosa/anaconda3/envs/learn-env/lib/python3.6/site-packages/sklearn/linear_model/logistic.py:433: FutureWarning: Default solver will be changed to 'lbfgs' in 0.22. Specify a solver to silence this warning.\n",
      "  FutureWarning)\n",
      "/Users/ssrosa/anaconda3/envs/learn-env/lib/python3.6/site-packages/sklearn/linear_model/logistic.py:460: FutureWarning: Default multi_class will be changed to 'auto' in 0.22. Specify the multi_class option to silence this warning.\n",
      "  \"this warning.\", FutureWarning)\n",
      "/Users/ssrosa/anaconda3/envs/learn-env/lib/python3.6/site-packages/sklearn/linear_model/logistic.py:433: FutureWarning: Default solver will be changed to 'lbfgs' in 0.22. Specify a solver to silence this warning.\n",
      "  FutureWarning)\n",
      "/Users/ssrosa/anaconda3/envs/learn-env/lib/python3.6/site-packages/sklearn/linear_model/logistic.py:460: FutureWarning: Default multi_class will be changed to 'auto' in 0.22. Specify the multi_class option to silence this warning.\n",
      "  \"this warning.\", FutureWarning)\n",
      "/Users/ssrosa/anaconda3/envs/learn-env/lib/python3.6/site-packages/sklearn/linear_model/logistic.py:433: FutureWarning: Default solver will be changed to 'lbfgs' in 0.22. Specify a solver to silence this warning.\n",
      "  FutureWarning)\n",
      "/Users/ssrosa/anaconda3/envs/learn-env/lib/python3.6/site-packages/sklearn/linear_model/logistic.py:460: FutureWarning: Default multi_class will be changed to 'auto' in 0.22. Specify the multi_class option to silence this warning.\n",
      "  \"this warning.\", FutureWarning)\n",
      "/Users/ssrosa/anaconda3/envs/learn-env/lib/python3.6/site-packages/sklearn/linear_model/logistic.py:433: FutureWarning: Default solver will be changed to 'lbfgs' in 0.22. Specify a solver to silence this warning.\n",
      "  FutureWarning)\n",
      "/Users/ssrosa/anaconda3/envs/learn-env/lib/python3.6/site-packages/sklearn/linear_model/logistic.py:460: FutureWarning: Default multi_class will be changed to 'auto' in 0.22. Specify the multi_class option to silence this warning.\n",
      "  \"this warning.\", FutureWarning)\n",
      "/Users/ssrosa/anaconda3/envs/learn-env/lib/python3.6/site-packages/sklearn/linear_model/logistic.py:433: FutureWarning: Default solver will be changed to 'lbfgs' in 0.22. Specify a solver to silence this warning.\n",
      "  FutureWarning)\n",
      "/Users/ssrosa/anaconda3/envs/learn-env/lib/python3.6/site-packages/sklearn/linear_model/logistic.py:460: FutureWarning: Default multi_class will be changed to 'auto' in 0.22. Specify the multi_class option to silence this warning.\n",
      "  \"this warning.\", FutureWarning)\n",
      "/Users/ssrosa/anaconda3/envs/learn-env/lib/python3.6/site-packages/sklearn/linear_model/logistic.py:433: FutureWarning: Default solver will be changed to 'lbfgs' in 0.22. Specify a solver to silence this warning.\n",
      "  FutureWarning)\n",
      "/Users/ssrosa/anaconda3/envs/learn-env/lib/python3.6/site-packages/sklearn/linear_model/logistic.py:460: FutureWarning: Default multi_class will be changed to 'auto' in 0.22. Specify the multi_class option to silence this warning.\n",
      "  \"this warning.\", FutureWarning)\n",
      "/Users/ssrosa/anaconda3/envs/learn-env/lib/python3.6/site-packages/sklearn/linear_model/logistic.py:433: FutureWarning: Default solver will be changed to 'lbfgs' in 0.22. Specify a solver to silence this warning.\n",
      "  FutureWarning)\n",
      "/Users/ssrosa/anaconda3/envs/learn-env/lib/python3.6/site-packages/sklearn/linear_model/logistic.py:460: FutureWarning: Default multi_class will be changed to 'auto' in 0.22. Specify the multi_class option to silence this warning.\n",
      "  \"this warning.\", FutureWarning)\n",
      "/Users/ssrosa/anaconda3/envs/learn-env/lib/python3.6/site-packages/sklearn/linear_model/logistic.py:433: FutureWarning: Default solver will be changed to 'lbfgs' in 0.22. Specify a solver to silence this warning.\n",
      "  FutureWarning)\n",
      "/Users/ssrosa/anaconda3/envs/learn-env/lib/python3.6/site-packages/sklearn/linear_model/logistic.py:460: FutureWarning: Default multi_class will be changed to 'auto' in 0.22. Specify the multi_class option to silence this warning.\n",
      "  \"this warning.\", FutureWarning)\n",
      "/Users/ssrosa/anaconda3/envs/learn-env/lib/python3.6/site-packages/sklearn/linear_model/logistic.py:433: FutureWarning: Default solver will be changed to 'lbfgs' in 0.22. Specify a solver to silence this warning.\n",
      "  FutureWarning)\n",
      "/Users/ssrosa/anaconda3/envs/learn-env/lib/python3.6/site-packages/sklearn/linear_model/logistic.py:460: FutureWarning: Default multi_class will be changed to 'auto' in 0.22. Specify the multi_class option to silence this warning.\n",
      "  \"this warning.\", FutureWarning)\n",
      "/Users/ssrosa/anaconda3/envs/learn-env/lib/python3.6/site-packages/sklearn/linear_model/logistic.py:433: FutureWarning: Default solver will be changed to 'lbfgs' in 0.22. Specify a solver to silence this warning.\n",
      "  FutureWarning)\n",
      "/Users/ssrosa/anaconda3/envs/learn-env/lib/python3.6/site-packages/sklearn/linear_model/logistic.py:460: FutureWarning: Default multi_class will be changed to 'auto' in 0.22. Specify the multi_class option to silence this warning.\n",
      "  \"this warning.\", FutureWarning)\n",
      "/Users/ssrosa/anaconda3/envs/learn-env/lib/python3.6/site-packages/sklearn/linear_model/logistic.py:433: FutureWarning: Default solver will be changed to 'lbfgs' in 0.22. Specify a solver to silence this warning.\n",
      "  FutureWarning)\n",
      "/Users/ssrosa/anaconda3/envs/learn-env/lib/python3.6/site-packages/sklearn/linear_model/logistic.py:460: FutureWarning: Default multi_class will be changed to 'auto' in 0.22. Specify the multi_class option to silence this warning.\n",
      "  \"this warning.\", FutureWarning)\n",
      "/Users/ssrosa/anaconda3/envs/learn-env/lib/python3.6/site-packages/sklearn/linear_model/logistic.py:433: FutureWarning: Default solver will be changed to 'lbfgs' in 0.22. Specify a solver to silence this warning.\n",
      "  FutureWarning)\n",
      "/Users/ssrosa/anaconda3/envs/learn-env/lib/python3.6/site-packages/sklearn/linear_model/logistic.py:460: FutureWarning: Default multi_class will be changed to 'auto' in 0.22. Specify the multi_class option to silence this warning.\n",
      "  \"this warning.\", FutureWarning)\n",
      "/Users/ssrosa/anaconda3/envs/learn-env/lib/python3.6/site-packages/sklearn/linear_model/logistic.py:433: FutureWarning: Default solver will be changed to 'lbfgs' in 0.22. Specify a solver to silence this warning.\n",
      "  FutureWarning)\n",
      "/Users/ssrosa/anaconda3/envs/learn-env/lib/python3.6/site-packages/sklearn/linear_model/logistic.py:460: FutureWarning: Default multi_class will be changed to 'auto' in 0.22. Specify the multi_class option to silence this warning.\n",
      "  \"this warning.\", FutureWarning)\n",
      "/Users/ssrosa/anaconda3/envs/learn-env/lib/python3.6/site-packages/sklearn/linear_model/logistic.py:433: FutureWarning: Default solver will be changed to 'lbfgs' in 0.22. Specify a solver to silence this warning.\n",
      "  FutureWarning)\n",
      "/Users/ssrosa/anaconda3/envs/learn-env/lib/python3.6/site-packages/sklearn/linear_model/logistic.py:460: FutureWarning: Default multi_class will be changed to 'auto' in 0.22. Specify the multi_class option to silence this warning.\n",
      "  \"this warning.\", FutureWarning)\n",
      "/Users/ssrosa/anaconda3/envs/learn-env/lib/python3.6/site-packages/sklearn/linear_model/logistic.py:433: FutureWarning: Default solver will be changed to 'lbfgs' in 0.22. Specify a solver to silence this warning.\n",
      "  FutureWarning)\n",
      "/Users/ssrosa/anaconda3/envs/learn-env/lib/python3.6/site-packages/sklearn/linear_model/logistic.py:460: FutureWarning: Default multi_class will be changed to 'auto' in 0.22. Specify the multi_class option to silence this warning.\n",
      "  \"this warning.\", FutureWarning)\n",
      "/Users/ssrosa/anaconda3/envs/learn-env/lib/python3.6/site-packages/sklearn/linear_model/logistic.py:433: FutureWarning: Default solver will be changed to 'lbfgs' in 0.22. Specify a solver to silence this warning.\n",
      "  FutureWarning)\n",
      "/Users/ssrosa/anaconda3/envs/learn-env/lib/python3.6/site-packages/sklearn/linear_model/logistic.py:460: FutureWarning: Default multi_class will be changed to 'auto' in 0.22. Specify the multi_class option to silence this warning.\n",
      "  \"this warning.\", FutureWarning)\n"
     ]
    },
    {
     "data": {
      "image/png": "[encoded data removed]",
      "text/plain": [
       "<Figure size 720x432 with 1 Axes>"
      ]
     },
     "metadata": {
      "needs_background": "light"
     },
     "output_type": "display_data"
    }
   ],
   "source": [
    "#A range of regularization parameters to try\n",
    "params = np.arange(1, 20, 1)\n",
    "\n",
    "#Build a df to hold the scores for each iteration\n",
    "#Set up columns for a new df to hold scores\n",
    "score_columns = ['param_values', 'prec_train', 'prec_test', \n",
    "                     'recall_train', 'recall_test', 'f1_train', 'f1_test']\n",
    "    \n",
    "#Instantiate adf to use for storing scores\n",
    "lr_scores_df = pd.DataFrame(columns = score_columns)\n",
    "\n",
    "#Run a model for each parameter and record\n",
    "#its scores in the df\n",
    "for param in params:\n",
    "    #Build a logistic regression model\n",
    "    lr = LogisticRegression(fit_intercept = True, C = param)\n",
    "    #Fit the classifier to the training data\n",
    "    lr.fit(X_train, y_train)\n",
    "    #Generate predicted y values for training set\n",
    "    lr_y_hat_train = lr.predict(X_train)\n",
    "    #Generate predicted y values for testing set\n",
    "    lr_y_hat_test = lr.predict(X_test)\n",
    "    \n",
    "    #Get the scores\n",
    "    prec_train = precision_score(y_train, lr_y_hat_train, average = None).mean()\n",
    "    prec_test = precision_score(y_test, lr_y_hat_test, average = None).mean()\n",
    "    recall_train = recall_score(y_train, lr_y_hat_train, average = None).mean()\n",
    "    recall_test =  recall_score(y_test, lr_y_hat_test, average = None).mean()\n",
    "    f1_train = f1_score(y_train, lr_y_hat_train, average = None).mean()\n",
    "    f1_test = f1_score(y_test, lr_y_hat_test, average = None).mean()\n",
    "    \n",
    "    #Write the scores to the df\n",
    "    lr_scores_df = lr_scores_df.append({'param_values': param,\n",
    "               'prec_train': prec_train,\n",
    "               'prec_test': prec_test,\n",
    "               'recall_train': recall_train,\n",
    "               'recall_test': recall_test,\n",
    "               'f1_train': f1_train,\n",
    "               'f1_test': f1_test              \n",
    "              }, ignore_index = True)\n",
    "    \n",
    "#Visualize all attempts together\n",
    "plot_hypers(lr_scores_df, 'Logistic regression with various regularization parameters')"
   ]
  },
  {
   "cell_type": "code",
   "execution_count": 41,
   "metadata": {
    "collapsed": true
   },
   "outputs": [
    {
     "data": {
      "text/html": [
       "<div>\n",
       "<style scoped>\n",
       "    .dataframe tbody tr th:only-of-type {\n",
       "        vertical-align: middle;\n",
       "    }\n",
       "\n",
       "    .dataframe tbody tr th {\n",
       "        vertical-align: top;\n",
       "    }\n",
       "\n",
       "    .dataframe thead th {\n",
       "        text-align: right;\n",
       "    }\n",
       "</style>\n",
       "<table border=\"1\" class=\"dataframe\">\n",
       "  <thead>\n",
       "    <tr style=\"text-align: right;\">\n",
       "      <th></th>\n",
       "      <th>param_values</th>\n",
       "      <th>prec_train</th>\n",
       "      <th>prec_test</th>\n",
       "      <th>recall_train</th>\n",
       "      <th>recall_test</th>\n",
       "      <th>f1_train</th>\n",
       "      <th>f1_test</th>\n",
       "    </tr>\n",
       "  </thead>\n",
       "  <tbody>\n",
       "    <tr>\n",
       "      <th>0</th>\n",
       "      <td>1.0</td>\n",
       "      <td>0.489348</td>\n",
       "      <td>0.362278</td>\n",
       "      <td>0.500148</td>\n",
       "      <td>0.395449</td>\n",
       "      <td>0.485794</td>\n",
       "      <td>0.369075</td>\n",
       "    </tr>\n",
       "    <tr>\n",
       "      <th>1</th>\n",
       "      <td>2.0</td>\n",
       "      <td>0.488170</td>\n",
       "      <td>0.365125</td>\n",
       "      <td>0.498557</td>\n",
       "      <td>0.394406</td>\n",
       "      <td>0.485234</td>\n",
       "      <td>0.370836</td>\n",
       "    </tr>\n",
       "    <tr>\n",
       "      <th>2</th>\n",
       "      <td>3.0</td>\n",
       "      <td>0.494664</td>\n",
       "      <td>0.361401</td>\n",
       "      <td>0.504122</td>\n",
       "      <td>0.388912</td>\n",
       "      <td>0.492536</td>\n",
       "      <td>0.365810</td>\n",
       "    </tr>\n",
       "    <tr>\n",
       "      <th>3</th>\n",
       "      <td>4.0</td>\n",
       "      <td>0.492749</td>\n",
       "      <td>0.371979</td>\n",
       "      <td>0.501594</td>\n",
       "      <td>0.401554</td>\n",
       "      <td>0.490365</td>\n",
       "      <td>0.377090</td>\n",
       "    </tr>\n",
       "    <tr>\n",
       "      <th>4</th>\n",
       "      <td>5.0</td>\n",
       "      <td>0.488027</td>\n",
       "      <td>0.370737</td>\n",
       "      <td>0.497743</td>\n",
       "      <td>0.397472</td>\n",
       "      <td>0.486459</td>\n",
       "      <td>0.374813</td>\n",
       "    </tr>\n",
       "    <tr>\n",
       "      <th>5</th>\n",
       "      <td>6.0</td>\n",
       "      <td>0.484766</td>\n",
       "      <td>0.368817</td>\n",
       "      <td>0.494075</td>\n",
       "      <td>0.393569</td>\n",
       "      <td>0.482683</td>\n",
       "      <td>0.371015</td>\n",
       "    </tr>\n",
       "    <tr>\n",
       "      <th>6</th>\n",
       "      <td>7.0</td>\n",
       "      <td>0.486506</td>\n",
       "      <td>0.372064</td>\n",
       "      <td>0.495362</td>\n",
       "      <td>0.398331</td>\n",
       "      <td>0.484208</td>\n",
       "      <td>0.374876</td>\n",
       "    </tr>\n",
       "    <tr>\n",
       "      <th>7</th>\n",
       "      <td>8.0</td>\n",
       "      <td>0.485630</td>\n",
       "      <td>0.379248</td>\n",
       "      <td>0.494040</td>\n",
       "      <td>0.401732</td>\n",
       "      <td>0.483128</td>\n",
       "      <td>0.379966</td>\n",
       "    </tr>\n",
       "  </tbody>\n",
       "</table>\n",
       "</div>"
      ],
      "text/plain": [
       "   param_values  prec_train  prec_test  recall_train  recall_test  f1_train  \\\n",
       "0           1.0    0.489348   0.362278      0.500148     0.395449  0.485794   \n",
       "1           2.0    0.488170   0.365125      0.498557     0.394406  0.485234   \n",
       "2           3.0    0.494664   0.361401      0.504122     0.388912  0.492536   \n",
       "3           4.0    0.492749   0.371979      0.501594     0.401554  0.490365   \n",
       "4           5.0    0.488027   0.370737      0.497743     0.397472  0.486459   \n",
       "5           6.0    0.484766   0.368817      0.494075     0.393569  0.482683   \n",
       "6           7.0    0.486506   0.372064      0.495362     0.398331  0.484208   \n",
       "7           8.0    0.485630   0.379248      0.494040     0.401732  0.483128   \n",
       "\n",
       "    f1_test  \n",
       "0  0.369075  \n",
       "1  0.370836  \n",
       "2  0.365810  \n",
       "3  0.377090  \n",
       "4  0.374813  \n",
       "5  0.371015  \n",
       "6  0.374876  \n",
       "7  0.379966  "
      ]
     },
     "execution_count": 41,
     "metadata": {},
     "output_type": "execute_result"
    }
   ],
   "source": [
    "lr_scores_df.head(8)"
   ]
  },
  {
   "cell_type": "markdown",
   "metadata": {},
   "source": [
    "*Observations*: The scores for the test sets all peak at a regularization parameter of 8 but again really risen above the scores of the earlier models."
   ]
  },
  {
   "cell_type": "markdown",
   "metadata": {},
   "source": [
    "<a id = 'logreg_cv'></a>"
   ]
  },
  {
   "cell_type": "markdown",
   "metadata": {},
   "source": [
    "[(Back to top)](#top)\n",
    "\n",
    "## Logistic regression: cross validation"
   ]
  },
  {
   "cell_type": "code",
   "execution_count": null,
   "metadata": {},
   "outputs": [],
   "source": [
    "#>> clf = LogisticRegressionCV(cv=5, random_state=0,\n",
    "#...                            multi_class='multinomial').fit(X, y)"
   ]
  },
  {
   "cell_type": "code",
   "execution_count": 42,
   "metadata": {
    "scrolled": true
   },
   "outputs": [
    {
     "name": "stderr",
     "output_type": "stream",
     "text": [
      "/Users/ssrosa/anaconda3/envs/learn-env/lib/python3.6/site-packages/sklearn/model_selection/_split.py:2053: FutureWarning: You should specify a value for 'cv' instead of relying on the default value. The default value will change from 3 to 5 in version 0.22.\n",
      "  warnings.warn(CV_WARNING, FutureWarning)\n",
      "/Users/ssrosa/anaconda3/envs/learn-env/lib/python3.6/site-packages/sklearn/linear_model/logistic.py:758: ConvergenceWarning: lbfgs failed to converge. Increase the number of iterations.\n",
      "  \"of iterations.\", ConvergenceWarning)\n",
      "/Users/ssrosa/anaconda3/envs/learn-env/lib/python3.6/site-packages/sklearn/linear_model/logistic.py:758: ConvergenceWarning: lbfgs failed to converge. Increase the number of iterations.\n",
      "  \"of iterations.\", ConvergenceWarning)\n",
      "/Users/ssrosa/anaconda3/envs/learn-env/lib/python3.6/site-packages/sklearn/linear_model/logistic.py:758: ConvergenceWarning: lbfgs failed to converge. Increase the number of iterations.\n",
      "  \"of iterations.\", ConvergenceWarning)\n",
      "/Users/ssrosa/anaconda3/envs/learn-env/lib/python3.6/site-packages/sklearn/linear_model/logistic.py:758: ConvergenceWarning: lbfgs failed to converge. Increase the number of iterations.\n",
      "  \"of iterations.\", ConvergenceWarning)\n"
     ]
    },
    {
     "data": {
      "image/png": "[encoded data removed]",
      "text/plain": [
       "<Figure size 432x288 with 2 Axes>"
      ]
     },
     "metadata": {
      "needs_background": "light"
     },
     "output_type": "display_data"
    }
   ],
   "source": [
    "#Fit the training data to a logistic regression classifier with cross validation\n",
    "#class weight 'balanced' allowed it to classify one more class\n",
    "lrcv = LogisticRegressionCV(class_weight = 'balanced', \n",
    "                            multi_class = 'multinomial'\n",
    "                           ).fit(X_train, y_train)\n",
    "\n",
    "#Predict y values for training and test sets\n",
    "lrcv_y_hat_train = lrcv.predict(X_train)\n",
    "lrcv_y_hat_test = lrcv.predict(X_test)\n",
    "\n",
    "#Create a confusion matrix for the training set\n",
    "lrcv_conf_matrix_train = confusion_matrix(lrcv_y_hat_train, y_train)\n",
    "#Create a confusion matrix for the test set\n",
    "lrcv_conf_matrix_test = confusion_matrix(lrcv_y_hat_test, y_test)\n",
    "\n",
    "#Draw a confusion matrix for the training set\n",
    "plot_conf_matrix(lrcv_conf_matrix_train, title = 'LogReg with CV: training set', classes = class_names)"
   ]
  },
  {
   "cell_type": "code",
   "execution_count": 43,
   "metadata": {},
   "outputs": [
    {
     "data": {
      "image/png": "[encoded data removed]",
      "text/plain": [
       "<Figure size 432x288 with 2 Axes>"
      ]
     },
     "metadata": {
      "needs_background": "light"
     },
     "output_type": "display_data"
    }
   ],
   "source": [
    "#Draw a confusion matrix for the test set\n",
    "plot_conf_matrix(lrcv_conf_matrix_test, title = 'LogReg with CV: test set', classes = class_names)"
   ]
  },
  {
   "cell_type": "code",
   "execution_count": 44,
   "metadata": {},
   "outputs": [
    {
     "data": {
      "image/png": "[encoded data removed]",
      "text/plain": [
       "<Figure size 432x288 with 2 Axes>"
      ]
     },
     "metadata": {
      "needs_background": "light"
     },
     "output_type": "display_data"
    }
   ],
   "source": [
    "#Compare to plain vanilla logreg\n",
    "plot_conf_matrix(first_lr_conf_matrix_test, title = 'First logreg: test set', classes = class_names)"
   ]
  },
  {
   "cell_type": "code",
   "execution_count": 45,
   "metadata": {
    "scrolled": true
   },
   "outputs": [
    {
     "name": "stdout",
     "output_type": "stream",
     "text": [
      "LogReg with CV, training set:\n",
      "              precision    recall  f1-score   support\n",
      "\n",
      "    Bulletin       0.32      0.56      0.41       108\n",
      "       Glory       0.44      0.46      0.45        91\n",
      "        Lewd       0.38      0.21      0.27       111\n",
      "        Hail       0.40      0.43      0.42       113\n",
      "        Love       0.52      0.36      0.42       128\n",
      "      Gossip       0.76      0.98      0.86        89\n",
      "  Literature       0.35      0.27      0.30       105\n",
      "\n",
      "   micro avg       0.45      0.45      0.45       745\n",
      "   macro avg       0.45      0.47      0.45       745\n",
      "weighted avg       0.45      0.45      0.44       745\n",
      "\n",
      "LogReg with CV, testing set:\n",
      "              precision    recall  f1-score   support\n",
      "\n",
      "    Bulletin       0.25      0.50      0.34        26\n",
      "       Glory       0.37      0.32      0.34        41\n",
      "        Lewd       0.30      0.22      0.25        36\n",
      "        Hail       0.46      0.54      0.49        39\n",
      "        Love       0.25      0.30      0.27        30\n",
      "      Gossip       0.89      0.97      0.93        35\n",
      "  Literature       0.06      0.02      0.03        42\n",
      "\n",
      "   micro avg       0.40      0.40      0.40       249\n",
      "   macro avg       0.37      0.41      0.38       249\n",
      "weighted avg       0.37      0.40      0.38       249\n",
      "\n"
     ]
    }
   ],
   "source": [
    "print('LogReg with CV, training set:')\n",
    "print(classification_report(y_train, lrcv_y_hat_train, target_names = class_names))\n",
    "print('LogReg with CV, testing set:')\n",
    "print(classification_report(y_test, lrcv_y_hat_test, target_names = class_names))"
   ]
  },
  {
   "cell_type": "code",
   "execution_count": 46,
   "metadata": {},
   "outputs": [],
   "source": [
    "#lrcv.n_iter_"
   ]
  },
  {
   "cell_type": "markdown",
   "metadata": {},
   "source": [
    "*Observations*: The model with cross validation does not perform any better than the original logistic regression."
   ]
  },
  {
   "cell_type": "markdown",
   "metadata": {},
   "source": [
    "<a id = 'logreg_final'></a>"
   ]
  },
  {
   "cell_type": "markdown",
   "metadata": {},
   "source": [
    "## The final logistic regression model"
   ]
  },
  {
   "cell_type": "code",
   "execution_count": null,
   "metadata": {},
   "outputs": [],
   "source": []
  },
  {
   "cell_type": "code",
   "execution_count": null,
   "metadata": {},
   "outputs": [],
   "source": []
  },
  {
   "cell_type": "code",
   "execution_count": null,
   "metadata": {},
   "outputs": [],
   "source": []
  },
  {
   "cell_type": "code",
   "execution_count": null,
   "metadata": {},
   "outputs": [],
   "source": []
  },
  {
   "cell_type": "markdown",
   "metadata": {},
   "source": [
    "<a id = 'model2'></a>"
   ]
  },
  {
   "cell_type": "markdown",
   "metadata": {},
   "source": [
    "[(Back to top)](#top)\n",
    "\n",
    "# Model #2: Decision tree"
   ]
  },
  {
   "cell_type": "code",
   "execution_count": 30,
   "metadata": {},
   "outputs": [],
   "source": [
    "df = copy.deepcopy(df_clean)"
   ]
  },
  {
   "cell_type": "markdown",
   "metadata": {},
   "source": [
    "Preparing the data:"
   ]
  },
  {
   "cell_type": "code",
   "execution_count": 31,
   "metadata": {},
   "outputs": [
    {
     "name": "stderr",
     "output_type": "stream",
     "text": [
      "/Users/ssrosa/anaconda3/envs/learn-env/lib/python3.6/site-packages/sklearn/preprocessing/_encoders.py:368: FutureWarning: The handling of integer data will change in version 0.22. Currently, the categories are determined based on the range [0, max(values)], while in the future they will be determined based on the unique values.\n",
      "If you want the future behaviour and silence this warning, you can specify \"categories='auto'\".\n",
      "In case you used a LabelEncoder before this OneHotEncoder to convert the categories to integers, then you can now use the OneHotEncoder directly.\n",
      "  warnings.warn(msg, FutureWarning)\n",
      "/Users/ssrosa/anaconda3/envs/learn-env/lib/python3.6/site-packages/pandas/core/frame.py:3697: SettingWithCopyWarning: \n",
      "A value is trying to be set on a copy of a slice from a DataFrame\n",
      "\n",
      "See the caveats in the documentation: http://pandas.pydata.org/pandas-docs/stable/indexing.html#indexing-view-versus-copy\n",
      "  errors=errors)\n"
     ]
    }
   ],
   "source": [
    "class_names = set(df['Category'])\n",
    "\n",
    "# Create label encoder instance\n",
    "lb = LabelEncoder() \n",
    "\n",
    "# Create Numerical labels for categorical columns\n",
    "df['Literacy_'] = lb.fit_transform(df['Literacy'])\n",
    "df['Position_'] = lb.fit_transform(df['Position'])\n",
    "df['Build_Type_'] = lb.fit_transform(df['Building Type'])\n",
    "df['Famous_'] = lb.fit_transform(df['Famous House'])\n",
    "df['Writer_'] = lb.fit_transform(df['Writer'])\n",
    "df['Econ_Status_'] = lb.fit_transform(df['Socio-economic status'])\n",
    "df['Imperative_'] = lb.fit_transform(df['Imperative'])\n",
    "#the target\n",
    "df['Category_'] = lb.fit_transform(df['Category'])\n",
    "\n",
    "columns_to_encode = ['Literacy_', 'Position_', 'Build_Type_', \n",
    "                     'Famous_', 'Writer_', 'Econ_Status_', \n",
    "                     'Imperative_'\n",
    "                    ]\n",
    "\n",
    "columns_continuous = ['Reggio', 'Insula', 'Flohr Score', \n",
    "                      'Characters'\n",
    "                     ]\n",
    "\n",
    "# Split features and target variable\n",
    "#X = df[columns_to_encode,]\n",
    "y = df['Category_']\n",
    "\n",
    "# Instantiate a one hot encoder\n",
    "enc = OneHotEncoder()\n",
    "\n",
    "# Fit the feature set X\n",
    "enc.fit(df[columns_to_encode])\n",
    "\n",
    "# Transform X's encoded columns to onehot array \n",
    "onehotX = enc.transform(df[columns_to_encode])\n",
    "\n",
    "#Convert the sparse matrix back into a DF\n",
    "X_onehot = pd.DataFrame(onehotX.todense())\n",
    "#Get just the continuous columns\n",
    "continuous = df[columns_continuous]\n",
    "#Have to reset the index so the rows will line up with\n",
    "#the rows in the encoded set\n",
    "continuous.reset_index(inplace = True)\n",
    "continuous.drop(['index'], axis = 1, inplace = True)\n",
    "\n",
    "#Bring back together the encoded columns and the continuous columns\n",
    "X = pd.concat([X_onehot, continuous], axis = 1)\n",
    "\n",
    "# Create a 70/30 split\n",
    "X_train, X_test, y_train, y_test = train_test_split(X, y, test_size = 0.3, random_state = 12)"
   ]
  },
  {
   "cell_type": "markdown",
   "metadata": {},
   "source": [
    "## A plain vanilla decision tree"
   ]
  },
  {
   "cell_type": "code",
   "execution_count": 49,
   "metadata": {},
   "outputs": [],
   "source": [
    "# Train the classifier and make predictions\n",
    "first_tree = DecisionTreeClassifier(criterion = 'entropy')\n",
    "first_tree.fit(X_train,y_train) \n",
    "y_hat_train = first_tree.predict(X_train)\n",
    "y_hat_test = first_tree.predict(X_test)"
   ]
  },
  {
   "cell_type": "markdown",
   "metadata": {},
   "source": [
    "### Visualize the result"
   ]
  },
  {
   "cell_type": "code",
   "execution_count": 89,
   "metadata": {
    "scrolled": true
   },
   "outputs": [
    {
     "data": {
      "image/png": "[encoded data removed]",
      "text/plain": [
       "<Figure size 432x288 with 2 Axes>"
      ]
     },
     "metadata": {
      "needs_background": "light"
     },
     "output_type": "display_data"
    }
   ],
   "source": [
    "#Create confusion matrices with the results\n",
    "\n",
    "class_names = set(df['Category'])\n",
    "\n",
    "#A CM for the training set\n",
    "first_tree_conf_matrix_train = confusion_matrix(y_hat_train, y_train)\n",
    "#A CM for the test set\n",
    "first_tree_conf_matrix_test = confusion_matrix(y_hat_test, y_test)\n",
    "\n",
    "#Draw the training CM\n",
    "plot_conf_matrix(first_tree_conf_matrix_train, title = 'Training set', classes = class_names)"
   ]
  },
  {
   "cell_type": "code",
   "execution_count": 90,
   "metadata": {
    "scrolled": true
   },
   "outputs": [
    {
     "name": "stdout",
     "output_type": "stream",
     "text": [
      "             precision    recall  f1-score   support\n",
      "\n",
      "      Glory       0.98      1.00      0.99       102\n",
      " Literature       1.00      1.00      1.00        88\n",
      "   Bulletin       0.98      1.00      0.99        95\n",
      "     Gossip       0.99      0.99      0.99       107\n",
      "       Hail       0.97      0.97      0.97       120\n",
      "       Love       1.00      0.99      0.99        85\n",
      "       Lewd       1.00      0.96      0.98        98\n",
      "\n",
      "avg / total       0.99      0.99      0.99       695\n",
      "\n"
     ]
    }
   ],
   "source": [
    "print(classification_report(y_train, y_hat_train, target_names = class_names))"
   ]
  },
  {
   "cell_type": "markdown",
   "metadata": {},
   "source": [
    "Very over-fitted!"
   ]
  },
  {
   "cell_type": "code",
   "execution_count": 91,
   "metadata": {},
   "outputs": [
    {
     "data": {
      "image/png": "[encoded data removed]",
      "text/plain": [
       "<Figure size 432x288 with 2 Axes>"
      ]
     },
     "metadata": {
      "needs_background": "light"
     },
     "output_type": "display_data"
    }
   ],
   "source": [
    "#Draw the test CM\n",
    "plot_conf_matrix(first_tree_conf_matrix_test, title = 'Test set', classes = class_names)"
   ]
  },
  {
   "cell_type": "code",
   "execution_count": 51,
   "metadata": {},
   "outputs": [
    {
     "name": "stdout",
     "output_type": "stream",
     "text": [
      "             precision    recall  f1-score   support\n",
      "\n",
      "      Glory       0.29      0.44      0.35        32\n",
      " Literature       0.22      0.14      0.17        44\n",
      "   Bulletin       0.23      0.19      0.21        52\n",
      "     Gossip       0.36      0.47      0.40        45\n",
      "       Hail       0.32      0.37      0.34        38\n",
      "       Love       0.82      0.79      0.81        39\n",
      "       Lewd       0.21      0.16      0.18        49\n",
      "\n",
      "avg / total       0.34      0.35      0.34       299\n",
      "\n"
     ]
    }
   ],
   "source": [
    "print(classification_report(y_test, y_hat_test, target_names = class_names))"
   ]
  },
  {
   "cell_type": "code",
   "execution_count": null,
   "metadata": {},
   "outputs": [],
   "source": [
    "#Image = draw_graph(clf)"
   ]
  },
  {
   "cell_type": "markdown",
   "metadata": {},
   "source": [
    "In looking at the graph I notice that X_54, 'Characters' appears again and again.\n",
    "\n",
    "### What about the cross validation score?"
   ]
  },
  {
   "cell_type": "code",
   "execution_count": 50,
   "metadata": {},
   "outputs": [
    {
     "name": "stdout",
     "output_type": "stream",
     "text": [
      "Mean Cross Validation Score: 27.77%\n"
     ]
    }
   ],
   "source": [
    "plain_cv_score = cross_val_score(first_tree, X, y, cv=3)\n",
    "mean_plain_cv_score = np.mean(plain_cv_score)\n",
    "\n",
    "print(\"Mean Cross Validation Score: {:.4}%\".format(mean_plain_cv_score * 100))"
   ]
  },
  {
   "cell_type": "code",
   "execution_count": 54,
   "metadata": {
    "scrolled": true
   },
   "outputs": [
    {
     "name": "stdout",
     "output_type": "stream",
     "text": [
      "Features: 55\n",
      "Tree depth: 21\n",
      "Nodes and leaves: 735\n",
      "\"Capacity\": 735\n"
     ]
    }
   ],
   "source": [
    "#MAybe useful for interpreting graph\n",
    "print('Features:', clf.n_features_)\n",
    "print('Tree depth:', clf.tree_.max_depth)\n",
    "print('Nodes and leaves:', clf.tree_.node_count)\n",
    "print('\"Capacity\":', clf.tree_.capacity)"
   ]
  },
  {
   "cell_type": "markdown",
   "metadata": {},
   "source": [
    "Accuracy is lower than plain vanilla logistic regression. \n",
    "\n",
    "Decision tree is very complex.\n",
    "\n",
    "Needs hyperparameter tuning."
   ]
  },
  {
   "cell_type": "markdown",
   "metadata": {},
   "source": [
    "What about with the gini coefficient instead?"
   ]
  },
  {
   "cell_type": "markdown",
   "metadata": {},
   "source": [
    "Has just slightly lower accuracy scores and 10 fewer nodes than when measuring entropy."
   ]
  },
  {
   "cell_type": "markdown",
   "metadata": {},
   "source": [
    "<a id = 'tree_tuning_hypers'></a>"
   ]
  },
  {
   "cell_type": "markdown",
   "metadata": {},
   "source": [
    "[(Back to top)](#top)\n",
    "\n",
    "## Decision tree: tuning hyperparameters"
   ]
  },
  {
   "cell_type": "markdown",
   "metadata": {},
   "source": [
    "### Compare information-loss criterion"
   ]
  },
  {
   "cell_type": "code",
   "execution_count": 51,
   "metadata": {},
   "outputs": [
    {
     "name": "stdout",
     "output_type": "stream",
     "text": [
      "Training set:\n",
      "              precision    recall  f1-score   support\n",
      "\n",
      "    Bulletin       0.98      1.00      0.99       102\n",
      "       Glory       1.00      1.00      1.00        88\n",
      "        Lewd       0.98      1.00      0.99        95\n",
      "        Hail       0.99      0.99      0.99       107\n",
      "        Love       0.97      0.97      0.97       120\n",
      "      Gossip       1.00      0.99      0.99        85\n",
      "  Literature       1.00      0.96      0.98        98\n",
      "\n",
      "   micro avg       0.99      0.99      0.99       695\n",
      "   macro avg       0.99      0.99      0.99       695\n",
      "weighted avg       0.99      0.99      0.99       695\n",
      "\n",
      "Test set:\n",
      "              precision    recall  f1-score   support\n",
      "\n",
      "    Bulletin       0.31      0.41      0.35        32\n",
      "       Glory       0.28      0.23      0.25        44\n",
      "        Lewd       0.18      0.17      0.17        52\n",
      "        Hail       0.36      0.42      0.39        45\n",
      "        Love       0.21      0.26      0.23        38\n",
      "      Gossip       0.82      0.69      0.75        39\n",
      "  Literature       0.17      0.12      0.14        49\n",
      "\n",
      "   micro avg       0.31      0.31      0.31       299\n",
      "   macro avg       0.33      0.33      0.33       299\n",
      "weighted avg       0.32      0.31      0.31       299\n",
      "\n"
     ]
    }
   ],
   "source": [
    "# Train the classifier and make predictions\n",
    "clf = DecisionTreeClassifier(criterion = 'gini')\n",
    "clf.fit(X_train,y_train) \n",
    "y_hat_train = clf.predict(X_train)\n",
    "y_hat_test = clf.predict(X_test)\n",
    "\n",
    "class_names = set(df['Category'])\n",
    "\n",
    "#A CM for the training set\n",
    "conf_matrix_train = confusion_matrix(y_hat_train, y_train)\n",
    "#A CM for the test set\n",
    "conf_matrix_test = confusion_matrix(y_hat_test, y_test)\n",
    "plain_train_report = classification_report(y_train, y_hat_train, target_names = class_names)\n",
    "plain_test_report = classification_report(y_test, y_hat_test, target_names = class_names)\n",
    "print('Training set:')\n",
    "print(plain_train_report)\n",
    "print('Test set:')\n",
    "print(plain_test_report)"
   ]
  },
  {
   "cell_type": "markdown",
   "metadata": {},
   "source": [
    "Even lower than the model with the entropy coefficient."
   ]
  },
  {
   "cell_type": "code",
   "execution_count": 52,
   "metadata": {},
   "outputs": [
    {
     "name": "stdout",
     "output_type": "stream",
     "text": [
      "Features: 55\n",
      "Tree depth: 22\n",
      "Nodes and leaves: 727\n",
      "\"Capacity\": 727\n"
     ]
    }
   ],
   "source": [
    "print('Features:', clf.n_features_)\n",
    "print('Tree depth:', clf.tree_.max_depth)\n",
    "print('Nodes and leaves:', clf.tree_.node_count)\n",
    "print('\"Capacity\":', clf.tree_.capacity)"
   ]
  },
  {
   "cell_type": "markdown",
   "metadata": {},
   "source": [
    "Let's tun some of these other parameters."
   ]
  },
  {
   "cell_type": "markdown",
   "metadata": {},
   "source": [
    "### Compare values of max_depth"
   ]
  },
  {
   "cell_type": "code",
   "execution_count": 53,
   "metadata": {},
   "outputs": [
    {
     "name": "stdout",
     "output_type": "stream",
     "text": [
      "Max depth of original tree: 22\n"
     ]
    }
   ],
   "source": [
    "print('Max depth of original tree:', clf.tree_.max_depth)"
   ]
  },
  {
   "cell_type": "code",
   "execution_count": 54,
   "metadata": {},
   "outputs": [
    {
     "name": "stderr",
     "output_type": "stream",
     "text": [
      "/Users/ssrosa/anaconda3/envs/learn-env/lib/python3.6/site-packages/sklearn/metrics/classification.py:1143: UndefinedMetricWarning: Precision is ill-defined and being set to 0.0 in labels with no predicted samples.\n",
      "  'precision', 'predicted', average, warn_for)\n",
      "/Users/ssrosa/anaconda3/envs/learn-env/lib/python3.6/site-packages/sklearn/metrics/classification.py:1143: UndefinedMetricWarning: F-score is ill-defined and being set to 0.0 in labels with no predicted samples.\n",
      "  'precision', 'predicted', average, warn_for)\n"
     ]
    },
    {
     "data": {
      "image/png": "[encoded data removed]",
      "text/plain": [
       "<Figure size 720x432 with 1 Axes>"
      ]
     },
     "metadata": {
      "needs_background": "light"
     },
     "output_type": "display_data"
    }
   ],
   "source": [
    "#Set values of chosen hyperparameter\n",
    "depth_params = np.arange(3, 22, 3)\n",
    "#Run model for each param value and store scores\n",
    "depth_df = compare_hypers(depth_params, 'depth', X_train, X_test, y_train, y_test)\n",
    "#Plot scores\n",
    "plot_hypers(depth_df, 'depth')"
   ]
  },
  {
   "cell_type": "code",
   "execution_count": 55,
   "metadata": {},
   "outputs": [
    {
     "data": {
      "text/html": [
       "<div>\n",
       "<style scoped>\n",
       "    .dataframe tbody tr th:only-of-type {\n",
       "        vertical-align: middle;\n",
       "    }\n",
       "\n",
       "    .dataframe tbody tr th {\n",
       "        vertical-align: top;\n",
       "    }\n",
       "\n",
       "    .dataframe thead th {\n",
       "        text-align: right;\n",
       "    }\n",
       "</style>\n",
       "<table border=\"1\" class=\"dataframe\">\n",
       "  <thead>\n",
       "    <tr style=\"text-align: right;\">\n",
       "      <th></th>\n",
       "      <th>param_values</th>\n",
       "      <th>prec_train</th>\n",
       "      <th>prec_test</th>\n",
       "      <th>recall_train</th>\n",
       "      <th>recall_test</th>\n",
       "      <th>f1_train</th>\n",
       "      <th>f1_test</th>\n",
       "    </tr>\n",
       "  </thead>\n",
       "  <tbody>\n",
       "    <tr>\n",
       "      <th>0</th>\n",
       "      <td>3.0</td>\n",
       "      <td>0.302982</td>\n",
       "      <td>0.280303</td>\n",
       "      <td>0.374851</td>\n",
       "      <td>0.375712</td>\n",
       "      <td>0.291390</td>\n",
       "      <td>0.282083</td>\n",
       "    </tr>\n",
       "    <tr>\n",
       "      <th>1</th>\n",
       "      <td>6.0</td>\n",
       "      <td>0.614380</td>\n",
       "      <td>0.369267</td>\n",
       "      <td>0.492796</td>\n",
       "      <td>0.377594</td>\n",
       "      <td>0.476358</td>\n",
       "      <td>0.348193</td>\n",
       "    </tr>\n",
       "    <tr>\n",
       "      <th>2</th>\n",
       "      <td>9.0</td>\n",
       "      <td>0.743527</td>\n",
       "      <td>0.376367</td>\n",
       "      <td>0.648333</td>\n",
       "      <td>0.373079</td>\n",
       "      <td>0.661109</td>\n",
       "      <td>0.351752</td>\n",
       "    </tr>\n",
       "    <tr>\n",
       "      <th>3</th>\n",
       "      <td>12.0</td>\n",
       "      <td>0.808358</td>\n",
       "      <td>0.357606</td>\n",
       "      <td>0.759089</td>\n",
       "      <td>0.375642</td>\n",
       "      <td>0.767652</td>\n",
       "      <td>0.355249</td>\n",
       "    </tr>\n",
       "    <tr>\n",
       "      <th>4</th>\n",
       "      <td>15.0</td>\n",
       "      <td>0.881937</td>\n",
       "      <td>0.385290</td>\n",
       "      <td>0.875748</td>\n",
       "      <td>0.396781</td>\n",
       "      <td>0.876596</td>\n",
       "      <td>0.381563</td>\n",
       "    </tr>\n",
       "    <tr>\n",
       "      <th>5</th>\n",
       "      <td>18.0</td>\n",
       "      <td>0.956349</td>\n",
       "      <td>0.350225</td>\n",
       "      <td>0.953852</td>\n",
       "      <td>0.364123</td>\n",
       "      <td>0.954368</td>\n",
       "      <td>0.350445</td>\n",
       "    </tr>\n",
       "    <tr>\n",
       "      <th>6</th>\n",
       "      <td>21.0</td>\n",
       "      <td>0.988250</td>\n",
       "      <td>0.344728</td>\n",
       "      <td>0.987582</td>\n",
       "      <td>0.362147</td>\n",
       "      <td>0.987819</td>\n",
       "      <td>0.346394</td>\n",
       "    </tr>\n",
       "  </tbody>\n",
       "</table>\n",
       "</div>"
      ],
      "text/plain": [
       "   param_values  prec_train  prec_test  recall_train  recall_test  f1_train  \\\n",
       "0           3.0    0.302982   0.280303      0.374851     0.375712  0.291390   \n",
       "1           6.0    0.614380   0.369267      0.492796     0.377594  0.476358   \n",
       "2           9.0    0.743527   0.376367      0.648333     0.373079  0.661109   \n",
       "3          12.0    0.808358   0.357606      0.759089     0.375642  0.767652   \n",
       "4          15.0    0.881937   0.385290      0.875748     0.396781  0.876596   \n",
       "5          18.0    0.956349   0.350225      0.953852     0.364123  0.954368   \n",
       "6          21.0    0.988250   0.344728      0.987582     0.362147  0.987819   \n",
       "\n",
       "    f1_test  \n",
       "0  0.282083  \n",
       "1  0.348193  \n",
       "2  0.351752  \n",
       "3  0.355249  \n",
       "4  0.381563  \n",
       "5  0.350445  \n",
       "6  0.346394  "
      ]
     },
     "execution_count": 55,
     "metadata": {},
     "output_type": "execute_result"
    }
   ],
   "source": [
    "depth_df"
   ]
  },
  {
   "cell_type": "markdown",
   "metadata": {},
   "source": [
    "Test set peaks at a depth of 15. (But only a very slight peak.)"
   ]
  },
  {
   "cell_type": "markdown",
   "metadata": {},
   "source": [
    "### Compare values of min_samples_split"
   ]
  },
  {
   "cell_type": "code",
   "execution_count": 56,
   "metadata": {},
   "outputs": [
    {
     "name": "stdout",
     "output_type": "stream",
     "text": [
      "Min sample split of original tree: 2\n"
     ]
    }
   ],
   "source": [
    "print('Min sample split of original tree:', 2 )"
   ]
  },
  {
   "cell_type": "code",
   "execution_count": 57,
   "metadata": {
    "scrolled": false
   },
   "outputs": [
    {
     "data": {
      "image/png": "[encoded data removed]",
      "text/plain": [
       "<Figure size 720x432 with 1 Axes>"
      ]
     },
     "metadata": {
      "needs_background": "light"
     },
     "output_type": "display_data"
    }
   ],
   "source": [
    "#Set values of chosen hyperparameter\n",
    "samples_split_params = np.arange(2, 20, 4)\n",
    "#Run model for each param value and store scores\n",
    "samples_split_df = compare_hypers(samples_split_params, 'samples_split', X_train, X_test, y_train, y_test)\n",
    "#Plot scores\n",
    "plot_hypers(samples_split_df, 'samples_split')"
   ]
  },
  {
   "cell_type": "code",
   "execution_count": 44,
   "metadata": {
    "collapsed": true
   },
   "outputs": [
    {
     "data": {
      "text/html": [
       "<div>\n",
       "<style scoped>\n",
       "    .dataframe tbody tr th:only-of-type {\n",
       "        vertical-align: middle;\n",
       "    }\n",
       "\n",
       "    .dataframe tbody tr th {\n",
       "        vertical-align: top;\n",
       "    }\n",
       "\n",
       "    .dataframe thead th {\n",
       "        text-align: right;\n",
       "    }\n",
       "</style>\n",
       "<table border=\"1\" class=\"dataframe\">\n",
       "  <thead>\n",
       "    <tr style=\"text-align: right;\">\n",
       "      <th></th>\n",
       "      <th>param_values</th>\n",
       "      <th>prec_train</th>\n",
       "      <th>prec_test</th>\n",
       "      <th>recall_train</th>\n",
       "      <th>recall_test</th>\n",
       "      <th>f1_train</th>\n",
       "      <th>f1_test</th>\n",
       "    </tr>\n",
       "  </thead>\n",
       "  <tbody>\n",
       "    <tr>\n",
       "      <th>0</th>\n",
       "      <td>2.0</td>\n",
       "      <td>0.988250</td>\n",
       "      <td>0.338616</td>\n",
       "      <td>0.987582</td>\n",
       "      <td>0.360219</td>\n",
       "      <td>0.987819</td>\n",
       "      <td>0.340997</td>\n",
       "    </tr>\n",
       "    <tr>\n",
       "      <th>1</th>\n",
       "      <td>4.0</td>\n",
       "      <td>0.862982</td>\n",
       "      <td>0.371737</td>\n",
       "      <td>0.860074</td>\n",
       "      <td>0.388822</td>\n",
       "      <td>0.858197</td>\n",
       "      <td>0.371302</td>\n",
       "    </tr>\n",
       "    <tr>\n",
       "      <th>2</th>\n",
       "      <td>6.0</td>\n",
       "      <td>0.780057</td>\n",
       "      <td>0.388133</td>\n",
       "      <td>0.771995</td>\n",
       "      <td>0.397033</td>\n",
       "      <td>0.771845</td>\n",
       "      <td>0.381539</td>\n",
       "    </tr>\n",
       "    <tr>\n",
       "      <th>3</th>\n",
       "      <td>8.0</td>\n",
       "      <td>0.724944</td>\n",
       "      <td>0.390761</td>\n",
       "      <td>0.710846</td>\n",
       "      <td>0.398797</td>\n",
       "      <td>0.707856</td>\n",
       "      <td>0.379502</td>\n",
       "    </tr>\n",
       "    <tr>\n",
       "      <th>4</th>\n",
       "      <td>10.0</td>\n",
       "      <td>0.666627</td>\n",
       "      <td>0.405133</td>\n",
       "      <td>0.660669</td>\n",
       "      <td>0.421564</td>\n",
       "      <td>0.654478</td>\n",
       "      <td>0.398824</td>\n",
       "    </tr>\n",
       "    <tr>\n",
       "      <th>5</th>\n",
       "      <td>12.0</td>\n",
       "      <td>0.628235</td>\n",
       "      <td>0.416408</td>\n",
       "      <td>0.620344</td>\n",
       "      <td>0.442070</td>\n",
       "      <td>0.608602</td>\n",
       "      <td>0.409847</td>\n",
       "    </tr>\n",
       "    <tr>\n",
       "      <th>6</th>\n",
       "      <td>14.0</td>\n",
       "      <td>0.619834</td>\n",
       "      <td>0.419035</td>\n",
       "      <td>0.612681</td>\n",
       "      <td>0.444804</td>\n",
       "      <td>0.600638</td>\n",
       "      <td>0.414121</td>\n",
       "    </tr>\n",
       "    <tr>\n",
       "      <th>7</th>\n",
       "      <td>16.0</td>\n",
       "      <td>0.607261</td>\n",
       "      <td>0.410985</td>\n",
       "      <td>0.595347</td>\n",
       "      <td>0.438810</td>\n",
       "      <td>0.579780</td>\n",
       "      <td>0.406754</td>\n",
       "    </tr>\n",
       "    <tr>\n",
       "      <th>8</th>\n",
       "      <td>18.0</td>\n",
       "      <td>0.584427</td>\n",
       "      <td>0.403562</td>\n",
       "      <td>0.570118</td>\n",
       "      <td>0.434546</td>\n",
       "      <td>0.554446</td>\n",
       "      <td>0.398038</td>\n",
       "    </tr>\n",
       "  </tbody>\n",
       "</table>\n",
       "</div>"
      ],
      "text/plain": [
       "   param_values  prec_train  prec_test  recall_train  recall_test  f1_train  \\\n",
       "0           2.0    0.988250   0.338616      0.987582     0.360219  0.987819   \n",
       "1           4.0    0.862982   0.371737      0.860074     0.388822  0.858197   \n",
       "2           6.0    0.780057   0.388133      0.771995     0.397033  0.771845   \n",
       "3           8.0    0.724944   0.390761      0.710846     0.398797  0.707856   \n",
       "4          10.0    0.666627   0.405133      0.660669     0.421564  0.654478   \n",
       "5          12.0    0.628235   0.416408      0.620344     0.442070  0.608602   \n",
       "6          14.0    0.619834   0.419035      0.612681     0.444804  0.600638   \n",
       "7          16.0    0.607261   0.410985      0.595347     0.438810  0.579780   \n",
       "8          18.0    0.584427   0.403562      0.570118     0.434546  0.554446   \n",
       "\n",
       "    f1_test  \n",
       "0  0.340997  \n",
       "1  0.371302  \n",
       "2  0.381539  \n",
       "3  0.379502  \n",
       "4  0.398824  \n",
       "5  0.409847  \n",
       "6  0.414121  \n",
       "7  0.406754  \n",
       "8  0.398038  "
      ]
     },
     "execution_count": 44,
     "metadata": {},
     "output_type": "execute_result"
    }
   ],
   "source": [
    "samples_split_df"
   ]
  },
  {
   "cell_type": "markdown",
   "metadata": {},
   "source": [
    "14 minimum samples to split"
   ]
  },
  {
   "cell_type": "markdown",
   "metadata": {},
   "source": [
    "### Compare values of min_samples_leaf"
   ]
  },
  {
   "cell_type": "code",
   "execution_count": 58,
   "metadata": {},
   "outputs": [
    {
     "data": {
      "image/png": "[encoded data removed]",
      "text/plain": [
       "<Figure size 720x432 with 1 Axes>"
      ]
     },
     "metadata": {
      "needs_background": "light"
     },
     "output_type": "display_data"
    }
   ],
   "source": [
    "#Set values of chosen hyperparameter\n",
    "samples_leaf_params = np.arange(1, 40, 5)\n",
    "#Run model for each param value and store scores\n",
    "samples_leaf_df = compare_hypers(samples_leaf_params, 'samples_leaf', X_train, X_test, y_train, y_test)\n",
    "#Plot scores\n",
    "plot_hypers(samples_leaf_df, 'samples_leaf')"
   ]
  },
  {
   "cell_type": "markdown",
   "metadata": {},
   "source": [
    "*Observations*: The test set seems to reach a peak at 6 samples per leaf."
   ]
  },
  {
   "cell_type": "markdown",
   "metadata": {},
   "source": [
    "### Compare values of max_features"
   ]
  },
  {
   "cell_type": "code",
   "execution_count": 59,
   "metadata": {},
   "outputs": [
    {
     "name": "stdout",
     "output_type": "stream",
     "text": [
      "Features in the original tree: 55\n"
     ]
    }
   ],
   "source": [
    "print('Features in the original tree:', clf.n_features_)"
   ]
  },
  {
   "cell_type": "code",
   "execution_count": 60,
   "metadata": {
    "scrolled": false
   },
   "outputs": [
    {
     "data": {
      "image/png": "[encoded data removed]",
      "text/plain": [
       "<Figure size 720x432 with 1 Axes>"
      ]
     },
     "metadata": {
      "needs_background": "light"
     },
     "output_type": "display_data"
    }
   ],
   "source": [
    "#Set values of chosen hyperparameter\n",
    "feature_params = np.arange(5, 65, 10)\n",
    "#Run model for each param value and store scores\n",
    "feature_df = compare_hypers(feature_params, 'features', X_train, X_test, y_train, y_test)\n",
    "#Plot scores\n",
    "plot_hypers(feature_df, 'features')"
   ]
  },
  {
   "cell_type": "code",
   "execution_count": 55,
   "metadata": {
    "collapsed": true
   },
   "outputs": [
    {
     "data": {
      "text/html": [
       "<div>\n",
       "<style scoped>\n",
       "    .dataframe tbody tr th:only-of-type {\n",
       "        vertical-align: middle;\n",
       "    }\n",
       "\n",
       "    .dataframe tbody tr th {\n",
       "        vertical-align: top;\n",
       "    }\n",
       "\n",
       "    .dataframe thead th {\n",
       "        text-align: right;\n",
       "    }\n",
       "</style>\n",
       "<table border=\"1\" class=\"dataframe\">\n",
       "  <thead>\n",
       "    <tr style=\"text-align: right;\">\n",
       "      <th></th>\n",
       "      <th>param_values</th>\n",
       "      <th>prec_train</th>\n",
       "      <th>prec_test</th>\n",
       "      <th>recall_train</th>\n",
       "      <th>recall_test</th>\n",
       "      <th>f1_train</th>\n",
       "      <th>f1_test</th>\n",
       "    </tr>\n",
       "  </thead>\n",
       "  <tbody>\n",
       "    <tr>\n",
       "      <th>0</th>\n",
       "      <td>5.0</td>\n",
       "      <td>0.98825</td>\n",
       "      <td>0.390014</td>\n",
       "      <td>0.987582</td>\n",
       "      <td>0.384861</td>\n",
       "      <td>0.987819</td>\n",
       "      <td>0.383297</td>\n",
       "    </tr>\n",
       "    <tr>\n",
       "      <th>1</th>\n",
       "      <td>15.0</td>\n",
       "      <td>0.98825</td>\n",
       "      <td>0.340477</td>\n",
       "      <td>0.987582</td>\n",
       "      <td>0.335394</td>\n",
       "      <td>0.987819</td>\n",
       "      <td>0.334314</td>\n",
       "    </tr>\n",
       "    <tr>\n",
       "      <th>2</th>\n",
       "      <td>25.0</td>\n",
       "      <td>0.98825</td>\n",
       "      <td>0.357527</td>\n",
       "      <td>0.987582</td>\n",
       "      <td>0.361711</td>\n",
       "      <td>0.987819</td>\n",
       "      <td>0.357852</td>\n",
       "    </tr>\n",
       "    <tr>\n",
       "      <th>3</th>\n",
       "      <td>35.0</td>\n",
       "      <td>0.98825</td>\n",
       "      <td>0.342921</td>\n",
       "      <td>0.987582</td>\n",
       "      <td>0.356537</td>\n",
       "      <td>0.987819</td>\n",
       "      <td>0.342394</td>\n",
       "    </tr>\n",
       "    <tr>\n",
       "      <th>4</th>\n",
       "      <td>45.0</td>\n",
       "      <td>0.98825</td>\n",
       "      <td>0.322142</td>\n",
       "      <td>0.987582</td>\n",
       "      <td>0.338374</td>\n",
       "      <td>0.987819</td>\n",
       "      <td>0.326596</td>\n",
       "    </tr>\n",
       "    <tr>\n",
       "      <th>5</th>\n",
       "      <td>55.0</td>\n",
       "      <td>0.98825</td>\n",
       "      <td>0.327529</td>\n",
       "      <td>0.987582</td>\n",
       "      <td>0.342351</td>\n",
       "      <td>0.987819</td>\n",
       "      <td>0.328718</td>\n",
       "    </tr>\n",
       "  </tbody>\n",
       "</table>\n",
       "</div>"
      ],
      "text/plain": [
       "   param_values  prec_train  prec_test  recall_train  recall_test  f1_train  \\\n",
       "0           5.0     0.98825   0.390014      0.987582     0.384861  0.987819   \n",
       "1          15.0     0.98825   0.340477      0.987582     0.335394  0.987819   \n",
       "2          25.0     0.98825   0.357527      0.987582     0.361711  0.987819   \n",
       "3          35.0     0.98825   0.342921      0.987582     0.356537  0.987819   \n",
       "4          45.0     0.98825   0.322142      0.987582     0.338374  0.987819   \n",
       "5          55.0     0.98825   0.327529      0.987582     0.342351  0.987819   \n",
       "\n",
       "    f1_test  \n",
       "0  0.383297  \n",
       "1  0.334314  \n",
       "2  0.357852  \n",
       "3  0.342394  \n",
       "4  0.326596  \n",
       "5  0.328718  "
      ]
     },
     "execution_count": 55,
     "metadata": {},
     "output_type": "execute_result"
    }
   ],
   "source": [
    "feature_df"
   ]
  },
  {
   "cell_type": "markdown",
   "metadata": {},
   "source": [
    "*Observations*: Scores are highest when there are only 15 features. But they're only slightly higher. At this point I don't know which features are being selected. I'd hope it were the ones at the top of the tree."
   ]
  },
  {
   "cell_type": "markdown",
   "metadata": {},
   "source": [
    "### Compare values of max_leaf_nodes"
   ]
  },
  {
   "cell_type": "code",
   "execution_count": 61,
   "metadata": {},
   "outputs": [
    {
     "name": "stdout",
     "output_type": "stream",
     "text": [
      "Nodes and leaves in original tree: 727\n"
     ]
    }
   ],
   "source": [
    "print('Nodes and leaves in original tree:', clf.tree_.node_count)"
   ]
  },
  {
   "cell_type": "code",
   "execution_count": 62,
   "metadata": {},
   "outputs": [
    {
     "data": {
      "image/png": "[encoded data removed]",
      "text/plain": [
       "<Figure size 720x432 with 1 Axes>"
      ]
     },
     "metadata": {
      "needs_background": "light"
     },
     "output_type": "display_data"
    }
   ],
   "source": [
    "#Set values of chosen hyperparameter\n",
    "leaf_nodes_params = np.arange(25, 800, 100)\n",
    "#Run model for each param value and store scores\n",
    "leaf_nodes_df = compare_hypers(leaf_nodes_params, 'leaf_nodes', X_train, X_test, y_train, y_test)\n",
    "#Plot scores\n",
    "plot_hypers(leaf_nodes_df, 'leaf_nodes')"
   ]
  },
  {
   "cell_type": "code",
   "execution_count": 60,
   "metadata": {
    "collapsed": true
   },
   "outputs": [
    {
     "data": {
      "text/html": [
       "<div>\n",
       "<style scoped>\n",
       "    .dataframe tbody tr th:only-of-type {\n",
       "        vertical-align: middle;\n",
       "    }\n",
       "\n",
       "    .dataframe tbody tr th {\n",
       "        vertical-align: top;\n",
       "    }\n",
       "\n",
       "    .dataframe thead th {\n",
       "        text-align: right;\n",
       "    }\n",
       "</style>\n",
       "<table border=\"1\" class=\"dataframe\">\n",
       "  <thead>\n",
       "    <tr style=\"text-align: right;\">\n",
       "      <th></th>\n",
       "      <th>param_values</th>\n",
       "      <th>prec_train</th>\n",
       "      <th>prec_test</th>\n",
       "      <th>recall_train</th>\n",
       "      <th>recall_test</th>\n",
       "      <th>f1_train</th>\n",
       "      <th>f1_test</th>\n",
       "    </tr>\n",
       "  </thead>\n",
       "  <tbody>\n",
       "    <tr>\n",
       "      <th>0</th>\n",
       "      <td>25.0</td>\n",
       "      <td>0.575957</td>\n",
       "      <td>0.415111</td>\n",
       "      <td>0.488729</td>\n",
       "      <td>0.412375</td>\n",
       "      <td>0.457281</td>\n",
       "      <td>0.371352</td>\n",
       "    </tr>\n",
       "    <tr>\n",
       "      <th>1</th>\n",
       "      <td>125.0</td>\n",
       "      <td>0.709131</td>\n",
       "      <td>0.384044</td>\n",
       "      <td>0.695475</td>\n",
       "      <td>0.402490</td>\n",
       "      <td>0.691680</td>\n",
       "      <td>0.383131</td>\n",
       "    </tr>\n",
       "    <tr>\n",
       "      <th>2</th>\n",
       "      <td>225.0</td>\n",
       "      <td>0.844061</td>\n",
       "      <td>0.346611</td>\n",
       "      <td>0.833554</td>\n",
       "      <td>0.365653</td>\n",
       "      <td>0.831933</td>\n",
       "      <td>0.349736</td>\n",
       "    </tr>\n",
       "    <tr>\n",
       "      <th>3</th>\n",
       "      <td>325.0</td>\n",
       "      <td>0.955666</td>\n",
       "      <td>0.329450</td>\n",
       "      <td>0.953181</td>\n",
       "      <td>0.337586</td>\n",
       "      <td>0.953489</td>\n",
       "      <td>0.327815</td>\n",
       "    </tr>\n",
       "    <tr>\n",
       "      <th>4</th>\n",
       "      <td>425.0</td>\n",
       "      <td>0.988250</td>\n",
       "      <td>0.335428</td>\n",
       "      <td>0.987582</td>\n",
       "      <td>0.346898</td>\n",
       "      <td>0.987819</td>\n",
       "      <td>0.336210</td>\n",
       "    </tr>\n",
       "    <tr>\n",
       "      <th>5</th>\n",
       "      <td>525.0</td>\n",
       "      <td>0.988250</td>\n",
       "      <td>0.356551</td>\n",
       "      <td>0.987582</td>\n",
       "      <td>0.373387</td>\n",
       "      <td>0.987819</td>\n",
       "      <td>0.357614</td>\n",
       "    </tr>\n",
       "    <tr>\n",
       "      <th>6</th>\n",
       "      <td>625.0</td>\n",
       "      <td>0.988250</td>\n",
       "      <td>0.365203</td>\n",
       "      <td>0.987582</td>\n",
       "      <td>0.381063</td>\n",
       "      <td>0.987819</td>\n",
       "      <td>0.365432</td>\n",
       "    </tr>\n",
       "    <tr>\n",
       "      <th>7</th>\n",
       "      <td>725.0</td>\n",
       "      <td>0.988250</td>\n",
       "      <td>0.363551</td>\n",
       "      <td>0.987582</td>\n",
       "      <td>0.376460</td>\n",
       "      <td>0.987819</td>\n",
       "      <td>0.363482</td>\n",
       "    </tr>\n",
       "  </tbody>\n",
       "</table>\n",
       "</div>"
      ],
      "text/plain": [
       "   param_values  prec_train  prec_test  recall_train  recall_test  f1_train  \\\n",
       "0          25.0    0.575957   0.415111      0.488729     0.412375  0.457281   \n",
       "1         125.0    0.709131   0.384044      0.695475     0.402490  0.691680   \n",
       "2         225.0    0.844061   0.346611      0.833554     0.365653  0.831933   \n",
       "3         325.0    0.955666   0.329450      0.953181     0.337586  0.953489   \n",
       "4         425.0    0.988250   0.335428      0.987582     0.346898  0.987819   \n",
       "5         525.0    0.988250   0.356551      0.987582     0.373387  0.987819   \n",
       "6         625.0    0.988250   0.365203      0.987582     0.381063  0.987819   \n",
       "7         725.0    0.988250   0.363551      0.987582     0.376460  0.987819   \n",
       "\n",
       "    f1_test  \n",
       "0  0.371352  \n",
       "1  0.383131  \n",
       "2  0.349736  \n",
       "3  0.327815  \n",
       "4  0.336210  \n",
       "5  0.357614  \n",
       "6  0.365432  \n",
       "7  0.363482  "
      ]
     },
     "execution_count": 60,
     "metadata": {},
     "output_type": "execute_result"
    }
   ],
   "source": [
    "leaf_nodes_df"
   ]
  },
  {
   "cell_type": "markdown",
   "metadata": {},
   "source": [
    "*Observations*: The test set gets the best results when the tree has about 125 leaves and nodes."
   ]
  },
  {
   "cell_type": "markdown",
   "metadata": {},
   "source": [
    "### Compare values of min_impurity_decrease"
   ]
  },
  {
   "cell_type": "code",
   "execution_count": 63,
   "metadata": {},
   "outputs": [
    {
     "name": "stderr",
     "output_type": "stream",
     "text": [
      "/Users/ssrosa/anaconda3/envs/learn-env/lib/python3.6/site-packages/sklearn/metrics/classification.py:1143: UndefinedMetricWarning: Precision is ill-defined and being set to 0.0 in labels with no predicted samples.\n",
      "  'precision', 'predicted', average, warn_for)\n",
      "/Users/ssrosa/anaconda3/envs/learn-env/lib/python3.6/site-packages/sklearn/metrics/classification.py:1143: UndefinedMetricWarning: F-score is ill-defined and being set to 0.0 in labels with no predicted samples.\n",
      "  'precision', 'predicted', average, warn_for)\n",
      "/Users/ssrosa/anaconda3/envs/learn-env/lib/python3.6/site-packages/sklearn/metrics/classification.py:1143: UndefinedMetricWarning: Precision is ill-defined and being set to 0.0 in labels with no predicted samples.\n",
      "  'precision', 'predicted', average, warn_for)\n",
      "/Users/ssrosa/anaconda3/envs/learn-env/lib/python3.6/site-packages/sklearn/metrics/classification.py:1143: UndefinedMetricWarning: F-score is ill-defined and being set to 0.0 in labels with no predicted samples.\n",
      "  'precision', 'predicted', average, warn_for)\n",
      "/Users/ssrosa/anaconda3/envs/learn-env/lib/python3.6/site-packages/sklearn/metrics/classification.py:1143: UndefinedMetricWarning: Precision is ill-defined and being set to 0.0 in labels with no predicted samples.\n",
      "  'precision', 'predicted', average, warn_for)\n",
      "/Users/ssrosa/anaconda3/envs/learn-env/lib/python3.6/site-packages/sklearn/metrics/classification.py:1143: UndefinedMetricWarning: F-score is ill-defined and being set to 0.0 in labels with no predicted samples.\n",
      "  'precision', 'predicted', average, warn_for)\n",
      "/Users/ssrosa/anaconda3/envs/learn-env/lib/python3.6/site-packages/sklearn/metrics/classification.py:1143: UndefinedMetricWarning: Precision is ill-defined and being set to 0.0 in labels with no predicted samples.\n",
      "  'precision', 'predicted', average, warn_for)\n",
      "/Users/ssrosa/anaconda3/envs/learn-env/lib/python3.6/site-packages/sklearn/metrics/classification.py:1143: UndefinedMetricWarning: F-score is ill-defined and being set to 0.0 in labels with no predicted samples.\n",
      "  'precision', 'predicted', average, warn_for)\n"
     ]
    },
    {
     "data": {
      "image/png": "[encoded data removed]",
      "text/plain": [
       "<Figure size 720x432 with 1 Axes>"
      ]
     },
     "metadata": {
      "needs_background": "light"
     },
     "output_type": "display_data"
    }
   ],
   "source": [
    "#Set values of chosen hyperparameter\n",
    "impurity_decrease_params = np.arange(0, .1, .02)\n",
    "#Run model for each param value and store scores\n",
    "impurity_decrease_df = compare_hypers(impurity_decrease_params, 'impurity_decrease', X_train, X_test, y_train, y_test)\n",
    "#Plot scores\n",
    "plot_hypers(impurity_decrease_df, 'impurity_decrease')"
   ]
  },
  {
   "cell_type": "markdown",
   "metadata": {},
   "source": [
    "*Observations*: Test set does best at impurity decrease of 0.02."
   ]
  },
  {
   "cell_type": "markdown",
   "metadata": {},
   "source": [
    "### Hyperparameter tuning summary\n",
    "\n",
    "- criterion: entropy\n",
    "- max_depth: 12. (But only a very slight peak.)\n",
    "- min_samples_split: 14\n",
    "- min_samples_leaf: 6\n",
    "- max_features: 15\n",
    "- max_leaf_node: about 125\n",
    "- min_impurity_decrease: 0.02\n",
    "\n",
    "The most obvious conclusion is that the test set cannot break past 40% by any measure and with any individual hyperparameter tuned.\n",
    "\n",
    "Perhaps a combination found with a GridSearch could get past 40%?"
   ]
  },
  {
   "cell_type": "markdown",
   "metadata": {},
   "source": [
    "<a id = 'tree_grid_search'></a>"
   ]
  },
  {
   "cell_type": "markdown",
   "metadata": {},
   "source": [
    "[(Back to top)](#top)\n",
    "\n",
    "## Decision tree: tuning hyperparameters with GridSearchCV"
   ]
  },
  {
   "cell_type": "code",
   "execution_count": 70,
   "metadata": {},
   "outputs": [],
   "source": [
    "#Instantiate a new tree\n",
    "clf = DecisionTreeClassifier()\n",
    "\n",
    "param_grid = {\n",
    "    'criterion': [\"gini\", \"entropy\"],\n",
    "    'max_depth': depth_params,\n",
    "    'min_samples_split': samples_split_params,\n",
    "    'min_samples_leaf': samples_leaf_params,\n",
    "    'max_features': feature_params,\n",
    "    'max_leaf_nodes': leaf_nodes_params,\n",
    "    'min_impurity_decrease': impurity_decrease_params\n",
    "    }\n",
    "\n",
    "gs_tree = GridSearchCV(clf, param_grid, cv=3)"
   ]
  },
  {
   "cell_type": "code",
   "execution_count": 65,
   "metadata": {},
   "outputs": [
    {
     "data": {
      "text/plain": [
       "403200"
      ]
     },
     "execution_count": 65,
     "metadata": {},
     "output_type": "execute_result"
    }
   ],
   "source": [
    "#K-Folds time criteria times the rest\n",
    "3 * 2 * len(depth_params) * len(samples_split_params) * len(samples_leaf_params) * len(feature_params) * len(leaf_nodes_params) * len(impurity_decrease_params)"
   ]
  },
  {
   "cell_type": "code",
   "execution_count": 71,
   "metadata": {},
   "outputs": [
    {
     "name": "stdout",
     "output_type": "stream",
     "text": [
      "1408.8745830059052\n"
     ]
    }
   ],
   "source": [
    "start = time.time()\n",
    "gs_tree.fit(X_train,  y_train)\n",
    "end = time.time()\n",
    "print(end - start)"
   ]
  },
  {
   "cell_type": "code",
   "execution_count": 66,
   "metadata": {},
   "outputs": [
    {
     "data": {
      "text/plain": [
       "24.379364903767904"
      ]
     },
     "execution_count": 66,
     "metadata": {},
     "output_type": "execute_result"
    }
   ],
   "source": [
    "1462.7618942260742 / 60"
   ]
  },
  {
   "cell_type": "code",
   "execution_count": 67,
   "metadata": {},
   "outputs": [
    {
     "data": {
      "text/plain": [
       "0.003627881682108319"
      ]
     },
     "execution_count": 67,
     "metadata": {},
     "output_type": "execute_result"
    }
   ],
   "source": [
    "1462.7618942260742 / 403200"
   ]
  },
  {
   "cell_type": "code",
   "execution_count": null,
   "metadata": {},
   "outputs": [],
   "source": [
    "24 minutes for 400,000 models. 0.003627881682108319 seconds per model."
   ]
  },
  {
   "cell_type": "code",
   "execution_count": 78,
   "metadata": {},
   "outputs": [],
   "source": [
    "tree_best_params = gs_tree.best_params_"
   ]
  },
  {
   "cell_type": "code",
   "execution_count": 79,
   "metadata": {},
   "outputs": [
    {
     "data": {
      "text/plain": [
       "{'criterion': 'gini',\n",
       " 'max_depth': 12,\n",
       " 'max_features': 35,\n",
       " 'max_leaf_nodes': 725,\n",
       " 'min_impurity_decrease': 0.0,\n",
       " 'min_samples_leaf': 16,\n",
       " 'min_samples_split': 14}"
      ]
     },
     "execution_count": 79,
     "metadata": {},
     "output_type": "execute_result"
    }
   ],
   "source": [
    "tree_best_params"
   ]
  },
  {
   "cell_type": "markdown",
   "metadata": {},
   "source": [
    "*Compare to visual inspection*\n",
    "\n",
    "- criterion: entropy\n",
    "- max_depth: 12. (But only a very slight peak.)\n",
    "- max_features: 15\n",
    "- max_leaf_node: about 125\n",
    "- min_impurity_decrease: 0.02\n",
    "- min_samples_leaf: 6\n",
    "- min_samples_split: 14"
   ]
  },
  {
   "cell_type": "code",
   "execution_count": 74,
   "metadata": {},
   "outputs": [
    {
     "name": "stdout",
     "output_type": "stream",
     "text": [
      "Mean Training Score: 31.9%\n",
      "Mean Testing Score: 45.27%\n"
     ]
    },
    {
     "name": "stderr",
     "output_type": "stream",
     "text": [
      "C:\\Users\\Stee\\Anaconda3good\\lib\\site-packages\\sklearn\\utils\\deprecation.py:122: FutureWarning: You are accessing a training score ('mean_train_score'), which will not be available by default any more in 0.21. If you need training scores, please set return_train_score=True\n",
      "  warnings.warn(*warn_args, **warn_kwargs)\n"
     ]
    }
   ],
   "source": [
    "#Don't know if I should use the training data or test data here.\n",
    "#Should I scale the continuous columns?\n",
    "gs_training_score = np.mean(gs_tree.cv_results_['mean_train_score'])\n",
    "gs_testing_score = gs_tree.score(X, y)\n",
    "\n",
    "print(\"Mean Training Score: {:.4}%\".format(gs_training_score * 100))\n",
    "print(\"Mean Testing Score: {:.4}%\".format(gs_testing_score * 100))\n",
    "#print(\"Best Parameter Combination Found During Grid Search:\")\n",
    "#gs_tree.best_params_"
   ]
  },
  {
   "cell_type": "markdown",
   "metadata": {},
   "source": [
    "<a id = 'tree_final'></a>"
   ]
  },
  {
   "cell_type": "markdown",
   "metadata": {},
   "source": [
    "[(Back to top)](#top)\n",
    "\n",
    "## Decision tree: the final model"
   ]
  },
  {
   "cell_type": "code",
   "execution_count": 80,
   "metadata": {},
   "outputs": [
    {
     "data": {
      "text/plain": [
       "{'criterion': 'gini',\n",
       " 'max_depth': 12,\n",
       " 'max_features': 35,\n",
       " 'max_leaf_nodes': 725,\n",
       " 'min_impurity_decrease': 0.0,\n",
       " 'min_samples_leaf': 16,\n",
       " 'min_samples_split': 14}"
      ]
     },
     "execution_count": 80,
     "metadata": {},
     "output_type": "execute_result"
    }
   ],
   "source": [
    "tree_best_params"
   ]
  },
  {
   "cell_type": "markdown",
   "metadata": {},
   "source": [
    "I'm going to use 125 leaves/nodes as shown by my plot, not 725 as chosen by the grid search."
   ]
  },
  {
   "cell_type": "code",
   "execution_count": 32,
   "metadata": {
    "scrolled": true
   },
   "outputs": [
    {
     "name": "stdout",
     "output_type": "stream",
     "text": [
      "Training set:\n",
      "              precision    recall  f1-score   support\n",
      "\n",
      "        Hail       0.40      0.46      0.43       102\n",
      "      Gossip       0.42      0.38      0.40        88\n",
      "    Bulletin       0.38      0.28      0.33        95\n",
      "        Lewd       0.45      0.56      0.50       107\n",
      "       Glory       0.50      0.47      0.49       120\n",
      "  Literature       0.77      0.99      0.87        85\n",
      "        Love       0.36      0.27      0.30        98\n",
      "\n",
      "   micro avg       0.48      0.48      0.48       695\n",
      "   macro avg       0.47      0.49      0.47       695\n",
      "weighted avg       0.46      0.48      0.47       695\n",
      "\n",
      "Test set:\n",
      "              precision    recall  f1-score   support\n",
      "\n",
      "        Hail       0.17      0.22      0.19        32\n",
      "      Gossip       0.38      0.27      0.32        44\n",
      "    Bulletin       0.20      0.15      0.17        52\n",
      "        Lewd       0.30      0.47      0.37        45\n",
      "       Glory       0.38      0.42      0.40        38\n",
      "  Literature       0.84      0.97      0.90        39\n",
      "        Love       0.20      0.12      0.15        49\n",
      "\n",
      "   micro avg       0.36      0.36      0.36       299\n",
      "   macro avg       0.35      0.38      0.36       299\n",
      "weighted avg       0.34      0.36      0.35       299\n",
      "\n"
     ]
    }
   ],
   "source": [
    "# Train the classifier and make predictions\n",
    "final_tree = DecisionTreeClassifier(\n",
    "                criterion = 'gini',\n",
    "                max_depth = 12,\n",
    "                max_features = 35,\n",
    "                max_leaf_nodes = 125,\n",
    "                min_impurity_decrease = 0.0,\n",
    "                min_samples_leaf = 16,\n",
    "                min_samples_split = 14\n",
    "            )\n",
    "final_tree.fit(X_train,y_train) \n",
    "final_tree_y_hat_train = final_tree.predict(X_train)\n",
    "final_tree_y_hat_test = final_tree.predict(X_test)\n",
    "\n",
    "class_names = set(df['Category'])\n",
    "\n",
    "#A CM for the training set\n",
    "final_tree_conf_matrix_train = confusion_matrix(final_tree_y_hat_train, y_train)\n",
    "#A CM for the test set\n",
    "final_tree_conf_matrix_test = confusion_matrix(final_tree_y_hat_test, y_test)\n",
    "\n",
    "#Score reports\n",
    "final_tree_train_report = classification_report(y_train, final_tree_y_hat_train, target_names = class_names)\n",
    "final_tree_test_report = classification_report(y_test, final_tree_y_hat_test, target_names = class_names)\n",
    "print('Training set:')\n",
    "print(final_tree_train_report)\n",
    "print('Test set:')\n",
    "print(final_tree_test_report)"
   ]
  },
  {
   "cell_type": "code",
   "execution_count": 67,
   "metadata": {},
   "outputs": [
    {
     "data": {
      "image/png": "[encoded data removed]",
      "text/plain": [
       "<Figure size 432x288 with 2 Axes>"
      ]
     },
     "metadata": {
      "needs_background": "light"
     },
     "output_type": "display_data"
    }
   ],
   "source": [
    "#with 125 leaves/nodes\n",
    "plot_conf_matrix(final_tree_conf_matrix_train, title = 'Final tree: training set', classes = class_names)"
   ]
  },
  {
   "cell_type": "code",
   "execution_count": 33,
   "metadata": {},
   "outputs": [
    {
     "data": {
      "image/png": "[encoded data removed]",
      "text/plain": [
       "<Figure size 432x288 with 2 Axes>"
      ]
     },
     "metadata": {
      "needs_background": "light"
     },
     "output_type": "display_data"
    }
   ],
   "source": [
    "#with 125 leaves/nodes\n",
    "plot_conf_matrix(final_tree_conf_matrix_test, title = 'Final tree: test set', classes = class_names)"
   ]
  },
  {
   "cell_type": "code",
   "execution_count": 98,
   "metadata": {},
   "outputs": [
    {
     "data": {
      "image/png": "[encoded data removed]",
      "text/plain": [
       "<Figure size 432x288 with 2 Axes>"
      ]
     },
     "metadata": {
      "needs_background": "light"
     },
     "output_type": "display_data"
    }
   ],
   "source": [
    "#Compare to first tree test set:\n",
    "plot_conf_matrix(first_tree_conf_matrix_test, title = 'First tree: test set', classes = class_names)"
   ]
  },
  {
   "cell_type": "markdown",
   "metadata": {},
   "source": [
    "### What about the cross validation score?"
   ]
  },
  {
   "cell_type": "code",
   "execution_count": 108,
   "metadata": {},
   "outputs": [
    {
     "name": "stdout",
     "output_type": "stream",
     "text": [
      "First model\n",
      "Mean accuracy: 34.45%\n",
      "Mean cross validation score: 25.86%\n"
     ]
    }
   ],
   "source": [
    "print('First model')\n",
    "print('Mean accuracy: {:.4}%'.format(first_tree.score(X_test, y_test) * 100))\n",
    "print(\"Mean cross validation score: {:.4}%\".format(mean_plain_cv_score * 100))"
   ]
  },
  {
   "cell_type": "code",
   "execution_count": 69,
   "metadata": {},
   "outputs": [
    {
     "name": "stdout",
     "output_type": "stream",
     "text": [
      "Final model\n",
      "Mean accuracy: 36.79%\n",
      "Mean cross validation score: 30.29%\n"
     ]
    }
   ],
   "source": [
    "final_tree_cv_score = cross_val_score(final_tree, X, y, cv=3)\n",
    "mean_final_tree_cv_score = np.mean(final_tree_cv_score)\n",
    "print('Final model')\n",
    "print('Mean accuracy: {:.4}%'.format(final_tree.score(X_test, y_test) * 100))\n",
    "print(\"Mean cross validation score: {:.4}%\".format(mean_final_tree_cv_score * 100))"
   ]
  },
  {
   "cell_type": "code",
   "execution_count": 35,
   "metadata": {},
   "outputs": [],
   "source": [
    "#Visualize the tree\n",
    "#draw_graph(final_tree)"
   ]
  },
  {
   "cell_type": "markdown",
   "metadata": {},
   "source": [
    "### Interpretation"
   ]
  },
  {
   "cell_type": "markdown",
   "metadata": {},
   "source": [
    "This model is slightly better than the un-tuned version but still isn't very good. \n",
    "\n",
    "\n",
    "#### Reality check: \n",
    "\n",
    "You'd have a 14% chance of getting the right category by random guessing, so it isn't impressive to just double that chance through a painstakingly constructed decision tree."
   ]
  },
  {
   "cell_type": "markdown",
   "metadata": {},
   "source": [
    "<a id = 'model3'></a>"
   ]
  },
  {
   "cell_type": "markdown",
   "metadata": {},
   "source": [
    "[(Back to top)](#top)\n",
    "\n",
    "# Model \\#3"
   ]
  },
  {
   "cell_type": "code",
   "execution_count": 28,
   "metadata": {},
   "outputs": [],
   "source": [
    "df = copy.deepcopy(df_clean)\n",
    "\n",
    "#Make categories\n",
    "df['Literacy'] = df['Literacy'].astype('category')\n",
    "df['Position'] = df['Position'].astype('category')\n",
    "df['Building Type'] = df['Building Type'].astype('category')\n",
    "df['Famous House'] = df['Famous House'].astype('bool').astype('category')\n",
    "df['Socio-economic status'] = df['Socio-economic status'].astype('category')\n",
    "df['Writer'] = df['Writer'].astype('bool').astype('category')\n",
    "df['Category'] = df['Category'].astype('category')\n",
    "df['Imperative'] = df['Imperative'].astype('bool').astype('category')\n",
    "\n",
    "#Continuous data: 'Reggio', 'Insula', 'Characters', 'Flohr Score'\n",
    "\n",
    "#Get dummies\n",
    "literacy_dummies = pd.get_dummies(df['Literacy'], prefix = 'Literacy')\n",
    "position_dummies = pd.get_dummies(df['Position'], prefix = 'Position')\n",
    "build_type_dummies = pd.get_dummies(df['Building Type'], prefix = 'Building_Type')\n",
    "famous_dummies = pd.get_dummies(df['Famous House'], prefix = 'Famous')\n",
    "econ_status_dummies = pd.get_dummies(df['Socio-economic status'], prefix = 'Econ_Status')\n",
    "writer_dummies = pd.get_dummies(df['Writer'], prefix = 'Writer')\n",
    "imperative_dummies = pd.get_dummies(df['Imperative'], prefix = 'Imperative')\n",
    "\n",
    "#Build the feature set by dropping the uncategorized categorical columns\n",
    "#and leaving the continuous ones\n",
    "X = df.drop(['CIL IV #', 'Entrance', 'Literacy', 'In English', \n",
    "             'Position', 'Building Type', \n",
    "             'Famous House', 'Category', 'Socio-economic status',\n",
    "             'Writer', 'Imperative'\n",
    "            ], axis = 1)\n",
    "#Add the new categorical columns\n",
    "X = pd.concat([X, literacy_dummies, position_dummies, build_type_dummies, \n",
    "               famous_dummies, econ_status_dummies, writer_dummies,\n",
    "             imperative_dummies\n",
    "              ], axis = 1)\n",
    "\n",
    "y = df['Category']\n",
    "\n",
    "#Create a train/test split\n",
    "X_train, X_test, y_train, y_test = train_test_split(X, y,test_size = 0.25, random_state=12)"
   ]
  },
  {
   "cell_type": "code",
   "execution_count": 47,
   "metadata": {},
   "outputs": [
    {
     "data": {
      "text/plain": [
       "DecisionTreeClassifier(class_weight=None, criterion='gini', max_depth=None,\n",
       "            max_features=None, max_leaf_nodes=None,\n",
       "            min_impurity_decrease=0.0, min_impurity_split=None,\n",
       "            min_samples_leaf=1, min_samples_split=2,\n",
       "            min_weight_fraction_leaf=0.0, presort=False, random_state=None,\n",
       "            splitter='best')"
      ]
     },
     "execution_count": 47,
     "metadata": {},
     "output_type": "execute_result"
    }
   ],
   "source": [
    "#Build a regular decision tree to start\n",
    "rf_tree = DecisionTreeClassifier(criterion = \"gini\") \n",
    "rf_tree.fit(X_train, y_train)"
   ]
  },
  {
   "cell_type": "code",
   "execution_count": 48,
   "metadata": {},
   "outputs": [
    {
     "name": "stdout",
     "output_type": "stream",
     "text": [
      "Features: 55\n",
      "Max depth: 24\n",
      "Nodes and leaves: 745\n",
      "\"Capacity\": 745\n"
     ]
    }
   ],
   "source": [
    "print('Features:', rf_tree.n_features_)\n",
    "print('Max depth:', rf_tree.tree_.max_depth)\n",
    "print('Nodes and leaves:', rf_tree.tree_.node_count)\n",
    "print('\"Capacity\":', rf_tree.tree_.capacity)"
   ]
  },
  {
   "cell_type": "code",
   "execution_count": 55,
   "metadata": {},
   "outputs": [
    {
     "data": {
      "text/plain": [
       "0.2720348315546461"
      ]
     },
     "execution_count": 55,
     "metadata": {},
     "output_type": "execute_result"
    }
   ],
   "source": [
    "rf_tree.feature_importances_.max()"
   ]
  },
  {
   "cell_type": "code",
   "execution_count": 56,
   "metadata": {},
   "outputs": [],
   "source": [
    "rf_tree_features_importances = dict(zip(X.columns, rf_tree.feature_importances_))"
   ]
  },
  {
   "cell_type": "code",
   "execution_count": 57,
   "metadata": {
    "collapsed": true
   },
   "outputs": [
    {
     "data": {
      "text/plain": [
       "{'Reggio': 0.06787162455121441,\n",
       " 'Insula': 0.09577483424962491,\n",
       " 'Flohr Score': 0.09579113551220664,\n",
       " 'Characters': 0.2720348315546461,\n",
       " 'Literacy_2': 0.02005481622163229,\n",
       " 'Literacy_3': 0.023457262887606006,\n",
       " 'Position_altar': 0.0,\n",
       " 'Position_atrium': 0.010359165046011864,\n",
       " 'Position_bath': 0.0,\n",
       " 'Position_column': 0.006502554930625636,\n",
       " 'Position_counter': 0.00239567813233576,\n",
       " 'Position_dining room': 0.004152508762715318,\n",
       " 'Position_entrance': 0.012131035055498148,\n",
       " 'Position_facade': 0.009961874900415744,\n",
       " 'Position_garden': 0.005968027078176051,\n",
       " 'Position_kitchen': 0.002448915424165446,\n",
       " 'Position_latrine': 0.003194237509781013,\n",
       " 'Position_marble': 0.0,\n",
       " 'Position_outer wall': 0.005913142056796995,\n",
       " 'Position_peristyle': 0.02336701005411651,\n",
       " 'Position_portico': 0.00181006792220924,\n",
       " 'Position_room': 0.0,\n",
       " 'Position_shop': 0.0,\n",
       " 'Position_staircase': 0.0,\n",
       " 'Position_tablinum': 0.0022359662568467095,\n",
       " 'Position_unknown': 0.026652602155603312,\n",
       " 'Position_workshop': 0.0,\n",
       " 'Building_Type_altar': 0.0,\n",
       " 'Building_Type_amphitheatre': 0.004188000290601772,\n",
       " 'Building_Type_apartment': 0.00625862717673509,\n",
       " 'Building_Type_bakery': 0.005044867178146204,\n",
       " 'Building_Type_bar': 0.0074090477080458435,\n",
       " 'Building_Type_basilica': 0.008607958077879741,\n",
       " 'Building_Type_baths': 0.002737917865526583,\n",
       " 'Building_Type_brothel': 0.027271537466656004,\n",
       " 'Building_Type_building': 0.0047299286202526535,\n",
       " 'Building_Type_house': 0.03159253003721507,\n",
       " 'Building_Type_inn': 0.006301124858199944,\n",
       " 'Building_Type_necropolis': 0.0,\n",
       " 'Building_Type_palaestra': 0.001646553383018071,\n",
       " 'Building_Type_shop': 0.0,\n",
       " 'Building_Type_tabernae': 0.0036733731362481653,\n",
       " 'Building_Type_temple': 0.0021819099297581105,\n",
       " 'Building_Type_theatre': 0.004528582452435262,\n",
       " 'Building_Type_unknown': 0.01373297869551608,\n",
       " 'Building_Type_workshop': 0.0,\n",
       " 'Famous_False': 0.005138568711934343,\n",
       " 'Famous_True': 0.01021960577604687,\n",
       " 'Econ_Status_high': 0.010057326086833377,\n",
       " 'Econ_Status_low': 0.015046794572589652,\n",
       " 'Econ_Status_medium': 0.006752945709780629,\n",
       " 'Writer_False': 0.0,\n",
       " 'Writer_True': 0.10654225320630312,\n",
       " 'Imperative_False': 0.0028097459576777433,\n",
       " 'Imperative_True': 0.021450532840371666}"
      ]
     },
     "execution_count": 57,
     "metadata": {},
     "output_type": "execute_result"
    }
   ],
   "source": [
    "rf_tree_features_importances"
   ]
  },
  {
   "cell_type": "code",
   "execution_count": null,
   "metadata": {},
   "outputs": [],
   "source": [
    "\n",
    "rf_tree_features_importances = dict(zip(X.shape, rf_tree.feature_importances_))"
   ]
  },
  {
   "cell_type": "code",
   "execution_count": 59,
   "metadata": {
    "scrolled": false
   },
   "outputs": [
    {
     "data": {
      "text/plain": [
       "Text(0, 0.5, 'Feature')"
      ]
     },
     "execution_count": 59,
     "metadata": {},
     "output_type": "execute_result"
    },
    {
     "data": {
      "image/png": "[encoded data removed]",
      "text/plain": [
       "<Figure size 576x720 with 1 Axes>"
      ]
     },
     "metadata": {
      "needs_background": "light"
     },
     "output_type": "display_data"
    }
   ],
   "source": [
    "n_features = X_train.shape[1]\n",
    "plt.figure(figsize=(8,10))\n",
    "plt.barh(range(n_features), tree.feature_importances_, align='center') \n",
    "plt.yticks(np.arange(n_features), X_train.columns.values) \n",
    "plt.xlabel(\"Feature importance\")\n",
    "plt.ylabel(\"Feature\")"
   ]
  },
  {
   "cell_type": "code",
   "execution_count": 63,
   "metadata": {},
   "outputs": [
    {
     "name": "stdout",
     "output_type": "stream",
     "text": [
      "Tree trainig set\n",
      "[[108   0   0   0   0   0   0]\n",
      " [  0  91   0   0   0   0   0]\n",
      " [  0   0 111   0   0   0   0]\n",
      " [  0   0   0 112   1   0   0]\n",
      " [  1   0   2   1 124   0   0]\n",
      " [  0   0   0   0   1  88   0]\n",
      " [  1   0   0   1   2   0 101]]\n",
      "Tree test set\n",
      "[[10  3  3  4  3  0  3]\n",
      " [ 6  7  7  6  5  0 10]\n",
      " [ 2  5 10  7  8  0  4]\n",
      " [ 6  3 10 11  3  0  6]\n",
      " [ 1  2  9  9  8  0  1]\n",
      " [ 0  1  0  2  5 21  6]\n",
      " [ 7  7  8  4  5  3  8]]\n"
     ]
    }
   ],
   "source": [
    "#Get predicted values for trainign set and test set\n",
    "rf_tree_y_hat_train = rf_tree.predict(X_train)\n",
    "rf_tree_y_hat_test = rf_tree.predict(X_test)\n",
    "#Visualize and get scores\n",
    "print('Tree trainig set')\n",
    "print(confusion_matrix(y_train, rf_tree_y_hat_train))\n",
    "print('Tree test set')\n",
    "print(confusion_matrix(y_test, rf_tree_y_hat_test))"
   ]
  },
  {
   "cell_type": "code",
   "execution_count": 64,
   "metadata": {},
   "outputs": [
    {
     "name": "stdout",
     "output_type": "stream",
     "text": [
      "Tree trainig set\n",
      "              precision    recall  f1-score   support\n",
      "\n",
      "    Bulletin       0.98      1.00      0.99       108\n",
      "       Glory       1.00      1.00      1.00        91\n",
      "      Gossip       0.98      1.00      0.99       111\n",
      "        Hail       0.98      0.99      0.99       113\n",
      "        Lewd       0.97      0.97      0.97       128\n",
      "  Literature       1.00      0.99      0.99        89\n",
      "        Love       1.00      0.96      0.98       105\n",
      "\n",
      "   micro avg       0.99      0.99      0.99       745\n",
      "   macro avg       0.99      0.99      0.99       745\n",
      "weighted avg       0.99      0.99      0.99       745\n",
      "\n",
      "Tree test set\n",
      "              precision    recall  f1-score   support\n",
      "\n",
      "    Bulletin       0.31      0.38      0.34        26\n",
      "       Glory       0.25      0.17      0.20        41\n",
      "      Gossip       0.21      0.28      0.24        36\n",
      "        Hail       0.26      0.28      0.27        39\n",
      "        Lewd       0.22      0.27      0.24        30\n",
      "  Literature       0.88      0.60      0.71        35\n",
      "        Love       0.21      0.19      0.20        42\n",
      "\n",
      "   micro avg       0.30      0.30      0.30       249\n",
      "   macro avg       0.33      0.31      0.32       249\n",
      "weighted avg       0.33      0.30      0.31       249\n",
      "\n"
     ]
    }
   ],
   "source": [
    "print('Tree trainig set')\n",
    "print(classification_report(y_train, rf_tree_y_hat_train))\n",
    "print('Tree test set')\n",
    "print(classification_report(y_test, rf_tree_y_hat_test))"
   ]
  },
  {
   "cell_type": "code",
   "execution_count": null,
   "metadata": {},
   "outputs": [],
   "source": []
  },
  {
   "cell_type": "code",
   "execution_count": null,
   "metadata": {},
   "outputs": [],
   "source": []
  },
  {
   "cell_type": "code",
   "execution_count": null,
   "metadata": {},
   "outputs": [],
   "source": []
  },
  {
   "cell_type": "code",
   "execution_count": null,
   "metadata": {},
   "outputs": [],
   "source": []
  },
  {
   "cell_type": "code",
   "execution_count": null,
   "metadata": {},
   "outputs": [],
   "source": []
  },
  {
   "cell_type": "code",
   "execution_count": null,
   "metadata": {},
   "outputs": [],
   "source": []
  },
  {
   "cell_type": "code",
   "execution_count": null,
   "metadata": {},
   "outputs": [],
   "source": []
  },
  {
   "cell_type": "markdown",
   "metadata": {},
   "source": [
    "<a id = 'forest_final'></a>"
   ]
  },
  {
   "cell_type": "markdown",
   "metadata": {},
   "source": [
    "## The final random forest model"
   ]
  },
  {
   "cell_type": "code",
   "execution_count": null,
   "metadata": {},
   "outputs": [],
   "source": []
  },
  {
   "cell_type": "markdown",
   "metadata": {},
   "source": [
    "### Interpretation"
   ]
  },
  {
   "cell_type": "code",
   "execution_count": null,
   "metadata": {},
   "outputs": [],
   "source": []
  },
  {
   "cell_type": "markdown",
   "metadata": {},
   "source": [
    "<a id = 'model4'></a>"
   ]
  },
  {
   "cell_type": "markdown",
   "metadata": {},
   "source": [
    "[(Back to top)](#top)\n",
    "\n",
    "# Conclusions"
   ]
  },
  {
   "cell_type": "code",
   "execution_count": null,
   "metadata": {},
   "outputs": [],
   "source": []
  },
  {
   "cell_type": "code",
   "execution_count": null,
   "metadata": {},
   "outputs": [],
   "source": []
  },
  {
   "cell_type": "code",
   "execution_count": null,
   "metadata": {},
   "outputs": [],
   "source": []
  },
  {
   "cell_type": "code",
   "execution_count": null,
   "metadata": {},
   "outputs": [],
   "source": []
  },
  {
   "cell_type": "code",
   "execution_count": null,
   "metadata": {},
   "outputs": [],
   "source": []
  },
  {
   "cell_type": "code",
   "execution_count": null,
   "metadata": {},
   "outputs": [],
   "source": [
    "#df_raw[df_raw['In English'].str.contains('bake', regex = False, case = False)]\n"
   ]
  }
 ],
 "metadata": {
  "kernelspec": {
   "display_name": "learn-env",
   "language": "python",
   "name": "learn-env"
  },
  "language_info": {
   "codemirror_mode": {
    "name": "ipython",
    "version": 3
   },
   "file_extension": ".py",
   "mimetype": "text/x-python",
   "name": "python",
   "nbconvert_exporter": "python",
   "pygments_lexer": "ipython3",
   "version": "3.6.6"
  }
 },
 "nbformat": 4,
 "nbformat_minor": 2
}
